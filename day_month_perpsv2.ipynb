{
 "cells": [
  {
   "cell_type": "code",
   "execution_count": 1,
   "metadata": {
    "id": "hreDzv9F9mYM"
   },
   "outputs": [],
   "source": [
    "import numpy as np \n",
    "import pandas as pd\n",
    "\n",
    "import matplotlib.pyplot as plt\n",
    "import seaborn as sns"
   ]
  },
  {
   "cell_type": "code",
   "execution_count": 2,
   "metadata": {
    "colab": {
     "base_uri": "https://localhost:8080/"
    },
    "id": "OjAY7dle2b5w",
    "outputId": "88ea0078-f9c5-4891-8d34-3c8e6fe741ae"
   },
   "outputs": [
    {
     "name": "stdout",
     "output_type": "stream",
     "text": [
      "Requirement already satisfied: duneanalytics in /Users/tajiri/opt/anaconda3/lib/python3.9/site-packages (1.1.0)\n",
      "Requirement already satisfied: requests>=2.18.4 in /Users/tajiri/opt/anaconda3/lib/python3.9/site-packages (from duneanalytics) (2.27.1)\n",
      "Requirement already satisfied: idna<4,>=2.5 in /Users/tajiri/opt/anaconda3/lib/python3.9/site-packages (from requests>=2.18.4->duneanalytics) (3.3)\n",
      "Requirement already satisfied: certifi>=2017.4.17 in /Users/tajiri/opt/anaconda3/lib/python3.9/site-packages (from requests>=2.18.4->duneanalytics) (2021.10.8)\n",
      "Requirement already satisfied: urllib3<1.27,>=1.21.1 in /Users/tajiri/opt/anaconda3/lib/python3.9/site-packages (from requests>=2.18.4->duneanalytics) (1.26.9)\n",
      "Requirement already satisfied: charset-normalizer~=2.0.0 in /Users/tajiri/opt/anaconda3/lib/python3.9/site-packages (from requests>=2.18.4->duneanalytics) (2.0.4)\n",
      "Note: you may need to restart the kernel to use updated packages.\n"
     ]
    }
   ],
   "source": [
    "pip install duneanalytics"
   ]
  },
  {
   "cell_type": "markdown",
   "metadata": {},
   "source": [
    "### Query Not Allowed\n",
    "--\n",
    "I believe here they've blocked this intentionally."
   ]
  },
  {
   "cell_type": "code",
   "execution_count": 4,
   "metadata": {
    "colab": {
     "base_uri": "https://localhost:8080/"
    },
    "id": "bqNJzTt23hhu",
    "outputId": "dce719dc-12a1-4ede-8072-e1771266aa9d"
   },
   "outputs": [
    {
     "name": "stdout",
     "output_type": "stream",
     "text": [
      "{'errors': [{'extensions': {'path': '$', 'code': 'validation-failed'}, 'message': 'query is not allowed'}]}\n",
      "{'data': {'query_results': [], 'get_result_by_result_id': []}}\n"
     ]
    }
   ],
   "source": [
    "from duneanalytics import DuneAnalytics\n",
    "\n",
    "# login\n",
    "dune = DuneAnalytics('marvin@knoshun.com', '/>.}:\\&xVXAdP/qn:C*p')\n",
    "dune.login()\n",
    "\n",
    "# fetch token\n",
    "dune.fetch_auth_token()\n",
    "\n",
    "# query\n",
    "result_id = dune.query_result_id(query_id=862717)\n",
    "\n",
    "# fetch query result\n",
    "data = dune.query_result(result_id)\n",
    "\n"
   ]
  },
  {
   "cell_type": "code",
   "execution_count": 4,
   "metadata": {
    "colab": {
     "base_uri": "https://localhost:8080/",
     "height": 661
    },
    "id": "cFupukU78G4O",
    "outputId": "1c77b63a-0548-48bd-8fc3-0b98684bba4e"
   },
   "outputs": [
    {
     "data": {
      "text/html": [
       "<div>\n",
       "<style scoped>\n",
       "    .dataframe tbody tr th:only-of-type {\n",
       "        vertical-align: middle;\n",
       "    }\n",
       "\n",
       "    .dataframe tbody tr th {\n",
       "        vertical-align: top;\n",
       "    }\n",
       "\n",
       "    .dataframe thead th {\n",
       "        text-align: right;\n",
       "    }\n",
       "</style>\n",
       "<table border=\"1\" class=\"dataframe\">\n",
       "  <thead>\n",
       "    <tr style=\"text-align: right;\">\n",
       "      <th></th>\n",
       "    </tr>\n",
       "  </thead>\n",
       "  <tbody>\n",
       "  </tbody>\n",
       "</table>\n",
       "</div>"
      ],
      "text/plain": [
       "Empty DataFrame\n",
       "Columns: []\n",
       "Index: []"
      ]
     },
     "execution_count": 4,
     "metadata": {},
     "output_type": "execute_result"
    }
   ],
   "source": [
    "df_v1"
   ]
  },
  {
   "cell_type": "code",
   "execution_count": 6,
   "metadata": {
    "colab": {
     "base_uri": "https://localhost:8080/",
     "height": 300
    },
    "id": "liAIukX45B7u",
    "outputId": "e58b3444-e503-4d5f-f8ff-ac449fe8f28f"
   },
   "outputs": [
    {
     "data": {
      "text/html": [
       "<div>\n",
       "<style scoped>\n",
       "    .dataframe tbody tr th:only-of-type {\n",
       "        vertical-align: middle;\n",
       "    }\n",
       "\n",
       "    .dataframe tbody tr th {\n",
       "        vertical-align: top;\n",
       "    }\n",
       "\n",
       "    .dataframe thead th {\n",
       "        text-align: right;\n",
       "    }\n",
       "</style>\n",
       "<table border=\"1\" class=\"dataframe\">\n",
       "  <thead>\n",
       "    <tr style=\"text-align: right;\">\n",
       "      <th></th>\n",
       "      <th>_30days</th>\n",
       "      <th>_uniquetraders</th>\n",
       "    </tr>\n",
       "  </thead>\n",
       "  <tbody>\n",
       "    <tr>\n",
       "      <th>count</th>\n",
       "      <td>182.000000</td>\n",
       "      <td>182.000000</td>\n",
       "    </tr>\n",
       "    <tr>\n",
       "      <th>mean</th>\n",
       "      <td>174.675715</td>\n",
       "      <td>194.423077</td>\n",
       "    </tr>\n",
       "    <tr>\n",
       "      <th>std</th>\n",
       "      <td>96.801703</td>\n",
       "      <td>227.283336</td>\n",
       "    </tr>\n",
       "    <tr>\n",
       "      <th>min</th>\n",
       "      <td>22.833333</td>\n",
       "      <td>13.000000</td>\n",
       "    </tr>\n",
       "    <tr>\n",
       "      <th>25%</th>\n",
       "      <td>115.325000</td>\n",
       "      <td>88.250000</td>\n",
       "    </tr>\n",
       "    <tr>\n",
       "      <th>50%</th>\n",
       "      <td>164.233333</td>\n",
       "      <td>128.000000</td>\n",
       "    </tr>\n",
       "    <tr>\n",
       "      <th>75%</th>\n",
       "      <td>233.883333</td>\n",
       "      <td>216.000000</td>\n",
       "    </tr>\n",
       "    <tr>\n",
       "      <th>max</th>\n",
       "      <td>367.166667</td>\n",
       "      <td>1621.000000</td>\n",
       "    </tr>\n",
       "  </tbody>\n",
       "</table>\n",
       "</div>"
      ],
      "text/plain": [
       "          _30days  _uniquetraders\n",
       "count  182.000000      182.000000\n",
       "mean   174.675715      194.423077\n",
       "std     96.801703      227.283336\n",
       "min     22.833333       13.000000\n",
       "25%    115.325000       88.250000\n",
       "50%    164.233333      128.000000\n",
       "75%    233.883333      216.000000\n",
       "max    367.166667     1621.000000"
      ]
     },
     "execution_count": 6,
     "metadata": {},
     "output_type": "execute_result"
    }
   ],
   "source": [
    "df_v1.describe()"
   ]
  },
  {
   "cell_type": "code",
   "execution_count": 9,
   "metadata": {
    "colab": {
     "base_uri": "https://localhost:8080/"
    },
    "id": "RfHe3Zlz8Mtb",
    "outputId": "b49f21a4-5e3d-48ee-d587-2ab80770a51f"
   },
   "outputs": [
    {
     "name": "stdout",
     "output_type": "stream",
     "text": [
      "<class 'pandas.core.frame.DataFrame'>\n",
      "RangeIndex: 182 entries, 0 to 181\n",
      "Data columns (total 3 columns):\n",
      " #   Column          Non-Null Count  Dtype  \n",
      "---  ------          --------------  -----  \n",
      " 0   _30days         182 non-null    float64\n",
      " 1   _date           182 non-null    object \n",
      " 2   _uniquetraders  182 non-null    int64  \n",
      "dtypes: float64(1), int64(1), object(1)\n",
      "memory usage: 4.4+ KB\n"
     ]
    }
   ],
   "source": [
    "df_v1.info()"
   ]
  },
  {
   "cell_type": "code",
   "execution_count": 10,
   "metadata": {
    "id": "R6QZKf6y8VEQ"
   },
   "outputs": [],
   "source": [
    "df_v1['_date'] = pd.to_datetime(df_v1['_date'])"
   ]
  },
  {
   "cell_type": "code",
   "execution_count": 11,
   "metadata": {
    "colab": {
     "base_uri": "https://localhost:8080/"
    },
    "id": "2Q3FiG1Y8o3Z",
    "outputId": "81316bae-fea4-422a-d750-c1009b86542f"
   },
   "outputs": [
    {
     "name": "stdout",
     "output_type": "stream",
     "text": [
      "<class 'pandas.core.frame.DataFrame'>\n",
      "RangeIndex: 182 entries, 0 to 181\n",
      "Data columns (total 3 columns):\n",
      " #   Column          Non-Null Count  Dtype         \n",
      "---  ------          --------------  -----         \n",
      " 0   _30days         182 non-null    float64       \n",
      " 1   _date           182 non-null    datetime64[ns]\n",
      " 2   _uniquetraders  182 non-null    int64         \n",
      "dtypes: datetime64[ns](1), float64(1), int64(1)\n",
      "memory usage: 4.4 KB\n"
     ]
    }
   ],
   "source": [
    "df_v1.info()"
   ]
  },
  {
   "cell_type": "code",
   "execution_count": 12,
   "metadata": {
    "colab": {
     "base_uri": "https://localhost:8080/",
     "height": 332
    },
    "id": "TYHVpueR8qcb",
    "outputId": "c214ccbd-897c-4ac1-91a9-1e71bf37dc57"
   },
   "outputs": [
    {
     "data": {
      "text/html": [
       "<div>\n",
       "<style scoped>\n",
       "    .dataframe tbody tr th:only-of-type {\n",
       "        vertical-align: middle;\n",
       "    }\n",
       "\n",
       "    .dataframe tbody tr th {\n",
       "        vertical-align: top;\n",
       "    }\n",
       "\n",
       "    .dataframe thead th {\n",
       "        text-align: right;\n",
       "    }\n",
       "</style>\n",
       "<table border=\"1\" class=\"dataframe\">\n",
       "  <thead>\n",
       "    <tr style=\"text-align: right;\">\n",
       "      <th></th>\n",
       "      <th>Total</th>\n",
       "      <th>Percent</th>\n",
       "    </tr>\n",
       "  </thead>\n",
       "  <tbody>\n",
       "    <tr>\n",
       "      <th>_30days</th>\n",
       "      <td>0</td>\n",
       "      <td>0.0</td>\n",
       "    </tr>\n",
       "    <tr>\n",
       "      <th>_date</th>\n",
       "      <td>0</td>\n",
       "      <td>0.0</td>\n",
       "    </tr>\n",
       "    <tr>\n",
       "      <th>_uniquetraders</th>\n",
       "      <td>0</td>\n",
       "      <td>0.0</td>\n",
       "    </tr>\n",
       "  </tbody>\n",
       "</table>\n",
       "</div>"
      ],
      "text/plain": [
       "                Total  Percent\n",
       "_30days             0      0.0\n",
       "_date               0      0.0\n",
       "_uniquetraders      0      0.0"
      ]
     },
     "execution_count": 12,
     "metadata": {},
     "output_type": "execute_result"
    }
   ],
   "source": [
    "#missing data \n",
    "total = df_v1.isnull().sum().sort_values(ascending=False)\n",
    "percent = (df_v1.isnull().sum()/df_v1.isnull().count()).sort_values(ascending=False)\n",
    "missing_data = pd.concat([total, percent], axis=1, keys=['Total', 'Percent'])\n",
    "missing_data.head(10)"
   ]
  },
  {
   "cell_type": "code",
   "execution_count": 13,
   "metadata": {
    "colab": {
     "base_uri": "https://localhost:8080/"
    },
    "id": "tWXlErln87JX",
    "outputId": "137cece6-eff5-45b2-a37d-11ab116f083d"
   },
   "outputs": [
    {
     "name": "stdout",
     "output_type": "stream",
     "text": [
      "+----+----------------+-----------------+-------------------+----------------+----------------+\n",
      "|    | Feature        |   Unique_values |   % MissingValues |   % highOneCat | type           |\n",
      "|----+----------------+-----------------+-------------------+----------------+----------------|\n",
      "|  0 | _30days        |             176 |                 0 |       1.64835  | float64        |\n",
      "|  1 | _date          |             182 |                 0 |       0.549451 | datetime64[ns] |\n",
      "|  2 | _uniquetraders |             131 |                 0 |       3.2967   | int64          |\n",
      "+----+----------------+-----------------+-------------------+----------------+----------------+\n"
     ]
    }
   ],
   "source": [
    "from tabulate import tabulate\n",
    "stats = []\n",
    "for col in df_v1.columns:\n",
    "    stats.append((col, df_v1[col].nunique(), df_v1[col].isnull().sum() * 100 / df_v1.shape[0], df_v1[col].value_counts(normalize=True, dropna=False).values[0] * 100, df_v1[col].dtype))\n",
    "    stats_df = pd.DataFrame(stats, columns=['Feature', 'Unique_values', '% MissingValues', '% highOneCat', 'type'])\n",
    "    df_ = stats_df.sort_values('% MissingValues', ascending=False)\n",
    "print(tabulate(df_, headers = 'keys', tablefmt = 'psql'))"
   ]
  },
  {
   "cell_type": "code",
   "execution_count": 14,
   "metadata": {
    "colab": {
     "base_uri": "https://localhost:8080/",
     "height": 607
    },
    "id": "R2DWSbUO9WdB",
    "outputId": "83f01d01-b5d6-45a2-c496-39f6a508dc05"
   },
   "outputs": [
    {
     "data": {
      "image/png": "[encoded data removed]",
      "text/plain": [
       "<Figure size 720x720 with 4 Axes>"
      ]
     },
     "metadata": {
      "needs_background": "light"
     },
     "output_type": "display_data"
    }
   ],
   "source": [
    "df_v1.hist(figsize=(10,10))\n",
    "plt.show()"
   ]
  },
  {
   "cell_type": "code",
   "execution_count": 16,
   "metadata": {
    "colab": {
     "base_uri": "https://localhost:8080/",
     "height": 357
    },
    "id": "YtI7B3kp_QxG",
    "outputId": "5c99eca7-41d5-446a-abf4-804e6b91f148"
   },
   "outputs": [
    {
     "data": {
      "text/html": [
       "<div>\n",
       "<style scoped>\n",
       "    .dataframe tbody tr th:only-of-type {\n",
       "        vertical-align: middle;\n",
       "    }\n",
       "\n",
       "    .dataframe tbody tr th {\n",
       "        vertical-align: top;\n",
       "    }\n",
       "\n",
       "    .dataframe thead th {\n",
       "        text-align: right;\n",
       "    }\n",
       "</style>\n",
       "<table border=\"1\" class=\"dataframe\">\n",
       "  <thead>\n",
       "    <tr style=\"text-align: right;\">\n",
       "      <th></th>\n",
       "      <th>_30days</th>\n",
       "      <th>_date</th>\n",
       "      <th>_uniquetraders</th>\n",
       "    </tr>\n",
       "  </thead>\n",
       "  <tbody>\n",
       "    <tr>\n",
       "      <th>0</th>\n",
       "      <td>27.000000</td>\n",
       "      <td>2021-11-25</td>\n",
       "      <td>27</td>\n",
       "    </tr>\n",
       "    <tr>\n",
       "      <th>1</th>\n",
       "      <td>28.500000</td>\n",
       "      <td>2021-11-26</td>\n",
       "      <td>30</td>\n",
       "    </tr>\n",
       "    <tr>\n",
       "      <th>2</th>\n",
       "      <td>26.666667</td>\n",
       "      <td>2021-11-27</td>\n",
       "      <td>23</td>\n",
       "    </tr>\n",
       "    <tr>\n",
       "      <th>3</th>\n",
       "      <td>23.250000</td>\n",
       "      <td>2021-11-28</td>\n",
       "      <td>13</td>\n",
       "    </tr>\n",
       "    <tr>\n",
       "      <th>4</th>\n",
       "      <td>23.400000</td>\n",
       "      <td>2021-11-29</td>\n",
       "      <td>24</td>\n",
       "    </tr>\n",
       "  </tbody>\n",
       "</table>\n",
       "</div>"
      ],
      "text/plain": [
       "     _30days      _date  _uniquetraders\n",
       "0  27.000000 2021-11-25              27\n",
       "1  28.500000 2021-11-26              30\n",
       "2  26.666667 2021-11-27              23\n",
       "3  23.250000 2021-11-28              13\n",
       "4  23.400000 2021-11-29              24"
      ]
     },
     "execution_count": 16,
     "metadata": {},
     "output_type": "execute_result"
    }
   ],
   "source": [
    "df_v1.head()"
   ]
  },
  {
   "cell_type": "code",
   "execution_count": 17,
   "metadata": {
    "colab": {
     "base_uri": "https://localhost:8080/",
     "height": 357
    },
    "id": "S7d6t70yBFkV",
    "outputId": "8e7ca8e0-f634-48db-c42a-f148d6eaa251"
   },
   "outputs": [
    {
     "data": {
      "text/html": [
       "<div>\n",
       "<style scoped>\n",
       "    .dataframe tbody tr th:only-of-type {\n",
       "        vertical-align: middle;\n",
       "    }\n",
       "\n",
       "    .dataframe tbody tr th {\n",
       "        vertical-align: top;\n",
       "    }\n",
       "\n",
       "    .dataframe thead th {\n",
       "        text-align: right;\n",
       "    }\n",
       "</style>\n",
       "<table border=\"1\" class=\"dataframe\">\n",
       "  <thead>\n",
       "    <tr style=\"text-align: right;\">\n",
       "      <th></th>\n",
       "      <th>_30days</th>\n",
       "      <th>_date</th>\n",
       "      <th>_uniquetraders</th>\n",
       "    </tr>\n",
       "  </thead>\n",
       "  <tbody>\n",
       "    <tr>\n",
       "      <th>177</th>\n",
       "      <td>276.700000</td>\n",
       "      <td>2022-05-21</td>\n",
       "      <td>285</td>\n",
       "    </tr>\n",
       "    <tr>\n",
       "      <th>178</th>\n",
       "      <td>278.933333</td>\n",
       "      <td>2022-05-22</td>\n",
       "      <td>270</td>\n",
       "    </tr>\n",
       "    <tr>\n",
       "      <th>179</th>\n",
       "      <td>283.466667</td>\n",
       "      <td>2022-05-23</td>\n",
       "      <td>319</td>\n",
       "    </tr>\n",
       "    <tr>\n",
       "      <th>180</th>\n",
       "      <td>284.033333</td>\n",
       "      <td>2022-05-24</td>\n",
       "      <td>288</td>\n",
       "    </tr>\n",
       "    <tr>\n",
       "      <th>181</th>\n",
       "      <td>276.866667</td>\n",
       "      <td>2022-05-25</td>\n",
       "      <td>72</td>\n",
       "    </tr>\n",
       "  </tbody>\n",
       "</table>\n",
       "</div>"
      ],
      "text/plain": [
       "        _30days      _date  _uniquetraders\n",
       "177  276.700000 2022-05-21             285\n",
       "178  278.933333 2022-05-22             270\n",
       "179  283.466667 2022-05-23             319\n",
       "180  284.033333 2022-05-24             288\n",
       "181  276.866667 2022-05-25              72"
      ]
     },
     "execution_count": 17,
     "metadata": {},
     "output_type": "execute_result"
    }
   ],
   "source": [
    "df_v1.tail()"
   ]
  },
  {
   "cell_type": "code",
   "execution_count": null,
   "metadata": {
    "id": "Lpvxix2jB0u5"
   },
   "outputs": [],
   "source": []
  }
 ],
 "metadata": {
  "colab": {
   "collapsed_sections": [],
   "name": "dune.ipynb",
   "provenance": []
  },
  "kernelspec": {
   "display_name": "Python 3 (ipykernel)",
   "language": "python",
   "name": "python3"
  },
  "language_info": {
   "codemirror_mode": {
    "name": "ipython",
    "version": 3
   },
   "file_extension": ".py",
   "mimetype": "text/x-python",
   "name": "python",
   "nbconvert_exporter": "python",
   "pygments_lexer": "ipython3",
   "version": "3.9.12"
  }
 },
 "nbformat": 4,
 "nbformat_minor": 1
}
