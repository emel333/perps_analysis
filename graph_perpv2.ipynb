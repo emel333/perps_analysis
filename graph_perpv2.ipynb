{
 "cells": [
  {
   "cell_type": "markdown",
   "id": "95bd3c0f",
   "metadata": {},
   "source": [
    "# Querying Perpetual Protocol v2: The Graph"
   ]
  },
  {
   "cell_type": "code",
   "execution_count": 1,
   "id": "09438236",
   "metadata": {},
   "outputs": [],
   "source": [
    "import numpy as np\n",
    "import matplotlib.pyplot as plt\n",
    "import pandas as pd\n",
    "import seaborn as sns\n",
    "import json\n",
    "from datetime import datetime"
   ]
  },
  {
   "cell_type": "code",
   "execution_count": 2,
   "id": "17f0961d",
   "metadata": {},
   "outputs": [],
   "source": [
    "# store Json file locations\n",
    "json1 = f'/Users/tajiri/Desktop/datasets/perpv2TheGraph/perpv2Graph001.json'\n",
    "json2 = f'/Users/tajiri/Desktop/datasets/perpv2TheGraph/perpv2Graph002.json'\n",
    "json3 = f'/Users/tajiri/Desktop/datasets/perpv2TheGraph/perpv2Graph003.json'\n",
    "json4 = f'/Users/tajiri/Desktop/datasets/perpv2TheGraph/perpv2Graph004.json'\n",
    "json5 = f'/Users/tajiri/Desktop/datasets/perpv2TheGraph/perpv2Graph005.json'\n",
    "json6 = f'/Users/tajiri/Desktop/datasets/perpv2TheGraph/perpv2Graph006.json'\n",
    "json7 = f'/Users/tajiri/Desktop/datasets/perpv2TheGraph/perpv2Graph007.json'"
   ]
  },
  {
   "cell_type": "code",
   "execution_count": 3,
   "id": "f74f0652",
   "metadata": {},
   "outputs": [],
   "source": [
    "# importing json files\n",
    "\n",
    "def get_json(file):\n",
    "    \n",
    "    f = open(file)\n",
    "    data = json.load(f)\n",
    "    return data"
   ]
  },
  {
   "cell_type": "code",
   "execution_count": 4,
   "id": "9a372440",
   "metadata": {
    "scrolled": false
   },
   "outputs": [],
   "source": [
    "# Testing out function for accuracy\n",
    "#get_json(json1)"
   ]
  },
  {
   "cell_type": "code",
   "execution_count": 5,
   "id": "68e7f091",
   "metadata": {},
   "outputs": [],
   "source": [
    "jsv1 = [json1,json2,json3,json4,json5,json6,json7]"
   ]
  },
  {
   "cell_type": "code",
   "execution_count": 6,
   "id": "49ce9ae9",
   "metadata": {
    "scrolled": true
   },
   "outputs": [],
   "source": [
    "jsv2 = [get_json(i) for i in jsv1]"
   ]
  },
  {
   "cell_type": "code",
   "execution_count": 7,
   "id": "c542cb85",
   "metadata": {},
   "outputs": [],
   "source": [
    "# Checking the JSON files loaded accurately / appropriately\n",
    "# First JSON file\n",
    "# jsv2[0]"
   ]
  },
  {
   "cell_type": "code",
   "execution_count": 8,
   "id": "45a0e53c",
   "metadata": {},
   "outputs": [],
   "source": [
    "### Second JSON file\n",
    "# jsv2[1]"
   ]
  },
  {
   "cell_type": "code",
   "execution_count": 9,
   "id": "1d038fad",
   "metadata": {},
   "outputs": [],
   "source": [
    "# Third JSON file\n",
    "# jsv2[2]"
   ]
  },
  {
   "cell_type": "code",
   "execution_count": 10,
   "id": "407d18b8",
   "metadata": {},
   "outputs": [],
   "source": [
    "# jsv2"
   ]
  },
  {
   "cell_type": "code",
   "execution_count": 11,
   "id": "51c062b3",
   "metadata": {},
   "outputs": [],
   "source": [
    "js1_items = jsv2[0].items()\n",
    "js1_list = list(js1_items)\n",
    "js1_df = pd.DataFrame(js1_list)"
   ]
  },
  {
   "cell_type": "code",
   "execution_count": 12,
   "id": "83e3dad8",
   "metadata": {},
   "outputs": [
    {
     "data": {
      "text/html": [
       "<div>\n",
       "<style scoped>\n",
       "    .dataframe tbody tr th:only-of-type {\n",
       "        vertical-align: middle;\n",
       "    }\n",
       "\n",
       "    .dataframe tbody tr th {\n",
       "        vertical-align: top;\n",
       "    }\n",
       "\n",
       "    .dataframe thead th {\n",
       "        text-align: right;\n",
       "    }\n",
       "</style>\n",
       "<table border=\"1\" class=\"dataframe\">\n",
       "  <thead>\n",
       "    <tr style=\"text-align: right;\">\n",
       "      <th></th>\n",
       "      <th>0</th>\n",
       "      <th>1</th>\n",
       "    </tr>\n",
       "  </thead>\n",
       "  <tbody>\n",
       "    <tr>\n",
       "      <th>0</th>\n",
       "      <td>data</td>\n",
       "      <td>{'positionChangeds': [{'id': '0x9a9ef69c82d19b...</td>\n",
       "    </tr>\n",
       "  </tbody>\n",
       "</table>\n",
       "</div>"
      ],
      "text/plain": [
       "      0                                                  1\n",
       "0  data  {'positionChangeds': [{'id': '0x9a9ef69c82d19b..."
      ]
     },
     "execution_count": 12,
     "metadata": {},
     "output_type": "execute_result"
    }
   ],
   "source": [
    "js1_df"
   ]
  },
  {
   "cell_type": "code",
   "execution_count": 13,
   "id": "4d22f7e8",
   "metadata": {},
   "outputs": [],
   "source": [
    "testr = js1_df[1]"
   ]
  },
  {
   "cell_type": "code",
   "execution_count": 14,
   "id": "486e1eb2",
   "metadata": {},
   "outputs": [],
   "source": [
    "testr3 = []"
   ]
  },
  {
   "cell_type": "code",
   "execution_count": 15,
   "id": "7e87d72b",
   "metadata": {},
   "outputs": [],
   "source": [
    "testr3 = []\n",
    "for i in js1_df[1]:\n",
    "    testr3.append(i)"
   ]
  },
  {
   "cell_type": "code",
   "execution_count": 16,
   "id": "41a055a4",
   "metadata": {
    "scrolled": false
   },
   "outputs": [
    {
     "data": {
      "text/html": [
       "<div>\n",
       "<style scoped>\n",
       "    .dataframe tbody tr th:only-of-type {\n",
       "        vertical-align: middle;\n",
       "    }\n",
       "\n",
       "    .dataframe tbody tr th {\n",
       "        vertical-align: top;\n",
       "    }\n",
       "\n",
       "    .dataframe thead th {\n",
       "        text-align: right;\n",
       "    }\n",
       "</style>\n",
       "<table border=\"1\" class=\"dataframe\">\n",
       "  <thead>\n",
       "    <tr style=\"text-align: right;\">\n",
       "      <th></th>\n",
       "      <th>positionChangeds</th>\n",
       "    </tr>\n",
       "  </thead>\n",
       "  <tbody>\n",
       "    <tr>\n",
       "      <th>0</th>\n",
       "      <td>[{'id': '0x9a9ef69c82d19bde6a2794c5de22bbb02dd...</td>\n",
       "    </tr>\n",
       "  </tbody>\n",
       "</table>\n",
       "</div>"
      ],
      "text/plain": [
       "                                    positionChangeds\n",
       "0  [{'id': '0x9a9ef69c82d19bde6a2794c5de22bbb02dd..."
      ]
     },
     "execution_count": 16,
     "metadata": {},
     "output_type": "execute_result"
    }
   ],
   "source": [
    "pd.DataFrame(testr3)"
   ]
  },
  {
   "cell_type": "code",
   "execution_count": 17,
   "id": "a249e9b4",
   "metadata": {},
   "outputs": [],
   "source": [
    "#testr2"
   ]
  },
  {
   "cell_type": "code",
   "execution_count": 18,
   "id": "092190f1",
   "metadata": {},
   "outputs": [
    {
     "data": {
      "text/html": [
       "<div>\n",
       "<style scoped>\n",
       "    .dataframe tbody tr th:only-of-type {\n",
       "        vertical-align: middle;\n",
       "    }\n",
       "\n",
       "    .dataframe tbody tr th {\n",
       "        vertical-align: top;\n",
       "    }\n",
       "\n",
       "    .dataframe thead th {\n",
       "        text-align: right;\n",
       "    }\n",
       "</style>\n",
       "<table border=\"1\" class=\"dataframe\">\n",
       "  <thead>\n",
       "    <tr style=\"text-align: right;\">\n",
       "      <th></th>\n",
       "      <th>id</th>\n",
       "      <th>txHash</th>\n",
       "      <th>trader</th>\n",
       "      <th>baseToken</th>\n",
       "      <th>exchangedPositionSize</th>\n",
       "      <th>realizedPnl</th>\n",
       "      <th>positionSizeAfter</th>\n",
       "      <th>swappedPrice</th>\n",
       "      <th>entryPriceAfter</th>\n",
       "      <th>marketPriceAfter</th>\n",
       "      <th>fromFunctionSignature</th>\n",
       "      <th>blockNumber</th>\n",
       "      <th>timestamp</th>\n",
       "    </tr>\n",
       "  </thead>\n",
       "  <tbody>\n",
       "    <tr>\n",
       "      <th>0</th>\n",
       "      <td>0x9a9ef69c82d19bde6a2794c5de22bbb02dd3b2b4f048...</td>\n",
       "      <td>0x9a9ef69c82d19bde6a2794c5de22bbb02dd3b2b4f048...</td>\n",
       "      <td>0x9c1e0c67aa30c063f341885b12cb81cc94613fc7</td>\n",
       "      <td>0x86f1e0420c26a858fc203a3645dd1a36868f18e5</td>\n",
       "      <td>0.055177825446496676</td>\n",
       "      <td>0</td>\n",
       "      <td>0.055177825446496676</td>\n",
       "      <td>54315.29741791018850329308860481943</td>\n",
       "      <td>54369.66708499518368698006867349293</td>\n",
       "      <td>54334.89390351151062907470366983836</td>\n",
       "      <td>0xb6b1b6c3</td>\n",
       "      <td>515560</td>\n",
       "      <td>1638001140</td>\n",
       "    </tr>\n",
       "    <tr>\n",
       "      <th>1</th>\n",
       "      <td>0x0e085ae4b7c345ee6de6d67f16c8c127a694d1c9f27f...</td>\n",
       "      <td>0x0e085ae4b7c345ee6de6d67f16c8c127a694d1c9f27f...</td>\n",
       "      <td>0x9c1e0c67aa30c063f341885b12cb81cc94613fc7</td>\n",
       "      <td>0x8c835dfaa34e2ae61775e80ee29e2c724c6ae2bb</td>\n",
       "      <td>0.72982822304229396</td>\n",
       "      <td>0</td>\n",
       "      <td>0.72982822304229396</td>\n",
       "      <td>4106.44574350247092045128574726175</td>\n",
       "      <td>4110.55629980227319364493067793969</td>\n",
       "      <td>4108.035203430631621509243061799414</td>\n",
       "      <td>0xb6b1b6c3</td>\n",
       "      <td>515571</td>\n",
       "      <td>1638001140</td>\n",
       "    </tr>\n",
       "    <tr>\n",
       "      <th>2</th>\n",
       "      <td>0x8699da2d3dee9c704dbf13705c75524e618b2a83c8c3...</td>\n",
       "      <td>0x8699da2d3dee9c704dbf13705c75524e618b2a83c8c3...</td>\n",
       "      <td>0x9c1e0c67aa30c063f341885b12cb81cc94613fc7</td>\n",
       "      <td>0x86f1e0420c26a858fc203a3645dd1a36868f18e5</td>\n",
       "      <td>0.055138038799464064</td>\n",
       "      <td>0</td>\n",
       "      <td>0.11031586424596074</td>\n",
       "      <td>54354.49038911283380940962259434733</td>\n",
       "      <td>54389.27611193230920481941199385254</td>\n",
       "      <td>54374.09394240528977932267212217288</td>\n",
       "      <td>0xb6b1b6c3</td>\n",
       "      <td>515582</td>\n",
       "      <td>1638001140</td>\n",
       "    </tr>\n",
       "    <tr>\n",
       "      <th>3</th>\n",
       "      <td>0x548dd8a96b9faa92066283339832e380fd506f4ebc94...</td>\n",
       "      <td>0x548dd8a96b9faa92066283339832e380fd506f4ebc94...</td>\n",
       "      <td>0x9c1e0c67aa30c063f341885b12cb81cc94613fc7</td>\n",
       "      <td>0x8c835dfaa34e2ae61775e80ee29e2c724c6ae2bb</td>\n",
       "      <td>0.729263678681194879</td>\n",
       "      <td>0</td>\n",
       "      <td>1.459091901723488839</td>\n",
       "      <td>4109.624663358792325192276652032186</td>\n",
       "      <td>4112.146735180121963247668732643828</td>\n",
       "      <td>4111.214738272642806091895113081482</td>\n",
       "      <td>0xb6b1b6c3</td>\n",
       "      <td>515584</td>\n",
       "      <td>1638001140</td>\n",
       "    </tr>\n",
       "    <tr>\n",
       "      <th>4</th>\n",
       "      <td>0x0ccfa4751250a5374b5d28823a1011987b833f71a1ce...</td>\n",
       "      <td>0x0ccfa4751250a5374b5d28823a1011987b833f71a1ce...</td>\n",
       "      <td>0x9c1e0c67aa30c063f341885b12cb81cc94613fc7</td>\n",
       "      <td>0x86f1e0420c26a858fc203a3645dd1a36868f18e5</td>\n",
       "      <td>0.055098295169896233</td>\n",
       "      <td>0</td>\n",
       "      <td>0.165414159415856973</td>\n",
       "      <td>54393.69749569774702718875554123194</td>\n",
       "      <td>54408.8851388694345194783012408753</td>\n",
       "      <td>54413.30811668133745074390535700327</td>\n",
       "      <td>0xb6b1b6c3</td>\n",
       "      <td>515587</td>\n",
       "      <td>1638001140</td>\n",
       "    </tr>\n",
       "    <tr>\n",
       "      <th>...</th>\n",
       "      <td>...</td>\n",
       "      <td>...</td>\n",
       "      <td>...</td>\n",
       "      <td>...</td>\n",
       "      <td>...</td>\n",
       "      <td>...</td>\n",
       "      <td>...</td>\n",
       "      <td>...</td>\n",
       "      <td>...</td>\n",
       "      <td>...</td>\n",
       "      <td>...</td>\n",
       "      <td>...</td>\n",
       "      <td>...</td>\n",
       "    </tr>\n",
       "    <tr>\n",
       "      <th>95</th>\n",
       "      <td>0x12fdd402978ba2a979148eef418ecc3916ef62937dab...</td>\n",
       "      <td>0x12fdd402978ba2a979148eef418ecc3916ef62937dab...</td>\n",
       "      <td>0x9c1e0c67aa30c063f341885b12cb81cc94613fc7</td>\n",
       "      <td>0x8c835dfaa34e2ae61775e80ee29e2c724c6ae2bb</td>\n",
       "      <td>-0.235797029318109266</td>\n",
       "      <td>-1.924848383315573464</td>\n",
       "      <td>7.882080344272745643</td>\n",
       "      <td>4134.720294238227805904939215849023</td>\n",
       "      <td>4138.748731846707724950720842858393</td>\n",
       "      <td>4134.203235253537259238885536085673</td>\n",
       "      <td>0xb6b1b6c3</td>\n",
       "      <td>518234</td>\n",
       "      <td>1638007967</td>\n",
       "    </tr>\n",
       "    <tr>\n",
       "      <th>96</th>\n",
       "      <td>0x8e324fbce411192cb9bdbaf61a4acc94b18976c39a4d...</td>\n",
       "      <td>0x8e324fbce411192cb9bdbaf61a4acc94b18976c39a4d...</td>\n",
       "      <td>0x9c1e0c67aa30c063f341885b12cb81cc94613fc7</td>\n",
       "      <td>0x8c835dfaa34e2ae61775e80ee29e2c724c6ae2bb</td>\n",
       "      <td>-0.142585590153811088</td>\n",
       "      <td>-1.282127935895127809</td>\n",
       "      <td>7.739494754118934555</td>\n",
       "      <td>4133.890634338962424557166181293245</td>\n",
       "      <td>4138.748731846707728583337636316961</td>\n",
       "      <td>4133.578057061186825660452573644867</td>\n",
       "      <td>0xb6b1b6c3</td>\n",
       "      <td>518236</td>\n",
       "      <td>1638007967</td>\n",
       "    </tr>\n",
       "    <tr>\n",
       "      <th>97</th>\n",
       "      <td>0xc0184ef28019283d6ae754fafc2653d6720f98cf3c32...</td>\n",
       "      <td>0xc0184ef28019283d6ae754fafc2653d6720f98cf3c32...</td>\n",
       "      <td>0x9c1e0c67aa30c063f341885b12cb81cc94613fc7</td>\n",
       "      <td>0x8c835dfaa34e2ae61775e80ee29e2c724c6ae2bb</td>\n",
       "      <td>-0.32086814288912888</td>\n",
       "      <td>-3.21085899479273966</td>\n",
       "      <td>7.418626611229805675</td>\n",
       "      <td>4132.874820184813434961939716543557</td>\n",
       "      <td>4138.748731846707731626469552371688</td>\n",
       "      <td>4132.171702948639775865973765895513</td>\n",
       "      <td>0xb6b1b6c3</td>\n",
       "      <td>518246</td>\n",
       "      <td>1638007967</td>\n",
       "    </tr>\n",
       "    <tr>\n",
       "      <th>98</th>\n",
       "      <td>0xc7e15cacb6599602f1aba62e2cf8d5582ff05a2e3c43...</td>\n",
       "      <td>0xc7e15cacb6599602f1aba62e2cf8d5582ff05a2e3c43...</td>\n",
       "      <td>0x9c1e0c67aa30c063f341885b12cb81cc94613fc7</td>\n",
       "      <td>0x8c835dfaa34e2ae61775e80ee29e2c724c6ae2bb</td>\n",
       "      <td>-0.306242394976701343</td>\n",
       "      <td>-3.484846914841854618</td>\n",
       "      <td>7.112384216253104332</td>\n",
       "      <td>4131.500858157108362215519245279842</td>\n",
       "      <td>4138.748731846707732592084689613603</td>\n",
       "      <td>4130.830122275072190711757955086976</td>\n",
       "      <td>0xb6b1b6c3</td>\n",
       "      <td>518251</td>\n",
       "      <td>1638007967</td>\n",
       "    </tr>\n",
       "    <tr>\n",
       "      <th>99</th>\n",
       "      <td>0xfc922ac475f5961b117afaa20148564739565716fe99...</td>\n",
       "      <td>0xfc922ac475f5961b117afaa20148564739565716fe99...</td>\n",
       "      <td>0x9c1e0c67aa30c063f341885b12cb81cc94613fc7</td>\n",
       "      <td>0x8c835dfaa34e2ae61775e80ee29e2c724c6ae2bb</td>\n",
       "      <td>-0.261018214967085793</td>\n",
       "      <td>-3.29414948032674502</td>\n",
       "      <td>6.851366001286018539</td>\n",
       "      <td>4130.258608844475128829760349087723</td>\n",
       "      <td>4138.748731846707736749926094216082</td>\n",
       "      <td>4129.687174484571311033162402008937</td>\n",
       "      <td>0xb6b1b6c3</td>\n",
       "      <td>518257</td>\n",
       "      <td>1638007967</td>\n",
       "    </tr>\n",
       "  </tbody>\n",
       "</table>\n",
       "<p>100 rows × 13 columns</p>\n",
       "</div>"
      ],
      "text/plain": [
       "                                                   id  \\\n",
       "0   0x9a9ef69c82d19bde6a2794c5de22bbb02dd3b2b4f048...   \n",
       "1   0x0e085ae4b7c345ee6de6d67f16c8c127a694d1c9f27f...   \n",
       "2   0x8699da2d3dee9c704dbf13705c75524e618b2a83c8c3...   \n",
       "3   0x548dd8a96b9faa92066283339832e380fd506f4ebc94...   \n",
       "4   0x0ccfa4751250a5374b5d28823a1011987b833f71a1ce...   \n",
       "..                                                ...   \n",
       "95  0x12fdd402978ba2a979148eef418ecc3916ef62937dab...   \n",
       "96  0x8e324fbce411192cb9bdbaf61a4acc94b18976c39a4d...   \n",
       "97  0xc0184ef28019283d6ae754fafc2653d6720f98cf3c32...   \n",
       "98  0xc7e15cacb6599602f1aba62e2cf8d5582ff05a2e3c43...   \n",
       "99  0xfc922ac475f5961b117afaa20148564739565716fe99...   \n",
       "\n",
       "                                               txHash  \\\n",
       "0   0x9a9ef69c82d19bde6a2794c5de22bbb02dd3b2b4f048...   \n",
       "1   0x0e085ae4b7c345ee6de6d67f16c8c127a694d1c9f27f...   \n",
       "2   0x8699da2d3dee9c704dbf13705c75524e618b2a83c8c3...   \n",
       "3   0x548dd8a96b9faa92066283339832e380fd506f4ebc94...   \n",
       "4   0x0ccfa4751250a5374b5d28823a1011987b833f71a1ce...   \n",
       "..                                                ...   \n",
       "95  0x12fdd402978ba2a979148eef418ecc3916ef62937dab...   \n",
       "96  0x8e324fbce411192cb9bdbaf61a4acc94b18976c39a4d...   \n",
       "97  0xc0184ef28019283d6ae754fafc2653d6720f98cf3c32...   \n",
       "98  0xc7e15cacb6599602f1aba62e2cf8d5582ff05a2e3c43...   \n",
       "99  0xfc922ac475f5961b117afaa20148564739565716fe99...   \n",
       "\n",
       "                                        trader  \\\n",
       "0   0x9c1e0c67aa30c063f341885b12cb81cc94613fc7   \n",
       "1   0x9c1e0c67aa30c063f341885b12cb81cc94613fc7   \n",
       "2   0x9c1e0c67aa30c063f341885b12cb81cc94613fc7   \n",
       "3   0x9c1e0c67aa30c063f341885b12cb81cc94613fc7   \n",
       "4   0x9c1e0c67aa30c063f341885b12cb81cc94613fc7   \n",
       "..                                         ...   \n",
       "95  0x9c1e0c67aa30c063f341885b12cb81cc94613fc7   \n",
       "96  0x9c1e0c67aa30c063f341885b12cb81cc94613fc7   \n",
       "97  0x9c1e0c67aa30c063f341885b12cb81cc94613fc7   \n",
       "98  0x9c1e0c67aa30c063f341885b12cb81cc94613fc7   \n",
       "99  0x9c1e0c67aa30c063f341885b12cb81cc94613fc7   \n",
       "\n",
       "                                     baseToken  exchangedPositionSize  \\\n",
       "0   0x86f1e0420c26a858fc203a3645dd1a36868f18e5   0.055177825446496676   \n",
       "1   0x8c835dfaa34e2ae61775e80ee29e2c724c6ae2bb    0.72982822304229396   \n",
       "2   0x86f1e0420c26a858fc203a3645dd1a36868f18e5   0.055138038799464064   \n",
       "3   0x8c835dfaa34e2ae61775e80ee29e2c724c6ae2bb   0.729263678681194879   \n",
       "4   0x86f1e0420c26a858fc203a3645dd1a36868f18e5   0.055098295169896233   \n",
       "..                                         ...                    ...   \n",
       "95  0x8c835dfaa34e2ae61775e80ee29e2c724c6ae2bb  -0.235797029318109266   \n",
       "96  0x8c835dfaa34e2ae61775e80ee29e2c724c6ae2bb  -0.142585590153811088   \n",
       "97  0x8c835dfaa34e2ae61775e80ee29e2c724c6ae2bb   -0.32086814288912888   \n",
       "98  0x8c835dfaa34e2ae61775e80ee29e2c724c6ae2bb  -0.306242394976701343   \n",
       "99  0x8c835dfaa34e2ae61775e80ee29e2c724c6ae2bb  -0.261018214967085793   \n",
       "\n",
       "              realizedPnl     positionSizeAfter  \\\n",
       "0                       0  0.055177825446496676   \n",
       "1                       0   0.72982822304229396   \n",
       "2                       0   0.11031586424596074   \n",
       "3                       0  1.459091901723488839   \n",
       "4                       0  0.165414159415856973   \n",
       "..                    ...                   ...   \n",
       "95  -1.924848383315573464  7.882080344272745643   \n",
       "96  -1.282127935895127809  7.739494754118934555   \n",
       "97   -3.21085899479273966  7.418626611229805675   \n",
       "98  -3.484846914841854618  7.112384216253104332   \n",
       "99   -3.29414948032674502  6.851366001286018539   \n",
       "\n",
       "                           swappedPrice                      entryPriceAfter  \\\n",
       "0   54315.29741791018850329308860481943  54369.66708499518368698006867349293   \n",
       "1    4106.44574350247092045128574726175   4110.55629980227319364493067793969   \n",
       "2   54354.49038911283380940962259434733  54389.27611193230920481941199385254   \n",
       "3   4109.624663358792325192276652032186  4112.146735180121963247668732643828   \n",
       "4   54393.69749569774702718875554123194   54408.8851388694345194783012408753   \n",
       "..                                  ...                                  ...   \n",
       "95  4134.720294238227805904939215849023  4138.748731846707724950720842858393   \n",
       "96  4133.890634338962424557166181293245  4138.748731846707728583337636316961   \n",
       "97  4132.874820184813434961939716543557  4138.748731846707731626469552371688   \n",
       "98  4131.500858157108362215519245279842  4138.748731846707732592084689613603   \n",
       "99  4130.258608844475128829760349087723  4138.748731846707736749926094216082   \n",
       "\n",
       "                       marketPriceAfter fromFunctionSignature blockNumber  \\\n",
       "0   54334.89390351151062907470366983836            0xb6b1b6c3      515560   \n",
       "1   4108.035203430631621509243061799414            0xb6b1b6c3      515571   \n",
       "2   54374.09394240528977932267212217288            0xb6b1b6c3      515582   \n",
       "3   4111.214738272642806091895113081482            0xb6b1b6c3      515584   \n",
       "4   54413.30811668133745074390535700327            0xb6b1b6c3      515587   \n",
       "..                                  ...                   ...         ...   \n",
       "95  4134.203235253537259238885536085673            0xb6b1b6c3      518234   \n",
       "96  4133.578057061186825660452573644867            0xb6b1b6c3      518236   \n",
       "97  4132.171702948639775865973765895513            0xb6b1b6c3      518246   \n",
       "98  4130.830122275072190711757955086976            0xb6b1b6c3      518251   \n",
       "99  4129.687174484571311033162402008937            0xb6b1b6c3      518257   \n",
       "\n",
       "     timestamp  \n",
       "0   1638001140  \n",
       "1   1638001140  \n",
       "2   1638001140  \n",
       "3   1638001140  \n",
       "4   1638001140  \n",
       "..         ...  \n",
       "95  1638007967  \n",
       "96  1638007967  \n",
       "97  1638007967  \n",
       "98  1638007967  \n",
       "99  1638007967  \n",
       "\n",
       "[100 rows x 13 columns]"
      ]
     },
     "execution_count": 18,
     "metadata": {},
     "output_type": "execute_result"
    }
   ],
   "source": [
    "pd.json_normalize(testr3,record_path=['positionChangeds'])"
   ]
  },
  {
   "cell_type": "code",
   "execution_count": null,
   "id": "261e4c65",
   "metadata": {},
   "outputs": [],
   "source": []
  },
  {
   "cell_type": "code",
   "execution_count": 19,
   "id": "d22b77f6",
   "metadata": {},
   "outputs": [],
   "source": [
    "def js2df(all_jsons):\n",
    "    \n",
    "    big_df_list = []\n",
    "    \n",
    "    js_all_dfs = []\n",
    "    \n",
    "    for j in all_jsons:\n",
    "        js_items = j.items()\n",
    "        js_list = list(js_items)\n",
    "        js_df = pd.DataFrame(js_list)\n",
    "        js_holder = js_df[1]\n",
    "        holder2 = []\n",
    "    \n",
    "        for h in js_holder:\n",
    "            holder2.append(h)\n",
    "            hello = pd.json_normalize(holder2, record_path=['positionChangeds'])\n",
    "            big_df_list.append(hello)\n",
    "            \n",
    "        \n",
    "        continue\n",
    "    \n",
    "    \n",
    "    alljs = pd.concat(big_df_list, ignore_index=True)\n",
    "    return(alljs)"
   ]
  },
  {
   "cell_type": "code",
   "execution_count": 20,
   "id": "8cf81724",
   "metadata": {},
   "outputs": [
    {
     "data": {
      "text/html": [
       "<div>\n",
       "<style scoped>\n",
       "    .dataframe tbody tr th:only-of-type {\n",
       "        vertical-align: middle;\n",
       "    }\n",
       "\n",
       "    .dataframe tbody tr th {\n",
       "        vertical-align: top;\n",
       "    }\n",
       "\n",
       "    .dataframe thead th {\n",
       "        text-align: right;\n",
       "    }\n",
       "</style>\n",
       "<table border=\"1\" class=\"dataframe\">\n",
       "  <thead>\n",
       "    <tr style=\"text-align: right;\">\n",
       "      <th></th>\n",
       "      <th>id</th>\n",
       "      <th>txHash</th>\n",
       "      <th>trader</th>\n",
       "      <th>baseToken</th>\n",
       "      <th>exchangedPositionSize</th>\n",
       "      <th>realizedPnl</th>\n",
       "      <th>positionSizeAfter</th>\n",
       "      <th>swappedPrice</th>\n",
       "      <th>entryPriceAfter</th>\n",
       "      <th>marketPriceAfter</th>\n",
       "      <th>fromFunctionSignature</th>\n",
       "      <th>blockNumber</th>\n",
       "      <th>timestamp</th>\n",
       "    </tr>\n",
       "  </thead>\n",
       "  <tbody>\n",
       "    <tr>\n",
       "      <th>0</th>\n",
       "      <td>0x9a9ef69c82d19bde6a2794c5de22bbb02dd3b2b4f048...</td>\n",
       "      <td>0x9a9ef69c82d19bde6a2794c5de22bbb02dd3b2b4f048...</td>\n",
       "      <td>0x9c1e0c67aa30c063f341885b12cb81cc94613fc7</td>\n",
       "      <td>0x86f1e0420c26a858fc203a3645dd1a36868f18e5</td>\n",
       "      <td>0.055177825446496676</td>\n",
       "      <td>0</td>\n",
       "      <td>0.055177825446496676</td>\n",
       "      <td>54315.29741791018850329308860481943</td>\n",
       "      <td>54369.66708499518368698006867349293</td>\n",
       "      <td>54334.89390351151062907470366983836</td>\n",
       "      <td>0xb6b1b6c3</td>\n",
       "      <td>515560</td>\n",
       "      <td>1638001140</td>\n",
       "    </tr>\n",
       "    <tr>\n",
       "      <th>1</th>\n",
       "      <td>0x0e085ae4b7c345ee6de6d67f16c8c127a694d1c9f27f...</td>\n",
       "      <td>0x0e085ae4b7c345ee6de6d67f16c8c127a694d1c9f27f...</td>\n",
       "      <td>0x9c1e0c67aa30c063f341885b12cb81cc94613fc7</td>\n",
       "      <td>0x8c835dfaa34e2ae61775e80ee29e2c724c6ae2bb</td>\n",
       "      <td>0.72982822304229396</td>\n",
       "      <td>0</td>\n",
       "      <td>0.72982822304229396</td>\n",
       "      <td>4106.44574350247092045128574726175</td>\n",
       "      <td>4110.55629980227319364493067793969</td>\n",
       "      <td>4108.035203430631621509243061799414</td>\n",
       "      <td>0xb6b1b6c3</td>\n",
       "      <td>515571</td>\n",
       "      <td>1638001140</td>\n",
       "    </tr>\n",
       "    <tr>\n",
       "      <th>2</th>\n",
       "      <td>0x8699da2d3dee9c704dbf13705c75524e618b2a83c8c3...</td>\n",
       "      <td>0x8699da2d3dee9c704dbf13705c75524e618b2a83c8c3...</td>\n",
       "      <td>0x9c1e0c67aa30c063f341885b12cb81cc94613fc7</td>\n",
       "      <td>0x86f1e0420c26a858fc203a3645dd1a36868f18e5</td>\n",
       "      <td>0.055138038799464064</td>\n",
       "      <td>0</td>\n",
       "      <td>0.11031586424596074</td>\n",
       "      <td>54354.49038911283380940962259434733</td>\n",
       "      <td>54389.27611193230920481941199385254</td>\n",
       "      <td>54374.09394240528977932267212217288</td>\n",
       "      <td>0xb6b1b6c3</td>\n",
       "      <td>515582</td>\n",
       "      <td>1638001140</td>\n",
       "    </tr>\n",
       "    <tr>\n",
       "      <th>3</th>\n",
       "      <td>0x548dd8a96b9faa92066283339832e380fd506f4ebc94...</td>\n",
       "      <td>0x548dd8a96b9faa92066283339832e380fd506f4ebc94...</td>\n",
       "      <td>0x9c1e0c67aa30c063f341885b12cb81cc94613fc7</td>\n",
       "      <td>0x8c835dfaa34e2ae61775e80ee29e2c724c6ae2bb</td>\n",
       "      <td>0.729263678681194879</td>\n",
       "      <td>0</td>\n",
       "      <td>1.459091901723488839</td>\n",
       "      <td>4109.624663358792325192276652032186</td>\n",
       "      <td>4112.146735180121963247668732643828</td>\n",
       "      <td>4111.214738272642806091895113081482</td>\n",
       "      <td>0xb6b1b6c3</td>\n",
       "      <td>515584</td>\n",
       "      <td>1638001140</td>\n",
       "    </tr>\n",
       "    <tr>\n",
       "      <th>4</th>\n",
       "      <td>0x0ccfa4751250a5374b5d28823a1011987b833f71a1ce...</td>\n",
       "      <td>0x0ccfa4751250a5374b5d28823a1011987b833f71a1ce...</td>\n",
       "      <td>0x9c1e0c67aa30c063f341885b12cb81cc94613fc7</td>\n",
       "      <td>0x86f1e0420c26a858fc203a3645dd1a36868f18e5</td>\n",
       "      <td>0.055098295169896233</td>\n",
       "      <td>0</td>\n",
       "      <td>0.165414159415856973</td>\n",
       "      <td>54393.69749569774702718875554123194</td>\n",
       "      <td>54408.8851388694345194783012408753</td>\n",
       "      <td>54413.30811668133745074390535700327</td>\n",
       "      <td>0xb6b1b6c3</td>\n",
       "      <td>515587</td>\n",
       "      <td>1638001140</td>\n",
       "    </tr>\n",
       "    <tr>\n",
       "      <th>...</th>\n",
       "      <td>...</td>\n",
       "      <td>...</td>\n",
       "      <td>...</td>\n",
       "      <td>...</td>\n",
       "      <td>...</td>\n",
       "      <td>...</td>\n",
       "      <td>...</td>\n",
       "      <td>...</td>\n",
       "      <td>...</td>\n",
       "      <td>...</td>\n",
       "      <td>...</td>\n",
       "      <td>...</td>\n",
       "      <td>...</td>\n",
       "    </tr>\n",
       "    <tr>\n",
       "      <th>695</th>\n",
       "      <td>0x1b2b34d90040201d3b7e79d056dbadb6b485145c13c2...</td>\n",
       "      <td>0x1b2b34d90040201d3b7e79d056dbadb6b485145c13c2...</td>\n",
       "      <td>0x9c1e0c67aa30c063f341885b12cb81cc94613fc7</td>\n",
       "      <td>0x86f1e0420c26a858fc203a3645dd1a36868f18e5</td>\n",
       "      <td>-0.165285269525430697</td>\n",
       "      <td>0</td>\n",
       "      <td>-8.100220968737100128</td>\n",
       "      <td>56583.01856129659973104433390000027</td>\n",
       "      <td>56712.01917163252264856316122002132</td>\n",
       "      <td>56575.49745886514466883735864725563</td>\n",
       "      <td>0xb6b1b6c3</td>\n",
       "      <td>698614</td>\n",
       "      <td>1638496340</td>\n",
       "    </tr>\n",
       "    <tr>\n",
       "      <th>696</th>\n",
       "      <td>0x83e5f4780b84ec157d714ebe20692535ba834d4c1490...</td>\n",
       "      <td>0x83e5f4780b84ec157d714ebe20692535ba834d4c1490...</td>\n",
       "      <td>0x9c1e0c67aa30c063f341885b12cb81cc94613fc7</td>\n",
       "      <td>0x86f1e0420c26a858fc203a3645dd1a36868f18e5</td>\n",
       "      <td>-0.16285466165925876</td>\n",
       "      <td>0</td>\n",
       "      <td>-8.263075630396358888</td>\n",
       "      <td>56568.08891353744461940550198094764</td>\n",
       "      <td>56708.06760542087918932209477459883</td>\n",
       "      <td>56560.68133835665181538504488660868</td>\n",
       "      <td>0xb6b1b6c3</td>\n",
       "      <td>698650</td>\n",
       "      <td>1638496934</td>\n",
       "    </tr>\n",
       "    <tr>\n",
       "      <th>697</th>\n",
       "      <td>0xb3350f13cac68745b05e6b0f887f00f69f8725234314...</td>\n",
       "      <td>0xb3350f13cac68745b05e6b0f887f00f69f8725234314...</td>\n",
       "      <td>0x9c1e0c67aa30c063f341885b12cb81cc94613fc7</td>\n",
       "      <td>0x86f1e0420c26a858fc203a3645dd1a36868f18e5</td>\n",
       "      <td>-0.242673525633028182</td>\n",
       "      <td>0</td>\n",
       "      <td>-8.50574915602938707</td>\n",
       "      <td>56549.64673663774440047786782503289</td>\n",
       "      <td>56701.93438282621176611753342388296</td>\n",
       "      <td>56538.61428769409050992376721430187</td>\n",
       "      <td>0xb6b1b6c3</td>\n",
       "      <td>698653</td>\n",
       "      <td>1638496934</td>\n",
       "    </tr>\n",
       "    <tr>\n",
       "      <th>698</th>\n",
       "      <td>0x098e0040ab08ec4836a7a3a50e226950b8f7fdb3fdb6...</td>\n",
       "      <td>0x098e0040ab08ec4836a7a3a50e226950b8f7fdb3fdb6...</td>\n",
       "      <td>0x9c1e0c67aa30c063f341885b12cb81cc94613fc7</td>\n",
       "      <td>0x86f1e0420c26a858fc203a3645dd1a36868f18e5</td>\n",
       "      <td>-0.215954912051509403</td>\n",
       "      <td>0</td>\n",
       "      <td>-8.721704068080896473</td>\n",
       "      <td>56528.8001423706966590191308563513</td>\n",
       "      <td>56696.24778060414028959346792198163</td>\n",
       "      <td>56518.9877006166185993428752913519</td>\n",
       "      <td>0xb6b1b6c3</td>\n",
       "      <td>698667</td>\n",
       "      <td>1638496934</td>\n",
       "    </tr>\n",
       "    <tr>\n",
       "      <th>699</th>\n",
       "      <td>0xcbb342d593cec11d71f0f0056f4699ad542af84c7f0c...</td>\n",
       "      <td>0xcbb342d593cec11d71f0f0056f4699ad542af84c7f0c...</td>\n",
       "      <td>0xa2600926786e9c2e1fa4b4a1118ddf0bfe1e7f91</td>\n",
       "      <td>0x86f1e0420c26a858fc203a3645dd1a36868f18e5</td>\n",
       "      <td>0.9</td>\n",
       "      <td>355.990123190038632789</td>\n",
       "      <td>0</td>\n",
       "      <td>56559.90391165929129212666666666667</td>\n",
       "      <td>0</td>\n",
       "      <td>56600.8497434788780460581575188973</td>\n",
       "      <td>0x00aa9a89</td>\n",
       "      <td>698719</td>\n",
       "      <td>1638497157</td>\n",
       "    </tr>\n",
       "  </tbody>\n",
       "</table>\n",
       "<p>700 rows × 13 columns</p>\n",
       "</div>"
      ],
      "text/plain": [
       "                                                    id  \\\n",
       "0    0x9a9ef69c82d19bde6a2794c5de22bbb02dd3b2b4f048...   \n",
       "1    0x0e085ae4b7c345ee6de6d67f16c8c127a694d1c9f27f...   \n",
       "2    0x8699da2d3dee9c704dbf13705c75524e618b2a83c8c3...   \n",
       "3    0x548dd8a96b9faa92066283339832e380fd506f4ebc94...   \n",
       "4    0x0ccfa4751250a5374b5d28823a1011987b833f71a1ce...   \n",
       "..                                                 ...   \n",
       "695  0x1b2b34d90040201d3b7e79d056dbadb6b485145c13c2...   \n",
       "696  0x83e5f4780b84ec157d714ebe20692535ba834d4c1490...   \n",
       "697  0xb3350f13cac68745b05e6b0f887f00f69f8725234314...   \n",
       "698  0x098e0040ab08ec4836a7a3a50e226950b8f7fdb3fdb6...   \n",
       "699  0xcbb342d593cec11d71f0f0056f4699ad542af84c7f0c...   \n",
       "\n",
       "                                                txHash  \\\n",
       "0    0x9a9ef69c82d19bde6a2794c5de22bbb02dd3b2b4f048...   \n",
       "1    0x0e085ae4b7c345ee6de6d67f16c8c127a694d1c9f27f...   \n",
       "2    0x8699da2d3dee9c704dbf13705c75524e618b2a83c8c3...   \n",
       "3    0x548dd8a96b9faa92066283339832e380fd506f4ebc94...   \n",
       "4    0x0ccfa4751250a5374b5d28823a1011987b833f71a1ce...   \n",
       "..                                                 ...   \n",
       "695  0x1b2b34d90040201d3b7e79d056dbadb6b485145c13c2...   \n",
       "696  0x83e5f4780b84ec157d714ebe20692535ba834d4c1490...   \n",
       "697  0xb3350f13cac68745b05e6b0f887f00f69f8725234314...   \n",
       "698  0x098e0040ab08ec4836a7a3a50e226950b8f7fdb3fdb6...   \n",
       "699  0xcbb342d593cec11d71f0f0056f4699ad542af84c7f0c...   \n",
       "\n",
       "                                         trader  \\\n",
       "0    0x9c1e0c67aa30c063f341885b12cb81cc94613fc7   \n",
       "1    0x9c1e0c67aa30c063f341885b12cb81cc94613fc7   \n",
       "2    0x9c1e0c67aa30c063f341885b12cb81cc94613fc7   \n",
       "3    0x9c1e0c67aa30c063f341885b12cb81cc94613fc7   \n",
       "4    0x9c1e0c67aa30c063f341885b12cb81cc94613fc7   \n",
       "..                                          ...   \n",
       "695  0x9c1e0c67aa30c063f341885b12cb81cc94613fc7   \n",
       "696  0x9c1e0c67aa30c063f341885b12cb81cc94613fc7   \n",
       "697  0x9c1e0c67aa30c063f341885b12cb81cc94613fc7   \n",
       "698  0x9c1e0c67aa30c063f341885b12cb81cc94613fc7   \n",
       "699  0xa2600926786e9c2e1fa4b4a1118ddf0bfe1e7f91   \n",
       "\n",
       "                                      baseToken  exchangedPositionSize  \\\n",
       "0    0x86f1e0420c26a858fc203a3645dd1a36868f18e5   0.055177825446496676   \n",
       "1    0x8c835dfaa34e2ae61775e80ee29e2c724c6ae2bb    0.72982822304229396   \n",
       "2    0x86f1e0420c26a858fc203a3645dd1a36868f18e5   0.055138038799464064   \n",
       "3    0x8c835dfaa34e2ae61775e80ee29e2c724c6ae2bb   0.729263678681194879   \n",
       "4    0x86f1e0420c26a858fc203a3645dd1a36868f18e5   0.055098295169896233   \n",
       "..                                          ...                    ...   \n",
       "695  0x86f1e0420c26a858fc203a3645dd1a36868f18e5  -0.165285269525430697   \n",
       "696  0x86f1e0420c26a858fc203a3645dd1a36868f18e5   -0.16285466165925876   \n",
       "697  0x86f1e0420c26a858fc203a3645dd1a36868f18e5  -0.242673525633028182   \n",
       "698  0x86f1e0420c26a858fc203a3645dd1a36868f18e5  -0.215954912051509403   \n",
       "699  0x86f1e0420c26a858fc203a3645dd1a36868f18e5                    0.9   \n",
       "\n",
       "                realizedPnl      positionSizeAfter  \\\n",
       "0                         0   0.055177825446496676   \n",
       "1                         0    0.72982822304229396   \n",
       "2                         0    0.11031586424596074   \n",
       "3                         0   1.459091901723488839   \n",
       "4                         0   0.165414159415856973   \n",
       "..                      ...                    ...   \n",
       "695                       0  -8.100220968737100128   \n",
       "696                       0  -8.263075630396358888   \n",
       "697                       0   -8.50574915602938707   \n",
       "698                       0  -8.721704068080896473   \n",
       "699  355.990123190038632789                      0   \n",
       "\n",
       "                            swappedPrice                      entryPriceAfter  \\\n",
       "0    54315.29741791018850329308860481943  54369.66708499518368698006867349293   \n",
       "1     4106.44574350247092045128574726175   4110.55629980227319364493067793969   \n",
       "2    54354.49038911283380940962259434733  54389.27611193230920481941199385254   \n",
       "3    4109.624663358792325192276652032186  4112.146735180121963247668732643828   \n",
       "4    54393.69749569774702718875554123194   54408.8851388694345194783012408753   \n",
       "..                                   ...                                  ...   \n",
       "695  56583.01856129659973104433390000027  56712.01917163252264856316122002132   \n",
       "696  56568.08891353744461940550198094764  56708.06760542087918932209477459883   \n",
       "697  56549.64673663774440047786782503289  56701.93438282621176611753342388296   \n",
       "698   56528.8001423706966590191308563513  56696.24778060414028959346792198163   \n",
       "699  56559.90391165929129212666666666667                                    0   \n",
       "\n",
       "                        marketPriceAfter fromFunctionSignature blockNumber  \\\n",
       "0    54334.89390351151062907470366983836            0xb6b1b6c3      515560   \n",
       "1    4108.035203430631621509243061799414            0xb6b1b6c3      515571   \n",
       "2    54374.09394240528977932267212217288            0xb6b1b6c3      515582   \n",
       "3    4111.214738272642806091895113081482            0xb6b1b6c3      515584   \n",
       "4    54413.30811668133745074390535700327            0xb6b1b6c3      515587   \n",
       "..                                   ...                   ...         ...   \n",
       "695  56575.49745886514466883735864725563            0xb6b1b6c3      698614   \n",
       "696  56560.68133835665181538504488660868            0xb6b1b6c3      698650   \n",
       "697  56538.61428769409050992376721430187            0xb6b1b6c3      698653   \n",
       "698   56518.9877006166185993428752913519            0xb6b1b6c3      698667   \n",
       "699   56600.8497434788780460581575188973            0x00aa9a89      698719   \n",
       "\n",
       "      timestamp  \n",
       "0    1638001140  \n",
       "1    1638001140  \n",
       "2    1638001140  \n",
       "3    1638001140  \n",
       "4    1638001140  \n",
       "..          ...  \n",
       "695  1638496340  \n",
       "696  1638496934  \n",
       "697  1638496934  \n",
       "698  1638496934  \n",
       "699  1638497157  \n",
       "\n",
       "[700 rows x 13 columns]"
      ]
     },
     "execution_count": 20,
     "metadata": {},
     "output_type": "execute_result"
    }
   ],
   "source": [
    "js2df(jsv2)"
   ]
  },
  {
   "cell_type": "code",
   "execution_count": 21,
   "id": "7b00bcf2",
   "metadata": {},
   "outputs": [],
   "source": [
    "full_df = js2df(jsv2)"
   ]
  },
  {
   "cell_type": "code",
   "execution_count": 22,
   "id": "e9c4e67a",
   "metadata": {
    "scrolled": false
   },
   "outputs": [],
   "source": [
    "# full_df.txHash.unique()"
   ]
  },
  {
   "cell_type": "code",
   "execution_count": 23,
   "id": "ee4b91db",
   "metadata": {},
   "outputs": [
    {
     "data": {
      "text/plain": [
       "700"
      ]
     },
     "execution_count": 23,
     "metadata": {},
     "output_type": "execute_result"
    }
   ],
   "source": [
    "len(full_df.txHash.unique())"
   ]
  },
  {
   "cell_type": "code",
   "execution_count": 24,
   "id": "98e4ea89",
   "metadata": {},
   "outputs": [],
   "source": [
    "full_df2 = full_df.sort_values(by=['timestamp'], ignore_index=True)"
   ]
  },
  {
   "cell_type": "code",
   "execution_count": 25,
   "id": "7c5e03f4",
   "metadata": {},
   "outputs": [
    {
     "data": {
      "text/html": [
       "<div>\n",
       "<style scoped>\n",
       "    .dataframe tbody tr th:only-of-type {\n",
       "        vertical-align: middle;\n",
       "    }\n",
       "\n",
       "    .dataframe tbody tr th {\n",
       "        vertical-align: top;\n",
       "    }\n",
       "\n",
       "    .dataframe thead th {\n",
       "        text-align: right;\n",
       "    }\n",
       "</style>\n",
       "<table border=\"1\" class=\"dataframe\">\n",
       "  <thead>\n",
       "    <tr style=\"text-align: right;\">\n",
       "      <th></th>\n",
       "      <th>id</th>\n",
       "      <th>txHash</th>\n",
       "      <th>trader</th>\n",
       "      <th>baseToken</th>\n",
       "      <th>exchangedPositionSize</th>\n",
       "      <th>realizedPnl</th>\n",
       "      <th>positionSizeAfter</th>\n",
       "      <th>swappedPrice</th>\n",
       "      <th>entryPriceAfter</th>\n",
       "      <th>marketPriceAfter</th>\n",
       "      <th>fromFunctionSignature</th>\n",
       "      <th>blockNumber</th>\n",
       "      <th>timestamp</th>\n",
       "    </tr>\n",
       "  </thead>\n",
       "  <tbody>\n",
       "    <tr>\n",
       "      <th>0</th>\n",
       "      <td>0x9a9ef69c82d19bde6a2794c5de22bbb02dd3b2b4f048...</td>\n",
       "      <td>0x9a9ef69c82d19bde6a2794c5de22bbb02dd3b2b4f048...</td>\n",
       "      <td>0x9c1e0c67aa30c063f341885b12cb81cc94613fc7</td>\n",
       "      <td>0x86f1e0420c26a858fc203a3645dd1a36868f18e5</td>\n",
       "      <td>0.055177825446496676</td>\n",
       "      <td>0</td>\n",
       "      <td>0.055177825446496676</td>\n",
       "      <td>54315.29741791018850329308860481943</td>\n",
       "      <td>54369.66708499518368698006867349293</td>\n",
       "      <td>54334.89390351151062907470366983836</td>\n",
       "      <td>0xb6b1b6c3</td>\n",
       "      <td>515560</td>\n",
       "      <td>1638001140</td>\n",
       "    </tr>\n",
       "    <tr>\n",
       "      <th>1</th>\n",
       "      <td>0x0e085ae4b7c345ee6de6d67f16c8c127a694d1c9f27f...</td>\n",
       "      <td>0x0e085ae4b7c345ee6de6d67f16c8c127a694d1c9f27f...</td>\n",
       "      <td>0x9c1e0c67aa30c063f341885b12cb81cc94613fc7</td>\n",
       "      <td>0x8c835dfaa34e2ae61775e80ee29e2c724c6ae2bb</td>\n",
       "      <td>0.72982822304229396</td>\n",
       "      <td>0</td>\n",
       "      <td>0.72982822304229396</td>\n",
       "      <td>4106.44574350247092045128574726175</td>\n",
       "      <td>4110.55629980227319364493067793969</td>\n",
       "      <td>4108.035203430631621509243061799414</td>\n",
       "      <td>0xb6b1b6c3</td>\n",
       "      <td>515571</td>\n",
       "      <td>1638001140</td>\n",
       "    </tr>\n",
       "    <tr>\n",
       "      <th>2</th>\n",
       "      <td>0x8699da2d3dee9c704dbf13705c75524e618b2a83c8c3...</td>\n",
       "      <td>0x8699da2d3dee9c704dbf13705c75524e618b2a83c8c3...</td>\n",
       "      <td>0x9c1e0c67aa30c063f341885b12cb81cc94613fc7</td>\n",
       "      <td>0x86f1e0420c26a858fc203a3645dd1a36868f18e5</td>\n",
       "      <td>0.055138038799464064</td>\n",
       "      <td>0</td>\n",
       "      <td>0.11031586424596074</td>\n",
       "      <td>54354.49038911283380940962259434733</td>\n",
       "      <td>54389.27611193230920481941199385254</td>\n",
       "      <td>54374.09394240528977932267212217288</td>\n",
       "      <td>0xb6b1b6c3</td>\n",
       "      <td>515582</td>\n",
       "      <td>1638001140</td>\n",
       "    </tr>\n",
       "    <tr>\n",
       "      <th>3</th>\n",
       "      <td>0x548dd8a96b9faa92066283339832e380fd506f4ebc94...</td>\n",
       "      <td>0x548dd8a96b9faa92066283339832e380fd506f4ebc94...</td>\n",
       "      <td>0x9c1e0c67aa30c063f341885b12cb81cc94613fc7</td>\n",
       "      <td>0x8c835dfaa34e2ae61775e80ee29e2c724c6ae2bb</td>\n",
       "      <td>0.729263678681194879</td>\n",
       "      <td>0</td>\n",
       "      <td>1.459091901723488839</td>\n",
       "      <td>4109.624663358792325192276652032186</td>\n",
       "      <td>4112.146735180121963247668732643828</td>\n",
       "      <td>4111.214738272642806091895113081482</td>\n",
       "      <td>0xb6b1b6c3</td>\n",
       "      <td>515584</td>\n",
       "      <td>1638001140</td>\n",
       "    </tr>\n",
       "    <tr>\n",
       "      <th>4</th>\n",
       "      <td>0x0ccfa4751250a5374b5d28823a1011987b833f71a1ce...</td>\n",
       "      <td>0x0ccfa4751250a5374b5d28823a1011987b833f71a1ce...</td>\n",
       "      <td>0x9c1e0c67aa30c063f341885b12cb81cc94613fc7</td>\n",
       "      <td>0x86f1e0420c26a858fc203a3645dd1a36868f18e5</td>\n",
       "      <td>0.055098295169896233</td>\n",
       "      <td>0</td>\n",
       "      <td>0.165414159415856973</td>\n",
       "      <td>54393.69749569774702718875554123194</td>\n",
       "      <td>54408.8851388694345194783012408753</td>\n",
       "      <td>54413.30811668133745074390535700327</td>\n",
       "      <td>0xb6b1b6c3</td>\n",
       "      <td>515587</td>\n",
       "      <td>1638001140</td>\n",
       "    </tr>\n",
       "    <tr>\n",
       "      <th>...</th>\n",
       "      <td>...</td>\n",
       "      <td>...</td>\n",
       "      <td>...</td>\n",
       "      <td>...</td>\n",
       "      <td>...</td>\n",
       "      <td>...</td>\n",
       "      <td>...</td>\n",
       "      <td>...</td>\n",
       "      <td>...</td>\n",
       "      <td>...</td>\n",
       "      <td>...</td>\n",
       "      <td>...</td>\n",
       "      <td>...</td>\n",
       "    </tr>\n",
       "    <tr>\n",
       "      <th>695</th>\n",
       "      <td>0xf5feece6f11dfa508d396f26704905333bff23476410...</td>\n",
       "      <td>0xf5feece6f11dfa508d396f26704905333bff23476410...</td>\n",
       "      <td>0x5de2b5b72a0b49f7d4490a1fef61afa8415971f5</td>\n",
       "      <td>0x8c835dfaa34e2ae61775e80ee29e2c724c6ae2bb</td>\n",
       "      <td>0.281756895446853364</td>\n",
       "      <td>0</td>\n",
       "      <td>0.281756895446853364</td>\n",
       "      <td>1772.804882761843945015948668537791</td>\n",
       "      <td>1774.579462224068013028977646183975</td>\n",
       "      <td>1772.841683553401719028807543123275</td>\n",
       "      <td>0xb6b1b6c3</td>\n",
       "      <td>10862487</td>\n",
       "      <td>1654618947</td>\n",
       "    </tr>\n",
       "    <tr>\n",
       "      <th>696</th>\n",
       "      <td>0x1cd29986d9e059286deb274c74ce824842ea0daaf10a...</td>\n",
       "      <td>0x1cd29986d9e059286deb274c74ce824842ea0daaf10a...</td>\n",
       "      <td>0x59681f406463b5488891cec240ff7efdc02a6490</td>\n",
       "      <td>0x86f1e0420c26a858fc203a3645dd1a36868f18e5</td>\n",
       "      <td>0.001264475059935602</td>\n",
       "      <td>0</td>\n",
       "      <td>0.005261509808675861</td>\n",
       "      <td>29841.82067768244758263669847266631</td>\n",
       "      <td>29881.07325025907239589938118223024</td>\n",
       "      <td>29841.89408664741796600688139593019</td>\n",
       "      <td>0xb6b1b6c3</td>\n",
       "      <td>10862498</td>\n",
       "      <td>1654618962</td>\n",
       "    </tr>\n",
       "    <tr>\n",
       "      <th>697</th>\n",
       "      <td>0xb589969e28ba39b6cb461100af6cbbdd3b57de160dfb...</td>\n",
       "      <td>0xb589969e28ba39b6cb461100af6cbbdd3b57de160dfb...</td>\n",
       "      <td>0x09074e4d60f8014bc8bf31bd48142c158eb88b61</td>\n",
       "      <td>0x86f1e0420c26a858fc203a3645dd1a36868f18e5</td>\n",
       "      <td>-0.00408006141398139</td>\n",
       "      <td>-7.032403639884610522</td>\n",
       "      <td>0</td>\n",
       "      <td>29841.65722041384261841699366418624</td>\n",
       "      <td>0</td>\n",
       "      <td>29841.42035606036283231961875004371</td>\n",
       "      <td>0x00aa9a89</td>\n",
       "      <td>10862500</td>\n",
       "      <td>1654618962</td>\n",
       "    </tr>\n",
       "    <tr>\n",
       "      <th>698</th>\n",
       "      <td>0x2275080d106de0ee16b68bbf651a3c95edb2d83f0c77...</td>\n",
       "      <td>0x2275080d106de0ee16b68bbf651a3c95edb2d83f0c77...</td>\n",
       "      <td>0x70332de459d5554a9a310a7c4f7c6069c73604f9</td>\n",
       "      <td>0x3fb3282e3ba34a0bff94845f1800eb93cc6850d4</td>\n",
       "      <td>115.775927438491002832</td>\n",
       "      <td>15.525153561842280133</td>\n",
       "      <td>-2610.913987116372113762</td>\n",
       "      <td>5.177242050757459633723004264988873</td>\n",
       "      <td>5.316521034900421432150572865561056</td>\n",
       "      <td>5.179746433230568911317768744458226</td>\n",
       "      <td>0xb6b1b6c3</td>\n",
       "      <td>10862557</td>\n",
       "      <td>1654619040</td>\n",
       "    </tr>\n",
       "    <tr>\n",
       "      <th>699</th>\n",
       "      <td>0x00a1eeab79eaf2872e7910fc60f9065d69b56987ef4d...</td>\n",
       "      <td>0x00a1eeab79eaf2872e7910fc60f9065d69b56987ef4d...</td>\n",
       "      <td>0x16b1aa595b8ee725aee23a9d4ceac2163d80db64</td>\n",
       "      <td>0x2db8d2db86ca3a4c7040e778244451776570359b</td>\n",
       "      <td>6520.322445823520559132</td>\n",
       "      <td>-4.889928310883686699</td>\n",
       "      <td>-170259.683250163612163318</td>\n",
       "      <td>0.34472942483598024860545386391196</td>\n",
       "      <td>0.344324547419361495611752390544546</td>\n",
       "      <td>0.3450713363671128996422304055551913</td>\n",
       "      <td>0xb6b1b6c3</td>\n",
       "      <td>10862569</td>\n",
       "      <td>1654619055</td>\n",
       "    </tr>\n",
       "  </tbody>\n",
       "</table>\n",
       "<p>700 rows × 13 columns</p>\n",
       "</div>"
      ],
      "text/plain": [
       "                                                    id  \\\n",
       "0    0x9a9ef69c82d19bde6a2794c5de22bbb02dd3b2b4f048...   \n",
       "1    0x0e085ae4b7c345ee6de6d67f16c8c127a694d1c9f27f...   \n",
       "2    0x8699da2d3dee9c704dbf13705c75524e618b2a83c8c3...   \n",
       "3    0x548dd8a96b9faa92066283339832e380fd506f4ebc94...   \n",
       "4    0x0ccfa4751250a5374b5d28823a1011987b833f71a1ce...   \n",
       "..                                                 ...   \n",
       "695  0xf5feece6f11dfa508d396f26704905333bff23476410...   \n",
       "696  0x1cd29986d9e059286deb274c74ce824842ea0daaf10a...   \n",
       "697  0xb589969e28ba39b6cb461100af6cbbdd3b57de160dfb...   \n",
       "698  0x2275080d106de0ee16b68bbf651a3c95edb2d83f0c77...   \n",
       "699  0x00a1eeab79eaf2872e7910fc60f9065d69b56987ef4d...   \n",
       "\n",
       "                                                txHash  \\\n",
       "0    0x9a9ef69c82d19bde6a2794c5de22bbb02dd3b2b4f048...   \n",
       "1    0x0e085ae4b7c345ee6de6d67f16c8c127a694d1c9f27f...   \n",
       "2    0x8699da2d3dee9c704dbf13705c75524e618b2a83c8c3...   \n",
       "3    0x548dd8a96b9faa92066283339832e380fd506f4ebc94...   \n",
       "4    0x0ccfa4751250a5374b5d28823a1011987b833f71a1ce...   \n",
       "..                                                 ...   \n",
       "695  0xf5feece6f11dfa508d396f26704905333bff23476410...   \n",
       "696  0x1cd29986d9e059286deb274c74ce824842ea0daaf10a...   \n",
       "697  0xb589969e28ba39b6cb461100af6cbbdd3b57de160dfb...   \n",
       "698  0x2275080d106de0ee16b68bbf651a3c95edb2d83f0c77...   \n",
       "699  0x00a1eeab79eaf2872e7910fc60f9065d69b56987ef4d...   \n",
       "\n",
       "                                         trader  \\\n",
       "0    0x9c1e0c67aa30c063f341885b12cb81cc94613fc7   \n",
       "1    0x9c1e0c67aa30c063f341885b12cb81cc94613fc7   \n",
       "2    0x9c1e0c67aa30c063f341885b12cb81cc94613fc7   \n",
       "3    0x9c1e0c67aa30c063f341885b12cb81cc94613fc7   \n",
       "4    0x9c1e0c67aa30c063f341885b12cb81cc94613fc7   \n",
       "..                                          ...   \n",
       "695  0x5de2b5b72a0b49f7d4490a1fef61afa8415971f5   \n",
       "696  0x59681f406463b5488891cec240ff7efdc02a6490   \n",
       "697  0x09074e4d60f8014bc8bf31bd48142c158eb88b61   \n",
       "698  0x70332de459d5554a9a310a7c4f7c6069c73604f9   \n",
       "699  0x16b1aa595b8ee725aee23a9d4ceac2163d80db64   \n",
       "\n",
       "                                      baseToken    exchangedPositionSize  \\\n",
       "0    0x86f1e0420c26a858fc203a3645dd1a36868f18e5     0.055177825446496676   \n",
       "1    0x8c835dfaa34e2ae61775e80ee29e2c724c6ae2bb      0.72982822304229396   \n",
       "2    0x86f1e0420c26a858fc203a3645dd1a36868f18e5     0.055138038799464064   \n",
       "3    0x8c835dfaa34e2ae61775e80ee29e2c724c6ae2bb     0.729263678681194879   \n",
       "4    0x86f1e0420c26a858fc203a3645dd1a36868f18e5     0.055098295169896233   \n",
       "..                                          ...                      ...   \n",
       "695  0x8c835dfaa34e2ae61775e80ee29e2c724c6ae2bb     0.281756895446853364   \n",
       "696  0x86f1e0420c26a858fc203a3645dd1a36868f18e5     0.001264475059935602   \n",
       "697  0x86f1e0420c26a858fc203a3645dd1a36868f18e5     -0.00408006141398139   \n",
       "698  0x3fb3282e3ba34a0bff94845f1800eb93cc6850d4   115.775927438491002832   \n",
       "699  0x2db8d2db86ca3a4c7040e778244451776570359b  6520.322445823520559132   \n",
       "\n",
       "               realizedPnl           positionSizeAfter  \\\n",
       "0                        0        0.055177825446496676   \n",
       "1                        0         0.72982822304229396   \n",
       "2                        0         0.11031586424596074   \n",
       "3                        0        1.459091901723488839   \n",
       "4                        0        0.165414159415856973   \n",
       "..                     ...                         ...   \n",
       "695                      0        0.281756895446853364   \n",
       "696                      0        0.005261509808675861   \n",
       "697  -7.032403639884610522                           0   \n",
       "698  15.525153561842280133    -2610.913987116372113762   \n",
       "699  -4.889928310883686699  -170259.683250163612163318   \n",
       "\n",
       "                            swappedPrice                      entryPriceAfter  \\\n",
       "0    54315.29741791018850329308860481943  54369.66708499518368698006867349293   \n",
       "1     4106.44574350247092045128574726175   4110.55629980227319364493067793969   \n",
       "2    54354.49038911283380940962259434733  54389.27611193230920481941199385254   \n",
       "3    4109.624663358792325192276652032186  4112.146735180121963247668732643828   \n",
       "4    54393.69749569774702718875554123194   54408.8851388694345194783012408753   \n",
       "..                                   ...                                  ...   \n",
       "695  1772.804882761843945015948668537791  1774.579462224068013028977646183975   \n",
       "696  29841.82067768244758263669847266631  29881.07325025907239589938118223024   \n",
       "697  29841.65722041384261841699366418624                                    0   \n",
       "698  5.177242050757459633723004264988873  5.316521034900421432150572865561056   \n",
       "699   0.34472942483598024860545386391196  0.344324547419361495611752390544546   \n",
       "\n",
       "                         marketPriceAfter fromFunctionSignature blockNumber  \\\n",
       "0     54334.89390351151062907470366983836            0xb6b1b6c3      515560   \n",
       "1     4108.035203430631621509243061799414            0xb6b1b6c3      515571   \n",
       "2     54374.09394240528977932267212217288            0xb6b1b6c3      515582   \n",
       "3     4111.214738272642806091895113081482            0xb6b1b6c3      515584   \n",
       "4     54413.30811668133745074390535700327            0xb6b1b6c3      515587   \n",
       "..                                    ...                   ...         ...   \n",
       "695   1772.841683553401719028807543123275            0xb6b1b6c3    10862487   \n",
       "696   29841.89408664741796600688139593019            0xb6b1b6c3    10862498   \n",
       "697   29841.42035606036283231961875004371            0x00aa9a89    10862500   \n",
       "698   5.179746433230568911317768744458226            0xb6b1b6c3    10862557   \n",
       "699  0.3450713363671128996422304055551913            0xb6b1b6c3    10862569   \n",
       "\n",
       "      timestamp  \n",
       "0    1638001140  \n",
       "1    1638001140  \n",
       "2    1638001140  \n",
       "3    1638001140  \n",
       "4    1638001140  \n",
       "..          ...  \n",
       "695  1654618947  \n",
       "696  1654618962  \n",
       "697  1654618962  \n",
       "698  1654619040  \n",
       "699  1654619055  \n",
       "\n",
       "[700 rows x 13 columns]"
      ]
     },
     "execution_count": 25,
     "metadata": {},
     "output_type": "execute_result"
    }
   ],
   "source": [
    "full_df2"
   ]
  },
  {
   "cell_type": "code",
   "execution_count": 26,
   "id": "b518d183",
   "metadata": {},
   "outputs": [],
   "source": [
    "# Turning timestamp column into an integer\n",
    "full_df2['timestamp'] = full_df2.timestamp.astype(int)"
   ]
  },
  {
   "cell_type": "code",
   "execution_count": 27,
   "id": "e551683b",
   "metadata": {},
   "outputs": [],
   "source": [
    "# Getting the exact date info for each row\n",
    "timestamps = full_df2['timestamp']\n",
    "stamps = []\n",
    "\n",
    "for t in timestamps:\n",
    "    \n",
    "    val_holder = datetime.fromtimestamp(t)\n",
    "    stamps.append(val_holder)"
   ]
  },
  {
   "cell_type": "code",
   "execution_count": 28,
   "id": "013da262",
   "metadata": {},
   "outputs": [],
   "source": [
    "full_df2['date_time'] = [i for i in stamps]"
   ]
  },
  {
   "cell_type": "code",
   "execution_count": 29,
   "id": "0b039929",
   "metadata": {},
   "outputs": [],
   "source": [
    "# Checking that date_time column is well done\n",
    "# full_df2.tail()"
   ]
  },
  {
   "cell_type": "code",
   "execution_count": 30,
   "id": "da457faf",
   "metadata": {},
   "outputs": [],
   "source": [
    "df4viz = full_df2.sort_values(by=['positionSizeAfter'], ignore_index=True, ascending=False)"
   ]
  },
  {
   "cell_type": "code",
   "execution_count": 31,
   "id": "900387b8",
   "metadata": {
    "scrolled": false
   },
   "outputs": [
    {
     "data": {
      "text/html": [
       "<div>\n",
       "<style scoped>\n",
       "    .dataframe tbody tr th:only-of-type {\n",
       "        vertical-align: middle;\n",
       "    }\n",
       "\n",
       "    .dataframe tbody tr th {\n",
       "        vertical-align: top;\n",
       "    }\n",
       "\n",
       "    .dataframe thead th {\n",
       "        text-align: right;\n",
       "    }\n",
       "</style>\n",
       "<table border=\"1\" class=\"dataframe\">\n",
       "  <thead>\n",
       "    <tr style=\"text-align: right;\">\n",
       "      <th></th>\n",
       "      <th>id</th>\n",
       "      <th>txHash</th>\n",
       "      <th>trader</th>\n",
       "      <th>baseToken</th>\n",
       "      <th>exchangedPositionSize</th>\n",
       "      <th>realizedPnl</th>\n",
       "      <th>positionSizeAfter</th>\n",
       "      <th>swappedPrice</th>\n",
       "      <th>entryPriceAfter</th>\n",
       "      <th>marketPriceAfter</th>\n",
       "      <th>fromFunctionSignature</th>\n",
       "      <th>blockNumber</th>\n",
       "      <th>timestamp</th>\n",
       "      <th>date_time</th>\n",
       "    </tr>\n",
       "  </thead>\n",
       "  <tbody>\n",
       "    <tr>\n",
       "      <th>0</th>\n",
       "      <td>0xd3d5d294573c3eb553856108ce2726fdc5d9ef2de039...</td>\n",
       "      <td>0xd3d5d294573c3eb553856108ce2726fdc5d9ef2de039...</td>\n",
       "      <td>0xb2e2b1f036f31a9a97d3fc377a47581c813123aa</td>\n",
       "      <td>0x333b1ea429a88d0dd48ce7c06c16609cd76f43a8</td>\n",
       "      <td>-1165.001521198259438818</td>\n",
       "      <td>2.381260844971389821</td>\n",
       "      <td>9941.37985106647767008</td>\n",
       "      <td>1.287377449471652568519523856627009</td>\n",
       "      <td>1.28404607396583319086198550929362</td>\n",
       "      <td>1.285856335690534041834984316457</td>\n",
       "      <td>0xb6b1b6c3</td>\n",
       "      <td>10834593</td>\n",
       "      <td>1654598716</td>\n",
       "      <td>2022-06-07 05:45:16</td>\n",
       "    </tr>\n",
       "    <tr>\n",
       "      <th>1</th>\n",
       "      <td>0x9b0748d5ca20b614eb4e3fcdf61b0861eae6f346cdfc...</td>\n",
       "      <td>0x9b0748d5ca20b614eb4e3fcdf61b0861eae6f346cdfc...</td>\n",
       "      <td>0x2ad4be1184d181065d97e38d6c421f0653231f00</td>\n",
       "      <td>0x9d34f1d15c22e4c0924804e2a38cbe93dfb84bc2</td>\n",
       "      <td>-146.524185766597205869</td>\n",
       "      <td>-4.643395285795975129</td>\n",
       "      <td>95.098333292516932059</td>\n",
       "      <td>6.018062403815045596473431876660052</td>\n",
       "      <td>6.04373464060315086901747619978037</td>\n",
       "      <td>6.015478580631774583640626156882867</td>\n",
       "      <td>0xb6b1b6c3</td>\n",
       "      <td>10859504</td>\n",
       "      <td>1654615795</td>\n",
       "      <td>2022-06-07 10:29:55</td>\n",
       "    </tr>\n",
       "    <tr>\n",
       "      <th>2</th>\n",
       "      <td>0xb964b7cfd1999aa3ea1ea58a4f124c01c9819728f55c...</td>\n",
       "      <td>0xb964b7cfd1999aa3ea1ea58a4f124c01c9819728f55c...</td>\n",
       "      <td>0xe95078ed15141f190f220062b06ba8c5751db6a5</td>\n",
       "      <td>0x2db8d2db86ca3a4c7040e778244451776570359b</td>\n",
       "      <td>3001</td>\n",
       "      <td>0</td>\n",
       "      <td>9000</td>\n",
       "      <td>0.3469388053105872356531156281239587</td>\n",
       "      <td>0.3464827254953792883125555555555556</td>\n",
       "      <td>0.3470976441057118673261602842191274</td>\n",
       "      <td>0xb6b1b6c3</td>\n",
       "      <td>10851510</td>\n",
       "      <td>1654609805</td>\n",
       "      <td>2022-06-07 08:50:05</td>\n",
       "    </tr>\n",
       "    <tr>\n",
       "      <th>3</th>\n",
       "      <td>0x189798f84d19dba444f6ed8fdc8c7d611cde6f3137ae...</td>\n",
       "      <td>0x189798f84d19dba444f6ed8fdc8c7d611cde6f3137ae...</td>\n",
       "      <td>0x9c1e0c67aa30c063f341885b12cb81cc94613fc7</td>\n",
       "      <td>0x8c835dfaa34e2ae61775e80ee29e2c724c6ae2bb</td>\n",
       "      <td>0.133602302816724254</td>\n",
       "      <td>0</td>\n",
       "      <td>9.976936988607076071</td>\n",
       "      <td>4151.591440785055894561158460924088</td>\n",
       "      <td>4130.946568006604081399217562364302</td>\n",
       "      <td>4151.88622959015401408191358220268</td>\n",
       "      <td>0xb6b1b6c3</td>\n",
       "      <td>516507</td>\n",
       "      <td>1638003992</td>\n",
       "      <td>2021-11-27 03:06:32</td>\n",
       "    </tr>\n",
       "    <tr>\n",
       "      <th>4</th>\n",
       "      <td>0xac3452cc2a9bf23caf55758b2d7a4ed26c4980f80c17...</td>\n",
       "      <td>0xac3452cc2a9bf23caf55758b2d7a4ed26c4980f80c17...</td>\n",
       "      <td>0x9c1e0c67aa30c063f341885b12cb81cc94613fc7</td>\n",
       "      <td>0x8c835dfaa34e2ae61775e80ee29e2c724c6ae2bb</td>\n",
       "      <td>0.190129714600187034</td>\n",
       "      <td>0</td>\n",
       "      <td>9.843334685790351817</td>\n",
       "      <td>4149.815678420546149993549149162727</td>\n",
       "      <td>4130.60995241396554411594090748247</td>\n",
       "      <td>4150.234930144265981896547020830078</td>\n",
       "      <td>0xb6b1b6c3</td>\n",
       "      <td>516501</td>\n",
       "      <td>1638003992</td>\n",
       "      <td>2021-11-27 03:06:32</td>\n",
       "    </tr>\n",
       "    <tr>\n",
       "      <th>...</th>\n",
       "      <td>...</td>\n",
       "      <td>...</td>\n",
       "      <td>...</td>\n",
       "      <td>...</td>\n",
       "      <td>...</td>\n",
       "      <td>...</td>\n",
       "      <td>...</td>\n",
       "      <td>...</td>\n",
       "      <td>...</td>\n",
       "      <td>...</td>\n",
       "      <td>...</td>\n",
       "      <td>...</td>\n",
       "      <td>...</td>\n",
       "      <td>...</td>\n",
       "    </tr>\n",
       "    <tr>\n",
       "      <th>695</th>\n",
       "      <td>0xa379d324d3d67282f946c711367d1bb9efbf95ac1da2...</td>\n",
       "      <td>0xa379d324d3d67282f946c711367d1bb9efbf95ac1da2...</td>\n",
       "      <td>0xebd29307345ee6aec943129d9bb44120554efaac</td>\n",
       "      <td>0x86f1e0420c26a858fc203a3645dd1a36868f18e5</td>\n",
       "      <td>-0.003</td>\n",
       "      <td>0</td>\n",
       "      <td>-0.005</td>\n",
       "      <td>56743.725962242170017</td>\n",
       "      <td>56687.0918089206535968</td>\n",
       "      <td>56743.58886000088567091945837116784</td>\n",
       "      <td>0xb6b1b6c3</td>\n",
       "      <td>697988</td>\n",
       "      <td>1638493686</td>\n",
       "      <td>2021-12-02 19:08:06</td>\n",
       "    </tr>\n",
       "    <tr>\n",
       "      <th>696</th>\n",
       "      <td>0x5c674169cfaacab8c153e71130c7f38acc7e86cb43cb...</td>\n",
       "      <td>0x5c674169cfaacab8c153e71130c7f38acc7e86cb43cb...</td>\n",
       "      <td>0xebd29307345ee6aec943129d9bb44120554efaac</td>\n",
       "      <td>0x86f1e0420c26a858fc203a3645dd1a36868f18e5</td>\n",
       "      <td>-0.003</td>\n",
       "      <td>0.103645557707972298</td>\n",
       "      <td>-0.002</td>\n",
       "      <td>56744.000168049792014</td>\n",
       "      <td>56687.256167881742222</td>\n",
       "      <td>56743.8630648147168892531183693042</td>\n",
       "      <td>0xb6b1b6c3</td>\n",
       "      <td>697987</td>\n",
       "      <td>1638493686</td>\n",
       "      <td>2021-12-02 19:08:06</td>\n",
       "    </tr>\n",
       "    <tr>\n",
       "      <th>697</th>\n",
       "      <td>0x44ede5022e90adae9463e467f106dd74dfa7ff6fb9f8...</td>\n",
       "      <td>0x44ede5022e90adae9463e467f106dd74dfa7ff6fb9f8...</td>\n",
       "      <td>0xebd29307345ee6aec943129d9bb44120554efaac</td>\n",
       "      <td>0x86f1e0420c26a858fc203a3645dd1a36868f18e5</td>\n",
       "      <td>0.003</td>\n",
       "      <td>0.97623979700299481</td>\n",
       "      <td>-0.002</td>\n",
       "      <td>56526.54989015012300466666666666667</td>\n",
       "      <td>56908.546288840961238</td>\n",
       "      <td>56526.686206374008672014386409035</td>\n",
       "      <td>0xb6b1b6c3</td>\n",
       "      <td>697764</td>\n",
       "      <td>1638493041</td>\n",
       "      <td>2021-12-02 18:57:21</td>\n",
       "    </tr>\n",
       "    <tr>\n",
       "      <th>698</th>\n",
       "      <td>0xdd5e9f0d177dd391f9602fb4ae407cb3d023b886ab4a...</td>\n",
       "      <td>0xdd5e9f0d177dd391f9602fb4ae407cb3d023b886ab4a...</td>\n",
       "      <td>0x14dadce71af9855bc995d0e35d6ba794f37a2814</td>\n",
       "      <td>0x86f1e0420c26a858fc203a3645dd1a36868f18e5</td>\n",
       "      <td>-0.000335331647829412</td>\n",
       "      <td>0</td>\n",
       "      <td>-0.000670662858077311</td>\n",
       "      <td>29851.07452518840426330066974909548</td>\n",
       "      <td>29821.24290785533539946056795787594</td>\n",
       "      <td>29851.05504851970114132684483585137</td>\n",
       "      <td>0xb6b1b6c3</td>\n",
       "      <td>10859592</td>\n",
       "      <td>1654615875</td>\n",
       "      <td>2022-06-07 10:31:15</td>\n",
       "    </tr>\n",
       "    <tr>\n",
       "      <th>699</th>\n",
       "      <td>0xbc4aa425f8eb9ace05e44ee0248aceddb28c996f34a7...</td>\n",
       "      <td>0xbc4aa425f8eb9ace05e44ee0248aceddb28c996f34a7...</td>\n",
       "      <td>0x14dadce71af9855bc995d0e35d6ba794f37a2814</td>\n",
       "      <td>0x86f1e0420c26a858fc203a3645dd1a36868f18e5</td>\n",
       "      <td>-0.000335331210247899</td>\n",
       "      <td>0</td>\n",
       "      <td>-0.000335331210247899</td>\n",
       "      <td>29851.11347855139648582244212389626</td>\n",
       "      <td>29821.26236507284508638729683386666</td>\n",
       "      <td>29851.0940018699719135106877107801</td>\n",
       "      <td>0xb6b1b6c3</td>\n",
       "      <td>10859550</td>\n",
       "      <td>1654615825</td>\n",
       "      <td>2022-06-07 10:30:25</td>\n",
       "    </tr>\n",
       "  </tbody>\n",
       "</table>\n",
       "<p>700 rows × 14 columns</p>\n",
       "</div>"
      ],
      "text/plain": [
       "                                                    id  \\\n",
       "0    0xd3d5d294573c3eb553856108ce2726fdc5d9ef2de039...   \n",
       "1    0x9b0748d5ca20b614eb4e3fcdf61b0861eae6f346cdfc...   \n",
       "2    0xb964b7cfd1999aa3ea1ea58a4f124c01c9819728f55c...   \n",
       "3    0x189798f84d19dba444f6ed8fdc8c7d611cde6f3137ae...   \n",
       "4    0xac3452cc2a9bf23caf55758b2d7a4ed26c4980f80c17...   \n",
       "..                                                 ...   \n",
       "695  0xa379d324d3d67282f946c711367d1bb9efbf95ac1da2...   \n",
       "696  0x5c674169cfaacab8c153e71130c7f38acc7e86cb43cb...   \n",
       "697  0x44ede5022e90adae9463e467f106dd74dfa7ff6fb9f8...   \n",
       "698  0xdd5e9f0d177dd391f9602fb4ae407cb3d023b886ab4a...   \n",
       "699  0xbc4aa425f8eb9ace05e44ee0248aceddb28c996f34a7...   \n",
       "\n",
       "                                                txHash  \\\n",
       "0    0xd3d5d294573c3eb553856108ce2726fdc5d9ef2de039...   \n",
       "1    0x9b0748d5ca20b614eb4e3fcdf61b0861eae6f346cdfc...   \n",
       "2    0xb964b7cfd1999aa3ea1ea58a4f124c01c9819728f55c...   \n",
       "3    0x189798f84d19dba444f6ed8fdc8c7d611cde6f3137ae...   \n",
       "4    0xac3452cc2a9bf23caf55758b2d7a4ed26c4980f80c17...   \n",
       "..                                                 ...   \n",
       "695  0xa379d324d3d67282f946c711367d1bb9efbf95ac1da2...   \n",
       "696  0x5c674169cfaacab8c153e71130c7f38acc7e86cb43cb...   \n",
       "697  0x44ede5022e90adae9463e467f106dd74dfa7ff6fb9f8...   \n",
       "698  0xdd5e9f0d177dd391f9602fb4ae407cb3d023b886ab4a...   \n",
       "699  0xbc4aa425f8eb9ace05e44ee0248aceddb28c996f34a7...   \n",
       "\n",
       "                                         trader  \\\n",
       "0    0xb2e2b1f036f31a9a97d3fc377a47581c813123aa   \n",
       "1    0x2ad4be1184d181065d97e38d6c421f0653231f00   \n",
       "2    0xe95078ed15141f190f220062b06ba8c5751db6a5   \n",
       "3    0x9c1e0c67aa30c063f341885b12cb81cc94613fc7   \n",
       "4    0x9c1e0c67aa30c063f341885b12cb81cc94613fc7   \n",
       "..                                          ...   \n",
       "695  0xebd29307345ee6aec943129d9bb44120554efaac   \n",
       "696  0xebd29307345ee6aec943129d9bb44120554efaac   \n",
       "697  0xebd29307345ee6aec943129d9bb44120554efaac   \n",
       "698  0x14dadce71af9855bc995d0e35d6ba794f37a2814   \n",
       "699  0x14dadce71af9855bc995d0e35d6ba794f37a2814   \n",
       "\n",
       "                                      baseToken     exchangedPositionSize  \\\n",
       "0    0x333b1ea429a88d0dd48ce7c06c16609cd76f43a8  -1165.001521198259438818   \n",
       "1    0x9d34f1d15c22e4c0924804e2a38cbe93dfb84bc2   -146.524185766597205869   \n",
       "2    0x2db8d2db86ca3a4c7040e778244451776570359b                      3001   \n",
       "3    0x8c835dfaa34e2ae61775e80ee29e2c724c6ae2bb      0.133602302816724254   \n",
       "4    0x8c835dfaa34e2ae61775e80ee29e2c724c6ae2bb      0.190129714600187034   \n",
       "..                                          ...                       ...   \n",
       "695  0x86f1e0420c26a858fc203a3645dd1a36868f18e5                    -0.003   \n",
       "696  0x86f1e0420c26a858fc203a3645dd1a36868f18e5                    -0.003   \n",
       "697  0x86f1e0420c26a858fc203a3645dd1a36868f18e5                     0.003   \n",
       "698  0x86f1e0420c26a858fc203a3645dd1a36868f18e5     -0.000335331647829412   \n",
       "699  0x86f1e0420c26a858fc203a3645dd1a36868f18e5     -0.000335331210247899   \n",
       "\n",
       "               realizedPnl       positionSizeAfter  \\\n",
       "0     2.381260844971389821  9941.37985106647767008   \n",
       "1    -4.643395285795975129   95.098333292516932059   \n",
       "2                        0                    9000   \n",
       "3                        0    9.976936988607076071   \n",
       "4                        0    9.843334685790351817   \n",
       "..                     ...                     ...   \n",
       "695                      0                  -0.005   \n",
       "696   0.103645557707972298                  -0.002   \n",
       "697    0.97623979700299481                  -0.002   \n",
       "698                      0   -0.000670662858077311   \n",
       "699                      0   -0.000335331210247899   \n",
       "\n",
       "                             swappedPrice  \\\n",
       "0     1.287377449471652568519523856627009   \n",
       "1     6.018062403815045596473431876660052   \n",
       "2    0.3469388053105872356531156281239587   \n",
       "3     4151.591440785055894561158460924088   \n",
       "4     4149.815678420546149993549149162727   \n",
       "..                                    ...   \n",
       "695                 56743.725962242170017   \n",
       "696                 56744.000168049792014   \n",
       "697   56526.54989015012300466666666666667   \n",
       "698   29851.07452518840426330066974909548   \n",
       "699   29851.11347855139648582244212389626   \n",
       "\n",
       "                          entryPriceAfter  \\\n",
       "0      1.28404607396583319086198550929362   \n",
       "1      6.04373464060315086901747619978037   \n",
       "2    0.3464827254953792883125555555555556   \n",
       "3     4130.946568006604081399217562364302   \n",
       "4      4130.60995241396554411594090748247   \n",
       "..                                    ...   \n",
       "695                56687.0918089206535968   \n",
       "696                 56687.256167881742222   \n",
       "697                 56908.546288840961238   \n",
       "698   29821.24290785533539946056795787594   \n",
       "699   29821.26236507284508638729683386666   \n",
       "\n",
       "                         marketPriceAfter fromFunctionSignature blockNumber  \\\n",
       "0        1.285856335690534041834984316457            0xb6b1b6c3    10834593   \n",
       "1     6.015478580631774583640626156882867            0xb6b1b6c3    10859504   \n",
       "2    0.3470976441057118673261602842191274            0xb6b1b6c3    10851510   \n",
       "3      4151.88622959015401408191358220268            0xb6b1b6c3      516507   \n",
       "4     4150.234930144265981896547020830078            0xb6b1b6c3      516501   \n",
       "..                                    ...                   ...         ...   \n",
       "695   56743.58886000088567091945837116784            0xb6b1b6c3      697988   \n",
       "696    56743.8630648147168892531183693042            0xb6b1b6c3      697987   \n",
       "697     56526.686206374008672014386409035            0xb6b1b6c3      697764   \n",
       "698   29851.05504851970114132684483585137            0xb6b1b6c3    10859592   \n",
       "699    29851.0940018699719135106877107801            0xb6b1b6c3    10859550   \n",
       "\n",
       "      timestamp           date_time  \n",
       "0    1654598716 2022-06-07 05:45:16  \n",
       "1    1654615795 2022-06-07 10:29:55  \n",
       "2    1654609805 2022-06-07 08:50:05  \n",
       "3    1638003992 2021-11-27 03:06:32  \n",
       "4    1638003992 2021-11-27 03:06:32  \n",
       "..          ...                 ...  \n",
       "695  1638493686 2021-12-02 19:08:06  \n",
       "696  1638493686 2021-12-02 19:08:06  \n",
       "697  1638493041 2021-12-02 18:57:21  \n",
       "698  1654615875 2022-06-07 10:31:15  \n",
       "699  1654615825 2022-06-07 10:30:25  \n",
       "\n",
       "[700 rows x 14 columns]"
      ]
     },
     "execution_count": 31,
     "metadata": {},
     "output_type": "execute_result"
    }
   ],
   "source": [
    "df4viz"
   ]
  },
  {
   "cell_type": "code",
   "execution_count": 32,
   "id": "5150a83e",
   "metadata": {},
   "outputs": [],
   "source": [
    "full_df2['trader_nn'] = [i[-5:] for i in full_df2['trader']]"
   ]
  },
  {
   "cell_type": "code",
   "execution_count": null,
   "id": "150bfc47",
   "metadata": {
    "collapsed": true
   },
   "outputs": [],
   "source": []
  },
  {
   "cell_type": "code",
   "execution_count": 33,
   "id": "1c4513a0",
   "metadata": {},
   "outputs": [
    {
     "data": {
      "text/plain": [
       "0      13fc7\n",
       "1      13fc7\n",
       "2      13fc7\n",
       "3      13fc7\n",
       "4      13fc7\n",
       "       ...  \n",
       "695    971f5\n",
       "696    a6490\n",
       "697    88b61\n",
       "698    604f9\n",
       "699    0db64\n",
       "Name: trader_nn, Length: 700, dtype: object"
      ]
     },
     "execution_count": 33,
     "metadata": {},
     "output_type": "execute_result"
    }
   ],
   "source": [
    "full_df2['trader_nn']"
   ]
  },
  {
   "cell_type": "code",
   "execution_count": 34,
   "id": "f6730359",
   "metadata": {},
   "outputs": [],
   "source": [
    "grouped_traders_df = full_df2.groupby(['trader_nn','date_time'])['timestamp'].count()"
   ]
  },
  {
   "cell_type": "code",
   "execution_count": 35,
   "id": "c93364cf",
   "metadata": {
    "scrolled": true
   },
   "outputs": [
    {
     "data": {
      "text/plain": [
       "trader_nn  date_time          \n",
       "05849      2022-06-07 05:44:14     1\n",
       "           2022-06-07 05:44:45     1\n",
       "0882c      2022-06-07 05:45:31     1\n",
       "0927e      2022-06-07 08:46:04     1\n",
       "           2022-06-07 08:48:25     1\n",
       "                                  ..\n",
       "efaac      2021-12-02 18:56:50     7\n",
       "           2021-12-02 18:57:21     3\n",
       "           2021-12-02 19:08:06    11\n",
       "f1a6e      2022-06-07 08:45:47     1\n",
       "fc10a      2022-06-07 11:16:20     1\n",
       "Name: timestamp, Length: 448, dtype: int64"
      ]
     },
     "execution_count": 35,
     "metadata": {},
     "output_type": "execute_result"
    }
   ],
   "source": [
    "grouped_traders_df"
   ]
  },
  {
   "cell_type": "code",
   "execution_count": 36,
   "id": "7a6710ba",
   "metadata": {},
   "outputs": [],
   "source": [
    "sorted_grouped_traders_df = grouped_traders_df.sort_values(ascending=False)"
   ]
  },
  {
   "cell_type": "code",
   "execution_count": 37,
   "id": "ee8f6ff1",
   "metadata": {},
   "outputs": [
    {
     "data": {
      "text/plain": [
       "trader_nn  date_time          \n",
       "13fc7      2021-11-28 04:34:32    27\n",
       "           2021-11-27 03:09:01    27\n",
       "           2021-11-27 02:20:45    12\n",
       "efaac      2021-12-02 19:08:06    11\n",
       "13fc7      2021-11-27 03:53:17    11\n",
       "           2021-11-27 02:19:00    11\n",
       "           2021-11-28 04:33:15     9\n",
       "efaac      2021-12-02 18:56:50     7\n",
       "13fc7      2021-11-28 01:37:43     7\n",
       "6d0db      2022-06-07 05:40:21     6\n",
       "13fc7      2021-11-28 04:26:42     6\n",
       "           2021-11-28 02:00:13     6\n",
       "           2021-11-27 04:10:15     6\n",
       "           2021-11-27 03:06:32     6\n",
       "6d0db      2022-06-07 05:40:06     6\n",
       "13fc7      2021-11-28 03:39:18     6\n",
       "           2021-12-02 18:27:36     5\n",
       "           2021-12-02 19:01:28     5\n",
       "           2021-12-02 17:39:50     5\n",
       "           2021-11-27 04:12:47     5\n",
       "           2021-12-02 18:18:21     4\n",
       "6d0db      2022-06-07 05:45:31     4\n",
       "13fc7      2021-12-02 16:31:46     4\n",
       "6d0db      2022-06-07 05:45:00     4\n",
       "13fc7      2021-12-02 18:24:05     3\n",
       "           2021-12-02 18:38:26     3\n",
       "           2021-12-02 17:37:41     3\n",
       "2b17f      2021-11-28 03:50:44     3\n",
       "efaac      2021-12-02 18:57:21     3\n",
       "94737      2022-06-07 11:21:39     3\n",
       "13fc7      2021-12-02 20:02:14     3\n",
       "           2021-11-28 04:25:10     3\n",
       "44ca0      2022-06-07 10:33:50     3\n",
       "d8eee      2021-12-02 19:37:05     2\n",
       "5283a      2022-06-07 11:15:20     2\n",
       "13fc7      2021-11-28 04:29:58     2\n",
       "           2021-12-02 16:00:53     2\n",
       "28b7a      2022-06-07 10:29:06     2\n",
       "13fc7      2021-12-02 17:17:55     2\n",
       "2b17f      2021-11-28 01:34:47     2\n",
       "13fc7      2021-11-28 04:29:53     2\n",
       "           2021-11-28 04:28:36     2\n",
       "7b3a1      2022-06-07 11:16:20     2\n",
       "20813      2022-06-07 11:16:20     2\n",
       "44ca0      2022-06-07 10:37:51     2\n",
       "94737      2022-06-07 05:32:41     2\n",
       "7de99      2022-06-07 08:48:25     2\n",
       "44ca0      2022-06-07 11:16:20     2\n",
       "7de99      2022-06-07 10:41:45     2\n",
       "13fc7      2021-12-02 19:52:20     2\n",
       "Name: timestamp, dtype: int64"
      ]
     },
     "execution_count": 37,
     "metadata": {},
     "output_type": "execute_result"
    }
   ],
   "source": [
    "sorted_grouped_traders_df.head(50)"
   ]
  },
  {
   "cell_type": "markdown",
   "id": "6b4ababb",
   "metadata": {},
   "source": [
    "# Observation: Multiple Trades Per Second\n",
    "\n",
    "I'm not able to confirm yet, but it appears there are numerous situations where multiple trades were made per second, probably at the millisecond level."
   ]
  },
  {
   "cell_type": "code",
   "execution_count": 67,
   "id": "ec5a5db1",
   "metadata": {},
   "outputs": [],
   "source": [
    "import plotly.express as px"
   ]
  },
  {
   "cell_type": "code",
   "execution_count": 75,
   "id": "7054aa51",
   "metadata": {},
   "outputs": [
    {
     "data": {
      "application/vnd.plotly.v1+json": {
       "config": {
        "plotlyServerURL": "https://plot.ly"
       },
       "data": [
        {
         "alignmentgroup": "True",
         "hovertemplate": "trader=0xb2e2b1f036f31a9a97d3fc377a47581c813123aa<br>baseToken=%{x}<br>timestamp=%{y}<extra></extra>",
         "legendgroup": "0xb2e2b1f036f31a9a97d3fc377a47581c813123aa",
         "marker": {
          "color": "#636efa",
          "pattern": {
           "shape": ""
          }
         },
         "name": "0xb2e2b1f036f31a9a97d3fc377a47581c813123aa",
         "offsetgroup": "0xb2e2b1f036f31a9a97d3fc377a47581c813123aa",
         "orientation": "v",
         "showlegend": true,
         "textposition": "auto",
         "type": "bar",
         "x": [
          "0x333b1ea429a88d0dd48ce7c06c16609cd76f43a8",
          "0x333b1ea429a88d0dd48ce7c06c16609cd76f43a8",
          "0x333b1ea429a88d0dd48ce7c06c16609cd76f43a8",
          "0x333b1ea429a88d0dd48ce7c06c16609cd76f43a8",
          "0x333b1ea429a88d0dd48ce7c06c16609cd76f43a8",
          "0x333b1ea429a88d0dd48ce7c06c16609cd76f43a8",
          "0x333b1ea429a88d0dd48ce7c06c16609cd76f43a8"
         ],
         "xaxis": "x",
         "y": [
          1654598716,
          1654616380,
          1654618535,
          1654616380,
          1654616301,
          1654598345,
          1654598761
         ],
         "yaxis": "y"
        },
        {
         "alignmentgroup": "True",
         "hovertemplate": "trader=0x2ad4be1184d181065d97e38d6c421f0653231f00<br>baseToken=%{x}<br>timestamp=%{y}<extra></extra>",
         "legendgroup": "0x2ad4be1184d181065d97e38d6c421f0653231f00",
         "marker": {
          "color": "#EF553B",
          "pattern": {
           "shape": ""
          }
         },
         "name": "0x2ad4be1184d181065d97e38d6c421f0653231f00",
         "offsetgroup": "0x2ad4be1184d181065d97e38d6c421f0653231f00",
         "orientation": "v",
         "showlegend": true,
         "textposition": "auto",
         "type": "bar",
         "x": [
          "0x9d34f1d15c22e4c0924804e2a38cbe93dfb84bc2",
          "0x9d34f1d15c22e4c0924804e2a38cbe93dfb84bc2",
          "0x9d34f1d15c22e4c0924804e2a38cbe93dfb84bc2",
          "0x9d34f1d15c22e4c0924804e2a38cbe93dfb84bc2"
         ],
         "xaxis": "x",
         "y": [
          1654615795,
          1654609594,
          1654609547,
          1654609454
         ],
         "yaxis": "y"
        },
        {
         "alignmentgroup": "True",
         "hovertemplate": "trader=0xe95078ed15141f190f220062b06ba8c5751db6a5<br>baseToken=%{x}<br>timestamp=%{y}<extra></extra>",
         "legendgroup": "0xe95078ed15141f190f220062b06ba8c5751db6a5",
         "marker": {
          "color": "#00cc96",
          "pattern": {
           "shape": ""
          }
         },
         "name": "0xe95078ed15141f190f220062b06ba8c5751db6a5",
         "offsetgroup": "0xe95078ed15141f190f220062b06ba8c5751db6a5",
         "orientation": "v",
         "showlegend": true,
         "textposition": "auto",
         "type": "bar",
         "x": [
          "0x2db8d2db86ca3a4c7040e778244451776570359b",
          "0x151bb01c79f4516c233948d69dae39869bccb737",
          "0x151bb01c79f4516c233948d69dae39869bccb737",
          "0x2db8d2db86ca3a4c7040e778244451776570359b",
          "0x151bb01c79f4516c233948d69dae39869bccb737",
          "0x9d34f1d15c22e4c0924804e2a38cbe93dfb84bc2",
          "0x151bb01c79f4516c233948d69dae39869bccb737",
          "0x2f198182ec54469195a4a06262a9431a42462373",
          "0x9d34f1d15c22e4c0924804e2a38cbe93dfb84bc2",
          "0x9d34f1d15c22e4c0924804e2a38cbe93dfb84bc2",
          "0x9d34f1d15c22e4c0924804e2a38cbe93dfb84bc2"
         ],
         "xaxis": "x",
         "y": [
          1654609805,
          1654609564,
          1654609626,
          1654609611,
          1654609705,
          1654618520,
          1654615746,
          1654616271,
          1654609454,
          1654609547,
          1654609594
         ],
         "yaxis": "y"
        },
        {
         "alignmentgroup": "True",
         "hovertemplate": "trader=0x9c1e0c67aa30c063f341885b12cb81cc94613fc7<br>baseToken=%{x}<br>timestamp=%{y}<extra></extra>",
         "legendgroup": "0x9c1e0c67aa30c063f341885b12cb81cc94613fc7",
         "marker": {
          "color": "#ab63fa",
          "pattern": {
           "shape": ""
          }
         },
         "name": "0x9c1e0c67aa30c063f341885b12cb81cc94613fc7",
         "offsetgroup": "0x9c1e0c67aa30c063f341885b12cb81cc94613fc7",
         "orientation": "v",
         "showlegend": true,
         "textposition": "auto",
         "type": "bar",
         "x": [
          "0x8c835dfaa34e2ae61775e80ee29e2c724c6ae2bb",
          "0x8c835dfaa34e2ae61775e80ee29e2c724c6ae2bb",
          "0x8c835dfaa34e2ae61775e80ee29e2c724c6ae2bb",
          "0x8c835dfaa34e2ae61775e80ee29e2c724c6ae2bb",
          "0x8c835dfaa34e2ae61775e80ee29e2c724c6ae2bb",
          "0x8c835dfaa34e2ae61775e80ee29e2c724c6ae2bb",
          "0x8c835dfaa34e2ae61775e80ee29e2c724c6ae2bb",
          "0x8c835dfaa34e2ae61775e80ee29e2c724c6ae2bb",
          "0x8c835dfaa34e2ae61775e80ee29e2c724c6ae2bb",
          "0x8c835dfaa34e2ae61775e80ee29e2c724c6ae2bb",
          "0x8c835dfaa34e2ae61775e80ee29e2c724c6ae2bb",
          "0x8c835dfaa34e2ae61775e80ee29e2c724c6ae2bb",
          "0x8c835dfaa34e2ae61775e80ee29e2c724c6ae2bb",
          "0x8c835dfaa34e2ae61775e80ee29e2c724c6ae2bb",
          "0x8c835dfaa34e2ae61775e80ee29e2c724c6ae2bb",
          "0x8c835dfaa34e2ae61775e80ee29e2c724c6ae2bb",
          "0x8c835dfaa34e2ae61775e80ee29e2c724c6ae2bb",
          "0x8c835dfaa34e2ae61775e80ee29e2c724c6ae2bb",
          "0x8c835dfaa34e2ae61775e80ee29e2c724c6ae2bb",
          "0x8c835dfaa34e2ae61775e80ee29e2c724c6ae2bb",
          "0x8c835dfaa34e2ae61775e80ee29e2c724c6ae2bb",
          "0x8c835dfaa34e2ae61775e80ee29e2c724c6ae2bb",
          "0x8c835dfaa34e2ae61775e80ee29e2c724c6ae2bb",
          "0x8c835dfaa34e2ae61775e80ee29e2c724c6ae2bb",
          "0x8c835dfaa34e2ae61775e80ee29e2c724c6ae2bb",
          "0x8c835dfaa34e2ae61775e80ee29e2c724c6ae2bb",
          "0x8c835dfaa34e2ae61775e80ee29e2c724c6ae2bb",
          "0x8c835dfaa34e2ae61775e80ee29e2c724c6ae2bb",
          "0x8c835dfaa34e2ae61775e80ee29e2c724c6ae2bb",
          "0x8c835dfaa34e2ae61775e80ee29e2c724c6ae2bb",
          "0x8c835dfaa34e2ae61775e80ee29e2c724c6ae2bb",
          "0x8c835dfaa34e2ae61775e80ee29e2c724c6ae2bb",
          "0x8c835dfaa34e2ae61775e80ee29e2c724c6ae2bb",
          "0x8c835dfaa34e2ae61775e80ee29e2c724c6ae2bb",
          "0x8c835dfaa34e2ae61775e80ee29e2c724c6ae2bb",
          "0x8c835dfaa34e2ae61775e80ee29e2c724c6ae2bb",
          "0x8c835dfaa34e2ae61775e80ee29e2c724c6ae2bb",
          "0x8c835dfaa34e2ae61775e80ee29e2c724c6ae2bb",
          "0x8c835dfaa34e2ae61775e80ee29e2c724c6ae2bb",
          "0x8c835dfaa34e2ae61775e80ee29e2c724c6ae2bb",
          "0x8c835dfaa34e2ae61775e80ee29e2c724c6ae2bb",
          "0x8c835dfaa34e2ae61775e80ee29e2c724c6ae2bb",
          "0x8c835dfaa34e2ae61775e80ee29e2c724c6ae2bb",
          "0x8c835dfaa34e2ae61775e80ee29e2c724c6ae2bb",
          "0x8c835dfaa34e2ae61775e80ee29e2c724c6ae2bb",
          "0x86f1e0420c26a858fc203a3645dd1a36868f18e5",
          "0x86f1e0420c26a858fc203a3645dd1a36868f18e5",
          "0x86f1e0420c26a858fc203a3645dd1a36868f18e5",
          "0x86f1e0420c26a858fc203a3645dd1a36868f18e5",
          "0x86f1e0420c26a858fc203a3645dd1a36868f18e5",
          "0x86f1e0420c26a858fc203a3645dd1a36868f18e5",
          "0x86f1e0420c26a858fc203a3645dd1a36868f18e5",
          "0x86f1e0420c26a858fc203a3645dd1a36868f18e5",
          "0x86f1e0420c26a858fc203a3645dd1a36868f18e5",
          "0x86f1e0420c26a858fc203a3645dd1a36868f18e5",
          "0x86f1e0420c26a858fc203a3645dd1a36868f18e5",
          "0x86f1e0420c26a858fc203a3645dd1a36868f18e5",
          "0x86f1e0420c26a858fc203a3645dd1a36868f18e5",
          "0x86f1e0420c26a858fc203a3645dd1a36868f18e5",
          "0x86f1e0420c26a858fc203a3645dd1a36868f18e5",
          "0x86f1e0420c26a858fc203a3645dd1a36868f18e5",
          "0x86f1e0420c26a858fc203a3645dd1a36868f18e5",
          "0x86f1e0420c26a858fc203a3645dd1a36868f18e5",
          "0x86f1e0420c26a858fc203a3645dd1a36868f18e5",
          "0x86f1e0420c26a858fc203a3645dd1a36868f18e5",
          "0x86f1e0420c26a858fc203a3645dd1a36868f18e5",
          "0x86f1e0420c26a858fc203a3645dd1a36868f18e5",
          "0x86f1e0420c26a858fc203a3645dd1a36868f18e5",
          "0x86f1e0420c26a858fc203a3645dd1a36868f18e5",
          "0x86f1e0420c26a858fc203a3645dd1a36868f18e5",
          "0x86f1e0420c26a858fc203a3645dd1a36868f18e5",
          "0x86f1e0420c26a858fc203a3645dd1a36868f18e5",
          "0x86f1e0420c26a858fc203a3645dd1a36868f18e5",
          "0x86f1e0420c26a858fc203a3645dd1a36868f18e5",
          "0x8c835dfaa34e2ae61775e80ee29e2c724c6ae2bb",
          "0x86f1e0420c26a858fc203a3645dd1a36868f18e5",
          "0x86f1e0420c26a858fc203a3645dd1a36868f18e5",
          "0x86f1e0420c26a858fc203a3645dd1a36868f18e5",
          "0x86f1e0420c26a858fc203a3645dd1a36868f18e5",
          "0x86f1e0420c26a858fc203a3645dd1a36868f18e5",
          "0x86f1e0420c26a858fc203a3645dd1a36868f18e5",
          "0x86f1e0420c26a858fc203a3645dd1a36868f18e5",
          "0x86f1e0420c26a858fc203a3645dd1a36868f18e5",
          "0x86f1e0420c26a858fc203a3645dd1a36868f18e5",
          "0x86f1e0420c26a858fc203a3645dd1a36868f18e5",
          "0x86f1e0420c26a858fc203a3645dd1a36868f18e5",
          "0x86f1e0420c26a858fc203a3645dd1a36868f18e5",
          "0x86f1e0420c26a858fc203a3645dd1a36868f18e5",
          "0x86f1e0420c26a858fc203a3645dd1a36868f18e5",
          "0x86f1e0420c26a858fc203a3645dd1a36868f18e5",
          "0x86f1e0420c26a858fc203a3645dd1a36868f18e5",
          "0x86f1e0420c26a858fc203a3645dd1a36868f18e5",
          "0x86f1e0420c26a858fc203a3645dd1a36868f18e5",
          "0x86f1e0420c26a858fc203a3645dd1a36868f18e5",
          "0x86f1e0420c26a858fc203a3645dd1a36868f18e5",
          "0x86f1e0420c26a858fc203a3645dd1a36868f18e5",
          "0x86f1e0420c26a858fc203a3645dd1a36868f18e5",
          "0x86f1e0420c26a858fc203a3645dd1a36868f18e5",
          "0x86f1e0420c26a858fc203a3645dd1a36868f18e5",
          "0x86f1e0420c26a858fc203a3645dd1a36868f18e5",
          "0x86f1e0420c26a858fc203a3645dd1a36868f18e5",
          "0x86f1e0420c26a858fc203a3645dd1a36868f18e5",
          "0x86f1e0420c26a858fc203a3645dd1a36868f18e5",
          "0x86f1e0420c26a858fc203a3645dd1a36868f18e5",
          "0x86f1e0420c26a858fc203a3645dd1a36868f18e5",
          "0x86f1e0420c26a858fc203a3645dd1a36868f18e5",
          "0x86f1e0420c26a858fc203a3645dd1a36868f18e5",
          "0x86f1e0420c26a858fc203a3645dd1a36868f18e5",
          "0x8c835dfaa34e2ae61775e80ee29e2c724c6ae2bb",
          "0x86f1e0420c26a858fc203a3645dd1a36868f18e5",
          "0x86f1e0420c26a858fc203a3645dd1a36868f18e5",
          "0x86f1e0420c26a858fc203a3645dd1a36868f18e5",
          "0x8c835dfaa34e2ae61775e80ee29e2c724c6ae2bb",
          "0x86f1e0420c26a858fc203a3645dd1a36868f18e5",
          "0x86f1e0420c26a858fc203a3645dd1a36868f18e5",
          "0x86f1e0420c26a858fc203a3645dd1a36868f18e5",
          "0x86f1e0420c26a858fc203a3645dd1a36868f18e5",
          "0x8c835dfaa34e2ae61775e80ee29e2c724c6ae2bb",
          "0x86f1e0420c26a858fc203a3645dd1a36868f18e5",
          "0x8c835dfaa34e2ae61775e80ee29e2c724c6ae2bb",
          "0x8c835dfaa34e2ae61775e80ee29e2c724c6ae2bb",
          "0x8c835dfaa34e2ae61775e80ee29e2c724c6ae2bb",
          "0x8c835dfaa34e2ae61775e80ee29e2c724c6ae2bb",
          "0x8c835dfaa34e2ae61775e80ee29e2c724c6ae2bb",
          "0x8c835dfaa34e2ae61775e80ee29e2c724c6ae2bb",
          "0x8c835dfaa34e2ae61775e80ee29e2c724c6ae2bb",
          "0x8c835dfaa34e2ae61775e80ee29e2c724c6ae2bb",
          "0x86f1e0420c26a858fc203a3645dd1a36868f18e5",
          "0x86f1e0420c26a858fc203a3645dd1a36868f18e5",
          "0x8c835dfaa34e2ae61775e80ee29e2c724c6ae2bb",
          "0x86f1e0420c26a858fc203a3645dd1a36868f18e5",
          "0x86f1e0420c26a858fc203a3645dd1a36868f18e5",
          "0x86f1e0420c26a858fc203a3645dd1a36868f18e5",
          "0x8c835dfaa34e2ae61775e80ee29e2c724c6ae2bb",
          "0x86f1e0420c26a858fc203a3645dd1a36868f18e5",
          "0x86f1e0420c26a858fc203a3645dd1a36868f18e5",
          "0x86f1e0420c26a858fc203a3645dd1a36868f18e5",
          "0x8c835dfaa34e2ae61775e80ee29e2c724c6ae2bb",
          "0x86f1e0420c26a858fc203a3645dd1a36868f18e5",
          "0x8c835dfaa34e2ae61775e80ee29e2c724c6ae2bb",
          "0x86f1e0420c26a858fc203a3645dd1a36868f18e5",
          "0x86f1e0420c26a858fc203a3645dd1a36868f18e5",
          "0x86f1e0420c26a858fc203a3645dd1a36868f18e5",
          "0x8c835dfaa34e2ae61775e80ee29e2c724c6ae2bb",
          "0x86f1e0420c26a858fc203a3645dd1a36868f18e5",
          "0x86f1e0420c26a858fc203a3645dd1a36868f18e5",
          "0x86f1e0420c26a858fc203a3645dd1a36868f18e5",
          "0x86f1e0420c26a858fc203a3645dd1a36868f18e5",
          "0x86f1e0420c26a858fc203a3645dd1a36868f18e5",
          "0x8c835dfaa34e2ae61775e80ee29e2c724c6ae2bb",
          "0x86f1e0420c26a858fc203a3645dd1a36868f18e5",
          "0x86f1e0420c26a858fc203a3645dd1a36868f18e5",
          "0x86f1e0420c26a858fc203a3645dd1a36868f18e5",
          "0x8c835dfaa34e2ae61775e80ee29e2c724c6ae2bb",
          "0x86f1e0420c26a858fc203a3645dd1a36868f18e5",
          "0x86f1e0420c26a858fc203a3645dd1a36868f18e5",
          "0x8c835dfaa34e2ae61775e80ee29e2c724c6ae2bb",
          "0x86f1e0420c26a858fc203a3645dd1a36868f18e5",
          "0x86f1e0420c26a858fc203a3645dd1a36868f18e5",
          "0x8c835dfaa34e2ae61775e80ee29e2c724c6ae2bb",
          "0x86f1e0420c26a858fc203a3645dd1a36868f18e5",
          "0x86f1e0420c26a858fc203a3645dd1a36868f18e5",
          "0x8c835dfaa34e2ae61775e80ee29e2c724c6ae2bb",
          "0x86f1e0420c26a858fc203a3645dd1a36868f18e5",
          "0x86f1e0420c26a858fc203a3645dd1a36868f18e5",
          "0x8c835dfaa34e2ae61775e80ee29e2c724c6ae2bb",
          "0x8c835dfaa34e2ae61775e80ee29e2c724c6ae2bb",
          "0x86f1e0420c26a858fc203a3645dd1a36868f18e5",
          "0x8c835dfaa34e2ae61775e80ee29e2c724c6ae2bb",
          "0x8c835dfaa34e2ae61775e80ee29e2c724c6ae2bb",
          "0x8c835dfaa34e2ae61775e80ee29e2c724c6ae2bb",
          "0x86f1e0420c26a858fc203a3645dd1a36868f18e5",
          "0x8c835dfaa34e2ae61775e80ee29e2c724c6ae2bb",
          "0x86f1e0420c26a858fc203a3645dd1a36868f18e5",
          "0x8c835dfaa34e2ae61775e80ee29e2c724c6ae2bb",
          "0x86f1e0420c26a858fc203a3645dd1a36868f18e5",
          "0x8c835dfaa34e2ae61775e80ee29e2c724c6ae2bb",
          "0x8c835dfaa34e2ae61775e80ee29e2c724c6ae2bb",
          "0x86f1e0420c26a858fc203a3645dd1a36868f18e5",
          "0x8c835dfaa34e2ae61775e80ee29e2c724c6ae2bb",
          "0x86f1e0420c26a858fc203a3645dd1a36868f18e5",
          "0x8c835dfaa34e2ae61775e80ee29e2c724c6ae2bb",
          "0x8c835dfaa34e2ae61775e80ee29e2c724c6ae2bb",
          "0x86f1e0420c26a858fc203a3645dd1a36868f18e5",
          "0x8c835dfaa34e2ae61775e80ee29e2c724c6ae2bb",
          "0x8c835dfaa34e2ae61775e80ee29e2c724c6ae2bb",
          "0x86f1e0420c26a858fc203a3645dd1a36868f18e5",
          "0x8c835dfaa34e2ae61775e80ee29e2c724c6ae2bb",
          "0x8c835dfaa34e2ae61775e80ee29e2c724c6ae2bb",
          "0x8c835dfaa34e2ae61775e80ee29e2c724c6ae2bb",
          "0x86f1e0420c26a858fc203a3645dd1a36868f18e5",
          "0x8c835dfaa34e2ae61775e80ee29e2c724c6ae2bb",
          "0x86f1e0420c26a858fc203a3645dd1a36868f18e5",
          "0x8c835dfaa34e2ae61775e80ee29e2c724c6ae2bb",
          "0x8c835dfaa34e2ae61775e80ee29e2c724c6ae2bb",
          "0x86f1e0420c26a858fc203a3645dd1a36868f18e5",
          "0x8c835dfaa34e2ae61775e80ee29e2c724c6ae2bb",
          "0x8c835dfaa34e2ae61775e80ee29e2c724c6ae2bb",
          "0x86f1e0420c26a858fc203a3645dd1a36868f18e5",
          "0x8c835dfaa34e2ae61775e80ee29e2c724c6ae2bb",
          "0x86f1e0420c26a858fc203a3645dd1a36868f18e5",
          "0x8c835dfaa34e2ae61775e80ee29e2c724c6ae2bb",
          "0x86f1e0420c26a858fc203a3645dd1a36868f18e5",
          "0x8c835dfaa34e2ae61775e80ee29e2c724c6ae2bb",
          "0x86f1e0420c26a858fc203a3645dd1a36868f18e5",
          "0x8c835dfaa34e2ae61775e80ee29e2c724c6ae2bb",
          "0x8c835dfaa34e2ae61775e80ee29e2c724c6ae2bb",
          "0x8c835dfaa34e2ae61775e80ee29e2c724c6ae2bb",
          "0x8c835dfaa34e2ae61775e80ee29e2c724c6ae2bb",
          "0x8c835dfaa34e2ae61775e80ee29e2c724c6ae2bb",
          "0x8c835dfaa34e2ae61775e80ee29e2c724c6ae2bb",
          "0x8c835dfaa34e2ae61775e80ee29e2c724c6ae2bb",
          "0x8c835dfaa34e2ae61775e80ee29e2c724c6ae2bb",
          "0x8c835dfaa34e2ae61775e80ee29e2c724c6ae2bb",
          "0x8c835dfaa34e2ae61775e80ee29e2c724c6ae2bb",
          "0x8c835dfaa34e2ae61775e80ee29e2c724c6ae2bb",
          "0x8c835dfaa34e2ae61775e80ee29e2c724c6ae2bb",
          "0x8c835dfaa34e2ae61775e80ee29e2c724c6ae2bb",
          "0x8c835dfaa34e2ae61775e80ee29e2c724c6ae2bb",
          "0x8c835dfaa34e2ae61775e80ee29e2c724c6ae2bb",
          "0x8c835dfaa34e2ae61775e80ee29e2c724c6ae2bb",
          "0x8c835dfaa34e2ae61775e80ee29e2c724c6ae2bb",
          "0x8c835dfaa34e2ae61775e80ee29e2c724c6ae2bb",
          "0x8c835dfaa34e2ae61775e80ee29e2c724c6ae2bb",
          "0x8c835dfaa34e2ae61775e80ee29e2c724c6ae2bb",
          "0x8c835dfaa34e2ae61775e80ee29e2c724c6ae2bb",
          "0x8c835dfaa34e2ae61775e80ee29e2c724c6ae2bb",
          "0x8c835dfaa34e2ae61775e80ee29e2c724c6ae2bb",
          "0x8c835dfaa34e2ae61775e80ee29e2c724c6ae2bb",
          "0x8c835dfaa34e2ae61775e80ee29e2c724c6ae2bb",
          "0x8c835dfaa34e2ae61775e80ee29e2c724c6ae2bb",
          "0x86f1e0420c26a858fc203a3645dd1a36868f18e5",
          "0x8c835dfaa34e2ae61775e80ee29e2c724c6ae2bb",
          "0x8c835dfaa34e2ae61775e80ee29e2c724c6ae2bb",
          "0x8c835dfaa34e2ae61775e80ee29e2c724c6ae2bb",
          "0x8c835dfaa34e2ae61775e80ee29e2c724c6ae2bb",
          "0x8c835dfaa34e2ae61775e80ee29e2c724c6ae2bb",
          "0x8c835dfaa34e2ae61775e80ee29e2c724c6ae2bb",
          "0x8c835dfaa34e2ae61775e80ee29e2c724c6ae2bb",
          "0x8c835dfaa34e2ae61775e80ee29e2c724c6ae2bb",
          "0x8c835dfaa34e2ae61775e80ee29e2c724c6ae2bb",
          "0x8c835dfaa34e2ae61775e80ee29e2c724c6ae2bb",
          "0x8c835dfaa34e2ae61775e80ee29e2c724c6ae2bb",
          "0x8c835dfaa34e2ae61775e80ee29e2c724c6ae2bb",
          "0x8c835dfaa34e2ae61775e80ee29e2c724c6ae2bb"
         ],
         "xaxis": "x",
         "y": [
          1638003992,
          1638003992,
          1638003992,
          1638006797,
          1638001497,
          1638007815,
          1638007815,
          1638007815,
          1638001245,
          1638007815,
          1638007815,
          1638007815,
          1638001245,
          1638007967,
          1638007967,
          1638007967,
          1638001245,
          1638007967,
          1638007967,
          1638001245,
          1638001245,
          1638001245,
          1638001245,
          1638001140,
          1638001140,
          1638001140,
          1638004141,
          1638004141,
          1638004141,
          1638004141,
          1638006797,
          1638004141,
          1638004141,
          1638004141,
          1638006797,
          1638004141,
          1638004141,
          1638004141,
          1638006797,
          1638004141,
          1638003992,
          1638003992,
          1638003992,
          1638006797,
          1638001140,
          1638004521,
          1638004359,
          1638004359,
          1638005943,
          1638004340,
          1638004340,
          1638004325,
          1638005943,
          1638004141,
          1638004141,
          1638004141,
          1638004141,
          1638006355,
          1638004141,
          1638004141,
          1638006797,
          1638004141,
          1638004141,
          1638095672,
          1638004141,
          1638095672,
          1638004141,
          1638006797,
          1638095672,
          1638004141,
          1638004141,
          1638095672,
          1638004141,
          1638095672,
          1638001140,
          1638006797,
          1638004141,
          1638095672,
          1638004141,
          1638095672,
          1638004141,
          1638095672,
          1638006797,
          1638095672,
          1638001497,
          1638086413,
          1638095672,
          1638086413,
          1638086413,
          1638006797,
          1638095672,
          1638001245,
          1638087619,
          1638095672,
          1638085063,
          1638095672,
          1638085063,
          1638095672,
          1638006797,
          1638084887,
          1638095595,
          1638001245,
          1638087619,
          1638084887,
          1638095595,
          1638095595,
          1638001245,
          1638090514,
          1638095672,
          1638001245,
          1638001245,
          1638001140,
          1638095672,
          1638001140,
          1638001140,
          1638001140,
          1638001140,
          1638095672,
          1638001140,
          1638092191,
          1638092201,
          1638090514,
          1638092329,
          1638092358,
          1638092358,
          1638090264,
          1638092358,
          1638496934,
          1638492489,
          1638092358,
          1638493137,
          1638496934,
          1638492445,
          1638092358,
          1638492445,
          1638493288,
          1638496934,
          1638092358,
          1638493288,
          1638090264,
          1638492382,
          1638496340,
          1638492160,
          1638092470,
          1638496340,
          1638493288,
          1638496165,
          1638492160,
          1638493288,
          1638092927,
          1638491906,
          1638493288,
          1638495832,
          1638094776,
          1638491906,
          1638493555,
          1638089975,
          1638495678,
          1638491906,
          1638095110,
          1638491716,
          1638493555,
          1638095110,
          1638491716,
          1638491604,
          1638095110,
          1638085063,
          1638491256,
          1638087601,
          1638085063,
          1638095202,
          1638491256,
          1638095202,
          1638491256,
          1638085063,
          1638491155,
          1638085063,
          1638095202,
          1638491045,
          1638087488,
          1638491045,
          1638095202,
          1638085063,
          1638490701,
          1638095202,
          1638086413,
          1638488556,
          1638086413,
          1638095202,
          1638086413,
          1638488390,
          1638095316,
          1638488390,
          1638095316,
          1638095393,
          1638487075,
          1638095393,
          1638095398,
          1638487075,
          1638095398,
          1638486983,
          1638095595,
          1638486649,
          1638095595,
          1638486549,
          1638095595,
          1638488390,
          1638490701,
          1638488390,
          1638490701,
          1638490701,
          1638491045,
          1638488390,
          1638491155,
          1638495123,
          1638488327,
          1638491256,
          1638491256,
          1638488261,
          1638488261,
          1638482453,
          1638488261,
          1638484004,
          1638482453,
          1638484306,
          1638488103,
          1638484306,
          1638484306,
          1638484306,
          1638095595,
          1638095595,
          1638484716,
          1638095595,
          1638095672,
          1638095672,
          1638090695,
          1638092099,
          1638095672,
          1638095672,
          1638095672,
          1638095672,
          1638095672,
          1638095672,
          1638095672,
          1638095672
         ],
         "yaxis": "y"
        },
        {
         "alignmentgroup": "True",
         "hovertemplate": "trader=0xb11c2b8fbf1d74e3389372f0592fbfa5a6a0927e<br>baseToken=%{x}<br>timestamp=%{y}<extra></extra>",
         "legendgroup": "0xb11c2b8fbf1d74e3389372f0592fbfa5a6a0927e",
         "marker": {
          "color": "#FFA15A",
          "pattern": {
           "shape": ""
          }
         },
         "name": "0xb11c2b8fbf1d74e3389372f0592fbfa5a6a0927e",
         "offsetgroup": "0xb11c2b8fbf1d74e3389372f0592fbfa5a6a0927e",
         "orientation": "v",
         "showlegend": true,
         "textposition": "auto",
         "type": "bar",
         "x": [
          "0x151bb01c79f4516c233948d69dae39869bccb737",
          "0x151bb01c79f4516c233948d69dae39869bccb737",
          "0x151bb01c79f4516c233948d69dae39869bccb737",
          "0x151bb01c79f4516c233948d69dae39869bccb737",
          "0x151bb01c79f4516c233948d69dae39869bccb737",
          "0x151bb01c79f4516c233948d69dae39869bccb737",
          "0x151bb01c79f4516c233948d69dae39869bccb737",
          "0x151bb01c79f4516c233948d69dae39869bccb737",
          "0x151bb01c79f4516c233948d69dae39869bccb737",
          "0x151bb01c79f4516c233948d69dae39869bccb737",
          "0x151bb01c79f4516c233948d69dae39869bccb737",
          "0x151bb01c79f4516c233948d69dae39869bccb737",
          "0x151bb01c79f4516c233948d69dae39869bccb737",
          "0x151bb01c79f4516c233948d69dae39869bccb737",
          "0x151bb01c79f4516c233948d69dae39869bccb737",
          "0x151bb01c79f4516c233948d69dae39869bccb737",
          "0x151bb01c79f4516c233948d69dae39869bccb737"
         ],
         "xaxis": "x",
         "y": [
          1654609705,
          1654615985,
          1654609880,
          1654615985,
          1654609865,
          1654616271,
          1654609850,
          1654609835,
          1654616286,
          1654609835,
          1654616301,
          1654609805,
          1654609564,
          1654616301,
          1654618503,
          1654618535,
          1654618550
         ],
         "yaxis": "y"
        },
        {
         "alignmentgroup": "True",
         "hovertemplate": "trader=0x0136e94a86328c4a4108e51cf078b54314b6fbb0<br>baseToken=%{x}<br>timestamp=%{y}<extra></extra>",
         "legendgroup": "0x0136e94a86328c4a4108e51cf078b54314b6fbb0",
         "marker": {
          "color": "#19d3f3",
          "pattern": {
           "shape": ""
          }
         },
         "name": "0x0136e94a86328c4a4108e51cf078b54314b6fbb0",
         "offsetgroup": "0x0136e94a86328c4a4108e51cf078b54314b6fbb0",
         "orientation": "v",
         "showlegend": true,
         "textposition": "auto",
         "type": "bar",
         "x": [
          "0xb6599bd362120dc70d48409b8a08888807050700",
          "0xb6599bd362120dc70d48409b8a08888807050700"
         ],
         "xaxis": "x",
         "y": [
          1654609880,
          1654609579
         ],
         "yaxis": "y"
        },
        {
         "alignmentgroup": "True",
         "hovertemplate": "trader=0xc57019e77aba3774309fc1715dec5dd59e413c0d<br>baseToken=%{x}<br>timestamp=%{y}<extra></extra>",
         "legendgroup": "0xc57019e77aba3774309fc1715dec5dd59e413c0d",
         "marker": {
          "color": "#FF6692",
          "pattern": {
           "shape": ""
          }
         },
         "name": "0xc57019e77aba3774309fc1715dec5dd59e413c0d",
         "offsetgroup": "0xc57019e77aba3774309fc1715dec5dd59e413c0d",
         "orientation": "v",
         "showlegend": true,
         "textposition": "auto",
         "type": "bar",
         "x": [
          "0x77d0cc9568605bfff32f918c8ffaa53f72901416",
          "0x77d0cc9568605bfff32f918c8ffaa53f72901416",
          "0x77d0cc9568605bfff32f918c8ffaa53f72901416",
          "0x77d0cc9568605bfff32f918c8ffaa53f72901416"
         ],
         "xaxis": "x",
         "y": [
          1654609547,
          1654618580,
          1654618520,
          1654615746
         ],
         "yaxis": "y"
        },
        {
         "alignmentgroup": "True",
         "hovertemplate": "trader=0x4b4f526b450c75f3cb0e9aa0a0b5480e4b0c478a<br>baseToken=%{x}<br>timestamp=%{y}<extra></extra>",
         "legendgroup": "0x4b4f526b450c75f3cb0e9aa0a0b5480e4b0c478a",
         "marker": {
          "color": "#B6E880",
          "pattern": {
           "shape": ""
          }
         },
         "name": "0x4b4f526b450c75f3cb0e9aa0a0b5480e4b0c478a",
         "offsetgroup": "0x4b4f526b450c75f3cb0e9aa0a0b5480e4b0c478a",
         "orientation": "v",
         "showlegend": true,
         "textposition": "auto",
         "type": "bar",
         "x": [
          "0x151bb01c79f4516c233948d69dae39869bccb737",
          "0x151bb01c79f4516c233948d69dae39869bccb737",
          "0x151bb01c79f4516c233948d69dae39869bccb737",
          "0x151bb01c79f4516c233948d69dae39869bccb737",
          "0x151bb01c79f4516c233948d69dae39869bccb737",
          "0x151bb01c79f4516c233948d69dae39869bccb737",
          "0x151bb01c79f4516c233948d69dae39869bccb737"
         ],
         "xaxis": "x",
         "y": [
          1654616301,
          1654609880,
          1654609880,
          1654609865,
          1654609705,
          1654615746,
          1654618503
         ],
         "yaxis": "y"
        },
        {
         "alignmentgroup": "True",
         "hovertemplate": "trader=0x42105fbc01ac7af7b86dda6999f57c4edcde2f9d<br>baseToken=%{x}<br>timestamp=%{y}<extra></extra>",
         "legendgroup": "0x42105fbc01ac7af7b86dda6999f57c4edcde2f9d",
         "marker": {
          "color": "#FF97FF",
          "pattern": {
           "shape": ""
          }
         },
         "name": "0x42105fbc01ac7af7b86dda6999f57c4edcde2f9d",
         "offsetgroup": "0x42105fbc01ac7af7b86dda6999f57c4edcde2f9d",
         "orientation": "v",
         "showlegend": true,
         "textposition": "auto",
         "type": "bar",
         "x": [
          "0x7eada83e15acd08d22ad85a1dce92e5a257acb92",
          "0x7eada83e15acd08d22ad85a1dce92e5a257acb92",
          "0x7eada83e15acd08d22ad85a1dce92e5a257acb92",
          "0x7eada83e15acd08d22ad85a1dce92e5a257acb92",
          "0x7eada83e15acd08d22ad85a1dce92e5a257acb92"
         ],
         "xaxis": "x",
         "y": [
          1654609880,
          1654609880,
          1654615746,
          1654615795,
          1654618580
         ],
         "yaxis": "y"
        },
        {
         "alignmentgroup": "True",
         "hovertemplate": "trader=0x2d511a6c196482b114aa4d3262b31da40c3584b0<br>baseToken=%{x}<br>timestamp=%{y}<extra></extra>",
         "legendgroup": "0x2d511a6c196482b114aa4d3262b31da40c3584b0",
         "marker": {
          "color": "#FECB52",
          "pattern": {
           "shape": ""
          }
         },
         "name": "0x2d511a6c196482b114aa4d3262b31da40c3584b0",
         "offsetgroup": "0x2d511a6c196482b114aa4d3262b31da40c3584b0",
         "orientation": "v",
         "showlegend": true,
         "textposition": "auto",
         "type": "bar",
         "x": [
          "0xbe5de48197fc974600929196239e264ecb703ee8",
          "0xbe5de48197fc974600929196239e264ecb703ee8",
          "0xbe5de48197fc974600929196239e264ecb703ee8",
          "0xbe5de48197fc974600929196239e264ecb703ee8",
          "0xbe5de48197fc974600929196239e264ecb703ee8",
          "0xbe5de48197fc974600929196239e264ecb703ee8"
         ],
         "xaxis": "x",
         "y": [
          1654609880,
          1654609865,
          1654609564,
          1654609547,
          1654609374,
          1654615746
         ],
         "yaxis": "y"
        },
        {
         "alignmentgroup": "True",
         "hovertemplate": "trader=0x906631082fd940e83412751b446e57109bae55ce<br>baseToken=%{x}<br>timestamp=%{y}<extra></extra>",
         "legendgroup": "0x906631082fd940e83412751b446e57109bae55ce",
         "marker": {
          "color": "#636efa",
          "pattern": {
           "shape": ""
          }
         },
         "name": "0x906631082fd940e83412751b446e57109bae55ce",
         "offsetgroup": "0x906631082fd940e83412751b446e57109bae55ce",
         "orientation": "v",
         "showlegend": true,
         "textposition": "auto",
         "type": "bar",
         "x": [
          "0x151bb01c79f4516c233948d69dae39869bccb737",
          "0x151bb01c79f4516c233948d69dae39869bccb737",
          "0x9d34f1d15c22e4c0924804e2a38cbe93dfb84bc2",
          "0xb6599bd362120dc70d48409b8a08888807050700"
         ],
         "xaxis": "x",
         "y": [
          1654609626,
          1654609880,
          1654609454,
          1654609579
         ],
         "yaxis": "y"
        },
        {
         "alignmentgroup": "True",
         "hovertemplate": "trader=0xa006f57697b6a64c4c552d6d6795f9964d6a905c<br>baseToken=%{x}<br>timestamp=%{y}<extra></extra>",
         "legendgroup": "0xa006f57697b6a64c4c552d6d6795f9964d6a905c",
         "marker": {
          "color": "#EF553B",
          "pattern": {
           "shape": ""
          }
         },
         "name": "0xa006f57697b6a64c4c552d6d6795f9964d6a905c",
         "offsetgroup": "0xa006f57697b6a64c4c552d6d6795f9964d6a905c",
         "orientation": "v",
         "showlegend": true,
         "textposition": "auto",
         "type": "bar",
         "x": [
          "0x2f198182ec54469195a4a06262a9431a42462373",
          "0x2f198182ec54469195a4a06262a9431a42462373",
          "0x2f198182ec54469195a4a06262a9431a42462373",
          "0x2f198182ec54469195a4a06262a9431a42462373"
         ],
         "xaxis": "x",
         "y": [
          1654609895,
          1654609547,
          1654615795,
          1654615746
         ],
         "yaxis": "y"
        },
        {
         "alignmentgroup": "True",
         "hovertemplate": "trader=0xc0a13a3850b7a01e068e18edb1918d091cb10e4a<br>baseToken=%{x}<br>timestamp=%{y}<extra></extra>",
         "legendgroup": "0xc0a13a3850b7a01e068e18edb1918d091cb10e4a",
         "marker": {
          "color": "#00cc96",
          "pattern": {
           "shape": ""
          }
         },
         "name": "0xc0a13a3850b7a01e068e18edb1918d091cb10e4a",
         "offsetgroup": "0xc0a13a3850b7a01e068e18edb1918d091cb10e4a",
         "orientation": "v",
         "showlegend": true,
         "textposition": "auto",
         "type": "bar",
         "x": [
          "0xb6599bd362120dc70d48409b8a08888807050700",
          "0xb6599bd362120dc70d48409b8a08888807050700",
          "0x2db8d2db86ca3a4c7040e778244451776570359b",
          "0x2db8d2db86ca3a4c7040e778244451776570359b",
          "0x2db8d2db86ca3a4c7040e778244451776570359b"
         ],
         "xaxis": "x",
         "y": [
          1654598237,
          1654598345,
          1654598746,
          1654598501,
          1654597871
         ],
         "yaxis": "y"
        },
        {
         "alignmentgroup": "True",
         "hovertemplate": "trader=0x7b1c7785363d0f1fb910f3258bdfa6ffd7052f99<br>baseToken=%{x}<br>timestamp=%{y}<extra></extra>",
         "legendgroup": "0x7b1c7785363d0f1fb910f3258bdfa6ffd7052f99",
         "marker": {
          "color": "#ab63fa",
          "pattern": {
           "shape": ""
          }
         },
         "name": "0x7b1c7785363d0f1fb910f3258bdfa6ffd7052f99",
         "offsetgroup": "0x7b1c7785363d0f1fb910f3258bdfa6ffd7052f99",
         "orientation": "v",
         "showlegend": true,
         "textposition": "auto",
         "type": "bar",
         "x": [
          "0x9d34f1d15c22e4c0924804e2a38cbe93dfb84bc2",
          "0x9482aafdced6b899626f465e1fa0cf1b1418d797",
          "0x9d34f1d15c22e4c0924804e2a38cbe93dfb84bc2"
         ],
         "xaxis": "x",
         "y": [
          1654609454,
          1654618580,
          1654618535
         ],
         "yaxis": "y"
        },
        {
         "alignmentgroup": "True",
         "hovertemplate": "trader=0xaeaba55e6f839946a94a8b651b44bd7ed66dc60b<br>baseToken=%{x}<br>timestamp=%{y}<extra></extra>",
         "legendgroup": "0xaeaba55e6f839946a94a8b651b44bd7ed66dc60b",
         "marker": {
          "color": "#FFA15A",
          "pattern": {
           "shape": ""
          }
         },
         "name": "0xaeaba55e6f839946a94a8b651b44bd7ed66dc60b",
         "offsetgroup": "0xaeaba55e6f839946a94a8b651b44bd7ed66dc60b",
         "orientation": "v",
         "showlegend": true,
         "textposition": "auto",
         "type": "bar",
         "x": [
          "0x7161c3416e08abaa5cd38e68d9a28e43a694e037",
          "0x7161c3416e08abaa5cd38e68d9a28e43a694e037",
          "0x7161c3416e08abaa5cd38e68d9a28e43a694e037",
          "0x7161c3416e08abaa5cd38e68d9a28e43a694e037"
         ],
         "xaxis": "x",
         "y": [
          1654609895,
          1654616064,
          1654615746,
          1654616126
         ],
         "yaxis": "y"
        },
        {
         "alignmentgroup": "True",
         "hovertemplate": "trader=0x010724e01c61bbb023baa39932551e388756d0db<br>baseToken=%{x}<br>timestamp=%{y}<extra></extra>",
         "legendgroup": "0x010724e01c61bbb023baa39932551e388756d0db",
         "marker": {
          "color": "#19d3f3",
          "pattern": {
           "shape": ""
          }
         },
         "name": "0x010724e01c61bbb023baa39932551e388756d0db",
         "offsetgroup": "0x010724e01c61bbb023baa39932551e388756d0db",
         "orientation": "v",
         "showlegend": true,
         "textposition": "auto",
         "type": "bar",
         "x": [
          "0x9482aafdced6b899626f465e1fa0cf1b1418d797",
          "0x9482aafdced6b899626f465e1fa0cf1b1418d797",
          "0x9482aafdced6b899626f465e1fa0cf1b1418d797",
          "0x9482aafdced6b899626f465e1fa0cf1b1418d797",
          "0x9482aafdced6b899626f465e1fa0cf1b1418d797",
          "0x9482aafdced6b899626f465e1fa0cf1b1418d797",
          "0x9482aafdced6b899626f465e1fa0cf1b1418d797",
          "0x9482aafdced6b899626f465e1fa0cf1b1418d797",
          "0x9482aafdced6b899626f465e1fa0cf1b1418d797",
          "0x9482aafdced6b899626f465e1fa0cf1b1418d797",
          "0x9482aafdced6b899626f465e1fa0cf1b1418d797",
          "0x9482aafdced6b899626f465e1fa0cf1b1418d797",
          "0x9482aafdced6b899626f465e1fa0cf1b1418d797",
          "0x9482aafdced6b899626f465e1fa0cf1b1418d797",
          "0x9482aafdced6b899626f465e1fa0cf1b1418d797",
          "0x9482aafdced6b899626f465e1fa0cf1b1418d797",
          "0x9482aafdced6b899626f465e1fa0cf1b1418d797",
          "0x9482aafdced6b899626f465e1fa0cf1b1418d797",
          "0x9482aafdced6b899626f465e1fa0cf1b1418d797",
          "0x9482aafdced6b899626f465e1fa0cf1b1418d797",
          "0x9482aafdced6b899626f465e1fa0cf1b1418d797",
          "0x9482aafdced6b899626f465e1fa0cf1b1418d797",
          "0x9482aafdced6b899626f465e1fa0cf1b1418d797",
          "0x9482aafdced6b899626f465e1fa0cf1b1418d797",
          "0x9482aafdced6b899626f465e1fa0cf1b1418d797",
          "0x9482aafdced6b899626f465e1fa0cf1b1418d797",
          "0x9482aafdced6b899626f465e1fa0cf1b1418d797",
          "0x9482aafdced6b899626f465e1fa0cf1b1418d797",
          "0x9482aafdced6b899626f465e1fa0cf1b1418d797",
          "0x9482aafdced6b899626f465e1fa0cf1b1418d797",
          "0x9482aafdced6b899626f465e1fa0cf1b1418d797",
          "0x9482aafdced6b899626f465e1fa0cf1b1418d797",
          "0x9482aafdced6b899626f465e1fa0cf1b1418d797",
          "0x9482aafdced6b899626f465e1fa0cf1b1418d797",
          "0x9482aafdced6b899626f465e1fa0cf1b1418d797",
          "0x9482aafdced6b899626f465e1fa0cf1b1418d797",
          "0x9482aafdced6b899626f465e1fa0cf1b1418d797",
          "0x9482aafdced6b899626f465e1fa0cf1b1418d797",
          "0x9482aafdced6b899626f465e1fa0cf1b1418d797"
         ],
         "xaxis": "x",
         "y": [
          1654598006,
          1654598161,
          1654598082,
          1654598406,
          1654598685,
          1654598654,
          1654598700,
          1654598700,
          1654598451,
          1654598731,
          1654598731,
          1654598421,
          1654598421,
          1654598761,
          1654598421,
          1654598406,
          1654598406,
          1654598390,
          1654598345,
          1654598006,
          1654598761,
          1654598390,
          1654598345,
          1654598406,
          1654598161,
          1654598731,
          1654598082,
          1654598051,
          1654598685,
          1654598421,
          1654598406,
          1654598700,
          1654598700,
          1654598501,
          1654598731,
          1654598421,
          1654598421,
          1654598406,
          1654598654
         ],
         "yaxis": "y"
        },
        {
         "alignmentgroup": "True",
         "hovertemplate": "trader=0xb4419b8687eb4007bebe565593c785651bf9a03a<br>baseToken=%{x}<br>timestamp=%{y}<extra></extra>",
         "legendgroup": "0xb4419b8687eb4007bebe565593c785651bf9a03a",
         "marker": {
          "color": "#FF6692",
          "pattern": {
           "shape": ""
          }
         },
         "name": "0xb4419b8687eb4007bebe565593c785651bf9a03a",
         "offsetgroup": "0xb4419b8687eb4007bebe565593c785651bf9a03a",
         "orientation": "v",
         "showlegend": true,
         "textposition": "auto",
         "type": "bar",
         "x": [
          "0x3fb3282e3ba34a0bff94845f1800eb93cc6850d4",
          "0x3fb3282e3ba34a0bff94845f1800eb93cc6850d4"
         ],
         "xaxis": "x",
         "y": [
          1654609880,
          1654618535
         ],
         "yaxis": "y"
        },
        {
         "alignmentgroup": "True",
         "hovertemplate": "trader=0x3c7c74a855b1eedd72c74c6cb3f2a55e7807575a<br>baseToken=%{x}<br>timestamp=%{y}<extra></extra>",
         "legendgroup": "0x3c7c74a855b1eedd72c74c6cb3f2a55e7807575a",
         "marker": {
          "color": "#B6E880",
          "pattern": {
           "shape": ""
          }
         },
         "name": "0x3c7c74a855b1eedd72c74c6cb3f2a55e7807575a",
         "offsetgroup": "0x3c7c74a855b1eedd72c74c6cb3f2a55e7807575a",
         "orientation": "v",
         "showlegend": true,
         "textposition": "auto",
         "type": "bar",
         "x": [
          "0x9482aafdced6b899626f465e1fa0cf1b1418d797",
          "0x9482aafdced6b899626f465e1fa0cf1b1418d797"
         ],
         "xaxis": "x",
         "y": [
          1654618580,
          1654598006
         ],
         "yaxis": "y"
        },
        {
         "alignmentgroup": "True",
         "hovertemplate": "trader=0x3ee92198ac312ee414e28ff8a8cd2e6732714164<br>baseToken=%{x}<br>timestamp=%{y}<extra></extra>",
         "legendgroup": "0x3ee92198ac312ee414e28ff8a8cd2e6732714164",
         "marker": {
          "color": "#FF97FF",
          "pattern": {
           "shape": ""
          }
         },
         "name": "0x3ee92198ac312ee414e28ff8a8cd2e6732714164",
         "offsetgroup": "0x3ee92198ac312ee414e28ff8a8cd2e6732714164",
         "orientation": "v",
         "showlegend": true,
         "textposition": "auto",
         "type": "bar",
         "x": [
          "0x3fb3282e3ba34a0bff94845f1800eb93cc6850d4"
         ],
         "xaxis": "x",
         "y": [
          1654609895
         ],
         "yaxis": "y"
        },
        {
         "alignmentgroup": "True",
         "hovertemplate": "trader=0xd8bcd1e2f0e96a3402fd678b0b2eaceb80e1c226<br>baseToken=%{x}<br>timestamp=%{y}<extra></extra>",
         "legendgroup": "0xd8bcd1e2f0e96a3402fd678b0b2eaceb80e1c226",
         "marker": {
          "color": "#FECB52",
          "pattern": {
           "shape": ""
          }
         },
         "name": "0xd8bcd1e2f0e96a3402fd678b0b2eaceb80e1c226",
         "offsetgroup": "0xd8bcd1e2f0e96a3402fd678b0b2eaceb80e1c226",
         "orientation": "v",
         "showlegend": true,
         "textposition": "auto",
         "type": "bar",
         "x": [
          "0x34235c8489b06482a99bb7fcab6d7c467b92d248",
          "0x34235c8489b06482a99bb7fcab6d7c467b92d248",
          "0x9d34f1d15c22e4c0924804e2a38cbe93dfb84bc2",
          "0xbe5de48197fc974600929196239e264ecb703ee8",
          "0xbe5de48197fc974600929196239e264ecb703ee8",
          "0xbe5de48197fc974600929196239e264ecb703ee8"
         ],
         "xaxis": "x",
         "y": [
          1654618535,
          1654618899,
          1654615875,
          1654609394,
          1654609579,
          1654609865
         ],
         "yaxis": "y"
        },
        {
         "alignmentgroup": "True",
         "hovertemplate": "trader=0xd636c25a4ef5ae9bacf6959b0f7af26780c9e123<br>baseToken=%{x}<br>timestamp=%{y}<extra></extra>",
         "legendgroup": "0xd636c25a4ef5ae9bacf6959b0f7af26780c9e123",
         "marker": {
          "color": "#636efa",
          "pattern": {
           "shape": ""
          }
         },
         "name": "0xd636c25a4ef5ae9bacf6959b0f7af26780c9e123",
         "offsetgroup": "0xd636c25a4ef5ae9bacf6959b0f7af26780c9e123",
         "orientation": "v",
         "showlegend": true,
         "textposition": "auto",
         "type": "bar",
         "x": [
          "0x151bb01c79f4516c233948d69dae39869bccb737"
         ],
         "xaxis": "x",
         "y": [
          1654618610
         ],
         "yaxis": "y"
        },
        {
         "alignmentgroup": "True",
         "hovertemplate": "trader=0x6584faf779b43aec9290a1943162d6ca5051ad6a<br>baseToken=%{x}<br>timestamp=%{y}<extra></extra>",
         "legendgroup": "0x6584faf779b43aec9290a1943162d6ca5051ad6a",
         "marker": {
          "color": "#EF553B",
          "pattern": {
           "shape": ""
          }
         },
         "name": "0x6584faf779b43aec9290a1943162d6ca5051ad6a",
         "offsetgroup": "0x6584faf779b43aec9290a1943162d6ca5051ad6a",
         "orientation": "v",
         "showlegend": true,
         "textposition": "auto",
         "type": "bar",
         "x": [
          "0x5faa136fc58b6136ffdaeaac320076c4865c070f",
          "0x5faa136fc58b6136ffdaeaac320076c4865c070f",
          "0x5faa136fc58b6136ffdaeaac320076c4865c070f",
          "0x5faa136fc58b6136ffdaeaac320076c4865c070f",
          "0x5faa136fc58b6136ffdaeaac320076c4865c070f"
         ],
         "xaxis": "x",
         "y": [
          1654597961,
          1654598268,
          1654598516,
          1654598284,
          1654598654
         ],
         "yaxis": "y"
        },
        {
         "alignmentgroup": "True",
         "hovertemplate": "trader=0x6541e4d0f50a82544401b1e0721626415a37de99<br>baseToken=%{x}<br>timestamp=%{y}<extra></extra>",
         "legendgroup": "0x6541e4d0f50a82544401b1e0721626415a37de99",
         "marker": {
          "color": "#00cc96",
          "pattern": {
           "shape": ""
          }
         },
         "name": "0x6541e4d0f50a82544401b1e0721626415a37de99",
         "offsetgroup": "0x6541e4d0f50a82544401b1e0721626415a37de99",
         "orientation": "v",
         "showlegend": true,
         "textposition": "auto",
         "type": "bar",
         "x": [
          "0x8c835dfaa34e2ae61775e80ee29e2c724c6ae2bb",
          "0x8c835dfaa34e2ae61775e80ee29e2c724c6ae2bb",
          "0x8c835dfaa34e2ae61775e80ee29e2c724c6ae2bb",
          "0x86f1e0420c26a858fc203a3645dd1a36868f18e5",
          "0x86f1e0420c26a858fc203a3645dd1a36868f18e5",
          "0x86f1e0420c26a858fc203a3645dd1a36868f18e5",
          "0x86f1e0420c26a858fc203a3645dd1a36868f18e5",
          "0xb6599bd362120dc70d48409b8a08888807050700",
          "0xb6599bd362120dc70d48409b8a08888807050700",
          "0x8c835dfaa34e2ae61775e80ee29e2c724c6ae2bb",
          "0x8c835dfaa34e2ae61775e80ee29e2c724c6ae2bb",
          "0xb6599bd362120dc70d48409b8a08888807050700",
          "0x86f1e0420c26a858fc203a3645dd1a36868f18e5",
          "0x86f1e0420c26a858fc203a3645dd1a36868f18e5",
          "0x86f1e0420c26a858fc203a3645dd1a36868f18e5",
          "0x8c835dfaa34e2ae61775e80ee29e2c724c6ae2bb"
         ],
         "xaxis": "x",
         "y": [
          1654609579,
          1654609705,
          1654609865,
          1654615795,
          1654615810,
          1654618580,
          1654615825,
          1654615746,
          1654616505,
          1654615746,
          1654616505,
          1654609564,
          1654598516,
          1654609865,
          1654609880,
          1654609705
         ],
         "yaxis": "y"
        },
        {
         "alignmentgroup": "True",
         "hovertemplate": "trader=0x8fb5c6f3c336033deeedbb54ad95e96453c9eaa4<br>baseToken=%{x}<br>timestamp=%{y}<extra></extra>",
         "legendgroup": "0x8fb5c6f3c336033deeedbb54ad95e96453c9eaa4",
         "marker": {
          "color": "#ab63fa",
          "pattern": {
           "shape": ""
          }
         },
         "name": "0x8fb5c6f3c336033deeedbb54ad95e96453c9eaa4",
         "offsetgroup": "0x8fb5c6f3c336033deeedbb54ad95e96453c9eaa4",
         "orientation": "v",
         "showlegend": true,
         "textposition": "auto",
         "type": "bar",
         "x": [
          "0x151bb01c79f4516c233948d69dae39869bccb737",
          "0x151bb01c79f4516c233948d69dae39869bccb737",
          "0x2db8d2db86ca3a4c7040e778244451776570359b"
         ],
         "xaxis": "x",
         "y": [
          1654609880,
          1654609564,
          1654609579
         ],
         "yaxis": "y"
        },
        {
         "alignmentgroup": "True",
         "hovertemplate": "trader=0xfd7b219f946087dd75fbf3630bc674f347dafeee<br>baseToken=%{x}<br>timestamp=%{y}<extra></extra>",
         "legendgroup": "0xfd7b219f946087dd75fbf3630bc674f347dafeee",
         "marker": {
          "color": "#FFA15A",
          "pattern": {
           "shape": ""
          }
         },
         "name": "0xfd7b219f946087dd75fbf3630bc674f347dafeee",
         "offsetgroup": "0xfd7b219f946087dd75fbf3630bc674f347dafeee",
         "orientation": "v",
         "showlegend": true,
         "textposition": "auto",
         "type": "bar",
         "x": [
          "0x7161c3416e08abaa5cd38e68d9a28e43a694e037",
          "0x7161c3416e08abaa5cd38e68d9a28e43a694e037",
          "0x7161c3416e08abaa5cd38e68d9a28e43a694e037",
          "0x8c835dfaa34e2ae61775e80ee29e2c724c6ae2bb"
         ],
         "xaxis": "x",
         "y": [
          1654609564,
          1654609611,
          1654609531,
          1654609880
         ],
         "yaxis": "y"
        },
        {
         "alignmentgroup": "True",
         "hovertemplate": "trader=0xfb5b0cc554b76530a1114e250d2cf631e3022497<br>baseToken=%{x}<br>timestamp=%{y}<extra></extra>",
         "legendgroup": "0xfb5b0cc554b76530a1114e250d2cf631e3022497",
         "marker": {
          "color": "#19d3f3",
          "pattern": {
           "shape": ""
          }
         },
         "name": "0xfb5b0cc554b76530a1114e250d2cf631e3022497",
         "offsetgroup": "0xfb5b0cc554b76530a1114e250d2cf631e3022497",
         "orientation": "v",
         "showlegend": true,
         "textposition": "auto",
         "type": "bar",
         "x": [
          "0x34235c8489b06482a99bb7fcab6d7c467b92d248",
          "0x34235c8489b06482a99bb7fcab6d7c467b92d248"
         ],
         "xaxis": "x",
         "y": [
          1654616286,
          1654616301
         ],
         "yaxis": "y"
        },
        {
         "alignmentgroup": "True",
         "hovertemplate": "trader=0xb19457e5a8b3c956cc023ff22d1509c91f1e028c<br>baseToken=%{x}<br>timestamp=%{y}<extra></extra>",
         "legendgroup": "0xb19457e5a8b3c956cc023ff22d1509c91f1e028c",
         "marker": {
          "color": "#FF6692",
          "pattern": {
           "shape": ""
          }
         },
         "name": "0xb19457e5a8b3c956cc023ff22d1509c91f1e028c",
         "offsetgroup": "0xb19457e5a8b3c956cc023ff22d1509c91f1e028c",
         "orientation": "v",
         "showlegend": true,
         "textposition": "auto",
         "type": "bar",
         "x": [
          "0x333b1ea429a88d0dd48ce7c06c16609cd76f43a8"
         ],
         "xaxis": "x",
         "y": [
          1654615746
         ],
         "yaxis": "y"
        },
        {
         "alignmentgroup": "True",
         "hovertemplate": "trader=0xd7de65b79d01a94f8e0acc2c82c5520cc31bc927<br>baseToken=%{x}<br>timestamp=%{y}<extra></extra>",
         "legendgroup": "0xd7de65b79d01a94f8e0acc2c82c5520cc31bc927",
         "marker": {
          "color": "#B6E880",
          "pattern": {
           "shape": ""
          }
         },
         "name": "0xd7de65b79d01a94f8e0acc2c82c5520cc31bc927",
         "offsetgroup": "0xd7de65b79d01a94f8e0acc2c82c5520cc31bc927",
         "orientation": "v",
         "showlegend": true,
         "textposition": "auto",
         "type": "bar",
         "x": [
          "0x34235c8489b06482a99bb7fcab6d7c467b92d248",
          "0x2f198182ec54469195a4a06262a9431a42462373",
          "0x2f198182ec54469195a4a06262a9431a42462373"
         ],
         "xaxis": "x",
         "y": [
          1654609865,
          1654609547,
          1654609705
         ],
         "yaxis": "y"
        },
        {
         "alignmentgroup": "True",
         "hovertemplate": "trader=0xdab8a2e0b213ec8447d4f7cdb783d53ed3428b7a<br>baseToken=%{x}<br>timestamp=%{y}<extra></extra>",
         "legendgroup": "0xdab8a2e0b213ec8447d4f7cdb783d53ed3428b7a",
         "marker": {
          "color": "#FF97FF",
          "pattern": {
           "shape": ""
          }
         },
         "name": "0xdab8a2e0b213ec8447d4f7cdb783d53ed3428b7a",
         "offsetgroup": "0xdab8a2e0b213ec8447d4f7cdb783d53ed3428b7a",
         "orientation": "v",
         "showlegend": true,
         "textposition": "auto",
         "type": "bar",
         "x": [
          "0x3fb3282e3ba34a0bff94845f1800eb93cc6850d4",
          "0x5f714b5347f0b5de9f9598e39840e176ce889b9c",
          "0x77d0cc9568605bfff32f918c8ffaa53f72901416",
          "0x5f714b5347f0b5de9f9598e39840e176ce889b9c",
          "0x5f714b5347f0b5de9f9598e39840e176ce889b9c"
         ],
         "xaxis": "x",
         "y": [
          1654609439,
          1654615825,
          1654609720,
          1654615746,
          1654615746
         ],
         "yaxis": "y"
        },
        {
         "alignmentgroup": "True",
         "hovertemplate": "trader=0xafc282446841cf1cb3f334f55cbdfd705eeb6252<br>baseToken=%{x}<br>timestamp=%{y}<extra></extra>",
         "legendgroup": "0xafc282446841cf1cb3f334f55cbdfd705eeb6252",
         "marker": {
          "color": "#FECB52",
          "pattern": {
           "shape": ""
          }
         },
         "name": "0xafc282446841cf1cb3f334f55cbdfd705eeb6252",
         "offsetgroup": "0xafc282446841cf1cb3f334f55cbdfd705eeb6252",
         "orientation": "v",
         "showlegend": true,
         "textposition": "auto",
         "type": "bar",
         "x": [
          "0x2db8d2db86ca3a4c7040e778244451776570359b",
          "0x2db8d2db86ca3a4c7040e778244451776570359b",
          "0x2db8d2db86ca3a4c7040e778244451776570359b"
         ],
         "xaxis": "x",
         "y": [
          1654609805,
          1654616301,
          1654618550
         ],
         "yaxis": "y"
        },
        {
         "alignmentgroup": "True",
         "hovertemplate": "trader=0x59681f406463b5488891cec240ff7efdc02a6490<br>baseToken=%{x}<br>timestamp=%{y}<extra></extra>",
         "legendgroup": "0x59681f406463b5488891cec240ff7efdc02a6490",
         "marker": {
          "color": "#636efa",
          "pattern": {
           "shape": ""
          }
         },
         "name": "0x59681f406463b5488891cec240ff7efdc02a6490",
         "offsetgroup": "0x59681f406463b5488891cec240ff7efdc02a6490",
         "orientation": "v",
         "showlegend": true,
         "textposition": "auto",
         "type": "bar",
         "x": [
          "0x9482aafdced6b899626f465e1fa0cf1b1418d797",
          "0x86f1e0420c26a858fc203a3645dd1a36868f18e5",
          "0x86f1e0420c26a858fc203a3645dd1a36868f18e5",
          "0x86f1e0420c26a858fc203a3645dd1a36868f18e5"
         ],
         "xaxis": "x",
         "y": [
          1654618853,
          1654618962,
          1654618595,
          1654618441
         ],
         "yaxis": "y"
        },
        {
         "alignmentgroup": "True",
         "hovertemplate": "trader=0xd94606128b20680539a719b07bca6cbc30786a28<br>baseToken=%{x}<br>timestamp=%{y}<extra></extra>",
         "legendgroup": "0xd94606128b20680539a719b07bca6cbc30786a28",
         "marker": {
          "color": "#EF553B",
          "pattern": {
           "shape": ""
          }
         },
         "name": "0xd94606128b20680539a719b07bca6cbc30786a28",
         "offsetgroup": "0xd94606128b20680539a719b07bca6cbc30786a28",
         "orientation": "v",
         "showlegend": true,
         "textposition": "auto",
         "type": "bar",
         "x": [
          "0x333b1ea429a88d0dd48ce7c06c16609cd76f43a8",
          "0x34235c8489b06482a99bb7fcab6d7c467b92d248",
          "0x9482aafdced6b899626f465e1fa0cf1b1418d797",
          "0x5f714b5347f0b5de9f9598e39840e176ce889b9c",
          "0x9482aafdced6b899626f465e1fa0cf1b1418d797",
          "0x333b1ea429a88d0dd48ce7c06c16609cd76f43a8",
          "0x9482aafdced6b899626f465e1fa0cf1b1418d797"
         ],
         "xaxis": "x",
         "y": [
          1654609564,
          1654609720,
          1654615795,
          1654616301,
          1654598161,
          1654616271,
          1654609865
         ],
         "yaxis": "y"
        },
        {
         "alignmentgroup": "True",
         "hovertemplate": "trader=0x3205dbab7b8d704ed05bc72234178d61058c10ca<br>baseToken=%{x}<br>timestamp=%{y}<extra></extra>",
         "legendgroup": "0x3205dbab7b8d704ed05bc72234178d61058c10ca",
         "marker": {
          "color": "#00cc96",
          "pattern": {
           "shape": ""
          }
         },
         "name": "0x3205dbab7b8d704ed05bc72234178d61058c10ca",
         "offsetgroup": "0x3205dbab7b8d704ed05bc72234178d61058c10ca",
         "orientation": "v",
         "showlegend": true,
         "textposition": "auto",
         "type": "bar",
         "x": [
          "0xbe5de48197fc974600929196239e264ecb703ee8",
          "0xb6599bd362120dc70d48409b8a08888807050700",
          "0x8c835dfaa34e2ae61775e80ee29e2c724c6ae2bb"
         ],
         "xaxis": "x",
         "y": [
          1654609564,
          1654616505,
          1654609880
         ],
         "yaxis": "y"
        },
        {
         "alignmentgroup": "True",
         "hovertemplate": "trader=0x197cb53e5694ede159a15032e567deac9c1514cb<br>baseToken=%{x}<br>timestamp=%{y}<extra></extra>",
         "legendgroup": "0x197cb53e5694ede159a15032e567deac9c1514cb",
         "marker": {
          "color": "#ab63fa",
          "pattern": {
           "shape": ""
          }
         },
         "name": "0x197cb53e5694ede159a15032e567deac9c1514cb",
         "offsetgroup": "0x197cb53e5694ede159a15032e567deac9c1514cb",
         "orientation": "v",
         "showlegend": true,
         "textposition": "auto",
         "type": "bar",
         "x": [
          "0x5f714b5347f0b5de9f9598e39840e176ce889b9c",
          "0x5f714b5347f0b5de9f9598e39840e176ce889b9c",
          "0x5f714b5347f0b5de9f9598e39840e176ce889b9c",
          "0x5f714b5347f0b5de9f9598e39840e176ce889b9c",
          "0x5f714b5347f0b5de9f9598e39840e176ce889b9c"
         ],
         "xaxis": "x",
         "y": [
          1654618550,
          1654609547,
          1654609611,
          1654609805,
          1654609880
         ],
         "yaxis": "y"
        },
        {
         "alignmentgroup": "True",
         "hovertemplate": "trader=0xafa407ffd9b63783b228b671c98b943150a4336a<br>baseToken=%{x}<br>timestamp=%{y}<extra></extra>",
         "legendgroup": "0xafa407ffd9b63783b228b671c98b943150a4336a",
         "marker": {
          "color": "#FFA15A",
          "pattern": {
           "shape": ""
          }
         },
         "name": "0xafa407ffd9b63783b228b671c98b943150a4336a",
         "offsetgroup": "0xafa407ffd9b63783b228b671c98b943150a4336a",
         "orientation": "v",
         "showlegend": true,
         "textposition": "auto",
         "type": "bar",
         "x": [
          "0x8c835dfaa34e2ae61775e80ee29e2c724c6ae2bb"
         ],
         "xaxis": "x",
         "y": [
          1638004430
         ],
         "yaxis": "y"
        },
        {
         "alignmentgroup": "True",
         "hovertemplate": "trader=0x35952141922ee99a04e016c967c3f0ad589ea958<br>baseToken=%{x}<br>timestamp=%{y}<extra></extra>",
         "legendgroup": "0x35952141922ee99a04e016c967c3f0ad589ea958",
         "marker": {
          "color": "#19d3f3",
          "pattern": {
           "shape": ""
          }
         },
         "name": "0x35952141922ee99a04e016c967c3f0ad589ea958",
         "offsetgroup": "0x35952141922ee99a04e016c967c3f0ad589ea958",
         "orientation": "v",
         "showlegend": true,
         "textposition": "auto",
         "type": "bar",
         "x": [
          "0x8c835dfaa34e2ae61775e80ee29e2c724c6ae2bb",
          "0x86f1e0420c26a858fc203a3645dd1a36868f18e5"
         ],
         "xaxis": "x",
         "y": [
          1638003992,
          1638003992
         ],
         "yaxis": "y"
        },
        {
         "alignmentgroup": "True",
         "hovertemplate": "trader=0x5de2b5b72a0b49f7d4490a1fef61afa8415971f5<br>baseToken=%{x}<br>timestamp=%{y}<extra></extra>",
         "legendgroup": "0x5de2b5b72a0b49f7d4490a1fef61afa8415971f5",
         "marker": {
          "color": "#FF6692",
          "pattern": {
           "shape": ""
          }
         },
         "name": "0x5de2b5b72a0b49f7d4490a1fef61afa8415971f5",
         "offsetgroup": "0x5de2b5b72a0b49f7d4490a1fef61afa8415971f5",
         "orientation": "v",
         "showlegend": true,
         "textposition": "auto",
         "type": "bar",
         "x": [
          "0x8c835dfaa34e2ae61775e80ee29e2c724c6ae2bb"
         ],
         "xaxis": "x",
         "y": [
          1654618947
         ],
         "yaxis": "y"
        },
        {
         "alignmentgroup": "True",
         "hovertemplate": "trader=0x856e45cce77685627dad82f0d1d63c8642152ec8<br>baseToken=%{x}<br>timestamp=%{y}<extra></extra>",
         "legendgroup": "0x856e45cce77685627dad82f0d1d63c8642152ec8",
         "marker": {
          "color": "#B6E880",
          "pattern": {
           "shape": ""
          }
         },
         "name": "0x856e45cce77685627dad82f0d1d63c8642152ec8",
         "offsetgroup": "0x856e45cce77685627dad82f0d1d63c8642152ec8",
         "orientation": "v",
         "showlegend": true,
         "textposition": "auto",
         "type": "bar",
         "x": [
          "0x8c835dfaa34e2ae61775e80ee29e2c724c6ae2bb"
         ],
         "xaxis": "x",
         "y": [
          1638492489
         ],
         "yaxis": "y"
        },
        {
         "alignmentgroup": "True",
         "hovertemplate": "trader=0xc9735c7e0015fc9719f28306f90e530420f9b4ef<br>baseToken=%{x}<br>timestamp=%{y}<extra></extra>",
         "legendgroup": "0xc9735c7e0015fc9719f28306f90e530420f9b4ef",
         "marker": {
          "color": "#FF97FF",
          "pattern": {
           "shape": ""
          }
         },
         "name": "0xc9735c7e0015fc9719f28306f90e530420f9b4ef",
         "offsetgroup": "0xc9735c7e0015fc9719f28306f90e530420f9b4ef",
         "orientation": "v",
         "showlegend": true,
         "textposition": "auto",
         "type": "bar",
         "x": [
          "0x8c835dfaa34e2ae61775e80ee29e2c724c6ae2bb"
         ],
         "xaxis": "x",
         "y": [
          1638003992
         ],
         "yaxis": "y"
        },
        {
         "alignmentgroup": "True",
         "hovertemplate": "trader=0xefc0d892656eeb59a0b54a6b4f2a0d2fad4b66c8<br>baseToken=%{x}<br>timestamp=%{y}<extra></extra>",
         "legendgroup": "0xefc0d892656eeb59a0b54a6b4f2a0d2fad4b66c8",
         "marker": {
          "color": "#FECB52",
          "pattern": {
           "shape": ""
          }
         },
         "name": "0xefc0d892656eeb59a0b54a6b4f2a0d2fad4b66c8",
         "offsetgroup": "0xefc0d892656eeb59a0b54a6b4f2a0d2fad4b66c8",
         "orientation": "v",
         "showlegend": true,
         "textposition": "auto",
         "type": "bar",
         "x": [
          "0x86f1e0420c26a858fc203a3645dd1a36868f18e5"
         ],
         "xaxis": "x",
         "y": [
          1638004141
         ],
         "yaxis": "y"
        },
        {
         "alignmentgroup": "True",
         "hovertemplate": "trader=0xd087966b4d2b1841c88b4d62b407d5ef1a465ac3<br>baseToken=%{x}<br>timestamp=%{y}<extra></extra>",
         "legendgroup": "0xd087966b4d2b1841c88b4d62b407d5ef1a465ac3",
         "marker": {
          "color": "#636efa",
          "pattern": {
           "shape": ""
          }
         },
         "name": "0xd087966b4d2b1841c88b4d62b407d5ef1a465ac3",
         "offsetgroup": "0xd087966b4d2b1841c88b4d62b407d5ef1a465ac3",
         "orientation": "v",
         "showlegend": true,
         "textposition": "auto",
         "type": "bar",
         "x": [
          "0x86f1e0420c26a858fc203a3645dd1a36868f18e5"
         ],
         "xaxis": "x",
         "y": [
          1638003538
         ],
         "yaxis": "y"
        },
        {
         "alignmentgroup": "True",
         "hovertemplate": "trader=0x02cc0130ffedf077a848606b7a3e018f7f7434af<br>baseToken=%{x}<br>timestamp=%{y}<extra></extra>",
         "legendgroup": "0x02cc0130ffedf077a848606b7a3e018f7f7434af",
         "marker": {
          "color": "#EF553B",
          "pattern": {
           "shape": ""
          }
         },
         "name": "0x02cc0130ffedf077a848606b7a3e018f7f7434af",
         "offsetgroup": "0x02cc0130ffedf077a848606b7a3e018f7f7434af",
         "orientation": "v",
         "showlegend": true,
         "textposition": "auto",
         "type": "bar",
         "x": [
          "0x86f1e0420c26a858fc203a3645dd1a36868f18e5",
          "0x8c835dfaa34e2ae61775e80ee29e2c724c6ae2bb"
         ],
         "xaxis": "x",
         "y": [
          1638005857,
          1638005882
         ],
         "yaxis": "y"
        },
        {
         "alignmentgroup": "True",
         "hovertemplate": "trader=0x4680cca73f815b583a201afef4b70451fb53b7af<br>baseToken=%{x}<br>timestamp=%{y}<extra></extra>",
         "legendgroup": "0x4680cca73f815b583a201afef4b70451fb53b7af",
         "marker": {
          "color": "#00cc96",
          "pattern": {
           "shape": ""
          }
         },
         "name": "0x4680cca73f815b583a201afef4b70451fb53b7af",
         "offsetgroup": "0x4680cca73f815b583a201afef4b70451fb53b7af",
         "orientation": "v",
         "showlegend": true,
         "textposition": "auto",
         "type": "bar",
         "x": [
          "0x86f1e0420c26a858fc203a3645dd1a36868f18e5",
          "0x86f1e0420c26a858fc203a3645dd1a36868f18e5"
         ],
         "xaxis": "x",
         "y": [
          1638091907,
          1638091570
         ],
         "yaxis": "y"
        },
        {
         "alignmentgroup": "True",
         "hovertemplate": "trader=0x5a8d6204dc5bf19cb712c0d2dc2b6eace897cc00<br>baseToken=%{x}<br>timestamp=%{y}<extra></extra>",
         "legendgroup": "0x5a8d6204dc5bf19cb712c0d2dc2b6eace897cc00",
         "marker": {
          "color": "#ab63fa",
          "pattern": {
           "shape": ""
          }
         },
         "name": "0x5a8d6204dc5bf19cb712c0d2dc2b6eace897cc00",
         "offsetgroup": "0x5a8d6204dc5bf19cb712c0d2dc2b6eace897cc00",
         "orientation": "v",
         "showlegend": true,
         "textposition": "auto",
         "type": "bar",
         "x": [
          "0x86f1e0420c26a858fc203a3645dd1a36868f18e5",
          "0x86f1e0420c26a858fc203a3645dd1a36868f18e5"
         ],
         "xaxis": "x",
         "y": [
          1654609895,
          1654598531
         ],
         "yaxis": "y"
        },
        {
         "alignmentgroup": "True",
         "hovertemplate": "trader=0xf2cd72adf27aea9808152a93dab9092e89163fb5<br>baseToken=%{x}<br>timestamp=%{y}<extra></extra>",
         "legendgroup": "0xf2cd72adf27aea9808152a93dab9092e89163fb5",
         "marker": {
          "color": "#FFA15A",
          "pattern": {
           "shape": ""
          }
         },
         "name": "0xf2cd72adf27aea9808152a93dab9092e89163fb5",
         "offsetgroup": "0xf2cd72adf27aea9808152a93dab9092e89163fb5",
         "orientation": "v",
         "showlegend": true,
         "textposition": "auto",
         "type": "bar",
         "x": [
          "0x86f1e0420c26a858fc203a3645dd1a36868f18e5"
         ],
         "xaxis": "x",
         "y": [
          1638492160
         ],
         "yaxis": "y"
        },
        {
         "alignmentgroup": "True",
         "hovertemplate": "trader=0x8b59a3b006541e4f52b44490cd52c1b722fe569b<br>baseToken=%{x}<br>timestamp=%{y}<extra></extra>",
         "legendgroup": "0x8b59a3b006541e4f52b44490cd52c1b722fe569b",
         "marker": {
          "color": "#19d3f3",
          "pattern": {
           "shape": ""
          }
         },
         "name": "0x8b59a3b006541e4f52b44490cd52c1b722fe569b",
         "offsetgroup": "0x8b59a3b006541e4f52b44490cd52c1b722fe569b",
         "orientation": "v",
         "showlegend": true,
         "textposition": "auto",
         "type": "bar",
         "x": [
          "0xb6599bd362120dc70d48409b8a08888807050700"
         ],
         "xaxis": "x",
         "y": [
          1654616000
         ],
         "yaxis": "y"
        },
        {
         "alignmentgroup": "True",
         "hovertemplate": "trader=0xebd29307345ee6aec943129d9bb44120554efaac<br>baseToken=%{x}<br>timestamp=%{y}<extra></extra>",
         "legendgroup": "0xebd29307345ee6aec943129d9bb44120554efaac",
         "marker": {
          "color": "#FF6692",
          "pattern": {
           "shape": ""
          }
         },
         "name": "0xebd29307345ee6aec943129d9bb44120554efaac",
         "offsetgroup": "0xebd29307345ee6aec943129d9bb44120554efaac",
         "orientation": "v",
         "showlegend": true,
         "textposition": "auto",
         "type": "bar",
         "x": [
          "0x86f1e0420c26a858fc203a3645dd1a36868f18e5",
          "0x86f1e0420c26a858fc203a3645dd1a36868f18e5",
          "0x86f1e0420c26a858fc203a3645dd1a36868f18e5",
          "0x86f1e0420c26a858fc203a3645dd1a36868f18e5",
          "0x86f1e0420c26a858fc203a3645dd1a36868f18e5",
          "0x86f1e0420c26a858fc203a3645dd1a36868f18e5",
          "0x86f1e0420c26a858fc203a3645dd1a36868f18e5",
          "0x86f1e0420c26a858fc203a3645dd1a36868f18e5",
          "0x86f1e0420c26a858fc203a3645dd1a36868f18e5",
          "0x86f1e0420c26a858fc203a3645dd1a36868f18e5",
          "0x86f1e0420c26a858fc203a3645dd1a36868f18e5",
          "0x86f1e0420c26a858fc203a3645dd1a36868f18e5",
          "0x86f1e0420c26a858fc203a3645dd1a36868f18e5",
          "0x86f1e0420c26a858fc203a3645dd1a36868f18e5",
          "0x86f1e0420c26a858fc203a3645dd1a36868f18e5",
          "0x86f1e0420c26a858fc203a3645dd1a36868f18e5",
          "0x86f1e0420c26a858fc203a3645dd1a36868f18e5",
          "0x86f1e0420c26a858fc203a3645dd1a36868f18e5",
          "0x86f1e0420c26a858fc203a3645dd1a36868f18e5",
          "0x86f1e0420c26a858fc203a3645dd1a36868f18e5",
          "0x86f1e0420c26a858fc203a3645dd1a36868f18e5"
         ],
         "xaxis": "x",
         "y": [
          1638493041,
          1638493686,
          1638493041,
          1638493686,
          1638493686,
          1638493686,
          1638493010,
          1638493686,
          1638493010,
          1638493010,
          1638493686,
          1638493010,
          1638493686,
          1638493010,
          1638493686,
          1638493010,
          1638493686,
          1638493010,
          1638493686,
          1638493686,
          1638493041
         ],
         "yaxis": "y"
        },
        {
         "alignmentgroup": "True",
         "hovertemplate": "trader=0x6cdb956a622b4e15a31f7f5d717b6b95e7105849<br>baseToken=%{x}<br>timestamp=%{y}<extra></extra>",
         "legendgroup": "0x6cdb956a622b4e15a31f7f5d717b6b95e7105849",
         "marker": {
          "color": "#B6E880",
          "pattern": {
           "shape": ""
          }
         },
         "name": "0x6cdb956a622b4e15a31f7f5d717b6b95e7105849",
         "offsetgroup": "0x6cdb956a622b4e15a31f7f5d717b6b95e7105849",
         "orientation": "v",
         "showlegend": true,
         "textposition": "auto",
         "type": "bar",
         "x": [
          "0xb6599bd362120dc70d48409b8a08888807050700",
          "0xb6599bd362120dc70d48409b8a08888807050700"
         ],
         "xaxis": "x",
         "y": [
          1654598654,
          1654598685
         ],
         "yaxis": "y"
        },
        {
         "alignmentgroup": "True",
         "hovertemplate": "trader=0x15d554b02f73bd186f80af1cf49b2c9987f99ca9<br>baseToken=%{x}<br>timestamp=%{y}<extra></extra>",
         "legendgroup": "0x15d554b02f73bd186f80af1cf49b2c9987f99ca9",
         "marker": {
          "color": "#FF97FF",
          "pattern": {
           "shape": ""
          }
         },
         "name": "0x15d554b02f73bd186f80af1cf49b2c9987f99ca9",
         "offsetgroup": "0x15d554b02f73bd186f80af1cf49b2c9987f99ca9",
         "orientation": "v",
         "showlegend": true,
         "textposition": "auto",
         "type": "bar",
         "x": [
          "0xb6599bd362120dc70d48409b8a08888807050700",
          "0xb6599bd362120dc70d48409b8a08888807050700"
         ],
         "xaxis": "x",
         "y": [
          1654598594,
          1654598609
         ],
         "yaxis": "y"
        },
        {
         "alignmentgroup": "True",
         "hovertemplate": "trader=0x6084a0f3d9edcba648ec6bbbe006cd24977e595a<br>baseToken=%{x}<br>timestamp=%{y}<extra></extra>",
         "legendgroup": "0x6084a0f3d9edcba648ec6bbbe006cd24977e595a",
         "marker": {
          "color": "#FECB52",
          "pattern": {
           "shape": ""
          }
         },
         "name": "0x6084a0f3d9edcba648ec6bbbe006cd24977e595a",
         "offsetgroup": "0x6084a0f3d9edcba648ec6bbbe006cd24977e595a",
         "orientation": "v",
         "showlegend": true,
         "textposition": "auto",
         "type": "bar",
         "x": [
          "0xb6599bd362120dc70d48409b8a08888807050700",
          "0xb6599bd362120dc70d48409b8a08888807050700"
         ],
         "xaxis": "x",
         "y": [
          1654598731,
          1654598761
         ],
         "yaxis": "y"
        },
        {
         "alignmentgroup": "True",
         "hovertemplate": "trader=0x14dadce71af9855bc995d0e35d6ba794f37a2814<br>baseToken=%{x}<br>timestamp=%{y}<extra></extra>",
         "legendgroup": "0x14dadce71af9855bc995d0e35d6ba794f37a2814",
         "marker": {
          "color": "#636efa",
          "pattern": {
           "shape": ""
          }
         },
         "name": "0x14dadce71af9855bc995d0e35d6ba794f37a2814",
         "offsetgroup": "0x14dadce71af9855bc995d0e35d6ba794f37a2814",
         "orientation": "v",
         "showlegend": true,
         "textposition": "auto",
         "type": "bar",
         "x": [
          "0x86f1e0420c26a858fc203a3645dd1a36868f18e5",
          "0x86f1e0420c26a858fc203a3645dd1a36868f18e5",
          "0x86f1e0420c26a858fc203a3645dd1a36868f18e5"
         ],
         "xaxis": "x",
         "y": [
          1654615985,
          1654615875,
          1654615825
         ],
         "yaxis": "y"
        },
        {
         "alignmentgroup": "True",
         "hovertemplate": "trader=0x18c32d617b4dbcc8f1f2d77842535f09ff56cb3e<br>baseToken=%{x}<br>timestamp=%{y}<extra></extra>",
         "legendgroup": "0x18c32d617b4dbcc8f1f2d77842535f09ff56cb3e",
         "marker": {
          "color": "#EF553B",
          "pattern": {
           "shape": ""
          }
         },
         "name": "0x18c32d617b4dbcc8f1f2d77842535f09ff56cb3e",
         "offsetgroup": "0x18c32d617b4dbcc8f1f2d77842535f09ff56cb3e",
         "orientation": "v",
         "showlegend": true,
         "textposition": "auto",
         "type": "bar",
         "x": [
          "0x8c835dfaa34e2ae61775e80ee29e2c724c6ae2bb"
         ],
         "xaxis": "x",
         "y": [
          1638486983
         ],
         "yaxis": "y"
        },
        {
         "alignmentgroup": "True",
         "hovertemplate": "trader=0xade502ee3b876c33127d4c182a32217d1cbd1063<br>baseToken=%{x}<br>timestamp=%{y}<extra></extra>",
         "legendgroup": "0xade502ee3b876c33127d4c182a32217d1cbd1063",
         "marker": {
          "color": "#00cc96",
          "pattern": {
           "shape": ""
          }
         },
         "name": "0xade502ee3b876c33127d4c182a32217d1cbd1063",
         "offsetgroup": "0xade502ee3b876c33127d4c182a32217d1cbd1063",
         "orientation": "v",
         "showlegend": true,
         "textposition": "auto",
         "type": "bar",
         "x": [
          "0x34235c8489b06482a99bb7fcab6d7c467b92d248"
         ],
         "xaxis": "x",
         "y": [
          1654609547
         ],
         "yaxis": "y"
        },
        {
         "alignmentgroup": "True",
         "hovertemplate": "trader=0xd0504f7c59e41499de6b5d87bc71ac8b26936d58<br>baseToken=%{x}<br>timestamp=%{y}<extra></extra>",
         "legendgroup": "0xd0504f7c59e41499de6b5d87bc71ac8b26936d58",
         "marker": {
          "color": "#ab63fa",
          "pattern": {
           "shape": ""
          }
         },
         "name": "0xd0504f7c59e41499de6b5d87bc71ac8b26936d58",
         "offsetgroup": "0xd0504f7c59e41499de6b5d87bc71ac8b26936d58",
         "orientation": "v",
         "showlegend": true,
         "textposition": "auto",
         "type": "bar",
         "x": [
          "0x34235c8489b06482a99bb7fcab6d7c467b92d248",
          "0x34235c8489b06482a99bb7fcab6d7c467b92d248"
         ],
         "xaxis": "x",
         "y": [
          1654597961,
          1654598299
         ],
         "yaxis": "y"
        },
        {
         "alignmentgroup": "True",
         "hovertemplate": "trader=0x1e28e5e6901c835a86e9652d9da88a23d623562c<br>baseToken=%{x}<br>timestamp=%{y}<extra></extra>",
         "legendgroup": "0x1e28e5e6901c835a86e9652d9da88a23d623562c",
         "marker": {
          "color": "#FFA15A",
          "pattern": {
           "shape": ""
          }
         },
         "name": "0x1e28e5e6901c835a86e9652d9da88a23d623562c",
         "offsetgroup": "0x1e28e5e6901c835a86e9652d9da88a23d623562c",
         "orientation": "v",
         "showlegend": true,
         "textposition": "auto",
         "type": "bar",
         "x": [
          "0x2db8d2db86ca3a4c7040e778244451776570359b"
         ],
         "xaxis": "x",
         "y": [
          1654618550
         ],
         "yaxis": "y"
        },
        {
         "alignmentgroup": "True",
         "hovertemplate": "trader=0x5f6b187132644be3cf08b4c0c4bd548ab941189d<br>baseToken=%{x}<br>timestamp=%{y}<extra></extra>",
         "legendgroup": "0x5f6b187132644be3cf08b4c0c4bd548ab941189d",
         "marker": {
          "color": "#19d3f3",
          "pattern": {
           "shape": ""
          }
         },
         "name": "0x5f6b187132644be3cf08b4c0c4bd548ab941189d",
         "offsetgroup": "0x5f6b187132644be3cf08b4c0c4bd548ab941189d",
         "orientation": "v",
         "showlegend": true,
         "textposition": "auto",
         "type": "bar",
         "x": [
          "0x8c835dfaa34e2ae61775e80ee29e2c724c6ae2bb",
          "0x8c835dfaa34e2ae61775e80ee29e2c724c6ae2bb"
         ],
         "xaxis": "x",
         "y": [
          1654615905,
          1654615875
         ],
         "yaxis": "y"
        },
        {
         "alignmentgroup": "True",
         "hovertemplate": "trader=0xeab7a90c520f230fe21a8a9124790f7f93c5b4ca<br>baseToken=%{x}<br>timestamp=%{y}<extra></extra>",
         "legendgroup": "0xeab7a90c520f230fe21a8a9124790f7f93c5b4ca",
         "marker": {
          "color": "#FF6692",
          "pattern": {
           "shape": ""
          }
         },
         "name": "0xeab7a90c520f230fe21a8a9124790f7f93c5b4ca",
         "offsetgroup": "0xeab7a90c520f230fe21a8a9124790f7f93c5b4ca",
         "orientation": "v",
         "showlegend": true,
         "textposition": "auto",
         "type": "bar",
         "x": [
          "0x2db8d2db86ca3a4c7040e778244451776570359b"
         ],
         "xaxis": "x",
         "y": [
          1654609753
         ],
         "yaxis": "y"
        },
        {
         "alignmentgroup": "True",
         "hovertemplate": "trader=0x052a0944e2cde30acda3b9f4f6c1f096c52ee501<br>baseToken=%{x}<br>timestamp=%{y}<extra></extra>",
         "legendgroup": "0x052a0944e2cde30acda3b9f4f6c1f096c52ee501",
         "marker": {
          "color": "#B6E880",
          "pattern": {
           "shape": ""
          }
         },
         "name": "0x052a0944e2cde30acda3b9f4f6c1f096c52ee501",
         "offsetgroup": "0x052a0944e2cde30acda3b9f4f6c1f096c52ee501",
         "orientation": "v",
         "showlegend": true,
         "textposition": "auto",
         "type": "bar",
         "x": [
          "0x2db8d2db86ca3a4c7040e778244451776570359b",
          "0x2db8d2db86ca3a4c7040e778244451776570359b"
         ],
         "xaxis": "x",
         "y": [
          1654598546,
          1654598654
         ],
         "yaxis": "y"
        },
        {
         "alignmentgroup": "True",
         "hovertemplate": "trader=0x1504c8a639d860857eb1588b1da3ace5580d607a<br>baseToken=%{x}<br>timestamp=%{y}<extra></extra>",
         "legendgroup": "0x1504c8a639d860857eb1588b1da3ace5580d607a",
         "marker": {
          "color": "#FF97FF",
          "pattern": {
           "shape": ""
          }
         },
         "name": "0x1504c8a639d860857eb1588b1da3ace5580d607a",
         "offsetgroup": "0x1504c8a639d860857eb1588b1da3ace5580d607a",
         "orientation": "v",
         "showlegend": true,
         "textposition": "auto",
         "type": "bar",
         "x": [
          "0x86f1e0420c26a858fc203a3645dd1a36868f18e5"
         ],
         "xaxis": "x",
         "y": [
          1654617968
         ],
         "yaxis": "y"
        },
        {
         "alignmentgroup": "True",
         "hovertemplate": "trader=0x45c56e138881fd3ff46359ba1826d5fc6fccaedc<br>baseToken=%{x}<br>timestamp=%{y}<extra></extra>",
         "legendgroup": "0x45c56e138881fd3ff46359ba1826d5fc6fccaedc",
         "marker": {
          "color": "#FECB52",
          "pattern": {
           "shape": ""
          }
         },
         "name": "0x45c56e138881fd3ff46359ba1826d5fc6fccaedc",
         "offsetgroup": "0x45c56e138881fd3ff46359ba1826d5fc6fccaedc",
         "orientation": "v",
         "showlegend": true,
         "textposition": "auto",
         "type": "bar",
         "x": [
          "0x8c835dfaa34e2ae61775e80ee29e2c724c6ae2bb"
         ],
         "xaxis": "x",
         "y": [
          1654617984
         ],
         "yaxis": "y"
        },
        {
         "alignmentgroup": "True",
         "hovertemplate": "trader=0xf34631ce55ce9773bfb7f0d3492bf4df3686d2cc<br>baseToken=%{x}<br>timestamp=%{y}<extra></extra>",
         "legendgroup": "0xf34631ce55ce9773bfb7f0d3492bf4df3686d2cc",
         "marker": {
          "color": "#636efa",
          "pattern": {
           "shape": ""
          }
         },
         "name": "0xf34631ce55ce9773bfb7f0d3492bf4df3686d2cc",
         "offsetgroup": "0xf34631ce55ce9773bfb7f0d3492bf4df3686d2cc",
         "orientation": "v",
         "showlegend": true,
         "textposition": "auto",
         "type": "bar",
         "x": [
          "0x2f198182ec54469195a4a06262a9431a42462373"
         ],
         "xaxis": "x",
         "y": [
          1654618426
         ],
         "yaxis": "y"
        },
        {
         "alignmentgroup": "True",
         "hovertemplate": "trader=0xa2600926786e9c2e1fa4b4a1118ddf0bfe1e7f91<br>baseToken=%{x}<br>timestamp=%{y}<extra></extra>",
         "legendgroup": "0xa2600926786e9c2e1fa4b4a1118ddf0bfe1e7f91",
         "marker": {
          "color": "#EF553B",
          "pattern": {
           "shape": ""
          }
         },
         "name": "0xa2600926786e9c2e1fa4b4a1118ddf0bfe1e7f91",
         "offsetgroup": "0xa2600926786e9c2e1fa4b4a1118ddf0bfe1e7f91",
         "orientation": "v",
         "showlegend": true,
         "textposition": "auto",
         "type": "bar",
         "x": [
          "0x86f1e0420c26a858fc203a3645dd1a36868f18e5",
          "0x8c835dfaa34e2ae61775e80ee29e2c724c6ae2bb"
         ],
         "xaxis": "x",
         "y": [
          1638497157,
          1638482840
         ],
         "yaxis": "y"
        },
        {
         "alignmentgroup": "True",
         "hovertemplate": "trader=0x0e6fa63a19b7eb76c0e59e044b3f26618bca37b4<br>baseToken=%{x}<br>timestamp=%{y}<extra></extra>",
         "legendgroup": "0x0e6fa63a19b7eb76c0e59e044b3f26618bca37b4",
         "marker": {
          "color": "#00cc96",
          "pattern": {
           "shape": ""
          }
         },
         "name": "0x0e6fa63a19b7eb76c0e59e044b3f26618bca37b4",
         "offsetgroup": "0x0e6fa63a19b7eb76c0e59e044b3f26618bca37b4",
         "orientation": "v",
         "showlegend": true,
         "textposition": "auto",
         "type": "bar",
         "x": [
          "0x8c835dfaa34e2ae61775e80ee29e2c724c6ae2bb"
         ],
         "xaxis": "x",
         "y": [
          1654618580
         ],
         "yaxis": "y"
        },
        {
         "alignmentgroup": "True",
         "hovertemplate": "trader=0xe2b1d48feaa4147420b451728b1e3d0546d4a160<br>baseToken=%{x}<br>timestamp=%{y}<extra></extra>",
         "legendgroup": "0xe2b1d48feaa4147420b451728b1e3d0546d4a160",
         "marker": {
          "color": "#ab63fa",
          "pattern": {
           "shape": ""
          }
         },
         "name": "0xe2b1d48feaa4147420b451728b1e3d0546d4a160",
         "offsetgroup": "0xe2b1d48feaa4147420b451728b1e3d0546d4a160",
         "orientation": "v",
         "showlegend": true,
         "textposition": "auto",
         "type": "bar",
         "x": [
          "0x151bb01c79f4516c233948d69dae39869bccb737"
         ],
         "xaxis": "x",
         "y": [
          1654609579
         ],
         "yaxis": "y"
        },
        {
         "alignmentgroup": "True",
         "hovertemplate": "trader=0x36209cad56c31332d575bed3e989c988c2ad8eee<br>baseToken=%{x}<br>timestamp=%{y}<extra></extra>",
         "legendgroup": "0x36209cad56c31332d575bed3e989c988c2ad8eee",
         "marker": {
          "color": "#FFA15A",
          "pattern": {
           "shape": ""
          }
         },
         "name": "0x36209cad56c31332d575bed3e989c988c2ad8eee",
         "offsetgroup": "0x36209cad56c31332d575bed3e989c988c2ad8eee",
         "orientation": "v",
         "showlegend": true,
         "textposition": "auto",
         "type": "bar",
         "x": [
          "0x86f1e0420c26a858fc203a3645dd1a36868f18e5",
          "0x8c835dfaa34e2ae61775e80ee29e2c724c6ae2bb",
          "0x8c835dfaa34e2ae61775e80ee29e2c724c6ae2bb",
          "0x8c835dfaa34e2ae61775e80ee29e2c724c6ae2bb",
          "0x8c835dfaa34e2ae61775e80ee29e2c724c6ae2bb",
          "0x86f1e0420c26a858fc203a3645dd1a36868f18e5",
          "0x86f1e0420c26a858fc203a3645dd1a36868f18e5"
         ],
         "xaxis": "x",
         "y": [
          1638493137,
          1638495425,
          1638495123,
          1638493686,
          1638492445,
          1638495425,
          1638493742
         ],
         "yaxis": "y"
        },
        {
         "alignmentgroup": "True",
         "hovertemplate": "trader=0x7a883470199f7b09f11b69c92edac609a8bd05c5<br>baseToken=%{x}<br>timestamp=%{y}<extra></extra>",
         "legendgroup": "0x7a883470199f7b09f11b69c92edac609a8bd05c5",
         "marker": {
          "color": "#19d3f3",
          "pattern": {
           "shape": ""
          }
         },
         "name": "0x7a883470199f7b09f11b69c92edac609a8bd05c5",
         "offsetgroup": "0x7a883470199f7b09f11b69c92edac609a8bd05c5",
         "orientation": "v",
         "showlegend": true,
         "textposition": "auto",
         "type": "bar",
         "x": [
          "0x8c835dfaa34e2ae61775e80ee29e2c724c6ae2bb"
         ],
         "xaxis": "x",
         "y": [
          1638092927
         ],
         "yaxis": "y"
        },
        {
         "alignmentgroup": "True",
         "hovertemplate": "trader=0x09074e4d60f8014bc8bf31bd48142c158eb88b61<br>baseToken=%{x}<br>timestamp=%{y}<extra></extra>",
         "legendgroup": "0x09074e4d60f8014bc8bf31bd48142c158eb88b61",
         "marker": {
          "color": "#FF6692",
          "pattern": {
           "shape": ""
          }
         },
         "name": "0x09074e4d60f8014bc8bf31bd48142c158eb88b61",
         "offsetgroup": "0x09074e4d60f8014bc8bf31bd48142c158eb88b61",
         "orientation": "v",
         "showlegend": true,
         "textposition": "auto",
         "type": "bar",
         "x": [
          "0x86f1e0420c26a858fc203a3645dd1a36868f18e5"
         ],
         "xaxis": "x",
         "y": [
          1654618962
         ],
         "yaxis": "y"
        },
        {
         "alignmentgroup": "True",
         "hovertemplate": "trader=0x445995c7a6560e2ac9a194e6658d103110f2d4d7<br>baseToken=%{x}<br>timestamp=%{y}<extra></extra>",
         "legendgroup": "0x445995c7a6560e2ac9a194e6658d103110f2d4d7",
         "marker": {
          "color": "#B6E880",
          "pattern": {
           "shape": ""
          }
         },
         "name": "0x445995c7a6560e2ac9a194e6658d103110f2d4d7",
         "offsetgroup": "0x445995c7a6560e2ac9a194e6658d103110f2d4d7",
         "orientation": "v",
         "showlegend": true,
         "textposition": "auto",
         "type": "bar",
         "x": [
          "0x5faa136fc58b6136ffdaeaac320076c4865c070f"
         ],
         "xaxis": "x",
         "y": [
          1654615795
         ],
         "yaxis": "y"
        },
        {
         "alignmentgroup": "True",
         "hovertemplate": "trader=0x65c6251a922e3ab9202c1428dfe237c97cdcec29<br>baseToken=%{x}<br>timestamp=%{y}<extra></extra>",
         "legendgroup": "0x65c6251a922e3ab9202c1428dfe237c97cdcec29",
         "marker": {
          "color": "#FF97FF",
          "pattern": {
           "shape": ""
          }
         },
         "name": "0x65c6251a922e3ab9202c1428dfe237c97cdcec29",
         "offsetgroup": "0x65c6251a922e3ab9202c1428dfe237c97cdcec29",
         "orientation": "v",
         "showlegend": true,
         "textposition": "auto",
         "type": "bar",
         "x": [
          "0x34235c8489b06482a99bb7fcab6d7c467b92d248",
          "0x34235c8489b06482a99bb7fcab6d7c467b92d248",
          "0x34235c8489b06482a99bb7fcab6d7c467b92d248",
          "0x34235c8489b06482a99bb7fcab6d7c467b92d248",
          "0x34235c8489b06482a99bb7fcab6d7c467b92d248",
          "0x34235c8489b06482a99bb7fcab6d7c467b92d248",
          "0x34235c8489b06482a99bb7fcab6d7c467b92d248",
          "0x34235c8489b06482a99bb7fcab6d7c467b92d248",
          "0x34235c8489b06482a99bb7fcab6d7c467b92d248",
          "0x34235c8489b06482a99bb7fcab6d7c467b92d248",
          "0x34235c8489b06482a99bb7fcab6d7c467b92d248",
          "0x34235c8489b06482a99bb7fcab6d7c467b92d248"
         ],
         "xaxis": "x",
         "y": [
          1654597961,
          1654615905,
          1654616350,
          1654616505,
          1654618883,
          1654618595,
          1654618883,
          1654618550,
          1654618610,
          1654618535,
          1654618535,
          1654618045
         ],
         "yaxis": "y"
        },
        {
         "alignmentgroup": "True",
         "hovertemplate": "trader=0xd7590b07bbc2e6904bbf4d18aca6d5bf58a20813<br>baseToken=%{x}<br>timestamp=%{y}<extra></extra>",
         "legendgroup": "0xd7590b07bbc2e6904bbf4d18aca6d5bf58a20813",
         "marker": {
          "color": "#FECB52",
          "pattern": {
           "shape": ""
          }
         },
         "name": "0xd7590b07bbc2e6904bbf4d18aca6d5bf58a20813",
         "offsetgroup": "0xd7590b07bbc2e6904bbf4d18aca6d5bf58a20813",
         "orientation": "v",
         "showlegend": true,
         "textposition": "auto",
         "type": "bar",
         "x": [
          "0x8c835dfaa34e2ae61775e80ee29e2c724c6ae2bb",
          "0x8c835dfaa34e2ae61775e80ee29e2c724c6ae2bb"
         ],
         "xaxis": "x",
         "y": [
          1654618580,
          1654618580
         ],
         "yaxis": "y"
        },
        {
         "alignmentgroup": "True",
         "hovertemplate": "trader=0xa57e50983968bd691cd32480cdd4c957bd3f1a6e<br>baseToken=%{x}<br>timestamp=%{y}<extra></extra>",
         "legendgroup": "0xa57e50983968bd691cd32480cdd4c957bd3f1a6e",
         "marker": {
          "color": "#636efa",
          "pattern": {
           "shape": ""
          }
         },
         "name": "0xa57e50983968bd691cd32480cdd4c957bd3f1a6e",
         "offsetgroup": "0xa57e50983968bd691cd32480cdd4c957bd3f1a6e",
         "orientation": "v",
         "showlegend": true,
         "textposition": "auto",
         "type": "bar",
         "x": [
          "0x34235c8489b06482a99bb7fcab6d7c467b92d248"
         ],
         "xaxis": "x",
         "y": [
          1654609547
         ],
         "yaxis": "y"
        },
        {
         "alignmentgroup": "True",
         "hovertemplate": "trader=0x31789f360b9aab20837a35944904deb540533357<br>baseToken=%{x}<br>timestamp=%{y}<extra></extra>",
         "legendgroup": "0x31789f360b9aab20837a35944904deb540533357",
         "marker": {
          "color": "#EF553B",
          "pattern": {
           "shape": ""
          }
         },
         "name": "0x31789f360b9aab20837a35944904deb540533357",
         "offsetgroup": "0x31789f360b9aab20837a35944904deb540533357",
         "orientation": "v",
         "showlegend": true,
         "textposition": "auto",
         "type": "bar",
         "x": [
          "0xb6599bd362120dc70d48409b8a08888807050700",
          "0xb6599bd362120dc70d48409b8a08888807050700",
          "0xb6599bd362120dc70d48409b8a08888807050700",
          "0xb6599bd362120dc70d48409b8a08888807050700",
          "0xb6599bd362120dc70d48409b8a08888807050700",
          "0xb6599bd362120dc70d48409b8a08888807050700",
          "0xb6599bd362120dc70d48409b8a08888807050700",
          "0xb6599bd362120dc70d48409b8a08888807050700"
         ],
         "xaxis": "x",
         "y": [
          1654597961,
          1654598329,
          1654598021,
          1654598761,
          1654618580,
          1654616301,
          1654615761,
          1654615746
         ],
         "yaxis": "y"
        },
        {
         "alignmentgroup": "True",
         "hovertemplate": "trader=0x0cbdd4a3861ba3b2e0f68cea10209a606d38aeca<br>baseToken=%{x}<br>timestamp=%{y}<extra></extra>",
         "legendgroup": "0x0cbdd4a3861ba3b2e0f68cea10209a606d38aeca",
         "marker": {
          "color": "#00cc96",
          "pattern": {
           "shape": ""
          }
         },
         "name": "0x0cbdd4a3861ba3b2e0f68cea10209a606d38aeca",
         "offsetgroup": "0x0cbdd4a3861ba3b2e0f68cea10209a606d38aeca",
         "orientation": "v",
         "showlegend": true,
         "textposition": "auto",
         "type": "bar",
         "x": [
          "0x9482aafdced6b899626f465e1fa0cf1b1418d797",
          "0x9482aafdced6b899626f465e1fa0cf1b1418d797",
          "0x9482aafdced6b899626f465e1fa0cf1b1418d797"
         ],
         "xaxis": "x",
         "y": [
          1654618580,
          1654618595,
          1654615795
         ],
         "yaxis": "y"
        },
        {
         "alignmentgroup": "True",
         "hovertemplate": "trader=0x0d311f7d6641345a321065b7e6f1b8e4d4a48dd9<br>baseToken=%{x}<br>timestamp=%{y}<extra></extra>",
         "legendgroup": "0x0d311f7d6641345a321065b7e6f1b8e4d4a48dd9",
         "marker": {
          "color": "#ab63fa",
          "pattern": {
           "shape": ""
          }
         },
         "name": "0x0d311f7d6641345a321065b7e6f1b8e4d4a48dd9",
         "offsetgroup": "0x0d311f7d6641345a321065b7e6f1b8e4d4a48dd9",
         "orientation": "v",
         "showlegend": true,
         "textposition": "auto",
         "type": "bar",
         "x": [
          "0x151bb01c79f4516c233948d69dae39869bccb737",
          "0x77d0cc9568605bfff32f918c8ffaa53f72901416",
          "0x5faa136fc58b6136ffdaeaac320076c4865c070f"
         ],
         "xaxis": "x",
         "y": [
          1654609564,
          1654609547,
          1654609424
         ],
         "yaxis": "y"
        },
        {
         "alignmentgroup": "True",
         "hovertemplate": "trader=0x70332de459d5554a9a310a7c4f7c6069c73604f9<br>baseToken=%{x}<br>timestamp=%{y}<extra></extra>",
         "legendgroup": "0x70332de459d5554a9a310a7c4f7c6069c73604f9",
         "marker": {
          "color": "#FFA15A",
          "pattern": {
           "shape": ""
          }
         },
         "name": "0x70332de459d5554a9a310a7c4f7c6069c73604f9",
         "offsetgroup": "0x70332de459d5554a9a310a7c4f7c6069c73604f9",
         "orientation": "v",
         "showlegend": true,
         "textposition": "auto",
         "type": "bar",
         "x": [
          "0x77d0cc9568605bfff32f918c8ffaa53f72901416",
          "0x77d0cc9568605bfff32f918c8ffaa53f72901416",
          "0x77d0cc9568605bfff32f918c8ffaa53f72901416",
          "0x2db8d2db86ca3a4c7040e778244451776570359b",
          "0x2db8d2db86ca3a4c7040e778244451776570359b",
          "0x3fb3282e3ba34a0bff94845f1800eb93cc6850d4"
         ],
         "xaxis": "x",
         "y": [
          1654609564,
          1654618580,
          1654618868,
          1654609835,
          1654609880,
          1654619040
         ],
         "yaxis": "y"
        },
        {
         "alignmentgroup": "True",
         "hovertemplate": "trader=0x947705db2127dec51b8a9980650e3126137e52d1<br>baseToken=%{x}<br>timestamp=%{y}<extra></extra>",
         "legendgroup": "0x947705db2127dec51b8a9980650e3126137e52d1",
         "marker": {
          "color": "#19d3f3",
          "pattern": {
           "shape": ""
          }
         },
         "name": "0x947705db2127dec51b8a9980650e3126137e52d1",
         "offsetgroup": "0x947705db2127dec51b8a9980650e3126137e52d1",
         "orientation": "v",
         "showlegend": true,
         "textposition": "auto",
         "type": "bar",
         "x": [
          "0xbe5de48197fc974600929196239e264ecb703ee8"
         ],
         "xaxis": "x",
         "y": [
          1654618550
         ],
         "yaxis": "y"
        },
        {
         "alignmentgroup": "True",
         "hovertemplate": "trader=0x57944fba39b44189f7173e70cf9ed99f2395283a<br>baseToken=%{x}<br>timestamp=%{y}<extra></extra>",
         "legendgroup": "0x57944fba39b44189f7173e70cf9ed99f2395283a",
         "marker": {
          "color": "#FF6692",
          "pattern": {
           "shape": ""
          }
         },
         "name": "0x57944fba39b44189f7173e70cf9ed99f2395283a",
         "offsetgroup": "0x57944fba39b44189f7173e70cf9ed99f2395283a",
         "orientation": "v",
         "showlegend": true,
         "textposition": "auto",
         "type": "bar",
         "x": [
          "0x7161c3416e08abaa5cd38e68d9a28e43a694e037",
          "0x7161c3416e08abaa5cd38e68d9a28e43a694e037",
          "0x7161c3416e08abaa5cd38e68d9a28e43a694e037",
          "0x7161c3416e08abaa5cd38e68d9a28e43a694e037",
          "0x7161c3416e08abaa5cd38e68d9a28e43a694e037",
          "0x7161c3416e08abaa5cd38e68d9a28e43a694e037",
          "0x7161c3416e08abaa5cd38e68d9a28e43a694e037",
          "0x7161c3416e08abaa5cd38e68d9a28e43a694e037",
          "0x7161c3416e08abaa5cd38e68d9a28e43a694e037",
          "0x7161c3416e08abaa5cd38e68d9a28e43a694e037",
          "0x7161c3416e08abaa5cd38e68d9a28e43a694e037",
          "0x7161c3416e08abaa5cd38e68d9a28e43a694e037",
          "0x7161c3416e08abaa5cd38e68d9a28e43a694e037",
          "0x7161c3416e08abaa5cd38e68d9a28e43a694e037",
          "0x7161c3416e08abaa5cd38e68d9a28e43a694e037"
         ],
         "xaxis": "x",
         "y": [
          1654618724,
          1654615746,
          1654618676,
          1654615746,
          1654618535,
          1654616475,
          1654618520,
          1654618520,
          1654618503,
          1654597886,
          1654597931,
          1654597931,
          1654598406,
          1654597976,
          1654597976
         ],
         "yaxis": "y"
        },
        {
         "alignmentgroup": "True",
         "hovertemplate": "trader=0xc751fb28553c9d482af92f57aaaf72d79cec70dc<br>baseToken=%{x}<br>timestamp=%{y}<extra></extra>",
         "legendgroup": "0xc751fb28553c9d482af92f57aaaf72d79cec70dc",
         "marker": {
          "color": "#B6E880",
          "pattern": {
           "shape": ""
          }
         },
         "name": "0xc751fb28553c9d482af92f57aaaf72d79cec70dc",
         "offsetgroup": "0xc751fb28553c9d482af92f57aaaf72d79cec70dc",
         "orientation": "v",
         "showlegend": true,
         "textposition": "auto",
         "type": "bar",
         "x": [
          "0x151bb01c79f4516c233948d69dae39869bccb737"
         ],
         "xaxis": "x",
         "y": [
          1654618441
         ],
         "yaxis": "y"
        },
        {
         "alignmentgroup": "True",
         "hovertemplate": "trader=0x030058ac851ba6f282ec0e717a7ed577d09dff0b<br>baseToken=%{x}<br>timestamp=%{y}<extra></extra>",
         "legendgroup": "0x030058ac851ba6f282ec0e717a7ed577d09dff0b",
         "marker": {
          "color": "#FF97FF",
          "pattern": {
           "shape": ""
          }
         },
         "name": "0x030058ac851ba6f282ec0e717a7ed577d09dff0b",
         "offsetgroup": "0x030058ac851ba6f282ec0e717a7ed577d09dff0b",
         "orientation": "v",
         "showlegend": true,
         "textposition": "auto",
         "type": "bar",
         "x": [
          "0x2f198182ec54469195a4a06262a9431a42462373",
          "0x5f714b5347f0b5de9f9598e39840e176ce889b9c",
          "0x5f714b5347f0b5de9f9598e39840e176ce889b9c"
         ],
         "xaxis": "x",
         "y": [
          1654609579,
          1654618915,
          1654618550
         ],
         "yaxis": "y"
        },
        {
         "alignmentgroup": "True",
         "hovertemplate": "trader=0x428fa1c9894d21b12c64055a9f6be982b6794737<br>baseToken=%{x}<br>timestamp=%{y}<extra></extra>",
         "legendgroup": "0x428fa1c9894d21b12c64055a9f6be982b6794737",
         "marker": {
          "color": "#FECB52",
          "pattern": {
           "shape": ""
          }
         },
         "name": "0x428fa1c9894d21b12c64055a9f6be982b6794737",
         "offsetgroup": "0x428fa1c9894d21b12c64055a9f6be982b6794737",
         "orientation": "v",
         "showlegend": true,
         "textposition": "auto",
         "type": "bar",
         "x": [
          "0x5f714b5347f0b5de9f9598e39840e176ce889b9c",
          "0x5f714b5347f0b5de9f9598e39840e176ce889b9c",
          "0x5f714b5347f0b5de9f9598e39840e176ce889b9c",
          "0x5f714b5347f0b5de9f9598e39840e176ce889b9c",
          "0x5f714b5347f0b5de9f9598e39840e176ce889b9c",
          "0x5f714b5347f0b5de9f9598e39840e176ce889b9c",
          "0x5f714b5347f0b5de9f9598e39840e176ce889b9c",
          "0x5f714b5347f0b5de9f9598e39840e176ce889b9c",
          "0x5f714b5347f0b5de9f9598e39840e176ce889b9c",
          "0x5f714b5347f0b5de9f9598e39840e176ce889b9c",
          "0x5f714b5347f0b5de9f9598e39840e176ce889b9c"
         ],
         "xaxis": "x",
         "y": [
          1654618899,
          1654618899,
          1654618915,
          1654618899,
          1654618550,
          1654618535,
          1654616505,
          1654597961,
          1654597961,
          1654598761,
          1654598776
         ],
         "yaxis": "y"
        },
        {
         "alignmentgroup": "True",
         "hovertemplate": "trader=0xf77ca96962bc48d6ff7b10f35ef2f504a287b3a1<br>baseToken=%{x}<br>timestamp=%{y}<extra></extra>",
         "legendgroup": "0xf77ca96962bc48d6ff7b10f35ef2f504a287b3a1",
         "marker": {
          "color": "#636efa",
          "pattern": {
           "shape": ""
          }
         },
         "name": "0xf77ca96962bc48d6ff7b10f35ef2f504a287b3a1",
         "offsetgroup": "0xf77ca96962bc48d6ff7b10f35ef2f504a287b3a1",
         "orientation": "v",
         "showlegend": true,
         "textposition": "auto",
         "type": "bar",
         "x": [
          "0x151bb01c79f4516c233948d69dae39869bccb737",
          "0x151bb01c79f4516c233948d69dae39869bccb737",
          "0x151bb01c79f4516c233948d69dae39869bccb737",
          "0x151bb01c79f4516c233948d69dae39869bccb737",
          "0x151bb01c79f4516c233948d69dae39869bccb737",
          "0x151bb01c79f4516c233948d69dae39869bccb737",
          "0x151bb01c79f4516c233948d69dae39869bccb737",
          "0x151bb01c79f4516c233948d69dae39869bccb737",
          "0x151bb01c79f4516c233948d69dae39869bccb737",
          "0x151bb01c79f4516c233948d69dae39869bccb737",
          "0x151bb01c79f4516c233948d69dae39869bccb737",
          "0x151bb01c79f4516c233948d69dae39869bccb737",
          "0x151bb01c79f4516c233948d69dae39869bccb737",
          "0x151bb01c79f4516c233948d69dae39869bccb737",
          "0x151bb01c79f4516c233948d69dae39869bccb737"
         ],
         "xaxis": "x",
         "y": [
          1654616301,
          1654618580,
          1654618580,
          1654618550,
          1654616221,
          1654616350,
          1654618658,
          1654615875,
          1654618535,
          1654616505,
          1654618503,
          1654598021,
          1654598345,
          1654598051,
          1654598516
         ],
         "yaxis": "y"
        },
        {
         "alignmentgroup": "True",
         "hovertemplate": "trader=0x5500d324739c6f8539c4f1aaf5f11ad50a3ed907<br>baseToken=%{x}<br>timestamp=%{y}<extra></extra>",
         "legendgroup": "0x5500d324739c6f8539c4f1aaf5f11ad50a3ed907",
         "marker": {
          "color": "#EF553B",
          "pattern": {
           "shape": ""
          }
         },
         "name": "0x5500d324739c6f8539c4f1aaf5f11ad50a3ed907",
         "offsetgroup": "0x5500d324739c6f8539c4f1aaf5f11ad50a3ed907",
         "orientation": "v",
         "showlegend": true,
         "textposition": "auto",
         "type": "bar",
         "x": [
          "0xbe5de48197fc974600929196239e264ecb703ee8"
         ],
         "xaxis": "x",
         "y": [
          1654609564
         ],
         "yaxis": "y"
        },
        {
         "alignmentgroup": "True",
         "hovertemplate": "trader=0x39e4ef417df428c187779b311875541cff5b2fa9<br>baseToken=%{x}<br>timestamp=%{y}<extra></extra>",
         "legendgroup": "0x39e4ef417df428c187779b311875541cff5b2fa9",
         "marker": {
          "color": "#00cc96",
          "pattern": {
           "shape": ""
          }
         },
         "name": "0x39e4ef417df428c187779b311875541cff5b2fa9",
         "offsetgroup": "0x39e4ef417df428c187779b311875541cff5b2fa9",
         "orientation": "v",
         "showlegend": true,
         "textposition": "auto",
         "type": "bar",
         "x": [
          "0x9482aafdced6b899626f465e1fa0cf1b1418d797"
         ],
         "xaxis": "x",
         "y": [
          1654618580
         ],
         "yaxis": "y"
        },
        {
         "alignmentgroup": "True",
         "hovertemplate": "trader=0x3478d1ba5bc6c0e662dec109c70c0065dad5f5be<br>baseToken=%{x}<br>timestamp=%{y}<extra></extra>",
         "legendgroup": "0x3478d1ba5bc6c0e662dec109c70c0065dad5f5be",
         "marker": {
          "color": "#ab63fa",
          "pattern": {
           "shape": ""
          }
         },
         "name": "0x3478d1ba5bc6c0e662dec109c70c0065dad5f5be",
         "offsetgroup": "0x3478d1ba5bc6c0e662dec109c70c0065dad5f5be",
         "orientation": "v",
         "showlegend": true,
         "textposition": "auto",
         "type": "bar",
         "x": [
          "0x9482aafdced6b899626f465e1fa0cf1b1418d797",
          "0x9482aafdced6b899626f465e1fa0cf1b1418d797"
         ],
         "xaxis": "x",
         "y": [
          1654609880,
          1654618595
         ],
         "yaxis": "y"
        },
        {
         "alignmentgroup": "True",
         "hovertemplate": "trader=0xe77dd81813bd06d74a30d1b2c07418906456498e<br>baseToken=%{x}<br>timestamp=%{y}<extra></extra>",
         "legendgroup": "0xe77dd81813bd06d74a30d1b2c07418906456498e",
         "marker": {
          "color": "#FFA15A",
          "pattern": {
           "shape": ""
          }
         },
         "name": "0xe77dd81813bd06d74a30d1b2c07418906456498e",
         "offsetgroup": "0xe77dd81813bd06d74a30d1b2c07418906456498e",
         "orientation": "v",
         "showlegend": true,
         "textposition": "auto",
         "type": "bar",
         "x": [
          "0x2f198182ec54469195a4a06262a9431a42462373",
          "0x2f198182ec54469195a4a06262a9431a42462373",
          "0x2f198182ec54469195a4a06262a9431a42462373"
         ],
         "xaxis": "x",
         "y": [
          1654609564,
          1654609835,
          1654609880
         ],
         "yaxis": "y"
        },
        {
         "alignmentgroup": "True",
         "hovertemplate": "trader=0x81659efa98a5b6b0ca47890c2ea43afaa1d6e46e<br>baseToken=%{x}<br>timestamp=%{y}<extra></extra>",
         "legendgroup": "0x81659efa98a5b6b0ca47890c2ea43afaa1d6e46e",
         "marker": {
          "color": "#19d3f3",
          "pattern": {
           "shape": ""
          }
         },
         "name": "0x81659efa98a5b6b0ca47890c2ea43afaa1d6e46e",
         "offsetgroup": "0x81659efa98a5b6b0ca47890c2ea43afaa1d6e46e",
         "orientation": "v",
         "showlegend": true,
         "textposition": "auto",
         "type": "bar",
         "x": [
          "0x8c835dfaa34e2ae61775e80ee29e2c724c6ae2bb",
          "0x8c835dfaa34e2ae61775e80ee29e2c724c6ae2bb",
          "0x8c835dfaa34e2ae61775e80ee29e2c724c6ae2bb"
         ],
         "xaxis": "x",
         "y": [
          1654609865,
          1654609880,
          1654618580
         ],
         "yaxis": "y"
        },
        {
         "alignmentgroup": "True",
         "hovertemplate": "trader=0xc2c003b37a54255d8efcc77b1eb9f33c9fcfc10a<br>baseToken=%{x}<br>timestamp=%{y}<extra></extra>",
         "legendgroup": "0xc2c003b37a54255d8efcc77b1eb9f33c9fcfc10a",
         "marker": {
          "color": "#FF6692",
          "pattern": {
           "shape": ""
          }
         },
         "name": "0xc2c003b37a54255d8efcc77b1eb9f33c9fcfc10a",
         "offsetgroup": "0xc2c003b37a54255d8efcc77b1eb9f33c9fcfc10a",
         "orientation": "v",
         "showlegend": true,
         "textposition": "auto",
         "type": "bar",
         "x": [
          "0x7eada83e15acd08d22ad85a1dce92e5a257acb92"
         ],
         "xaxis": "x",
         "y": [
          1654618580
         ],
         "yaxis": "y"
        },
        {
         "alignmentgroup": "True",
         "hovertemplate": "trader=0x94934851b2c6a066f9e5acb353bce4bc7fcdcdbd<br>baseToken=%{x}<br>timestamp=%{y}<extra></extra>",
         "legendgroup": "0x94934851b2c6a066f9e5acb353bce4bc7fcdcdbd",
         "marker": {
          "color": "#B6E880",
          "pattern": {
           "shape": ""
          }
         },
         "name": "0x94934851b2c6a066f9e5acb353bce4bc7fcdcdbd",
         "offsetgroup": "0x94934851b2c6a066f9e5acb353bce4bc7fcdcdbd",
         "orientation": "v",
         "showlegend": true,
         "textposition": "auto",
         "type": "bar",
         "x": [
          "0x5faa136fc58b6136ffdaeaac320076c4865c070f",
          "0x5faa136fc58b6136ffdaeaac320076c4865c070f",
          "0x5faa136fc58b6136ffdaeaac320076c4865c070f",
          "0x5faa136fc58b6136ffdaeaac320076c4865c070f"
         ],
         "xaxis": "x",
         "y": [
          1654609835,
          1654618550,
          1654616490,
          1654616505
         ],
         "yaxis": "y"
        },
        {
         "alignmentgroup": "True",
         "hovertemplate": "trader=0x460f484cb605267b7eb283c3b7b45172ead44ca0<br>baseToken=%{x}<br>timestamp=%{y}<extra></extra>",
         "legendgroup": "0x460f484cb605267b7eb283c3b7b45172ead44ca0",
         "marker": {
          "color": "#FF97FF",
          "pattern": {
           "shape": ""
          }
         },
         "name": "0x460f484cb605267b7eb283c3b7b45172ead44ca0",
         "offsetgroup": "0x460f484cb605267b7eb283c3b7b45172ead44ca0",
         "orientation": "v",
         "showlegend": true,
         "textposition": "auto",
         "type": "bar",
         "x": [
          "0x2f198182ec54469195a4a06262a9431a42462373",
          "0x2f198182ec54469195a4a06262a9431a42462373",
          "0x2f198182ec54469195a4a06262a9431a42462373",
          "0x2f198182ec54469195a4a06262a9431a42462373",
          "0x2f198182ec54469195a4a06262a9431a42462373",
          "0x2f198182ec54469195a4a06262a9431a42462373",
          "0x2f198182ec54469195a4a06262a9431a42462373",
          "0x2f198182ec54469195a4a06262a9431a42462373",
          "0x2f198182ec54469195a4a06262a9431a42462373",
          "0x2f198182ec54469195a4a06262a9431a42462373",
          "0x2f198182ec54469195a4a06262a9431a42462373",
          "0x2f198182ec54469195a4a06262a9431a42462373",
          "0x2f198182ec54469195a4a06262a9431a42462373",
          "0x2f198182ec54469195a4a06262a9431a42462373",
          "0x2f198182ec54469195a4a06262a9431a42462373",
          "0x2f198182ec54469195a4a06262a9431a42462373",
          "0x2f198182ec54469195a4a06262a9431a42462373",
          "0x2f198182ec54469195a4a06262a9431a42462373",
          "0x2f198182ec54469195a4a06262a9431a42462373",
          "0x2f198182ec54469195a4a06262a9431a42462373"
         ],
         "xaxis": "x",
         "y": [
          1654615825,
          1654615746,
          1654615795,
          1654615857,
          1654616030,
          1654616271,
          1654616030,
          1654615776,
          1654616271,
          1654616204,
          1654616030,
          1654616350,
          1654616460,
          1654616475,
          1654618580,
          1654618580,
          1654618219,
          1654618426,
          1654618837,
          1654618234
         ],
         "yaxis": "y"
        },
        {
         "alignmentgroup": "True",
         "hovertemplate": "trader=0x6879f97a6a9e2c050e38fcb90ca97aaccd189eac<br>baseToken=%{x}<br>timestamp=%{y}<extra></extra>",
         "legendgroup": "0x6879f97a6a9e2c050e38fcb90ca97aaccd189eac",
         "marker": {
          "color": "#FECB52",
          "pattern": {
           "shape": ""
          }
         },
         "name": "0x6879f97a6a9e2c050e38fcb90ca97aaccd189eac",
         "offsetgroup": "0x6879f97a6a9e2c050e38fcb90ca97aaccd189eac",
         "orientation": "v",
         "showlegend": true,
         "textposition": "auto",
         "type": "bar",
         "x": [
          "0x77d0cc9568605bfff32f918c8ffaa53f72901416",
          "0x77d0cc9568605bfff32f918c8ffaa53f72901416",
          "0x77d0cc9568605bfff32f918c8ffaa53f72901416",
          "0x77d0cc9568605bfff32f918c8ffaa53f72901416",
          "0x77d0cc9568605bfff32f918c8ffaa53f72901416",
          "0x77d0cc9568605bfff32f918c8ffaa53f72901416"
         ],
         "xaxis": "x",
         "y": [
          1654618883,
          1654616316,
          1654618580,
          1654615825,
          1654618520,
          1654615746
         ],
         "yaxis": "y"
        },
        {
         "alignmentgroup": "True",
         "hovertemplate": "trader=0x05184fa865fb99e46bee24e71c09cd68a11ac68e<br>baseToken=%{x}<br>timestamp=%{y}<extra></extra>",
         "legendgroup": "0x05184fa865fb99e46bee24e71c09cd68a11ac68e",
         "marker": {
          "color": "#636efa",
          "pattern": {
           "shape": ""
          }
         },
         "name": "0x05184fa865fb99e46bee24e71c09cd68a11ac68e",
         "offsetgroup": "0x05184fa865fb99e46bee24e71c09cd68a11ac68e",
         "orientation": "v",
         "showlegend": true,
         "textposition": "auto",
         "type": "bar",
         "x": [
          "0x2f198182ec54469195a4a06262a9431a42462373"
         ],
         "xaxis": "x",
         "y": [
          1654609705
         ],
         "yaxis": "y"
        },
        {
         "alignmentgroup": "True",
         "hovertemplate": "trader=0xc9ea06315038afcb52685481909be0a02dd3f206<br>baseToken=%{x}<br>timestamp=%{y}<extra></extra>",
         "legendgroup": "0xc9ea06315038afcb52685481909be0a02dd3f206",
         "marker": {
          "color": "#EF553B",
          "pattern": {
           "shape": ""
          }
         },
         "name": "0xc9ea06315038afcb52685481909be0a02dd3f206",
         "offsetgroup": "0xc9ea06315038afcb52685481909be0a02dd3f206",
         "orientation": "v",
         "showlegend": true,
         "textposition": "auto",
         "type": "bar",
         "x": [
          "0x2db8d2db86ca3a4c7040e778244451776570359b",
          "0x2db8d2db86ca3a4c7040e778244451776570359b"
         ],
         "xaxis": "x",
         "y": [
          1654609835,
          1654598345
         ],
         "yaxis": "y"
        },
        {
         "alignmentgroup": "True",
         "hovertemplate": "trader=0x6f2ddd6d04aa4ebaa6e9529e8a1b4062a2716281<br>baseToken=%{x}<br>timestamp=%{y}<extra></extra>",
         "legendgroup": "0x6f2ddd6d04aa4ebaa6e9529e8a1b4062a2716281",
         "marker": {
          "color": "#00cc96",
          "pattern": {
           "shape": ""
          }
         },
         "name": "0x6f2ddd6d04aa4ebaa6e9529e8a1b4062a2716281",
         "offsetgroup": "0x6f2ddd6d04aa4ebaa6e9529e8a1b4062a2716281",
         "orientation": "v",
         "showlegend": true,
         "textposition": "auto",
         "type": "bar",
         "x": [
          "0x9d34f1d15c22e4c0924804e2a38cbe93dfb84bc2",
          "0x9d34f1d15c22e4c0924804e2a38cbe93dfb84bc2",
          "0x9d34f1d15c22e4c0924804e2a38cbe93dfb84bc2",
          "0x9d34f1d15c22e4c0924804e2a38cbe93dfb84bc2",
          "0x9d34f1d15c22e4c0924804e2a38cbe93dfb84bc2",
          "0x9d34f1d15c22e4c0924804e2a38cbe93dfb84bc2",
          "0x9d34f1d15c22e4c0924804e2a38cbe93dfb84bc2"
         ],
         "xaxis": "x",
         "y": [
          1654615795,
          1654618535,
          1654615761,
          1654616505,
          1654598360,
          1654598670,
          1654598546
         ],
         "yaxis": "y"
        },
        {
         "alignmentgroup": "True",
         "hovertemplate": "trader=0x931292c42a5f600e80d75b7c7743f0164240882c<br>baseToken=%{x}<br>timestamp=%{y}<extra></extra>",
         "legendgroup": "0x931292c42a5f600e80d75b7c7743f0164240882c",
         "marker": {
          "color": "#ab63fa",
          "pattern": {
           "shape": ""
          }
         },
         "name": "0x931292c42a5f600e80d75b7c7743f0164240882c",
         "offsetgroup": "0x931292c42a5f600e80d75b7c7743f0164240882c",
         "orientation": "v",
         "showlegend": true,
         "textposition": "auto",
         "type": "bar",
         "x": [
          "0x2f198182ec54469195a4a06262a9431a42462373"
         ],
         "xaxis": "x",
         "y": [
          1654598731
         ],
         "yaxis": "y"
        },
        {
         "alignmentgroup": "True",
         "hovertemplate": "trader=0x66465ad392942e78f8147ae565a43f174071822b<br>baseToken=%{x}<br>timestamp=%{y}<extra></extra>",
         "legendgroup": "0x66465ad392942e78f8147ae565a43f174071822b",
         "marker": {
          "color": "#FFA15A",
          "pattern": {
           "shape": ""
          }
         },
         "name": "0x66465ad392942e78f8147ae565a43f174071822b",
         "offsetgroup": "0x66465ad392942e78f8147ae565a43f174071822b",
         "orientation": "v",
         "showlegend": true,
         "textposition": "auto",
         "type": "bar",
         "x": [
          "0x5faa136fc58b6136ffdaeaac320076c4865c070f",
          "0x5faa136fc58b6136ffdaeaac320076c4865c070f",
          "0x5faa136fc58b6136ffdaeaac320076c4865c070f",
          "0x5faa136fc58b6136ffdaeaac320076c4865c070f",
          "0x5faa136fc58b6136ffdaeaac320076c4865c070f",
          "0x5faa136fc58b6136ffdaeaac320076c4865c070f",
          "0x5faa136fc58b6136ffdaeaac320076c4865c070f",
          "0x5faa136fc58b6136ffdaeaac320076c4865c070f",
          "0x5faa136fc58b6136ffdaeaac320076c4865c070f",
          "0x5faa136fc58b6136ffdaeaac320076c4865c070f"
         ],
         "xaxis": "x",
         "y": [
          1654618595,
          1654618550,
          1654615795,
          1654618535,
          1654616301,
          1654616475,
          1654615923,
          1654597946,
          1654597961,
          1654598516
         ],
         "yaxis": "y"
        },
        {
         "alignmentgroup": "True",
         "hovertemplate": "trader=0x91d46a68324991f2e96f121317b642a8d4179190<br>baseToken=%{x}<br>timestamp=%{y}<extra></extra>",
         "legendgroup": "0x91d46a68324991f2e96f121317b642a8d4179190",
         "marker": {
          "color": "#19d3f3",
          "pattern": {
           "shape": ""
          }
         },
         "name": "0x91d46a68324991f2e96f121317b642a8d4179190",
         "offsetgroup": "0x91d46a68324991f2e96f121317b642a8d4179190",
         "orientation": "v",
         "showlegend": true,
         "textposition": "auto",
         "type": "bar",
         "x": [
          "0x8c835dfaa34e2ae61775e80ee29e2c724c6ae2bb",
          "0x8c835dfaa34e2ae61775e80ee29e2c724c6ae2bb",
          "0x8c835dfaa34e2ae61775e80ee29e2c724c6ae2bb",
          "0x8c835dfaa34e2ae61775e80ee29e2c724c6ae2bb",
          "0x8c835dfaa34e2ae61775e80ee29e2c724c6ae2bb",
          "0x8c835dfaa34e2ae61775e80ee29e2c724c6ae2bb",
          "0x8c835dfaa34e2ae61775e80ee29e2c724c6ae2bb",
          "0x8c835dfaa34e2ae61775e80ee29e2c724c6ae2bb",
          "0x8c835dfaa34e2ae61775e80ee29e2c724c6ae2bb",
          "0x8c835dfaa34e2ae61775e80ee29e2c724c6ae2bb",
          "0x8c835dfaa34e2ae61775e80ee29e2c724c6ae2bb",
          "0x8c835dfaa34e2ae61775e80ee29e2c724c6ae2bb",
          "0x8c835dfaa34e2ae61775e80ee29e2c724c6ae2bb",
          "0x8c835dfaa34e2ae61775e80ee29e2c724c6ae2bb"
         ],
         "xaxis": "x",
         "y": [
          1654618580,
          1654618580,
          1654618550,
          1654618550,
          1654615810,
          1654615795,
          1654616505,
          1654615746,
          1654615746,
          1654597871,
          1654597961,
          1654597961,
          1654598021,
          1654598021
         ],
         "yaxis": "y"
        },
        {
         "alignmentgroup": "True",
         "hovertemplate": "trader=0x16b1aa595b8ee725aee23a9d4ceac2163d80db64<br>baseToken=%{x}<br>timestamp=%{y}<extra></extra>",
         "legendgroup": "0x16b1aa595b8ee725aee23a9d4ceac2163d80db64",
         "marker": {
          "color": "#FF6692",
          "pattern": {
           "shape": ""
          }
         },
         "name": "0x16b1aa595b8ee725aee23a9d4ceac2163d80db64",
         "offsetgroup": "0x16b1aa595b8ee725aee23a9d4ceac2163d80db64",
         "orientation": "v",
         "showlegend": true,
         "textposition": "auto",
         "type": "bar",
         "x": [
          "0x2db8d2db86ca3a4c7040e778244451776570359b",
          "0x2db8d2db86ca3a4c7040e778244451776570359b",
          "0x2db8d2db86ca3a4c7040e778244451776570359b",
          "0x2db8d2db86ca3a4c7040e778244451776570359b",
          "0x2db8d2db86ca3a4c7040e778244451776570359b",
          "0x2db8d2db86ca3a4c7040e778244451776570359b",
          "0x2db8d2db86ca3a4c7040e778244451776570359b",
          "0x2db8d2db86ca3a4c7040e778244451776570359b",
          "0x2db8d2db86ca3a4c7040e778244451776570359b"
         ],
         "xaxis": "x",
         "y": [
          1654618580,
          1654618643,
          1654618643,
          1654618693,
          1654618837,
          1654618550,
          1654617952,
          1654619055,
          1654598345
         ],
         "yaxis": "y"
        },
        {
         "alignmentgroup": "True",
         "hovertemplate": "trader=0xb26d26135a1454dbb3bb5d2056d6a55b7196e5be<br>baseToken=%{x}<br>timestamp=%{y}<extra></extra>",
         "legendgroup": "0xb26d26135a1454dbb3bb5d2056d6a55b7196e5be",
         "marker": {
          "color": "#B6E880",
          "pattern": {
           "shape": ""
          }
         },
         "name": "0xb26d26135a1454dbb3bb5d2056d6a55b7196e5be",
         "offsetgroup": "0xb26d26135a1454dbb3bb5d2056d6a55b7196e5be",
         "orientation": "v",
         "showlegend": true,
         "textposition": "auto",
         "type": "bar",
         "x": [
          "0xbe5de48197fc974600929196239e264ecb703ee8",
          "0xbe5de48197fc974600929196239e264ecb703ee8",
          "0xbe5de48197fc974600929196239e264ecb703ee8"
         ],
         "xaxis": "x",
         "y": [
          1654609865,
          1654609564,
          1654609374
         ],
         "yaxis": "y"
        },
        {
         "alignmentgroup": "True",
         "hovertemplate": "trader=0x7462da033c5cceb21691d2447af34f3e333e0b85<br>baseToken=%{x}<br>timestamp=%{y}<extra></extra>",
         "legendgroup": "0x7462da033c5cceb21691d2447af34f3e333e0b85",
         "marker": {
          "color": "#FF97FF",
          "pattern": {
           "shape": ""
          }
         },
         "name": "0x7462da033c5cceb21691d2447af34f3e333e0b85",
         "offsetgroup": "0x7462da033c5cceb21691d2447af34f3e333e0b85",
         "orientation": "v",
         "showlegend": true,
         "textposition": "auto",
         "type": "bar",
         "x": [
          "0x3fb3282e3ba34a0bff94845f1800eb93cc6850d4",
          "0x3fb3282e3ba34a0bff94845f1800eb93cc6850d4",
          "0x3fb3282e3ba34a0bff94845f1800eb93cc6850d4",
          "0x3fb3282e3ba34a0bff94845f1800eb93cc6850d4"
         ],
         "xaxis": "x",
         "y": [
          1654618595,
          1654618535,
          1654615746,
          1654598516
         ],
         "yaxis": "y"
        },
        {
         "alignmentgroup": "True",
         "hovertemplate": "trader=0x8d86c5fe066a9ddcfde62884797dbe213151a22b<br>baseToken=%{x}<br>timestamp=%{y}<extra></extra>",
         "legendgroup": "0x8d86c5fe066a9ddcfde62884797dbe213151a22b",
         "marker": {
          "color": "#FECB52",
          "pattern": {
           "shape": ""
          }
         },
         "name": "0x8d86c5fe066a9ddcfde62884797dbe213151a22b",
         "offsetgroup": "0x8d86c5fe066a9ddcfde62884797dbe213151a22b",
         "orientation": "v",
         "showlegend": true,
         "textposition": "auto",
         "type": "bar",
         "x": [
          "0x86f1e0420c26a858fc203a3645dd1a36868f18e5",
          "0x86f1e0420c26a858fc203a3645dd1a36868f18e5"
         ],
         "xaxis": "x",
         "y": [
          1654615810,
          1654615795
         ],
         "yaxis": "y"
        },
        {
         "alignmentgroup": "True",
         "hovertemplate": "trader=0x1313817a82545e29764281f51f6255619753235d<br>baseToken=%{x}<br>timestamp=%{y}<extra></extra>",
         "legendgroup": "0x1313817a82545e29764281f51f6255619753235d",
         "marker": {
          "color": "#636efa",
          "pattern": {
           "shape": ""
          }
         },
         "name": "0x1313817a82545e29764281f51f6255619753235d",
         "offsetgroup": "0x1313817a82545e29764281f51f6255619753235d",
         "orientation": "v",
         "showlegend": true,
         "textposition": "auto",
         "type": "bar",
         "x": [
          "0x8c835dfaa34e2ae61775e80ee29e2c724c6ae2bb"
         ],
         "xaxis": "x",
         "y": [
          1638006087
         ],
         "yaxis": "y"
        },
        {
         "alignmentgroup": "True",
         "hovertemplate": "trader=0xb3344d84ad8dd6b96301991bf12dc739e226c9cf<br>baseToken=%{x}<br>timestamp=%{y}<extra></extra>",
         "legendgroup": "0xb3344d84ad8dd6b96301991bf12dc739e226c9cf",
         "marker": {
          "color": "#EF553B",
          "pattern": {
           "shape": ""
          }
         },
         "name": "0xb3344d84ad8dd6b96301991bf12dc739e226c9cf",
         "offsetgroup": "0xb3344d84ad8dd6b96301991bf12dc739e226c9cf",
         "orientation": "v",
         "showlegend": true,
         "textposition": "auto",
         "type": "bar",
         "x": [
          "0x8c835dfaa34e2ae61775e80ee29e2c724c6ae2bb",
          "0x86f1e0420c26a858fc203a3645dd1a36868f18e5"
         ],
         "xaxis": "x",
         "y": [
          1638004708,
          1638090264
         ],
         "yaxis": "y"
        },
        {
         "alignmentgroup": "True",
         "hovertemplate": "trader=0xb23e76d88d1b41d401ec664f563fe9a2b1069795<br>baseToken=%{x}<br>timestamp=%{y}<extra></extra>",
         "legendgroup": "0xb23e76d88d1b41d401ec664f563fe9a2b1069795",
         "marker": {
          "color": "#00cc96",
          "pattern": {
           "shape": ""
          }
         },
         "name": "0xb23e76d88d1b41d401ec664f563fe9a2b1069795",
         "offsetgroup": "0xb23e76d88d1b41d401ec664f563fe9a2b1069795",
         "orientation": "v",
         "showlegend": true,
         "textposition": "auto",
         "type": "bar",
         "x": [
          "0x8c835dfaa34e2ae61775e80ee29e2c724c6ae2bb"
         ],
         "xaxis": "x",
         "y": [
          1638006989
         ],
         "yaxis": "y"
        },
        {
         "alignmentgroup": "True",
         "hovertemplate": "trader=0xaaf2cf2a9c8a8f3b02f2c0a9d19b37722e8b7305<br>baseToken=%{x}<br>timestamp=%{y}<extra></extra>",
         "legendgroup": "0xaaf2cf2a9c8a8f3b02f2c0a9d19b37722e8b7305",
         "marker": {
          "color": "#ab63fa",
          "pattern": {
           "shape": ""
          }
         },
         "name": "0xaaf2cf2a9c8a8f3b02f2c0a9d19b37722e8b7305",
         "offsetgroup": "0xaaf2cf2a9c8a8f3b02f2c0a9d19b37722e8b7305",
         "orientation": "v",
         "showlegend": true,
         "textposition": "auto",
         "type": "bar",
         "x": [
          "0x86f1e0420c26a858fc203a3645dd1a36868f18e5"
         ],
         "xaxis": "x",
         "y": [
          1654615746
         ],
         "yaxis": "y"
        },
        {
         "alignmentgroup": "True",
         "hovertemplate": "trader=0x499166d1a71fed3b490ddb0591f4ae14c1031993<br>baseToken=%{x}<br>timestamp=%{y}<extra></extra>",
         "legendgroup": "0x499166d1a71fed3b490ddb0591f4ae14c1031993",
         "marker": {
          "color": "#FFA15A",
          "pattern": {
           "shape": ""
          }
         },
         "name": "0x499166d1a71fed3b490ddb0591f4ae14c1031993",
         "offsetgroup": "0x499166d1a71fed3b490ddb0591f4ae14c1031993",
         "orientation": "v",
         "showlegend": true,
         "textposition": "auto",
         "type": "bar",
         "x": [
          "0x86f1e0420c26a858fc203a3645dd1a36868f18e5"
         ],
         "xaxis": "x",
         "y": [
          1638089588
         ],
         "yaxis": "y"
        },
        {
         "alignmentgroup": "True",
         "hovertemplate": "trader=0x98029c23e4a554989c280de7fcb1c2ededf2b17f<br>baseToken=%{x}<br>timestamp=%{y}<extra></extra>",
         "legendgroup": "0x98029c23e4a554989c280de7fcb1c2ededf2b17f",
         "marker": {
          "color": "#19d3f3",
          "pattern": {
           "shape": ""
          }
         },
         "name": "0x98029c23e4a554989c280de7fcb1c2ededf2b17f",
         "offsetgroup": "0x98029c23e4a554989c280de7fcb1c2ededf2b17f",
         "orientation": "v",
         "showlegend": true,
         "textposition": "auto",
         "type": "bar",
         "x": [
          "0x86f1e0420c26a858fc203a3645dd1a36868f18e5",
          "0x86f1e0420c26a858fc203a3645dd1a36868f18e5",
          "0x86f1e0420c26a858fc203a3645dd1a36868f18e5",
          "0x86f1e0420c26a858fc203a3645dd1a36868f18e5",
          "0x86f1e0420c26a858fc203a3645dd1a36868f18e5",
          "0x86f1e0420c26a858fc203a3645dd1a36868f18e5"
         ],
         "xaxis": "x",
         "y": [
          1638093111,
          1638093044,
          1638093044,
          1638093044,
          1638084887,
          1638084887
         ],
         "yaxis": "y"
        }
       ],
       "layout": {
        "barmode": "relative",
        "legend": {
         "title": {
          "text": "trader"
         },
         "tracegroupgap": 0
        },
        "margin": {
         "t": 60
        },
        "template": {
         "data": {
          "bar": [
           {
            "error_x": {
             "color": "#2a3f5f"
            },
            "error_y": {
             "color": "#2a3f5f"
            },
            "marker": {
             "line": {
              "color": "#E5ECF6",
              "width": 0.5
             },
             "pattern": {
              "fillmode": "overlay",
              "size": 10,
              "solidity": 0.2
             }
            },
            "type": "bar"
           }
          ],
          "barpolar": [
           {
            "marker": {
             "line": {
              "color": "#E5ECF6",
              "width": 0.5
             },
             "pattern": {
              "fillmode": "overlay",
              "size": 10,
              "solidity": 0.2
             }
            },
            "type": "barpolar"
           }
          ],
          "carpet": [
           {
            "aaxis": {
             "endlinecolor": "#2a3f5f",
             "gridcolor": "white",
             "linecolor": "white",
             "minorgridcolor": "white",
             "startlinecolor": "#2a3f5f"
            },
            "baxis": {
             "endlinecolor": "#2a3f5f",
             "gridcolor": "white",
             "linecolor": "white",
             "minorgridcolor": "white",
             "startlinecolor": "#2a3f5f"
            },
            "type": "carpet"
           }
          ],
          "choropleth": [
           {
            "colorbar": {
             "outlinewidth": 0,
             "ticks": ""
            },
            "type": "choropleth"
           }
          ],
          "contour": [
           {
            "colorbar": {
             "outlinewidth": 0,
             "ticks": ""
            },
            "colorscale": [
             [
              0,
              "#0d0887"
             ],
             [
              0.1111111111111111,
              "#46039f"
             ],
             [
              0.2222222222222222,
              "#7201a8"
             ],
             [
              0.3333333333333333,
              "#9c179e"
             ],
             [
              0.4444444444444444,
              "#bd3786"
             ],
             [
              0.5555555555555556,
              "#d8576b"
             ],
             [
              0.6666666666666666,
              "#ed7953"
             ],
             [
              0.7777777777777778,
              "#fb9f3a"
             ],
             [
              0.8888888888888888,
              "#fdca26"
             ],
             [
              1,
              "#f0f921"
             ]
            ],
            "type": "contour"
           }
          ],
          "contourcarpet": [
           {
            "colorbar": {
             "outlinewidth": 0,
             "ticks": ""
            },
            "type": "contourcarpet"
           }
          ],
          "heatmap": [
           {
            "colorbar": {
             "outlinewidth": 0,
             "ticks": ""
            },
            "colorscale": [
             [
              0,
              "#0d0887"
             ],
             [
              0.1111111111111111,
              "#46039f"
             ],
             [
              0.2222222222222222,
              "#7201a8"
             ],
             [
              0.3333333333333333,
              "#9c179e"
             ],
             [
              0.4444444444444444,
              "#bd3786"
             ],
             [
              0.5555555555555556,
              "#d8576b"
             ],
             [
              0.6666666666666666,
              "#ed7953"
             ],
             [
              0.7777777777777778,
              "#fb9f3a"
             ],
             [
              0.8888888888888888,
              "#fdca26"
             ],
             [
              1,
              "#f0f921"
             ]
            ],
            "type": "heatmap"
           }
          ],
          "heatmapgl": [
           {
            "colorbar": {
             "outlinewidth": 0,
             "ticks": ""
            },
            "colorscale": [
             [
              0,
              "#0d0887"
             ],
             [
              0.1111111111111111,
              "#46039f"
             ],
             [
              0.2222222222222222,
              "#7201a8"
             ],
             [
              0.3333333333333333,
              "#9c179e"
             ],
             [
              0.4444444444444444,
              "#bd3786"
             ],
             [
              0.5555555555555556,
              "#d8576b"
             ],
             [
              0.6666666666666666,
              "#ed7953"
             ],
             [
              0.7777777777777778,
              "#fb9f3a"
             ],
             [
              0.8888888888888888,
              "#fdca26"
             ],
             [
              1,
              "#f0f921"
             ]
            ],
            "type": "heatmapgl"
           }
          ],
          "histogram": [
           {
            "marker": {
             "pattern": {
              "fillmode": "overlay",
              "size": 10,
              "solidity": 0.2
             }
            },
            "type": "histogram"
           }
          ],
          "histogram2d": [
           {
            "colorbar": {
             "outlinewidth": 0,
             "ticks": ""
            },
            "colorscale": [
             [
              0,
              "#0d0887"
             ],
             [
              0.1111111111111111,
              "#46039f"
             ],
             [
              0.2222222222222222,
              "#7201a8"
             ],
             [
              0.3333333333333333,
              "#9c179e"
             ],
             [
              0.4444444444444444,
              "#bd3786"
             ],
             [
              0.5555555555555556,
              "#d8576b"
             ],
             [
              0.6666666666666666,
              "#ed7953"
             ],
             [
              0.7777777777777778,
              "#fb9f3a"
             ],
             [
              0.8888888888888888,
              "#fdca26"
             ],
             [
              1,
              "#f0f921"
             ]
            ],
            "type": "histogram2d"
           }
          ],
          "histogram2dcontour": [
           {
            "colorbar": {
             "outlinewidth": 0,
             "ticks": ""
            },
            "colorscale": [
             [
              0,
              "#0d0887"
             ],
             [
              0.1111111111111111,
              "#46039f"
             ],
             [
              0.2222222222222222,
              "#7201a8"
             ],
             [
              0.3333333333333333,
              "#9c179e"
             ],
             [
              0.4444444444444444,
              "#bd3786"
             ],
             [
              0.5555555555555556,
              "#d8576b"
             ],
             [
              0.6666666666666666,
              "#ed7953"
             ],
             [
              0.7777777777777778,
              "#fb9f3a"
             ],
             [
              0.8888888888888888,
              "#fdca26"
             ],
             [
              1,
              "#f0f921"
             ]
            ],
            "type": "histogram2dcontour"
           }
          ],
          "mesh3d": [
           {
            "colorbar": {
             "outlinewidth": 0,
             "ticks": ""
            },
            "type": "mesh3d"
           }
          ],
          "parcoords": [
           {
            "line": {
             "colorbar": {
              "outlinewidth": 0,
              "ticks": ""
             }
            },
            "type": "parcoords"
           }
          ],
          "pie": [
           {
            "automargin": true,
            "type": "pie"
           }
          ],
          "scatter": [
           {
            "fillpattern": {
             "fillmode": "overlay",
             "size": 10,
             "solidity": 0.2
            },
            "type": "scatter"
           }
          ],
          "scatter3d": [
           {
            "line": {
             "colorbar": {
              "outlinewidth": 0,
              "ticks": ""
             }
            },
            "marker": {
             "colorbar": {
              "outlinewidth": 0,
              "ticks": ""
             }
            },
            "type": "scatter3d"
           }
          ],
          "scattercarpet": [
           {
            "marker": {
             "colorbar": {
              "outlinewidth": 0,
              "ticks": ""
             }
            },
            "type": "scattercarpet"
           }
          ],
          "scattergeo": [
           {
            "marker": {
             "colorbar": {
              "outlinewidth": 0,
              "ticks": ""
             }
            },
            "type": "scattergeo"
           }
          ],
          "scattergl": [
           {
            "marker": {
             "colorbar": {
              "outlinewidth": 0,
              "ticks": ""
             }
            },
            "type": "scattergl"
           }
          ],
          "scattermapbox": [
           {
            "marker": {
             "colorbar": {
              "outlinewidth": 0,
              "ticks": ""
             }
            },
            "type": "scattermapbox"
           }
          ],
          "scatterpolar": [
           {
            "marker": {
             "colorbar": {
              "outlinewidth": 0,
              "ticks": ""
             }
            },
            "type": "scatterpolar"
           }
          ],
          "scatterpolargl": [
           {
            "marker": {
             "colorbar": {
              "outlinewidth": 0,
              "ticks": ""
             }
            },
            "type": "scatterpolargl"
           }
          ],
          "scatterternary": [
           {
            "marker": {
             "colorbar": {
              "outlinewidth": 0,
              "ticks": ""
             }
            },
            "type": "scatterternary"
           }
          ],
          "surface": [
           {
            "colorbar": {
             "outlinewidth": 0,
             "ticks": ""
            },
            "colorscale": [
             [
              0,
              "#0d0887"
             ],
             [
              0.1111111111111111,
              "#46039f"
             ],
             [
              0.2222222222222222,
              "#7201a8"
             ],
             [
              0.3333333333333333,
              "#9c179e"
             ],
             [
              0.4444444444444444,
              "#bd3786"
             ],
             [
              0.5555555555555556,
              "#d8576b"
             ],
             [
              0.6666666666666666,
              "#ed7953"
             ],
             [
              0.7777777777777778,
              "#fb9f3a"
             ],
             [
              0.8888888888888888,
              "#fdca26"
             ],
             [
              1,
              "#f0f921"
             ]
            ],
            "type": "surface"
           }
          ],
          "table": [
           {
            "cells": {
             "fill": {
              "color": "#EBF0F8"
             },
             "line": {
              "color": "white"
             }
            },
            "header": {
             "fill": {
              "color": "#C8D4E3"
             },
             "line": {
              "color": "white"
             }
            },
            "type": "table"
           }
          ]
         },
         "layout": {
          "annotationdefaults": {
           "arrowcolor": "#2a3f5f",
           "arrowhead": 0,
           "arrowwidth": 1
          },
          "autotypenumbers": "strict",
          "coloraxis": {
           "colorbar": {
            "outlinewidth": 0,
            "ticks": ""
           }
          },
          "colorscale": {
           "diverging": [
            [
             0,
             "#8e0152"
            ],
            [
             0.1,
             "#c51b7d"
            ],
            [
             0.2,
             "#de77ae"
            ],
            [
             0.3,
             "#f1b6da"
            ],
            [
             0.4,
             "#fde0ef"
            ],
            [
             0.5,
             "#f7f7f7"
            ],
            [
             0.6,
             "#e6f5d0"
            ],
            [
             0.7,
             "#b8e186"
            ],
            [
             0.8,
             "#7fbc41"
            ],
            [
             0.9,
             "#4d9221"
            ],
            [
             1,
             "#276419"
            ]
           ],
           "sequential": [
            [
             0,
             "#0d0887"
            ],
            [
             0.1111111111111111,
             "#46039f"
            ],
            [
             0.2222222222222222,
             "#7201a8"
            ],
            [
             0.3333333333333333,
             "#9c179e"
            ],
            [
             0.4444444444444444,
             "#bd3786"
            ],
            [
             0.5555555555555556,
             "#d8576b"
            ],
            [
             0.6666666666666666,
             "#ed7953"
            ],
            [
             0.7777777777777778,
             "#fb9f3a"
            ],
            [
             0.8888888888888888,
             "#fdca26"
            ],
            [
             1,
             "#f0f921"
            ]
           ],
           "sequentialminus": [
            [
             0,
             "#0d0887"
            ],
            [
             0.1111111111111111,
             "#46039f"
            ],
            [
             0.2222222222222222,
             "#7201a8"
            ],
            [
             0.3333333333333333,
             "#9c179e"
            ],
            [
             0.4444444444444444,
             "#bd3786"
            ],
            [
             0.5555555555555556,
             "#d8576b"
            ],
            [
             0.6666666666666666,
             "#ed7953"
            ],
            [
             0.7777777777777778,
             "#fb9f3a"
            ],
            [
             0.8888888888888888,
             "#fdca26"
            ],
            [
             1,
             "#f0f921"
            ]
           ]
          },
          "colorway": [
           "#636efa",
           "#EF553B",
           "#00cc96",
           "#ab63fa",
           "#FFA15A",
           "#19d3f3",
           "#FF6692",
           "#B6E880",
           "#FF97FF",
           "#FECB52"
          ],
          "font": {
           "color": "#2a3f5f"
          },
          "geo": {
           "bgcolor": "white",
           "lakecolor": "white",
           "landcolor": "#E5ECF6",
           "showlakes": true,
           "showland": true,
           "subunitcolor": "white"
          },
          "hoverlabel": {
           "align": "left"
          },
          "hovermode": "closest",
          "mapbox": {
           "style": "light"
          },
          "paper_bgcolor": "white",
          "plot_bgcolor": "#E5ECF6",
          "polar": {
           "angularaxis": {
            "gridcolor": "white",
            "linecolor": "white",
            "ticks": ""
           },
           "bgcolor": "#E5ECF6",
           "radialaxis": {
            "gridcolor": "white",
            "linecolor": "white",
            "ticks": ""
           }
          },
          "scene": {
           "xaxis": {
            "backgroundcolor": "#E5ECF6",
            "gridcolor": "white",
            "gridwidth": 2,
            "linecolor": "white",
            "showbackground": true,
            "ticks": "",
            "zerolinecolor": "white"
           },
           "yaxis": {
            "backgroundcolor": "#E5ECF6",
            "gridcolor": "white",
            "gridwidth": 2,
            "linecolor": "white",
            "showbackground": true,
            "ticks": "",
            "zerolinecolor": "white"
           },
           "zaxis": {
            "backgroundcolor": "#E5ECF6",
            "gridcolor": "white",
            "gridwidth": 2,
            "linecolor": "white",
            "showbackground": true,
            "ticks": "",
            "zerolinecolor": "white"
           }
          },
          "shapedefaults": {
           "line": {
            "color": "#2a3f5f"
           }
          },
          "ternary": {
           "aaxis": {
            "gridcolor": "white",
            "linecolor": "white",
            "ticks": ""
           },
           "baxis": {
            "gridcolor": "white",
            "linecolor": "white",
            "ticks": ""
           },
           "bgcolor": "#E5ECF6",
           "caxis": {
            "gridcolor": "white",
            "linecolor": "white",
            "ticks": ""
           }
          },
          "title": {
           "x": 0.05
          },
          "xaxis": {
           "automargin": true,
           "gridcolor": "white",
           "linecolor": "white",
           "ticks": "",
           "title": {
            "standoff": 15
           },
           "zerolinecolor": "white",
           "zerolinewidth": 2
          },
          "yaxis": {
           "automargin": true,
           "gridcolor": "white",
           "linecolor": "white",
           "ticks": "",
           "title": {
            "standoff": 15
           },
           "zerolinecolor": "white",
           "zerolinewidth": 2
          }
         }
        },
        "xaxis": {
         "anchor": "y",
         "domain": [
          0,
          1
         ],
         "title": {
          "text": "baseToken"
         }
        },
        "yaxis": {
         "anchor": "x",
         "domain": [
          0,
          1
         ],
         "title": {
          "text": "timestamp"
         }
        }
       }
      },
      "text/html": [
       "<div>                            <div id=\"9b190317-9d9a-44f5-92ba-abcd8ecdda06\" class=\"plotly-graph-div\" style=\"height:525px; width:100%;\"></div>            <script type=\"text/javascript\">                require([\"plotly\"], function(Plotly) {                    window.PLOTLYENV=window.PLOTLYENV || {};                                    if (document.getElementById(\"9b190317-9d9a-44f5-92ba-abcd8ecdda06\")) {                    Plotly.newPlot(                        \"9b190317-9d9a-44f5-92ba-abcd8ecdda06\",                        [{\"alignmentgroup\":\"True\",\"hovertemplate\":\"trader=0xb2e2b1f036f31a9a97d3fc377a47581c813123aa<br>baseToken=%{x}<br>timestamp=%{y}<extra></extra>\",\"legendgroup\":\"0xb2e2b1f036f31a9a97d3fc377a47581c813123aa\",\"marker\":{\"color\":\"#636efa\",\"pattern\":{\"shape\":\"\"}},\"name\":\"0xb2e2b1f036f31a9a97d3fc377a47581c813123aa\",\"offsetgroup\":\"0xb2e2b1f036f31a9a97d3fc377a47581c813123aa\",\"orientation\":\"v\",\"showlegend\":true,\"textposition\":\"auto\",\"x\":[\"0x333b1ea429a88d0dd48ce7c06c16609cd76f43a8\",\"0x333b1ea429a88d0dd48ce7c06c16609cd76f43a8\",\"0x333b1ea429a88d0dd48ce7c06c16609cd76f43a8\",\"0x333b1ea429a88d0dd48ce7c06c16609cd76f43a8\",\"0x333b1ea429a88d0dd48ce7c06c16609cd76f43a8\",\"0x333b1ea429a88d0dd48ce7c06c16609cd76f43a8\",\"0x333b1ea429a88d0dd48ce7c06c16609cd76f43a8\"],\"xaxis\":\"x\",\"y\":[1654598716,1654616380,1654618535,1654616380,1654616301,1654598345,1654598761],\"yaxis\":\"y\",\"type\":\"bar\"},{\"alignmentgroup\":\"True\",\"hovertemplate\":\"trader=0x2ad4be1184d181065d97e38d6c421f0653231f00<br>baseToken=%{x}<br>timestamp=%{y}<extra></extra>\",\"legendgroup\":\"0x2ad4be1184d181065d97e38d6c421f0653231f00\",\"marker\":{\"color\":\"#EF553B\",\"pattern\":{\"shape\":\"\"}},\"name\":\"0x2ad4be1184d181065d97e38d6c421f0653231f00\",\"offsetgroup\":\"0x2ad4be1184d181065d97e38d6c421f0653231f00\",\"orientation\":\"v\",\"showlegend\":true,\"textposition\":\"auto\",\"x\":[\"0x9d34f1d15c22e4c0924804e2a38cbe93dfb84bc2\",\"0x9d34f1d15c22e4c0924804e2a38cbe93dfb84bc2\",\"0x9d34f1d15c22e4c0924804e2a38cbe93dfb84bc2\",\"0x9d34f1d15c22e4c0924804e2a38cbe93dfb84bc2\"],\"xaxis\":\"x\",\"y\":[1654615795,1654609594,1654609547,1654609454],\"yaxis\":\"y\",\"type\":\"bar\"},{\"alignmentgroup\":\"True\",\"hovertemplate\":\"trader=0xe95078ed15141f190f220062b06ba8c5751db6a5<br>baseToken=%{x}<br>timestamp=%{y}<extra></extra>\",\"legendgroup\":\"0xe95078ed15141f190f220062b06ba8c5751db6a5\",\"marker\":{\"color\":\"#00cc96\",\"pattern\":{\"shape\":\"\"}},\"name\":\"0xe95078ed15141f190f220062b06ba8c5751db6a5\",\"offsetgroup\":\"0xe95078ed15141f190f220062b06ba8c5751db6a5\",\"orientation\":\"v\",\"showlegend\":true,\"textposition\":\"auto\",\"x\":[\"0x2db8d2db86ca3a4c7040e778244451776570359b\",\"0x151bb01c79f4516c233948d69dae39869bccb737\",\"0x151bb01c79f4516c233948d69dae39869bccb737\",\"0x2db8d2db86ca3a4c7040e778244451776570359b\",\"0x151bb01c79f4516c233948d69dae39869bccb737\",\"0x9d34f1d15c22e4c0924804e2a38cbe93dfb84bc2\",\"0x151bb01c79f4516c233948d69dae39869bccb737\",\"0x2f198182ec54469195a4a06262a9431a42462373\",\"0x9d34f1d15c22e4c0924804e2a38cbe93dfb84bc2\",\"0x9d34f1d15c22e4c0924804e2a38cbe93dfb84bc2\",\"0x9d34f1d15c22e4c0924804e2a38cbe93dfb84bc2\"],\"xaxis\":\"x\",\"y\":[1654609805,1654609564,1654609626,1654609611,1654609705,1654618520,1654615746,1654616271,1654609454,1654609547,1654609594],\"yaxis\":\"y\",\"type\":\"bar\"},{\"alignmentgroup\":\"True\",\"hovertemplate\":\"trader=0x9c1e0c67aa30c063f341885b12cb81cc94613fc7<br>baseToken=%{x}<br>timestamp=%{y}<extra></extra>\",\"legendgroup\":\"0x9c1e0c67aa30c063f341885b12cb81cc94613fc7\",\"marker\":{\"color\":\"#ab63fa\",\"pattern\":{\"shape\":\"\"}},\"name\":\"0x9c1e0c67aa30c063f341885b12cb81cc94613fc7\",\"offsetgroup\":\"0x9c1e0c67aa30c063f341885b12cb81cc94613fc7\",\"orientation\":\"v\",\"showlegend\":true,\"textposition\":\"auto\",\"x\":[\"0x8c835dfaa34e2ae61775e80ee29e2c724c6ae2bb\",\"0x8c835dfaa34e2ae61775e80ee29e2c724c6ae2bb\",\"0x8c835dfaa34e2ae61775e80ee29e2c724c6ae2bb\",\"0x8c835dfaa34e2ae61775e80ee29e2c724c6ae2bb\",\"0x8c835dfaa34e2ae61775e80ee29e2c724c6ae2bb\",\"0x8c835dfaa34e2ae61775e80ee29e2c724c6ae2bb\",\"0x8c835dfaa34e2ae61775e80ee29e2c724c6ae2bb\",\"0x8c835dfaa34e2ae61775e80ee29e2c724c6ae2bb\",\"0x8c835dfaa34e2ae61775e80ee29e2c724c6ae2bb\",\"0x8c835dfaa34e2ae61775e80ee29e2c724c6ae2bb\",\"0x8c835dfaa34e2ae61775e80ee29e2c724c6ae2bb\",\"0x8c835dfaa34e2ae61775e80ee29e2c724c6ae2bb\",\"0x8c835dfaa34e2ae61775e80ee29e2c724c6ae2bb\",\"0x8c835dfaa34e2ae61775e80ee29e2c724c6ae2bb\",\"0x8c835dfaa34e2ae61775e80ee29e2c724c6ae2bb\",\"0x8c835dfaa34e2ae61775e80ee29e2c724c6ae2bb\",\"0x8c835dfaa34e2ae61775e80ee29e2c724c6ae2bb\",\"0x8c835dfaa34e2ae61775e80ee29e2c724c6ae2bb\",\"0x8c835dfaa34e2ae61775e80ee29e2c724c6ae2bb\",\"0x8c835dfaa34e2ae61775e80ee29e2c724c6ae2bb\",\"0x8c835dfaa34e2ae61775e80ee29e2c724c6ae2bb\",\"0x8c835dfaa34e2ae61775e80ee29e2c724c6ae2bb\",\"0x8c835dfaa34e2ae61775e80ee29e2c724c6ae2bb\",\"0x8c835dfaa34e2ae61775e80ee29e2c724c6ae2bb\",\"0x8c835dfaa34e2ae61775e80ee29e2c724c6ae2bb\",\"0x8c835dfaa34e2ae61775e80ee29e2c724c6ae2bb\",\"0x8c835dfaa34e2ae61775e80ee29e2c724c6ae2bb\",\"0x8c835dfaa34e2ae61775e80ee29e2c724c6ae2bb\",\"0x8c835dfaa34e2ae61775e80ee29e2c724c6ae2bb\",\"0x8c835dfaa34e2ae61775e80ee29e2c724c6ae2bb\",\"0x8c835dfaa34e2ae61775e80ee29e2c724c6ae2bb\",\"0x8c835dfaa34e2ae61775e80ee29e2c724c6ae2bb\",\"0x8c835dfaa34e2ae61775e80ee29e2c724c6ae2bb\",\"0x8c835dfaa34e2ae61775e80ee29e2c724c6ae2bb\",\"0x8c835dfaa34e2ae61775e80ee29e2c724c6ae2bb\",\"0x8c835dfaa34e2ae61775e80ee29e2c724c6ae2bb\",\"0x8c835dfaa34e2ae61775e80ee29e2c724c6ae2bb\",\"0x8c835dfaa34e2ae61775e80ee29e2c724c6ae2bb\",\"0x8c835dfaa34e2ae61775e80ee29e2c724c6ae2bb\",\"0x8c835dfaa34e2ae61775e80ee29e2c724c6ae2bb\",\"0x8c835dfaa34e2ae61775e80ee29e2c724c6ae2bb\",\"0x8c835dfaa34e2ae61775e80ee29e2c724c6ae2bb\",\"0x8c835dfaa34e2ae61775e80ee29e2c724c6ae2bb\",\"0x8c835dfaa34e2ae61775e80ee29e2c724c6ae2bb\",\"0x8c835dfaa34e2ae61775e80ee29e2c724c6ae2bb\",\"0x86f1e0420c26a858fc203a3645dd1a36868f18e5\",\"0x86f1e0420c26a858fc203a3645dd1a36868f18e5\",\"0x86f1e0420c26a858fc203a3645dd1a36868f18e5\",\"0x86f1e0420c26a858fc203a3645dd1a36868f18e5\",\"0x86f1e0420c26a858fc203a3645dd1a36868f18e5\",\"0x86f1e0420c26a858fc203a3645dd1a36868f18e5\",\"0x86f1e0420c26a858fc203a3645dd1a36868f18e5\",\"0x86f1e0420c26a858fc203a3645dd1a36868f18e5\",\"0x86f1e0420c26a858fc203a3645dd1a36868f18e5\",\"0x86f1e0420c26a858fc203a3645dd1a36868f18e5\",\"0x86f1e0420c26a858fc203a3645dd1a36868f18e5\",\"0x86f1e0420c26a858fc203a3645dd1a36868f18e5\",\"0x86f1e0420c26a858fc203a3645dd1a36868f18e5\",\"0x86f1e0420c26a858fc203a3645dd1a36868f18e5\",\"0x86f1e0420c26a858fc203a3645dd1a36868f18e5\",\"0x86f1e0420c26a858fc203a3645dd1a36868f18e5\",\"0x86f1e0420c26a858fc203a3645dd1a36868f18e5\",\"0x86f1e0420c26a858fc203a3645dd1a36868f18e5\",\"0x86f1e0420c26a858fc203a3645dd1a36868f18e5\",\"0x86f1e0420c26a858fc203a3645dd1a36868f18e5\",\"0x86f1e0420c26a858fc203a3645dd1a36868f18e5\",\"0x86f1e0420c26a858fc203a3645dd1a36868f18e5\",\"0x86f1e0420c26a858fc203a3645dd1a36868f18e5\",\"0x86f1e0420c26a858fc203a3645dd1a36868f18e5\",\"0x86f1e0420c26a858fc203a3645dd1a36868f18e5\",\"0x86f1e0420c26a858fc203a3645dd1a36868f18e5\",\"0x86f1e0420c26a858fc203a3645dd1a36868f18e5\",\"0x86f1e0420c26a858fc203a3645dd1a36868f18e5\",\"0x86f1e0420c26a858fc203a3645dd1a36868f18e5\",\"0x8c835dfaa34e2ae61775e80ee29e2c724c6ae2bb\",\"0x86f1e0420c26a858fc203a3645dd1a36868f18e5\",\"0x86f1e0420c26a858fc203a3645dd1a36868f18e5\",\"0x86f1e0420c26a858fc203a3645dd1a36868f18e5\",\"0x86f1e0420c26a858fc203a3645dd1a36868f18e5\",\"0x86f1e0420c26a858fc203a3645dd1a36868f18e5\",\"0x86f1e0420c26a858fc203a3645dd1a36868f18e5\",\"0x86f1e0420c26a858fc203a3645dd1a36868f18e5\",\"0x86f1e0420c26a858fc203a3645dd1a36868f18e5\",\"0x86f1e0420c26a858fc203a3645dd1a36868f18e5\",\"0x86f1e0420c26a858fc203a3645dd1a36868f18e5\",\"0x86f1e0420c26a858fc203a3645dd1a36868f18e5\",\"0x86f1e0420c26a858fc203a3645dd1a36868f18e5\",\"0x86f1e0420c26a858fc203a3645dd1a36868f18e5\",\"0x86f1e0420c26a858fc203a3645dd1a36868f18e5\",\"0x86f1e0420c26a858fc203a3645dd1a36868f18e5\",\"0x86f1e0420c26a858fc203a3645dd1a36868f18e5\",\"0x86f1e0420c26a858fc203a3645dd1a36868f18e5\",\"0x86f1e0420c26a858fc203a3645dd1a36868f18e5\",\"0x86f1e0420c26a858fc203a3645dd1a36868f18e5\",\"0x86f1e0420c26a858fc203a3645dd1a36868f18e5\",\"0x86f1e0420c26a858fc203a3645dd1a36868f18e5\",\"0x86f1e0420c26a858fc203a3645dd1a36868f18e5\",\"0x86f1e0420c26a858fc203a3645dd1a36868f18e5\",\"0x86f1e0420c26a858fc203a3645dd1a36868f18e5\",\"0x86f1e0420c26a858fc203a3645dd1a36868f18e5\",\"0x86f1e0420c26a858fc203a3645dd1a36868f18e5\",\"0x86f1e0420c26a858fc203a3645dd1a36868f18e5\",\"0x86f1e0420c26a858fc203a3645dd1a36868f18e5\",\"0x86f1e0420c26a858fc203a3645dd1a36868f18e5\",\"0x86f1e0420c26a858fc203a3645dd1a36868f18e5\",\"0x86f1e0420c26a858fc203a3645dd1a36868f18e5\",\"0x86f1e0420c26a858fc203a3645dd1a36868f18e5\",\"0x86f1e0420c26a858fc203a3645dd1a36868f18e5\",\"0x8c835dfaa34e2ae61775e80ee29e2c724c6ae2bb\",\"0x86f1e0420c26a858fc203a3645dd1a36868f18e5\",\"0x86f1e0420c26a858fc203a3645dd1a36868f18e5\",\"0x86f1e0420c26a858fc203a3645dd1a36868f18e5\",\"0x8c835dfaa34e2ae61775e80ee29e2c724c6ae2bb\",\"0x86f1e0420c26a858fc203a3645dd1a36868f18e5\",\"0x86f1e0420c26a858fc203a3645dd1a36868f18e5\",\"0x86f1e0420c26a858fc203a3645dd1a36868f18e5\",\"0x86f1e0420c26a858fc203a3645dd1a36868f18e5\",\"0x8c835dfaa34e2ae61775e80ee29e2c724c6ae2bb\",\"0x86f1e0420c26a858fc203a3645dd1a36868f18e5\",\"0x8c835dfaa34e2ae61775e80ee29e2c724c6ae2bb\",\"0x8c835dfaa34e2ae61775e80ee29e2c724c6ae2bb\",\"0x8c835dfaa34e2ae61775e80ee29e2c724c6ae2bb\",\"0x8c835dfaa34e2ae61775e80ee29e2c724c6ae2bb\",\"0x8c835dfaa34e2ae61775e80ee29e2c724c6ae2bb\",\"0x8c835dfaa34e2ae61775e80ee29e2c724c6ae2bb\",\"0x8c835dfaa34e2ae61775e80ee29e2c724c6ae2bb\",\"0x8c835dfaa34e2ae61775e80ee29e2c724c6ae2bb\",\"0x86f1e0420c26a858fc203a3645dd1a36868f18e5\",\"0x86f1e0420c26a858fc203a3645dd1a36868f18e5\",\"0x8c835dfaa34e2ae61775e80ee29e2c724c6ae2bb\",\"0x86f1e0420c26a858fc203a3645dd1a36868f18e5\",\"0x86f1e0420c26a858fc203a3645dd1a36868f18e5\",\"0x86f1e0420c26a858fc203a3645dd1a36868f18e5\",\"0x8c835dfaa34e2ae61775e80ee29e2c724c6ae2bb\",\"0x86f1e0420c26a858fc203a3645dd1a36868f18e5\",\"0x86f1e0420c26a858fc203a3645dd1a36868f18e5\",\"0x86f1e0420c26a858fc203a3645dd1a36868f18e5\",\"0x8c835dfaa34e2ae61775e80ee29e2c724c6ae2bb\",\"0x86f1e0420c26a858fc203a3645dd1a36868f18e5\",\"0x8c835dfaa34e2ae61775e80ee29e2c724c6ae2bb\",\"0x86f1e0420c26a858fc203a3645dd1a36868f18e5\",\"0x86f1e0420c26a858fc203a3645dd1a36868f18e5\",\"0x86f1e0420c26a858fc203a3645dd1a36868f18e5\",\"0x8c835dfaa34e2ae61775e80ee29e2c724c6ae2bb\",\"0x86f1e0420c26a858fc203a3645dd1a36868f18e5\",\"0x86f1e0420c26a858fc203a3645dd1a36868f18e5\",\"0x86f1e0420c26a858fc203a3645dd1a36868f18e5\",\"0x86f1e0420c26a858fc203a3645dd1a36868f18e5\",\"0x86f1e0420c26a858fc203a3645dd1a36868f18e5\",\"0x8c835dfaa34e2ae61775e80ee29e2c724c6ae2bb\",\"0x86f1e0420c26a858fc203a3645dd1a36868f18e5\",\"0x86f1e0420c26a858fc203a3645dd1a36868f18e5\",\"0x86f1e0420c26a858fc203a3645dd1a36868f18e5\",\"0x8c835dfaa34e2ae61775e80ee29e2c724c6ae2bb\",\"0x86f1e0420c26a858fc203a3645dd1a36868f18e5\",\"0x86f1e0420c26a858fc203a3645dd1a36868f18e5\",\"0x8c835dfaa34e2ae61775e80ee29e2c724c6ae2bb\",\"0x86f1e0420c26a858fc203a3645dd1a36868f18e5\",\"0x86f1e0420c26a858fc203a3645dd1a36868f18e5\",\"0x8c835dfaa34e2ae61775e80ee29e2c724c6ae2bb\",\"0x86f1e0420c26a858fc203a3645dd1a36868f18e5\",\"0x86f1e0420c26a858fc203a3645dd1a36868f18e5\",\"0x8c835dfaa34e2ae61775e80ee29e2c724c6ae2bb\",\"0x86f1e0420c26a858fc203a3645dd1a36868f18e5\",\"0x86f1e0420c26a858fc203a3645dd1a36868f18e5\",\"0x8c835dfaa34e2ae61775e80ee29e2c724c6ae2bb\",\"0x8c835dfaa34e2ae61775e80ee29e2c724c6ae2bb\",\"0x86f1e0420c26a858fc203a3645dd1a36868f18e5\",\"0x8c835dfaa34e2ae61775e80ee29e2c724c6ae2bb\",\"0x8c835dfaa34e2ae61775e80ee29e2c724c6ae2bb\",\"0x8c835dfaa34e2ae61775e80ee29e2c724c6ae2bb\",\"0x86f1e0420c26a858fc203a3645dd1a36868f18e5\",\"0x8c835dfaa34e2ae61775e80ee29e2c724c6ae2bb\",\"0x86f1e0420c26a858fc203a3645dd1a36868f18e5\",\"0x8c835dfaa34e2ae61775e80ee29e2c724c6ae2bb\",\"0x86f1e0420c26a858fc203a3645dd1a36868f18e5\",\"0x8c835dfaa34e2ae61775e80ee29e2c724c6ae2bb\",\"0x8c835dfaa34e2ae61775e80ee29e2c724c6ae2bb\",\"0x86f1e0420c26a858fc203a3645dd1a36868f18e5\",\"0x8c835dfaa34e2ae61775e80ee29e2c724c6ae2bb\",\"0x86f1e0420c26a858fc203a3645dd1a36868f18e5\",\"0x8c835dfaa34e2ae61775e80ee29e2c724c6ae2bb\",\"0x8c835dfaa34e2ae61775e80ee29e2c724c6ae2bb\",\"0x86f1e0420c26a858fc203a3645dd1a36868f18e5\",\"0x8c835dfaa34e2ae61775e80ee29e2c724c6ae2bb\",\"0x8c835dfaa34e2ae61775e80ee29e2c724c6ae2bb\",\"0x86f1e0420c26a858fc203a3645dd1a36868f18e5\",\"0x8c835dfaa34e2ae61775e80ee29e2c724c6ae2bb\",\"0x8c835dfaa34e2ae61775e80ee29e2c724c6ae2bb\",\"0x8c835dfaa34e2ae61775e80ee29e2c724c6ae2bb\",\"0x86f1e0420c26a858fc203a3645dd1a36868f18e5\",\"0x8c835dfaa34e2ae61775e80ee29e2c724c6ae2bb\",\"0x86f1e0420c26a858fc203a3645dd1a36868f18e5\",\"0x8c835dfaa34e2ae61775e80ee29e2c724c6ae2bb\",\"0x8c835dfaa34e2ae61775e80ee29e2c724c6ae2bb\",\"0x86f1e0420c26a858fc203a3645dd1a36868f18e5\",\"0x8c835dfaa34e2ae61775e80ee29e2c724c6ae2bb\",\"0x8c835dfaa34e2ae61775e80ee29e2c724c6ae2bb\",\"0x86f1e0420c26a858fc203a3645dd1a36868f18e5\",\"0x8c835dfaa34e2ae61775e80ee29e2c724c6ae2bb\",\"0x86f1e0420c26a858fc203a3645dd1a36868f18e5\",\"0x8c835dfaa34e2ae61775e80ee29e2c724c6ae2bb\",\"0x86f1e0420c26a858fc203a3645dd1a36868f18e5\",\"0x8c835dfaa34e2ae61775e80ee29e2c724c6ae2bb\",\"0x86f1e0420c26a858fc203a3645dd1a36868f18e5\",\"0x8c835dfaa34e2ae61775e80ee29e2c724c6ae2bb\",\"0x8c835dfaa34e2ae61775e80ee29e2c724c6ae2bb\",\"0x8c835dfaa34e2ae61775e80ee29e2c724c6ae2bb\",\"0x8c835dfaa34e2ae61775e80ee29e2c724c6ae2bb\",\"0x8c835dfaa34e2ae61775e80ee29e2c724c6ae2bb\",\"0x8c835dfaa34e2ae61775e80ee29e2c724c6ae2bb\",\"0x8c835dfaa34e2ae61775e80ee29e2c724c6ae2bb\",\"0x8c835dfaa34e2ae61775e80ee29e2c724c6ae2bb\",\"0x8c835dfaa34e2ae61775e80ee29e2c724c6ae2bb\",\"0x8c835dfaa34e2ae61775e80ee29e2c724c6ae2bb\",\"0x8c835dfaa34e2ae61775e80ee29e2c724c6ae2bb\",\"0x8c835dfaa34e2ae61775e80ee29e2c724c6ae2bb\",\"0x8c835dfaa34e2ae61775e80ee29e2c724c6ae2bb\",\"0x8c835dfaa34e2ae61775e80ee29e2c724c6ae2bb\",\"0x8c835dfaa34e2ae61775e80ee29e2c724c6ae2bb\",\"0x8c835dfaa34e2ae61775e80ee29e2c724c6ae2bb\",\"0x8c835dfaa34e2ae61775e80ee29e2c724c6ae2bb\",\"0x8c835dfaa34e2ae61775e80ee29e2c724c6ae2bb\",\"0x8c835dfaa34e2ae61775e80ee29e2c724c6ae2bb\",\"0x8c835dfaa34e2ae61775e80ee29e2c724c6ae2bb\",\"0x8c835dfaa34e2ae61775e80ee29e2c724c6ae2bb\",\"0x8c835dfaa34e2ae61775e80ee29e2c724c6ae2bb\",\"0x8c835dfaa34e2ae61775e80ee29e2c724c6ae2bb\",\"0x8c835dfaa34e2ae61775e80ee29e2c724c6ae2bb\",\"0x8c835dfaa34e2ae61775e80ee29e2c724c6ae2bb\",\"0x8c835dfaa34e2ae61775e80ee29e2c724c6ae2bb\",\"0x86f1e0420c26a858fc203a3645dd1a36868f18e5\",\"0x8c835dfaa34e2ae61775e80ee29e2c724c6ae2bb\",\"0x8c835dfaa34e2ae61775e80ee29e2c724c6ae2bb\",\"0x8c835dfaa34e2ae61775e80ee29e2c724c6ae2bb\",\"0x8c835dfaa34e2ae61775e80ee29e2c724c6ae2bb\",\"0x8c835dfaa34e2ae61775e80ee29e2c724c6ae2bb\",\"0x8c835dfaa34e2ae61775e80ee29e2c724c6ae2bb\",\"0x8c835dfaa34e2ae61775e80ee29e2c724c6ae2bb\",\"0x8c835dfaa34e2ae61775e80ee29e2c724c6ae2bb\",\"0x8c835dfaa34e2ae61775e80ee29e2c724c6ae2bb\",\"0x8c835dfaa34e2ae61775e80ee29e2c724c6ae2bb\",\"0x8c835dfaa34e2ae61775e80ee29e2c724c6ae2bb\",\"0x8c835dfaa34e2ae61775e80ee29e2c724c6ae2bb\",\"0x8c835dfaa34e2ae61775e80ee29e2c724c6ae2bb\"],\"xaxis\":\"x\",\"y\":[1638003992,1638003992,1638003992,1638006797,1638001497,1638007815,1638007815,1638007815,1638001245,1638007815,1638007815,1638007815,1638001245,1638007967,1638007967,1638007967,1638001245,1638007967,1638007967,1638001245,1638001245,1638001245,1638001245,1638001140,1638001140,1638001140,1638004141,1638004141,1638004141,1638004141,1638006797,1638004141,1638004141,1638004141,1638006797,1638004141,1638004141,1638004141,1638006797,1638004141,1638003992,1638003992,1638003992,1638006797,1638001140,1638004521,1638004359,1638004359,1638005943,1638004340,1638004340,1638004325,1638005943,1638004141,1638004141,1638004141,1638004141,1638006355,1638004141,1638004141,1638006797,1638004141,1638004141,1638095672,1638004141,1638095672,1638004141,1638006797,1638095672,1638004141,1638004141,1638095672,1638004141,1638095672,1638001140,1638006797,1638004141,1638095672,1638004141,1638095672,1638004141,1638095672,1638006797,1638095672,1638001497,1638086413,1638095672,1638086413,1638086413,1638006797,1638095672,1638001245,1638087619,1638095672,1638085063,1638095672,1638085063,1638095672,1638006797,1638084887,1638095595,1638001245,1638087619,1638084887,1638095595,1638095595,1638001245,1638090514,1638095672,1638001245,1638001245,1638001140,1638095672,1638001140,1638001140,1638001140,1638001140,1638095672,1638001140,1638092191,1638092201,1638090514,1638092329,1638092358,1638092358,1638090264,1638092358,1638496934,1638492489,1638092358,1638493137,1638496934,1638492445,1638092358,1638492445,1638493288,1638496934,1638092358,1638493288,1638090264,1638492382,1638496340,1638492160,1638092470,1638496340,1638493288,1638496165,1638492160,1638493288,1638092927,1638491906,1638493288,1638495832,1638094776,1638491906,1638493555,1638089975,1638495678,1638491906,1638095110,1638491716,1638493555,1638095110,1638491716,1638491604,1638095110,1638085063,1638491256,1638087601,1638085063,1638095202,1638491256,1638095202,1638491256,1638085063,1638491155,1638085063,1638095202,1638491045,1638087488,1638491045,1638095202,1638085063,1638490701,1638095202,1638086413,1638488556,1638086413,1638095202,1638086413,1638488390,1638095316,1638488390,1638095316,1638095393,1638487075,1638095393,1638095398,1638487075,1638095398,1638486983,1638095595,1638486649,1638095595,1638486549,1638095595,1638488390,1638490701,1638488390,1638490701,1638490701,1638491045,1638488390,1638491155,1638495123,1638488327,1638491256,1638491256,1638488261,1638488261,1638482453,1638488261,1638484004,1638482453,1638484306,1638488103,1638484306,1638484306,1638484306,1638095595,1638095595,1638484716,1638095595,1638095672,1638095672,1638090695,1638092099,1638095672,1638095672,1638095672,1638095672,1638095672,1638095672,1638095672,1638095672],\"yaxis\":\"y\",\"type\":\"bar\"},{\"alignmentgroup\":\"True\",\"hovertemplate\":\"trader=0xb11c2b8fbf1d74e3389372f0592fbfa5a6a0927e<br>baseToken=%{x}<br>timestamp=%{y}<extra></extra>\",\"legendgroup\":\"0xb11c2b8fbf1d74e3389372f0592fbfa5a6a0927e\",\"marker\":{\"color\":\"#FFA15A\",\"pattern\":{\"shape\":\"\"}},\"name\":\"0xb11c2b8fbf1d74e3389372f0592fbfa5a6a0927e\",\"offsetgroup\":\"0xb11c2b8fbf1d74e3389372f0592fbfa5a6a0927e\",\"orientation\":\"v\",\"showlegend\":true,\"textposition\":\"auto\",\"x\":[\"0x151bb01c79f4516c233948d69dae39869bccb737\",\"0x151bb01c79f4516c233948d69dae39869bccb737\",\"0x151bb01c79f4516c233948d69dae39869bccb737\",\"0x151bb01c79f4516c233948d69dae39869bccb737\",\"0x151bb01c79f4516c233948d69dae39869bccb737\",\"0x151bb01c79f4516c233948d69dae39869bccb737\",\"0x151bb01c79f4516c233948d69dae39869bccb737\",\"0x151bb01c79f4516c233948d69dae39869bccb737\",\"0x151bb01c79f4516c233948d69dae39869bccb737\",\"0x151bb01c79f4516c233948d69dae39869bccb737\",\"0x151bb01c79f4516c233948d69dae39869bccb737\",\"0x151bb01c79f4516c233948d69dae39869bccb737\",\"0x151bb01c79f4516c233948d69dae39869bccb737\",\"0x151bb01c79f4516c233948d69dae39869bccb737\",\"0x151bb01c79f4516c233948d69dae39869bccb737\",\"0x151bb01c79f4516c233948d69dae39869bccb737\",\"0x151bb01c79f4516c233948d69dae39869bccb737\"],\"xaxis\":\"x\",\"y\":[1654609705,1654615985,1654609880,1654615985,1654609865,1654616271,1654609850,1654609835,1654616286,1654609835,1654616301,1654609805,1654609564,1654616301,1654618503,1654618535,1654618550],\"yaxis\":\"y\",\"type\":\"bar\"},{\"alignmentgroup\":\"True\",\"hovertemplate\":\"trader=0x0136e94a86328c4a4108e51cf078b54314b6fbb0<br>baseToken=%{x}<br>timestamp=%{y}<extra></extra>\",\"legendgroup\":\"0x0136e94a86328c4a4108e51cf078b54314b6fbb0\",\"marker\":{\"color\":\"#19d3f3\",\"pattern\":{\"shape\":\"\"}},\"name\":\"0x0136e94a86328c4a4108e51cf078b54314b6fbb0\",\"offsetgroup\":\"0x0136e94a86328c4a4108e51cf078b54314b6fbb0\",\"orientation\":\"v\",\"showlegend\":true,\"textposition\":\"auto\",\"x\":[\"0xb6599bd362120dc70d48409b8a08888807050700\",\"0xb6599bd362120dc70d48409b8a08888807050700\"],\"xaxis\":\"x\",\"y\":[1654609880,1654609579],\"yaxis\":\"y\",\"type\":\"bar\"},{\"alignmentgroup\":\"True\",\"hovertemplate\":\"trader=0xc57019e77aba3774309fc1715dec5dd59e413c0d<br>baseToken=%{x}<br>timestamp=%{y}<extra></extra>\",\"legendgroup\":\"0xc57019e77aba3774309fc1715dec5dd59e413c0d\",\"marker\":{\"color\":\"#FF6692\",\"pattern\":{\"shape\":\"\"}},\"name\":\"0xc57019e77aba3774309fc1715dec5dd59e413c0d\",\"offsetgroup\":\"0xc57019e77aba3774309fc1715dec5dd59e413c0d\",\"orientation\":\"v\",\"showlegend\":true,\"textposition\":\"auto\",\"x\":[\"0x77d0cc9568605bfff32f918c8ffaa53f72901416\",\"0x77d0cc9568605bfff32f918c8ffaa53f72901416\",\"0x77d0cc9568605bfff32f918c8ffaa53f72901416\",\"0x77d0cc9568605bfff32f918c8ffaa53f72901416\"],\"xaxis\":\"x\",\"y\":[1654609547,1654618580,1654618520,1654615746],\"yaxis\":\"y\",\"type\":\"bar\"},{\"alignmentgroup\":\"True\",\"hovertemplate\":\"trader=0x4b4f526b450c75f3cb0e9aa0a0b5480e4b0c478a<br>baseToken=%{x}<br>timestamp=%{y}<extra></extra>\",\"legendgroup\":\"0x4b4f526b450c75f3cb0e9aa0a0b5480e4b0c478a\",\"marker\":{\"color\":\"#B6E880\",\"pattern\":{\"shape\":\"\"}},\"name\":\"0x4b4f526b450c75f3cb0e9aa0a0b5480e4b0c478a\",\"offsetgroup\":\"0x4b4f526b450c75f3cb0e9aa0a0b5480e4b0c478a\",\"orientation\":\"v\",\"showlegend\":true,\"textposition\":\"auto\",\"x\":[\"0x151bb01c79f4516c233948d69dae39869bccb737\",\"0x151bb01c79f4516c233948d69dae39869bccb737\",\"0x151bb01c79f4516c233948d69dae39869bccb737\",\"0x151bb01c79f4516c233948d69dae39869bccb737\",\"0x151bb01c79f4516c233948d69dae39869bccb737\",\"0x151bb01c79f4516c233948d69dae39869bccb737\",\"0x151bb01c79f4516c233948d69dae39869bccb737\"],\"xaxis\":\"x\",\"y\":[1654616301,1654609880,1654609880,1654609865,1654609705,1654615746,1654618503],\"yaxis\":\"y\",\"type\":\"bar\"},{\"alignmentgroup\":\"True\",\"hovertemplate\":\"trader=0x42105fbc01ac7af7b86dda6999f57c4edcde2f9d<br>baseToken=%{x}<br>timestamp=%{y}<extra></extra>\",\"legendgroup\":\"0x42105fbc01ac7af7b86dda6999f57c4edcde2f9d\",\"marker\":{\"color\":\"#FF97FF\",\"pattern\":{\"shape\":\"\"}},\"name\":\"0x42105fbc01ac7af7b86dda6999f57c4edcde2f9d\",\"offsetgroup\":\"0x42105fbc01ac7af7b86dda6999f57c4edcde2f9d\",\"orientation\":\"v\",\"showlegend\":true,\"textposition\":\"auto\",\"x\":[\"0x7eada83e15acd08d22ad85a1dce92e5a257acb92\",\"0x7eada83e15acd08d22ad85a1dce92e5a257acb92\",\"0x7eada83e15acd08d22ad85a1dce92e5a257acb92\",\"0x7eada83e15acd08d22ad85a1dce92e5a257acb92\",\"0x7eada83e15acd08d22ad85a1dce92e5a257acb92\"],\"xaxis\":\"x\",\"y\":[1654609880,1654609880,1654615746,1654615795,1654618580],\"yaxis\":\"y\",\"type\":\"bar\"},{\"alignmentgroup\":\"True\",\"hovertemplate\":\"trader=0x2d511a6c196482b114aa4d3262b31da40c3584b0<br>baseToken=%{x}<br>timestamp=%{y}<extra></extra>\",\"legendgroup\":\"0x2d511a6c196482b114aa4d3262b31da40c3584b0\",\"marker\":{\"color\":\"#FECB52\",\"pattern\":{\"shape\":\"\"}},\"name\":\"0x2d511a6c196482b114aa4d3262b31da40c3584b0\",\"offsetgroup\":\"0x2d511a6c196482b114aa4d3262b31da40c3584b0\",\"orientation\":\"v\",\"showlegend\":true,\"textposition\":\"auto\",\"x\":[\"0xbe5de48197fc974600929196239e264ecb703ee8\",\"0xbe5de48197fc974600929196239e264ecb703ee8\",\"0xbe5de48197fc974600929196239e264ecb703ee8\",\"0xbe5de48197fc974600929196239e264ecb703ee8\",\"0xbe5de48197fc974600929196239e264ecb703ee8\",\"0xbe5de48197fc974600929196239e264ecb703ee8\"],\"xaxis\":\"x\",\"y\":[1654609880,1654609865,1654609564,1654609547,1654609374,1654615746],\"yaxis\":\"y\",\"type\":\"bar\"},{\"alignmentgroup\":\"True\",\"hovertemplate\":\"trader=0x906631082fd940e83412751b446e57109bae55ce<br>baseToken=%{x}<br>timestamp=%{y}<extra></extra>\",\"legendgroup\":\"0x906631082fd940e83412751b446e57109bae55ce\",\"marker\":{\"color\":\"#636efa\",\"pattern\":{\"shape\":\"\"}},\"name\":\"0x906631082fd940e83412751b446e57109bae55ce\",\"offsetgroup\":\"0x906631082fd940e83412751b446e57109bae55ce\",\"orientation\":\"v\",\"showlegend\":true,\"textposition\":\"auto\",\"x\":[\"0x151bb01c79f4516c233948d69dae39869bccb737\",\"0x151bb01c79f4516c233948d69dae39869bccb737\",\"0x9d34f1d15c22e4c0924804e2a38cbe93dfb84bc2\",\"0xb6599bd362120dc70d48409b8a08888807050700\"],\"xaxis\":\"x\",\"y\":[1654609626,1654609880,1654609454,1654609579],\"yaxis\":\"y\",\"type\":\"bar\"},{\"alignmentgroup\":\"True\",\"hovertemplate\":\"trader=0xa006f57697b6a64c4c552d6d6795f9964d6a905c<br>baseToken=%{x}<br>timestamp=%{y}<extra></extra>\",\"legendgroup\":\"0xa006f57697b6a64c4c552d6d6795f9964d6a905c\",\"marker\":{\"color\":\"#EF553B\",\"pattern\":{\"shape\":\"\"}},\"name\":\"0xa006f57697b6a64c4c552d6d6795f9964d6a905c\",\"offsetgroup\":\"0xa006f57697b6a64c4c552d6d6795f9964d6a905c\",\"orientation\":\"v\",\"showlegend\":true,\"textposition\":\"auto\",\"x\":[\"0x2f198182ec54469195a4a06262a9431a42462373\",\"0x2f198182ec54469195a4a06262a9431a42462373\",\"0x2f198182ec54469195a4a06262a9431a42462373\",\"0x2f198182ec54469195a4a06262a9431a42462373\"],\"xaxis\":\"x\",\"y\":[1654609895,1654609547,1654615795,1654615746],\"yaxis\":\"y\",\"type\":\"bar\"},{\"alignmentgroup\":\"True\",\"hovertemplate\":\"trader=0xc0a13a3850b7a01e068e18edb1918d091cb10e4a<br>baseToken=%{x}<br>timestamp=%{y}<extra></extra>\",\"legendgroup\":\"0xc0a13a3850b7a01e068e18edb1918d091cb10e4a\",\"marker\":{\"color\":\"#00cc96\",\"pattern\":{\"shape\":\"\"}},\"name\":\"0xc0a13a3850b7a01e068e18edb1918d091cb10e4a\",\"offsetgroup\":\"0xc0a13a3850b7a01e068e18edb1918d091cb10e4a\",\"orientation\":\"v\",\"showlegend\":true,\"textposition\":\"auto\",\"x\":[\"0xb6599bd362120dc70d48409b8a08888807050700\",\"0xb6599bd362120dc70d48409b8a08888807050700\",\"0x2db8d2db86ca3a4c7040e778244451776570359b\",\"0x2db8d2db86ca3a4c7040e778244451776570359b\",\"0x2db8d2db86ca3a4c7040e778244451776570359b\"],\"xaxis\":\"x\",\"y\":[1654598237,1654598345,1654598746,1654598501,1654597871],\"yaxis\":\"y\",\"type\":\"bar\"},{\"alignmentgroup\":\"True\",\"hovertemplate\":\"trader=0x7b1c7785363d0f1fb910f3258bdfa6ffd7052f99<br>baseToken=%{x}<br>timestamp=%{y}<extra></extra>\",\"legendgroup\":\"0x7b1c7785363d0f1fb910f3258bdfa6ffd7052f99\",\"marker\":{\"color\":\"#ab63fa\",\"pattern\":{\"shape\":\"\"}},\"name\":\"0x7b1c7785363d0f1fb910f3258bdfa6ffd7052f99\",\"offsetgroup\":\"0x7b1c7785363d0f1fb910f3258bdfa6ffd7052f99\",\"orientation\":\"v\",\"showlegend\":true,\"textposition\":\"auto\",\"x\":[\"0x9d34f1d15c22e4c0924804e2a38cbe93dfb84bc2\",\"0x9482aafdced6b899626f465e1fa0cf1b1418d797\",\"0x9d34f1d15c22e4c0924804e2a38cbe93dfb84bc2\"],\"xaxis\":\"x\",\"y\":[1654609454,1654618580,1654618535],\"yaxis\":\"y\",\"type\":\"bar\"},{\"alignmentgroup\":\"True\",\"hovertemplate\":\"trader=0xaeaba55e6f839946a94a8b651b44bd7ed66dc60b<br>baseToken=%{x}<br>timestamp=%{y}<extra></extra>\",\"legendgroup\":\"0xaeaba55e6f839946a94a8b651b44bd7ed66dc60b\",\"marker\":{\"color\":\"#FFA15A\",\"pattern\":{\"shape\":\"\"}},\"name\":\"0xaeaba55e6f839946a94a8b651b44bd7ed66dc60b\",\"offsetgroup\":\"0xaeaba55e6f839946a94a8b651b44bd7ed66dc60b\",\"orientation\":\"v\",\"showlegend\":true,\"textposition\":\"auto\",\"x\":[\"0x7161c3416e08abaa5cd38e68d9a28e43a694e037\",\"0x7161c3416e08abaa5cd38e68d9a28e43a694e037\",\"0x7161c3416e08abaa5cd38e68d9a28e43a694e037\",\"0x7161c3416e08abaa5cd38e68d9a28e43a694e037\"],\"xaxis\":\"x\",\"y\":[1654609895,1654616064,1654615746,1654616126],\"yaxis\":\"y\",\"type\":\"bar\"},{\"alignmentgroup\":\"True\",\"hovertemplate\":\"trader=0x010724e01c61bbb023baa39932551e388756d0db<br>baseToken=%{x}<br>timestamp=%{y}<extra></extra>\",\"legendgroup\":\"0x010724e01c61bbb023baa39932551e388756d0db\",\"marker\":{\"color\":\"#19d3f3\",\"pattern\":{\"shape\":\"\"}},\"name\":\"0x010724e01c61bbb023baa39932551e388756d0db\",\"offsetgroup\":\"0x010724e01c61bbb023baa39932551e388756d0db\",\"orientation\":\"v\",\"showlegend\":true,\"textposition\":\"auto\",\"x\":[\"0x9482aafdced6b899626f465e1fa0cf1b1418d797\",\"0x9482aafdced6b899626f465e1fa0cf1b1418d797\",\"0x9482aafdced6b899626f465e1fa0cf1b1418d797\",\"0x9482aafdced6b899626f465e1fa0cf1b1418d797\",\"0x9482aafdced6b899626f465e1fa0cf1b1418d797\",\"0x9482aafdced6b899626f465e1fa0cf1b1418d797\",\"0x9482aafdced6b899626f465e1fa0cf1b1418d797\",\"0x9482aafdced6b899626f465e1fa0cf1b1418d797\",\"0x9482aafdced6b899626f465e1fa0cf1b1418d797\",\"0x9482aafdced6b899626f465e1fa0cf1b1418d797\",\"0x9482aafdced6b899626f465e1fa0cf1b1418d797\",\"0x9482aafdced6b899626f465e1fa0cf1b1418d797\",\"0x9482aafdced6b899626f465e1fa0cf1b1418d797\",\"0x9482aafdced6b899626f465e1fa0cf1b1418d797\",\"0x9482aafdced6b899626f465e1fa0cf1b1418d797\",\"0x9482aafdced6b899626f465e1fa0cf1b1418d797\",\"0x9482aafdced6b899626f465e1fa0cf1b1418d797\",\"0x9482aafdced6b899626f465e1fa0cf1b1418d797\",\"0x9482aafdced6b899626f465e1fa0cf1b1418d797\",\"0x9482aafdced6b899626f465e1fa0cf1b1418d797\",\"0x9482aafdced6b899626f465e1fa0cf1b1418d797\",\"0x9482aafdced6b899626f465e1fa0cf1b1418d797\",\"0x9482aafdced6b899626f465e1fa0cf1b1418d797\",\"0x9482aafdced6b899626f465e1fa0cf1b1418d797\",\"0x9482aafdced6b899626f465e1fa0cf1b1418d797\",\"0x9482aafdced6b899626f465e1fa0cf1b1418d797\",\"0x9482aafdced6b899626f465e1fa0cf1b1418d797\",\"0x9482aafdced6b899626f465e1fa0cf1b1418d797\",\"0x9482aafdced6b899626f465e1fa0cf1b1418d797\",\"0x9482aafdced6b899626f465e1fa0cf1b1418d797\",\"0x9482aafdced6b899626f465e1fa0cf1b1418d797\",\"0x9482aafdced6b899626f465e1fa0cf1b1418d797\",\"0x9482aafdced6b899626f465e1fa0cf1b1418d797\",\"0x9482aafdced6b899626f465e1fa0cf1b1418d797\",\"0x9482aafdced6b899626f465e1fa0cf1b1418d797\",\"0x9482aafdced6b899626f465e1fa0cf1b1418d797\",\"0x9482aafdced6b899626f465e1fa0cf1b1418d797\",\"0x9482aafdced6b899626f465e1fa0cf1b1418d797\",\"0x9482aafdced6b899626f465e1fa0cf1b1418d797\"],\"xaxis\":\"x\",\"y\":[1654598006,1654598161,1654598082,1654598406,1654598685,1654598654,1654598700,1654598700,1654598451,1654598731,1654598731,1654598421,1654598421,1654598761,1654598421,1654598406,1654598406,1654598390,1654598345,1654598006,1654598761,1654598390,1654598345,1654598406,1654598161,1654598731,1654598082,1654598051,1654598685,1654598421,1654598406,1654598700,1654598700,1654598501,1654598731,1654598421,1654598421,1654598406,1654598654],\"yaxis\":\"y\",\"type\":\"bar\"},{\"alignmentgroup\":\"True\",\"hovertemplate\":\"trader=0xb4419b8687eb4007bebe565593c785651bf9a03a<br>baseToken=%{x}<br>timestamp=%{y}<extra></extra>\",\"legendgroup\":\"0xb4419b8687eb4007bebe565593c785651bf9a03a\",\"marker\":{\"color\":\"#FF6692\",\"pattern\":{\"shape\":\"\"}},\"name\":\"0xb4419b8687eb4007bebe565593c785651bf9a03a\",\"offsetgroup\":\"0xb4419b8687eb4007bebe565593c785651bf9a03a\",\"orientation\":\"v\",\"showlegend\":true,\"textposition\":\"auto\",\"x\":[\"0x3fb3282e3ba34a0bff94845f1800eb93cc6850d4\",\"0x3fb3282e3ba34a0bff94845f1800eb93cc6850d4\"],\"xaxis\":\"x\",\"y\":[1654609880,1654618535],\"yaxis\":\"y\",\"type\":\"bar\"},{\"alignmentgroup\":\"True\",\"hovertemplate\":\"trader=0x3c7c74a855b1eedd72c74c6cb3f2a55e7807575a<br>baseToken=%{x}<br>timestamp=%{y}<extra></extra>\",\"legendgroup\":\"0x3c7c74a855b1eedd72c74c6cb3f2a55e7807575a\",\"marker\":{\"color\":\"#B6E880\",\"pattern\":{\"shape\":\"\"}},\"name\":\"0x3c7c74a855b1eedd72c74c6cb3f2a55e7807575a\",\"offsetgroup\":\"0x3c7c74a855b1eedd72c74c6cb3f2a55e7807575a\",\"orientation\":\"v\",\"showlegend\":true,\"textposition\":\"auto\",\"x\":[\"0x9482aafdced6b899626f465e1fa0cf1b1418d797\",\"0x9482aafdced6b899626f465e1fa0cf1b1418d797\"],\"xaxis\":\"x\",\"y\":[1654618580,1654598006],\"yaxis\":\"y\",\"type\":\"bar\"},{\"alignmentgroup\":\"True\",\"hovertemplate\":\"trader=0x3ee92198ac312ee414e28ff8a8cd2e6732714164<br>baseToken=%{x}<br>timestamp=%{y}<extra></extra>\",\"legendgroup\":\"0x3ee92198ac312ee414e28ff8a8cd2e6732714164\",\"marker\":{\"color\":\"#FF97FF\",\"pattern\":{\"shape\":\"\"}},\"name\":\"0x3ee92198ac312ee414e28ff8a8cd2e6732714164\",\"offsetgroup\":\"0x3ee92198ac312ee414e28ff8a8cd2e6732714164\",\"orientation\":\"v\",\"showlegend\":true,\"textposition\":\"auto\",\"x\":[\"0x3fb3282e3ba34a0bff94845f1800eb93cc6850d4\"],\"xaxis\":\"x\",\"y\":[1654609895],\"yaxis\":\"y\",\"type\":\"bar\"},{\"alignmentgroup\":\"True\",\"hovertemplate\":\"trader=0xd8bcd1e2f0e96a3402fd678b0b2eaceb80e1c226<br>baseToken=%{x}<br>timestamp=%{y}<extra></extra>\",\"legendgroup\":\"0xd8bcd1e2f0e96a3402fd678b0b2eaceb80e1c226\",\"marker\":{\"color\":\"#FECB52\",\"pattern\":{\"shape\":\"\"}},\"name\":\"0xd8bcd1e2f0e96a3402fd678b0b2eaceb80e1c226\",\"offsetgroup\":\"0xd8bcd1e2f0e96a3402fd678b0b2eaceb80e1c226\",\"orientation\":\"v\",\"showlegend\":true,\"textposition\":\"auto\",\"x\":[\"0x34235c8489b06482a99bb7fcab6d7c467b92d248\",\"0x34235c8489b06482a99bb7fcab6d7c467b92d248\",\"0x9d34f1d15c22e4c0924804e2a38cbe93dfb84bc2\",\"0xbe5de48197fc974600929196239e264ecb703ee8\",\"0xbe5de48197fc974600929196239e264ecb703ee8\",\"0xbe5de48197fc974600929196239e264ecb703ee8\"],\"xaxis\":\"x\",\"y\":[1654618535,1654618899,1654615875,1654609394,1654609579,1654609865],\"yaxis\":\"y\",\"type\":\"bar\"},{\"alignmentgroup\":\"True\",\"hovertemplate\":\"trader=0xd636c25a4ef5ae9bacf6959b0f7af26780c9e123<br>baseToken=%{x}<br>timestamp=%{y}<extra></extra>\",\"legendgroup\":\"0xd636c25a4ef5ae9bacf6959b0f7af26780c9e123\",\"marker\":{\"color\":\"#636efa\",\"pattern\":{\"shape\":\"\"}},\"name\":\"0xd636c25a4ef5ae9bacf6959b0f7af26780c9e123\",\"offsetgroup\":\"0xd636c25a4ef5ae9bacf6959b0f7af26780c9e123\",\"orientation\":\"v\",\"showlegend\":true,\"textposition\":\"auto\",\"x\":[\"0x151bb01c79f4516c233948d69dae39869bccb737\"],\"xaxis\":\"x\",\"y\":[1654618610],\"yaxis\":\"y\",\"type\":\"bar\"},{\"alignmentgroup\":\"True\",\"hovertemplate\":\"trader=0x6584faf779b43aec9290a1943162d6ca5051ad6a<br>baseToken=%{x}<br>timestamp=%{y}<extra></extra>\",\"legendgroup\":\"0x6584faf779b43aec9290a1943162d6ca5051ad6a\",\"marker\":{\"color\":\"#EF553B\",\"pattern\":{\"shape\":\"\"}},\"name\":\"0x6584faf779b43aec9290a1943162d6ca5051ad6a\",\"offsetgroup\":\"0x6584faf779b43aec9290a1943162d6ca5051ad6a\",\"orientation\":\"v\",\"showlegend\":true,\"textposition\":\"auto\",\"x\":[\"0x5faa136fc58b6136ffdaeaac320076c4865c070f\",\"0x5faa136fc58b6136ffdaeaac320076c4865c070f\",\"0x5faa136fc58b6136ffdaeaac320076c4865c070f\",\"0x5faa136fc58b6136ffdaeaac320076c4865c070f\",\"0x5faa136fc58b6136ffdaeaac320076c4865c070f\"],\"xaxis\":\"x\",\"y\":[1654597961,1654598268,1654598516,1654598284,1654598654],\"yaxis\":\"y\",\"type\":\"bar\"},{\"alignmentgroup\":\"True\",\"hovertemplate\":\"trader=0x6541e4d0f50a82544401b1e0721626415a37de99<br>baseToken=%{x}<br>timestamp=%{y}<extra></extra>\",\"legendgroup\":\"0x6541e4d0f50a82544401b1e0721626415a37de99\",\"marker\":{\"color\":\"#00cc96\",\"pattern\":{\"shape\":\"\"}},\"name\":\"0x6541e4d0f50a82544401b1e0721626415a37de99\",\"offsetgroup\":\"0x6541e4d0f50a82544401b1e0721626415a37de99\",\"orientation\":\"v\",\"showlegend\":true,\"textposition\":\"auto\",\"x\":[\"0x8c835dfaa34e2ae61775e80ee29e2c724c6ae2bb\",\"0x8c835dfaa34e2ae61775e80ee29e2c724c6ae2bb\",\"0x8c835dfaa34e2ae61775e80ee29e2c724c6ae2bb\",\"0x86f1e0420c26a858fc203a3645dd1a36868f18e5\",\"0x86f1e0420c26a858fc203a3645dd1a36868f18e5\",\"0x86f1e0420c26a858fc203a3645dd1a36868f18e5\",\"0x86f1e0420c26a858fc203a3645dd1a36868f18e5\",\"0xb6599bd362120dc70d48409b8a08888807050700\",\"0xb6599bd362120dc70d48409b8a08888807050700\",\"0x8c835dfaa34e2ae61775e80ee29e2c724c6ae2bb\",\"0x8c835dfaa34e2ae61775e80ee29e2c724c6ae2bb\",\"0xb6599bd362120dc70d48409b8a08888807050700\",\"0x86f1e0420c26a858fc203a3645dd1a36868f18e5\",\"0x86f1e0420c26a858fc203a3645dd1a36868f18e5\",\"0x86f1e0420c26a858fc203a3645dd1a36868f18e5\",\"0x8c835dfaa34e2ae61775e80ee29e2c724c6ae2bb\"],\"xaxis\":\"x\",\"y\":[1654609579,1654609705,1654609865,1654615795,1654615810,1654618580,1654615825,1654615746,1654616505,1654615746,1654616505,1654609564,1654598516,1654609865,1654609880,1654609705],\"yaxis\":\"y\",\"type\":\"bar\"},{\"alignmentgroup\":\"True\",\"hovertemplate\":\"trader=0x8fb5c6f3c336033deeedbb54ad95e96453c9eaa4<br>baseToken=%{x}<br>timestamp=%{y}<extra></extra>\",\"legendgroup\":\"0x8fb5c6f3c336033deeedbb54ad95e96453c9eaa4\",\"marker\":{\"color\":\"#ab63fa\",\"pattern\":{\"shape\":\"\"}},\"name\":\"0x8fb5c6f3c336033deeedbb54ad95e96453c9eaa4\",\"offsetgroup\":\"0x8fb5c6f3c336033deeedbb54ad95e96453c9eaa4\",\"orientation\":\"v\",\"showlegend\":true,\"textposition\":\"auto\",\"x\":[\"0x151bb01c79f4516c233948d69dae39869bccb737\",\"0x151bb01c79f4516c233948d69dae39869bccb737\",\"0x2db8d2db86ca3a4c7040e778244451776570359b\"],\"xaxis\":\"x\",\"y\":[1654609880,1654609564,1654609579],\"yaxis\":\"y\",\"type\":\"bar\"},{\"alignmentgroup\":\"True\",\"hovertemplate\":\"trader=0xfd7b219f946087dd75fbf3630bc674f347dafeee<br>baseToken=%{x}<br>timestamp=%{y}<extra></extra>\",\"legendgroup\":\"0xfd7b219f946087dd75fbf3630bc674f347dafeee\",\"marker\":{\"color\":\"#FFA15A\",\"pattern\":{\"shape\":\"\"}},\"name\":\"0xfd7b219f946087dd75fbf3630bc674f347dafeee\",\"offsetgroup\":\"0xfd7b219f946087dd75fbf3630bc674f347dafeee\",\"orientation\":\"v\",\"showlegend\":true,\"textposition\":\"auto\",\"x\":[\"0x7161c3416e08abaa5cd38e68d9a28e43a694e037\",\"0x7161c3416e08abaa5cd38e68d9a28e43a694e037\",\"0x7161c3416e08abaa5cd38e68d9a28e43a694e037\",\"0x8c835dfaa34e2ae61775e80ee29e2c724c6ae2bb\"],\"xaxis\":\"x\",\"y\":[1654609564,1654609611,1654609531,1654609880],\"yaxis\":\"y\",\"type\":\"bar\"},{\"alignmentgroup\":\"True\",\"hovertemplate\":\"trader=0xfb5b0cc554b76530a1114e250d2cf631e3022497<br>baseToken=%{x}<br>timestamp=%{y}<extra></extra>\",\"legendgroup\":\"0xfb5b0cc554b76530a1114e250d2cf631e3022497\",\"marker\":{\"color\":\"#19d3f3\",\"pattern\":{\"shape\":\"\"}},\"name\":\"0xfb5b0cc554b76530a1114e250d2cf631e3022497\",\"offsetgroup\":\"0xfb5b0cc554b76530a1114e250d2cf631e3022497\",\"orientation\":\"v\",\"showlegend\":true,\"textposition\":\"auto\",\"x\":[\"0x34235c8489b06482a99bb7fcab6d7c467b92d248\",\"0x34235c8489b06482a99bb7fcab6d7c467b92d248\"],\"xaxis\":\"x\",\"y\":[1654616286,1654616301],\"yaxis\":\"y\",\"type\":\"bar\"},{\"alignmentgroup\":\"True\",\"hovertemplate\":\"trader=0xb19457e5a8b3c956cc023ff22d1509c91f1e028c<br>baseToken=%{x}<br>timestamp=%{y}<extra></extra>\",\"legendgroup\":\"0xb19457e5a8b3c956cc023ff22d1509c91f1e028c\",\"marker\":{\"color\":\"#FF6692\",\"pattern\":{\"shape\":\"\"}},\"name\":\"0xb19457e5a8b3c956cc023ff22d1509c91f1e028c\",\"offsetgroup\":\"0xb19457e5a8b3c956cc023ff22d1509c91f1e028c\",\"orientation\":\"v\",\"showlegend\":true,\"textposition\":\"auto\",\"x\":[\"0x333b1ea429a88d0dd48ce7c06c16609cd76f43a8\"],\"xaxis\":\"x\",\"y\":[1654615746],\"yaxis\":\"y\",\"type\":\"bar\"},{\"alignmentgroup\":\"True\",\"hovertemplate\":\"trader=0xd7de65b79d01a94f8e0acc2c82c5520cc31bc927<br>baseToken=%{x}<br>timestamp=%{y}<extra></extra>\",\"legendgroup\":\"0xd7de65b79d01a94f8e0acc2c82c5520cc31bc927\",\"marker\":{\"color\":\"#B6E880\",\"pattern\":{\"shape\":\"\"}},\"name\":\"0xd7de65b79d01a94f8e0acc2c82c5520cc31bc927\",\"offsetgroup\":\"0xd7de65b79d01a94f8e0acc2c82c5520cc31bc927\",\"orientation\":\"v\",\"showlegend\":true,\"textposition\":\"auto\",\"x\":[\"0x34235c8489b06482a99bb7fcab6d7c467b92d248\",\"0x2f198182ec54469195a4a06262a9431a42462373\",\"0x2f198182ec54469195a4a06262a9431a42462373\"],\"xaxis\":\"x\",\"y\":[1654609865,1654609547,1654609705],\"yaxis\":\"y\",\"type\":\"bar\"},{\"alignmentgroup\":\"True\",\"hovertemplate\":\"trader=0xdab8a2e0b213ec8447d4f7cdb783d53ed3428b7a<br>baseToken=%{x}<br>timestamp=%{y}<extra></extra>\",\"legendgroup\":\"0xdab8a2e0b213ec8447d4f7cdb783d53ed3428b7a\",\"marker\":{\"color\":\"#FF97FF\",\"pattern\":{\"shape\":\"\"}},\"name\":\"0xdab8a2e0b213ec8447d4f7cdb783d53ed3428b7a\",\"offsetgroup\":\"0xdab8a2e0b213ec8447d4f7cdb783d53ed3428b7a\",\"orientation\":\"v\",\"showlegend\":true,\"textposition\":\"auto\",\"x\":[\"0x3fb3282e3ba34a0bff94845f1800eb93cc6850d4\",\"0x5f714b5347f0b5de9f9598e39840e176ce889b9c\",\"0x77d0cc9568605bfff32f918c8ffaa53f72901416\",\"0x5f714b5347f0b5de9f9598e39840e176ce889b9c\",\"0x5f714b5347f0b5de9f9598e39840e176ce889b9c\"],\"xaxis\":\"x\",\"y\":[1654609439,1654615825,1654609720,1654615746,1654615746],\"yaxis\":\"y\",\"type\":\"bar\"},{\"alignmentgroup\":\"True\",\"hovertemplate\":\"trader=0xafc282446841cf1cb3f334f55cbdfd705eeb6252<br>baseToken=%{x}<br>timestamp=%{y}<extra></extra>\",\"legendgroup\":\"0xafc282446841cf1cb3f334f55cbdfd705eeb6252\",\"marker\":{\"color\":\"#FECB52\",\"pattern\":{\"shape\":\"\"}},\"name\":\"0xafc282446841cf1cb3f334f55cbdfd705eeb6252\",\"offsetgroup\":\"0xafc282446841cf1cb3f334f55cbdfd705eeb6252\",\"orientation\":\"v\",\"showlegend\":true,\"textposition\":\"auto\",\"x\":[\"0x2db8d2db86ca3a4c7040e778244451776570359b\",\"0x2db8d2db86ca3a4c7040e778244451776570359b\",\"0x2db8d2db86ca3a4c7040e778244451776570359b\"],\"xaxis\":\"x\",\"y\":[1654609805,1654616301,1654618550],\"yaxis\":\"y\",\"type\":\"bar\"},{\"alignmentgroup\":\"True\",\"hovertemplate\":\"trader=0x59681f406463b5488891cec240ff7efdc02a6490<br>baseToken=%{x}<br>timestamp=%{y}<extra></extra>\",\"legendgroup\":\"0x59681f406463b5488891cec240ff7efdc02a6490\",\"marker\":{\"color\":\"#636efa\",\"pattern\":{\"shape\":\"\"}},\"name\":\"0x59681f406463b5488891cec240ff7efdc02a6490\",\"offsetgroup\":\"0x59681f406463b5488891cec240ff7efdc02a6490\",\"orientation\":\"v\",\"showlegend\":true,\"textposition\":\"auto\",\"x\":[\"0x9482aafdced6b899626f465e1fa0cf1b1418d797\",\"0x86f1e0420c26a858fc203a3645dd1a36868f18e5\",\"0x86f1e0420c26a858fc203a3645dd1a36868f18e5\",\"0x86f1e0420c26a858fc203a3645dd1a36868f18e5\"],\"xaxis\":\"x\",\"y\":[1654618853,1654618962,1654618595,1654618441],\"yaxis\":\"y\",\"type\":\"bar\"},{\"alignmentgroup\":\"True\",\"hovertemplate\":\"trader=0xd94606128b20680539a719b07bca6cbc30786a28<br>baseToken=%{x}<br>timestamp=%{y}<extra></extra>\",\"legendgroup\":\"0xd94606128b20680539a719b07bca6cbc30786a28\",\"marker\":{\"color\":\"#EF553B\",\"pattern\":{\"shape\":\"\"}},\"name\":\"0xd94606128b20680539a719b07bca6cbc30786a28\",\"offsetgroup\":\"0xd94606128b20680539a719b07bca6cbc30786a28\",\"orientation\":\"v\",\"showlegend\":true,\"textposition\":\"auto\",\"x\":[\"0x333b1ea429a88d0dd48ce7c06c16609cd76f43a8\",\"0x34235c8489b06482a99bb7fcab6d7c467b92d248\",\"0x9482aafdced6b899626f465e1fa0cf1b1418d797\",\"0x5f714b5347f0b5de9f9598e39840e176ce889b9c\",\"0x9482aafdced6b899626f465e1fa0cf1b1418d797\",\"0x333b1ea429a88d0dd48ce7c06c16609cd76f43a8\",\"0x9482aafdced6b899626f465e1fa0cf1b1418d797\"],\"xaxis\":\"x\",\"y\":[1654609564,1654609720,1654615795,1654616301,1654598161,1654616271,1654609865],\"yaxis\":\"y\",\"type\":\"bar\"},{\"alignmentgroup\":\"True\",\"hovertemplate\":\"trader=0x3205dbab7b8d704ed05bc72234178d61058c10ca<br>baseToken=%{x}<br>timestamp=%{y}<extra></extra>\",\"legendgroup\":\"0x3205dbab7b8d704ed05bc72234178d61058c10ca\",\"marker\":{\"color\":\"#00cc96\",\"pattern\":{\"shape\":\"\"}},\"name\":\"0x3205dbab7b8d704ed05bc72234178d61058c10ca\",\"offsetgroup\":\"0x3205dbab7b8d704ed05bc72234178d61058c10ca\",\"orientation\":\"v\",\"showlegend\":true,\"textposition\":\"auto\",\"x\":[\"0xbe5de48197fc974600929196239e264ecb703ee8\",\"0xb6599bd362120dc70d48409b8a08888807050700\",\"0x8c835dfaa34e2ae61775e80ee29e2c724c6ae2bb\"],\"xaxis\":\"x\",\"y\":[1654609564,1654616505,1654609880],\"yaxis\":\"y\",\"type\":\"bar\"},{\"alignmentgroup\":\"True\",\"hovertemplate\":\"trader=0x197cb53e5694ede159a15032e567deac9c1514cb<br>baseToken=%{x}<br>timestamp=%{y}<extra></extra>\",\"legendgroup\":\"0x197cb53e5694ede159a15032e567deac9c1514cb\",\"marker\":{\"color\":\"#ab63fa\",\"pattern\":{\"shape\":\"\"}},\"name\":\"0x197cb53e5694ede159a15032e567deac9c1514cb\",\"offsetgroup\":\"0x197cb53e5694ede159a15032e567deac9c1514cb\",\"orientation\":\"v\",\"showlegend\":true,\"textposition\":\"auto\",\"x\":[\"0x5f714b5347f0b5de9f9598e39840e176ce889b9c\",\"0x5f714b5347f0b5de9f9598e39840e176ce889b9c\",\"0x5f714b5347f0b5de9f9598e39840e176ce889b9c\",\"0x5f714b5347f0b5de9f9598e39840e176ce889b9c\",\"0x5f714b5347f0b5de9f9598e39840e176ce889b9c\"],\"xaxis\":\"x\",\"y\":[1654618550,1654609547,1654609611,1654609805,1654609880],\"yaxis\":\"y\",\"type\":\"bar\"},{\"alignmentgroup\":\"True\",\"hovertemplate\":\"trader=0xafa407ffd9b63783b228b671c98b943150a4336a<br>baseToken=%{x}<br>timestamp=%{y}<extra></extra>\",\"legendgroup\":\"0xafa407ffd9b63783b228b671c98b943150a4336a\",\"marker\":{\"color\":\"#FFA15A\",\"pattern\":{\"shape\":\"\"}},\"name\":\"0xafa407ffd9b63783b228b671c98b943150a4336a\",\"offsetgroup\":\"0xafa407ffd9b63783b228b671c98b943150a4336a\",\"orientation\":\"v\",\"showlegend\":true,\"textposition\":\"auto\",\"x\":[\"0x8c835dfaa34e2ae61775e80ee29e2c724c6ae2bb\"],\"xaxis\":\"x\",\"y\":[1638004430],\"yaxis\":\"y\",\"type\":\"bar\"},{\"alignmentgroup\":\"True\",\"hovertemplate\":\"trader=0x35952141922ee99a04e016c967c3f0ad589ea958<br>baseToken=%{x}<br>timestamp=%{y}<extra></extra>\",\"legendgroup\":\"0x35952141922ee99a04e016c967c3f0ad589ea958\",\"marker\":{\"color\":\"#19d3f3\",\"pattern\":{\"shape\":\"\"}},\"name\":\"0x35952141922ee99a04e016c967c3f0ad589ea958\",\"offsetgroup\":\"0x35952141922ee99a04e016c967c3f0ad589ea958\",\"orientation\":\"v\",\"showlegend\":true,\"textposition\":\"auto\",\"x\":[\"0x8c835dfaa34e2ae61775e80ee29e2c724c6ae2bb\",\"0x86f1e0420c26a858fc203a3645dd1a36868f18e5\"],\"xaxis\":\"x\",\"y\":[1638003992,1638003992],\"yaxis\":\"y\",\"type\":\"bar\"},{\"alignmentgroup\":\"True\",\"hovertemplate\":\"trader=0x5de2b5b72a0b49f7d4490a1fef61afa8415971f5<br>baseToken=%{x}<br>timestamp=%{y}<extra></extra>\",\"legendgroup\":\"0x5de2b5b72a0b49f7d4490a1fef61afa8415971f5\",\"marker\":{\"color\":\"#FF6692\",\"pattern\":{\"shape\":\"\"}},\"name\":\"0x5de2b5b72a0b49f7d4490a1fef61afa8415971f5\",\"offsetgroup\":\"0x5de2b5b72a0b49f7d4490a1fef61afa8415971f5\",\"orientation\":\"v\",\"showlegend\":true,\"textposition\":\"auto\",\"x\":[\"0x8c835dfaa34e2ae61775e80ee29e2c724c6ae2bb\"],\"xaxis\":\"x\",\"y\":[1654618947],\"yaxis\":\"y\",\"type\":\"bar\"},{\"alignmentgroup\":\"True\",\"hovertemplate\":\"trader=0x856e45cce77685627dad82f0d1d63c8642152ec8<br>baseToken=%{x}<br>timestamp=%{y}<extra></extra>\",\"legendgroup\":\"0x856e45cce77685627dad82f0d1d63c8642152ec8\",\"marker\":{\"color\":\"#B6E880\",\"pattern\":{\"shape\":\"\"}},\"name\":\"0x856e45cce77685627dad82f0d1d63c8642152ec8\",\"offsetgroup\":\"0x856e45cce77685627dad82f0d1d63c8642152ec8\",\"orientation\":\"v\",\"showlegend\":true,\"textposition\":\"auto\",\"x\":[\"0x8c835dfaa34e2ae61775e80ee29e2c724c6ae2bb\"],\"xaxis\":\"x\",\"y\":[1638492489],\"yaxis\":\"y\",\"type\":\"bar\"},{\"alignmentgroup\":\"True\",\"hovertemplate\":\"trader=0xc9735c7e0015fc9719f28306f90e530420f9b4ef<br>baseToken=%{x}<br>timestamp=%{y}<extra></extra>\",\"legendgroup\":\"0xc9735c7e0015fc9719f28306f90e530420f9b4ef\",\"marker\":{\"color\":\"#FF97FF\",\"pattern\":{\"shape\":\"\"}},\"name\":\"0xc9735c7e0015fc9719f28306f90e530420f9b4ef\",\"offsetgroup\":\"0xc9735c7e0015fc9719f28306f90e530420f9b4ef\",\"orientation\":\"v\",\"showlegend\":true,\"textposition\":\"auto\",\"x\":[\"0x8c835dfaa34e2ae61775e80ee29e2c724c6ae2bb\"],\"xaxis\":\"x\",\"y\":[1638003992],\"yaxis\":\"y\",\"type\":\"bar\"},{\"alignmentgroup\":\"True\",\"hovertemplate\":\"trader=0xefc0d892656eeb59a0b54a6b4f2a0d2fad4b66c8<br>baseToken=%{x}<br>timestamp=%{y}<extra></extra>\",\"legendgroup\":\"0xefc0d892656eeb59a0b54a6b4f2a0d2fad4b66c8\",\"marker\":{\"color\":\"#FECB52\",\"pattern\":{\"shape\":\"\"}},\"name\":\"0xefc0d892656eeb59a0b54a6b4f2a0d2fad4b66c8\",\"offsetgroup\":\"0xefc0d892656eeb59a0b54a6b4f2a0d2fad4b66c8\",\"orientation\":\"v\",\"showlegend\":true,\"textposition\":\"auto\",\"x\":[\"0x86f1e0420c26a858fc203a3645dd1a36868f18e5\"],\"xaxis\":\"x\",\"y\":[1638004141],\"yaxis\":\"y\",\"type\":\"bar\"},{\"alignmentgroup\":\"True\",\"hovertemplate\":\"trader=0xd087966b4d2b1841c88b4d62b407d5ef1a465ac3<br>baseToken=%{x}<br>timestamp=%{y}<extra></extra>\",\"legendgroup\":\"0xd087966b4d2b1841c88b4d62b407d5ef1a465ac3\",\"marker\":{\"color\":\"#636efa\",\"pattern\":{\"shape\":\"\"}},\"name\":\"0xd087966b4d2b1841c88b4d62b407d5ef1a465ac3\",\"offsetgroup\":\"0xd087966b4d2b1841c88b4d62b407d5ef1a465ac3\",\"orientation\":\"v\",\"showlegend\":true,\"textposition\":\"auto\",\"x\":[\"0x86f1e0420c26a858fc203a3645dd1a36868f18e5\"],\"xaxis\":\"x\",\"y\":[1638003538],\"yaxis\":\"y\",\"type\":\"bar\"},{\"alignmentgroup\":\"True\",\"hovertemplate\":\"trader=0x02cc0130ffedf077a848606b7a3e018f7f7434af<br>baseToken=%{x}<br>timestamp=%{y}<extra></extra>\",\"legendgroup\":\"0x02cc0130ffedf077a848606b7a3e018f7f7434af\",\"marker\":{\"color\":\"#EF553B\",\"pattern\":{\"shape\":\"\"}},\"name\":\"0x02cc0130ffedf077a848606b7a3e018f7f7434af\",\"offsetgroup\":\"0x02cc0130ffedf077a848606b7a3e018f7f7434af\",\"orientation\":\"v\",\"showlegend\":true,\"textposition\":\"auto\",\"x\":[\"0x86f1e0420c26a858fc203a3645dd1a36868f18e5\",\"0x8c835dfaa34e2ae61775e80ee29e2c724c6ae2bb\"],\"xaxis\":\"x\",\"y\":[1638005857,1638005882],\"yaxis\":\"y\",\"type\":\"bar\"},{\"alignmentgroup\":\"True\",\"hovertemplate\":\"trader=0x4680cca73f815b583a201afef4b70451fb53b7af<br>baseToken=%{x}<br>timestamp=%{y}<extra></extra>\",\"legendgroup\":\"0x4680cca73f815b583a201afef4b70451fb53b7af\",\"marker\":{\"color\":\"#00cc96\",\"pattern\":{\"shape\":\"\"}},\"name\":\"0x4680cca73f815b583a201afef4b70451fb53b7af\",\"offsetgroup\":\"0x4680cca73f815b583a201afef4b70451fb53b7af\",\"orientation\":\"v\",\"showlegend\":true,\"textposition\":\"auto\",\"x\":[\"0x86f1e0420c26a858fc203a3645dd1a36868f18e5\",\"0x86f1e0420c26a858fc203a3645dd1a36868f18e5\"],\"xaxis\":\"x\",\"y\":[1638091907,1638091570],\"yaxis\":\"y\",\"type\":\"bar\"},{\"alignmentgroup\":\"True\",\"hovertemplate\":\"trader=0x5a8d6204dc5bf19cb712c0d2dc2b6eace897cc00<br>baseToken=%{x}<br>timestamp=%{y}<extra></extra>\",\"legendgroup\":\"0x5a8d6204dc5bf19cb712c0d2dc2b6eace897cc00\",\"marker\":{\"color\":\"#ab63fa\",\"pattern\":{\"shape\":\"\"}},\"name\":\"0x5a8d6204dc5bf19cb712c0d2dc2b6eace897cc00\",\"offsetgroup\":\"0x5a8d6204dc5bf19cb712c0d2dc2b6eace897cc00\",\"orientation\":\"v\",\"showlegend\":true,\"textposition\":\"auto\",\"x\":[\"0x86f1e0420c26a858fc203a3645dd1a36868f18e5\",\"0x86f1e0420c26a858fc203a3645dd1a36868f18e5\"],\"xaxis\":\"x\",\"y\":[1654609895,1654598531],\"yaxis\":\"y\",\"type\":\"bar\"},{\"alignmentgroup\":\"True\",\"hovertemplate\":\"trader=0xf2cd72adf27aea9808152a93dab9092e89163fb5<br>baseToken=%{x}<br>timestamp=%{y}<extra></extra>\",\"legendgroup\":\"0xf2cd72adf27aea9808152a93dab9092e89163fb5\",\"marker\":{\"color\":\"#FFA15A\",\"pattern\":{\"shape\":\"\"}},\"name\":\"0xf2cd72adf27aea9808152a93dab9092e89163fb5\",\"offsetgroup\":\"0xf2cd72adf27aea9808152a93dab9092e89163fb5\",\"orientation\":\"v\",\"showlegend\":true,\"textposition\":\"auto\",\"x\":[\"0x86f1e0420c26a858fc203a3645dd1a36868f18e5\"],\"xaxis\":\"x\",\"y\":[1638492160],\"yaxis\":\"y\",\"type\":\"bar\"},{\"alignmentgroup\":\"True\",\"hovertemplate\":\"trader=0x8b59a3b006541e4f52b44490cd52c1b722fe569b<br>baseToken=%{x}<br>timestamp=%{y}<extra></extra>\",\"legendgroup\":\"0x8b59a3b006541e4f52b44490cd52c1b722fe569b\",\"marker\":{\"color\":\"#19d3f3\",\"pattern\":{\"shape\":\"\"}},\"name\":\"0x8b59a3b006541e4f52b44490cd52c1b722fe569b\",\"offsetgroup\":\"0x8b59a3b006541e4f52b44490cd52c1b722fe569b\",\"orientation\":\"v\",\"showlegend\":true,\"textposition\":\"auto\",\"x\":[\"0xb6599bd362120dc70d48409b8a08888807050700\"],\"xaxis\":\"x\",\"y\":[1654616000],\"yaxis\":\"y\",\"type\":\"bar\"},{\"alignmentgroup\":\"True\",\"hovertemplate\":\"trader=0xebd29307345ee6aec943129d9bb44120554efaac<br>baseToken=%{x}<br>timestamp=%{y}<extra></extra>\",\"legendgroup\":\"0xebd29307345ee6aec943129d9bb44120554efaac\",\"marker\":{\"color\":\"#FF6692\",\"pattern\":{\"shape\":\"\"}},\"name\":\"0xebd29307345ee6aec943129d9bb44120554efaac\",\"offsetgroup\":\"0xebd29307345ee6aec943129d9bb44120554efaac\",\"orientation\":\"v\",\"showlegend\":true,\"textposition\":\"auto\",\"x\":[\"0x86f1e0420c26a858fc203a3645dd1a36868f18e5\",\"0x86f1e0420c26a858fc203a3645dd1a36868f18e5\",\"0x86f1e0420c26a858fc203a3645dd1a36868f18e5\",\"0x86f1e0420c26a858fc203a3645dd1a36868f18e5\",\"0x86f1e0420c26a858fc203a3645dd1a36868f18e5\",\"0x86f1e0420c26a858fc203a3645dd1a36868f18e5\",\"0x86f1e0420c26a858fc203a3645dd1a36868f18e5\",\"0x86f1e0420c26a858fc203a3645dd1a36868f18e5\",\"0x86f1e0420c26a858fc203a3645dd1a36868f18e5\",\"0x86f1e0420c26a858fc203a3645dd1a36868f18e5\",\"0x86f1e0420c26a858fc203a3645dd1a36868f18e5\",\"0x86f1e0420c26a858fc203a3645dd1a36868f18e5\",\"0x86f1e0420c26a858fc203a3645dd1a36868f18e5\",\"0x86f1e0420c26a858fc203a3645dd1a36868f18e5\",\"0x86f1e0420c26a858fc203a3645dd1a36868f18e5\",\"0x86f1e0420c26a858fc203a3645dd1a36868f18e5\",\"0x86f1e0420c26a858fc203a3645dd1a36868f18e5\",\"0x86f1e0420c26a858fc203a3645dd1a36868f18e5\",\"0x86f1e0420c26a858fc203a3645dd1a36868f18e5\",\"0x86f1e0420c26a858fc203a3645dd1a36868f18e5\",\"0x86f1e0420c26a858fc203a3645dd1a36868f18e5\"],\"xaxis\":\"x\",\"y\":[1638493041,1638493686,1638493041,1638493686,1638493686,1638493686,1638493010,1638493686,1638493010,1638493010,1638493686,1638493010,1638493686,1638493010,1638493686,1638493010,1638493686,1638493010,1638493686,1638493686,1638493041],\"yaxis\":\"y\",\"type\":\"bar\"},{\"alignmentgroup\":\"True\",\"hovertemplate\":\"trader=0x6cdb956a622b4e15a31f7f5d717b6b95e7105849<br>baseToken=%{x}<br>timestamp=%{y}<extra></extra>\",\"legendgroup\":\"0x6cdb956a622b4e15a31f7f5d717b6b95e7105849\",\"marker\":{\"color\":\"#B6E880\",\"pattern\":{\"shape\":\"\"}},\"name\":\"0x6cdb956a622b4e15a31f7f5d717b6b95e7105849\",\"offsetgroup\":\"0x6cdb956a622b4e15a31f7f5d717b6b95e7105849\",\"orientation\":\"v\",\"showlegend\":true,\"textposition\":\"auto\",\"x\":[\"0xb6599bd362120dc70d48409b8a08888807050700\",\"0xb6599bd362120dc70d48409b8a08888807050700\"],\"xaxis\":\"x\",\"y\":[1654598654,1654598685],\"yaxis\":\"y\",\"type\":\"bar\"},{\"alignmentgroup\":\"True\",\"hovertemplate\":\"trader=0x15d554b02f73bd186f80af1cf49b2c9987f99ca9<br>baseToken=%{x}<br>timestamp=%{y}<extra></extra>\",\"legendgroup\":\"0x15d554b02f73bd186f80af1cf49b2c9987f99ca9\",\"marker\":{\"color\":\"#FF97FF\",\"pattern\":{\"shape\":\"\"}},\"name\":\"0x15d554b02f73bd186f80af1cf49b2c9987f99ca9\",\"offsetgroup\":\"0x15d554b02f73bd186f80af1cf49b2c9987f99ca9\",\"orientation\":\"v\",\"showlegend\":true,\"textposition\":\"auto\",\"x\":[\"0xb6599bd362120dc70d48409b8a08888807050700\",\"0xb6599bd362120dc70d48409b8a08888807050700\"],\"xaxis\":\"x\",\"y\":[1654598594,1654598609],\"yaxis\":\"y\",\"type\":\"bar\"},{\"alignmentgroup\":\"True\",\"hovertemplate\":\"trader=0x6084a0f3d9edcba648ec6bbbe006cd24977e595a<br>baseToken=%{x}<br>timestamp=%{y}<extra></extra>\",\"legendgroup\":\"0x6084a0f3d9edcba648ec6bbbe006cd24977e595a\",\"marker\":{\"color\":\"#FECB52\",\"pattern\":{\"shape\":\"\"}},\"name\":\"0x6084a0f3d9edcba648ec6bbbe006cd24977e595a\",\"offsetgroup\":\"0x6084a0f3d9edcba648ec6bbbe006cd24977e595a\",\"orientation\":\"v\",\"showlegend\":true,\"textposition\":\"auto\",\"x\":[\"0xb6599bd362120dc70d48409b8a08888807050700\",\"0xb6599bd362120dc70d48409b8a08888807050700\"],\"xaxis\":\"x\",\"y\":[1654598731,1654598761],\"yaxis\":\"y\",\"type\":\"bar\"},{\"alignmentgroup\":\"True\",\"hovertemplate\":\"trader=0x14dadce71af9855bc995d0e35d6ba794f37a2814<br>baseToken=%{x}<br>timestamp=%{y}<extra></extra>\",\"legendgroup\":\"0x14dadce71af9855bc995d0e35d6ba794f37a2814\",\"marker\":{\"color\":\"#636efa\",\"pattern\":{\"shape\":\"\"}},\"name\":\"0x14dadce71af9855bc995d0e35d6ba794f37a2814\",\"offsetgroup\":\"0x14dadce71af9855bc995d0e35d6ba794f37a2814\",\"orientation\":\"v\",\"showlegend\":true,\"textposition\":\"auto\",\"x\":[\"0x86f1e0420c26a858fc203a3645dd1a36868f18e5\",\"0x86f1e0420c26a858fc203a3645dd1a36868f18e5\",\"0x86f1e0420c26a858fc203a3645dd1a36868f18e5\"],\"xaxis\":\"x\",\"y\":[1654615985,1654615875,1654615825],\"yaxis\":\"y\",\"type\":\"bar\"},{\"alignmentgroup\":\"True\",\"hovertemplate\":\"trader=0x18c32d617b4dbcc8f1f2d77842535f09ff56cb3e<br>baseToken=%{x}<br>timestamp=%{y}<extra></extra>\",\"legendgroup\":\"0x18c32d617b4dbcc8f1f2d77842535f09ff56cb3e\",\"marker\":{\"color\":\"#EF553B\",\"pattern\":{\"shape\":\"\"}},\"name\":\"0x18c32d617b4dbcc8f1f2d77842535f09ff56cb3e\",\"offsetgroup\":\"0x18c32d617b4dbcc8f1f2d77842535f09ff56cb3e\",\"orientation\":\"v\",\"showlegend\":true,\"textposition\":\"auto\",\"x\":[\"0x8c835dfaa34e2ae61775e80ee29e2c724c6ae2bb\"],\"xaxis\":\"x\",\"y\":[1638486983],\"yaxis\":\"y\",\"type\":\"bar\"},{\"alignmentgroup\":\"True\",\"hovertemplate\":\"trader=0xade502ee3b876c33127d4c182a32217d1cbd1063<br>baseToken=%{x}<br>timestamp=%{y}<extra></extra>\",\"legendgroup\":\"0xade502ee3b876c33127d4c182a32217d1cbd1063\",\"marker\":{\"color\":\"#00cc96\",\"pattern\":{\"shape\":\"\"}},\"name\":\"0xade502ee3b876c33127d4c182a32217d1cbd1063\",\"offsetgroup\":\"0xade502ee3b876c33127d4c182a32217d1cbd1063\",\"orientation\":\"v\",\"showlegend\":true,\"textposition\":\"auto\",\"x\":[\"0x34235c8489b06482a99bb7fcab6d7c467b92d248\"],\"xaxis\":\"x\",\"y\":[1654609547],\"yaxis\":\"y\",\"type\":\"bar\"},{\"alignmentgroup\":\"True\",\"hovertemplate\":\"trader=0xd0504f7c59e41499de6b5d87bc71ac8b26936d58<br>baseToken=%{x}<br>timestamp=%{y}<extra></extra>\",\"legendgroup\":\"0xd0504f7c59e41499de6b5d87bc71ac8b26936d58\",\"marker\":{\"color\":\"#ab63fa\",\"pattern\":{\"shape\":\"\"}},\"name\":\"0xd0504f7c59e41499de6b5d87bc71ac8b26936d58\",\"offsetgroup\":\"0xd0504f7c59e41499de6b5d87bc71ac8b26936d58\",\"orientation\":\"v\",\"showlegend\":true,\"textposition\":\"auto\",\"x\":[\"0x34235c8489b06482a99bb7fcab6d7c467b92d248\",\"0x34235c8489b06482a99bb7fcab6d7c467b92d248\"],\"xaxis\":\"x\",\"y\":[1654597961,1654598299],\"yaxis\":\"y\",\"type\":\"bar\"},{\"alignmentgroup\":\"True\",\"hovertemplate\":\"trader=0x1e28e5e6901c835a86e9652d9da88a23d623562c<br>baseToken=%{x}<br>timestamp=%{y}<extra></extra>\",\"legendgroup\":\"0x1e28e5e6901c835a86e9652d9da88a23d623562c\",\"marker\":{\"color\":\"#FFA15A\",\"pattern\":{\"shape\":\"\"}},\"name\":\"0x1e28e5e6901c835a86e9652d9da88a23d623562c\",\"offsetgroup\":\"0x1e28e5e6901c835a86e9652d9da88a23d623562c\",\"orientation\":\"v\",\"showlegend\":true,\"textposition\":\"auto\",\"x\":[\"0x2db8d2db86ca3a4c7040e778244451776570359b\"],\"xaxis\":\"x\",\"y\":[1654618550],\"yaxis\":\"y\",\"type\":\"bar\"},{\"alignmentgroup\":\"True\",\"hovertemplate\":\"trader=0x5f6b187132644be3cf08b4c0c4bd548ab941189d<br>baseToken=%{x}<br>timestamp=%{y}<extra></extra>\",\"legendgroup\":\"0x5f6b187132644be3cf08b4c0c4bd548ab941189d\",\"marker\":{\"color\":\"#19d3f3\",\"pattern\":{\"shape\":\"\"}},\"name\":\"0x5f6b187132644be3cf08b4c0c4bd548ab941189d\",\"offsetgroup\":\"0x5f6b187132644be3cf08b4c0c4bd548ab941189d\",\"orientation\":\"v\",\"showlegend\":true,\"textposition\":\"auto\",\"x\":[\"0x8c835dfaa34e2ae61775e80ee29e2c724c6ae2bb\",\"0x8c835dfaa34e2ae61775e80ee29e2c724c6ae2bb\"],\"xaxis\":\"x\",\"y\":[1654615905,1654615875],\"yaxis\":\"y\",\"type\":\"bar\"},{\"alignmentgroup\":\"True\",\"hovertemplate\":\"trader=0xeab7a90c520f230fe21a8a9124790f7f93c5b4ca<br>baseToken=%{x}<br>timestamp=%{y}<extra></extra>\",\"legendgroup\":\"0xeab7a90c520f230fe21a8a9124790f7f93c5b4ca\",\"marker\":{\"color\":\"#FF6692\",\"pattern\":{\"shape\":\"\"}},\"name\":\"0xeab7a90c520f230fe21a8a9124790f7f93c5b4ca\",\"offsetgroup\":\"0xeab7a90c520f230fe21a8a9124790f7f93c5b4ca\",\"orientation\":\"v\",\"showlegend\":true,\"textposition\":\"auto\",\"x\":[\"0x2db8d2db86ca3a4c7040e778244451776570359b\"],\"xaxis\":\"x\",\"y\":[1654609753],\"yaxis\":\"y\",\"type\":\"bar\"},{\"alignmentgroup\":\"True\",\"hovertemplate\":\"trader=0x052a0944e2cde30acda3b9f4f6c1f096c52ee501<br>baseToken=%{x}<br>timestamp=%{y}<extra></extra>\",\"legendgroup\":\"0x052a0944e2cde30acda3b9f4f6c1f096c52ee501\",\"marker\":{\"color\":\"#B6E880\",\"pattern\":{\"shape\":\"\"}},\"name\":\"0x052a0944e2cde30acda3b9f4f6c1f096c52ee501\",\"offsetgroup\":\"0x052a0944e2cde30acda3b9f4f6c1f096c52ee501\",\"orientation\":\"v\",\"showlegend\":true,\"textposition\":\"auto\",\"x\":[\"0x2db8d2db86ca3a4c7040e778244451776570359b\",\"0x2db8d2db86ca3a4c7040e778244451776570359b\"],\"xaxis\":\"x\",\"y\":[1654598546,1654598654],\"yaxis\":\"y\",\"type\":\"bar\"},{\"alignmentgroup\":\"True\",\"hovertemplate\":\"trader=0x1504c8a639d860857eb1588b1da3ace5580d607a<br>baseToken=%{x}<br>timestamp=%{y}<extra></extra>\",\"legendgroup\":\"0x1504c8a639d860857eb1588b1da3ace5580d607a\",\"marker\":{\"color\":\"#FF97FF\",\"pattern\":{\"shape\":\"\"}},\"name\":\"0x1504c8a639d860857eb1588b1da3ace5580d607a\",\"offsetgroup\":\"0x1504c8a639d860857eb1588b1da3ace5580d607a\",\"orientation\":\"v\",\"showlegend\":true,\"textposition\":\"auto\",\"x\":[\"0x86f1e0420c26a858fc203a3645dd1a36868f18e5\"],\"xaxis\":\"x\",\"y\":[1654617968],\"yaxis\":\"y\",\"type\":\"bar\"},{\"alignmentgroup\":\"True\",\"hovertemplate\":\"trader=0x45c56e138881fd3ff46359ba1826d5fc6fccaedc<br>baseToken=%{x}<br>timestamp=%{y}<extra></extra>\",\"legendgroup\":\"0x45c56e138881fd3ff46359ba1826d5fc6fccaedc\",\"marker\":{\"color\":\"#FECB52\",\"pattern\":{\"shape\":\"\"}},\"name\":\"0x45c56e138881fd3ff46359ba1826d5fc6fccaedc\",\"offsetgroup\":\"0x45c56e138881fd3ff46359ba1826d5fc6fccaedc\",\"orientation\":\"v\",\"showlegend\":true,\"textposition\":\"auto\",\"x\":[\"0x8c835dfaa34e2ae61775e80ee29e2c724c6ae2bb\"],\"xaxis\":\"x\",\"y\":[1654617984],\"yaxis\":\"y\",\"type\":\"bar\"},{\"alignmentgroup\":\"True\",\"hovertemplate\":\"trader=0xf34631ce55ce9773bfb7f0d3492bf4df3686d2cc<br>baseToken=%{x}<br>timestamp=%{y}<extra></extra>\",\"legendgroup\":\"0xf34631ce55ce9773bfb7f0d3492bf4df3686d2cc\",\"marker\":{\"color\":\"#636efa\",\"pattern\":{\"shape\":\"\"}},\"name\":\"0xf34631ce55ce9773bfb7f0d3492bf4df3686d2cc\",\"offsetgroup\":\"0xf34631ce55ce9773bfb7f0d3492bf4df3686d2cc\",\"orientation\":\"v\",\"showlegend\":true,\"textposition\":\"auto\",\"x\":[\"0x2f198182ec54469195a4a06262a9431a42462373\"],\"xaxis\":\"x\",\"y\":[1654618426],\"yaxis\":\"y\",\"type\":\"bar\"},{\"alignmentgroup\":\"True\",\"hovertemplate\":\"trader=0xa2600926786e9c2e1fa4b4a1118ddf0bfe1e7f91<br>baseToken=%{x}<br>timestamp=%{y}<extra></extra>\",\"legendgroup\":\"0xa2600926786e9c2e1fa4b4a1118ddf0bfe1e7f91\",\"marker\":{\"color\":\"#EF553B\",\"pattern\":{\"shape\":\"\"}},\"name\":\"0xa2600926786e9c2e1fa4b4a1118ddf0bfe1e7f91\",\"offsetgroup\":\"0xa2600926786e9c2e1fa4b4a1118ddf0bfe1e7f91\",\"orientation\":\"v\",\"showlegend\":true,\"textposition\":\"auto\",\"x\":[\"0x86f1e0420c26a858fc203a3645dd1a36868f18e5\",\"0x8c835dfaa34e2ae61775e80ee29e2c724c6ae2bb\"],\"xaxis\":\"x\",\"y\":[1638497157,1638482840],\"yaxis\":\"y\",\"type\":\"bar\"},{\"alignmentgroup\":\"True\",\"hovertemplate\":\"trader=0x0e6fa63a19b7eb76c0e59e044b3f26618bca37b4<br>baseToken=%{x}<br>timestamp=%{y}<extra></extra>\",\"legendgroup\":\"0x0e6fa63a19b7eb76c0e59e044b3f26618bca37b4\",\"marker\":{\"color\":\"#00cc96\",\"pattern\":{\"shape\":\"\"}},\"name\":\"0x0e6fa63a19b7eb76c0e59e044b3f26618bca37b4\",\"offsetgroup\":\"0x0e6fa63a19b7eb76c0e59e044b3f26618bca37b4\",\"orientation\":\"v\",\"showlegend\":true,\"textposition\":\"auto\",\"x\":[\"0x8c835dfaa34e2ae61775e80ee29e2c724c6ae2bb\"],\"xaxis\":\"x\",\"y\":[1654618580],\"yaxis\":\"y\",\"type\":\"bar\"},{\"alignmentgroup\":\"True\",\"hovertemplate\":\"trader=0xe2b1d48feaa4147420b451728b1e3d0546d4a160<br>baseToken=%{x}<br>timestamp=%{y}<extra></extra>\",\"legendgroup\":\"0xe2b1d48feaa4147420b451728b1e3d0546d4a160\",\"marker\":{\"color\":\"#ab63fa\",\"pattern\":{\"shape\":\"\"}},\"name\":\"0xe2b1d48feaa4147420b451728b1e3d0546d4a160\",\"offsetgroup\":\"0xe2b1d48feaa4147420b451728b1e3d0546d4a160\",\"orientation\":\"v\",\"showlegend\":true,\"textposition\":\"auto\",\"x\":[\"0x151bb01c79f4516c233948d69dae39869bccb737\"],\"xaxis\":\"x\",\"y\":[1654609579],\"yaxis\":\"y\",\"type\":\"bar\"},{\"alignmentgroup\":\"True\",\"hovertemplate\":\"trader=0x36209cad56c31332d575bed3e989c988c2ad8eee<br>baseToken=%{x}<br>timestamp=%{y}<extra></extra>\",\"legendgroup\":\"0x36209cad56c31332d575bed3e989c988c2ad8eee\",\"marker\":{\"color\":\"#FFA15A\",\"pattern\":{\"shape\":\"\"}},\"name\":\"0x36209cad56c31332d575bed3e989c988c2ad8eee\",\"offsetgroup\":\"0x36209cad56c31332d575bed3e989c988c2ad8eee\",\"orientation\":\"v\",\"showlegend\":true,\"textposition\":\"auto\",\"x\":[\"0x86f1e0420c26a858fc203a3645dd1a36868f18e5\",\"0x8c835dfaa34e2ae61775e80ee29e2c724c6ae2bb\",\"0x8c835dfaa34e2ae61775e80ee29e2c724c6ae2bb\",\"0x8c835dfaa34e2ae61775e80ee29e2c724c6ae2bb\",\"0x8c835dfaa34e2ae61775e80ee29e2c724c6ae2bb\",\"0x86f1e0420c26a858fc203a3645dd1a36868f18e5\",\"0x86f1e0420c26a858fc203a3645dd1a36868f18e5\"],\"xaxis\":\"x\",\"y\":[1638493137,1638495425,1638495123,1638493686,1638492445,1638495425,1638493742],\"yaxis\":\"y\",\"type\":\"bar\"},{\"alignmentgroup\":\"True\",\"hovertemplate\":\"trader=0x7a883470199f7b09f11b69c92edac609a8bd05c5<br>baseToken=%{x}<br>timestamp=%{y}<extra></extra>\",\"legendgroup\":\"0x7a883470199f7b09f11b69c92edac609a8bd05c5\",\"marker\":{\"color\":\"#19d3f3\",\"pattern\":{\"shape\":\"\"}},\"name\":\"0x7a883470199f7b09f11b69c92edac609a8bd05c5\",\"offsetgroup\":\"0x7a883470199f7b09f11b69c92edac609a8bd05c5\",\"orientation\":\"v\",\"showlegend\":true,\"textposition\":\"auto\",\"x\":[\"0x8c835dfaa34e2ae61775e80ee29e2c724c6ae2bb\"],\"xaxis\":\"x\",\"y\":[1638092927],\"yaxis\":\"y\",\"type\":\"bar\"},{\"alignmentgroup\":\"True\",\"hovertemplate\":\"trader=0x09074e4d60f8014bc8bf31bd48142c158eb88b61<br>baseToken=%{x}<br>timestamp=%{y}<extra></extra>\",\"legendgroup\":\"0x09074e4d60f8014bc8bf31bd48142c158eb88b61\",\"marker\":{\"color\":\"#FF6692\",\"pattern\":{\"shape\":\"\"}},\"name\":\"0x09074e4d60f8014bc8bf31bd48142c158eb88b61\",\"offsetgroup\":\"0x09074e4d60f8014bc8bf31bd48142c158eb88b61\",\"orientation\":\"v\",\"showlegend\":true,\"textposition\":\"auto\",\"x\":[\"0x86f1e0420c26a858fc203a3645dd1a36868f18e5\"],\"xaxis\":\"x\",\"y\":[1654618962],\"yaxis\":\"y\",\"type\":\"bar\"},{\"alignmentgroup\":\"True\",\"hovertemplate\":\"trader=0x445995c7a6560e2ac9a194e6658d103110f2d4d7<br>baseToken=%{x}<br>timestamp=%{y}<extra></extra>\",\"legendgroup\":\"0x445995c7a6560e2ac9a194e6658d103110f2d4d7\",\"marker\":{\"color\":\"#B6E880\",\"pattern\":{\"shape\":\"\"}},\"name\":\"0x445995c7a6560e2ac9a194e6658d103110f2d4d7\",\"offsetgroup\":\"0x445995c7a6560e2ac9a194e6658d103110f2d4d7\",\"orientation\":\"v\",\"showlegend\":true,\"textposition\":\"auto\",\"x\":[\"0x5faa136fc58b6136ffdaeaac320076c4865c070f\"],\"xaxis\":\"x\",\"y\":[1654615795],\"yaxis\":\"y\",\"type\":\"bar\"},{\"alignmentgroup\":\"True\",\"hovertemplate\":\"trader=0x65c6251a922e3ab9202c1428dfe237c97cdcec29<br>baseToken=%{x}<br>timestamp=%{y}<extra></extra>\",\"legendgroup\":\"0x65c6251a922e3ab9202c1428dfe237c97cdcec29\",\"marker\":{\"color\":\"#FF97FF\",\"pattern\":{\"shape\":\"\"}},\"name\":\"0x65c6251a922e3ab9202c1428dfe237c97cdcec29\",\"offsetgroup\":\"0x65c6251a922e3ab9202c1428dfe237c97cdcec29\",\"orientation\":\"v\",\"showlegend\":true,\"textposition\":\"auto\",\"x\":[\"0x34235c8489b06482a99bb7fcab6d7c467b92d248\",\"0x34235c8489b06482a99bb7fcab6d7c467b92d248\",\"0x34235c8489b06482a99bb7fcab6d7c467b92d248\",\"0x34235c8489b06482a99bb7fcab6d7c467b92d248\",\"0x34235c8489b06482a99bb7fcab6d7c467b92d248\",\"0x34235c8489b06482a99bb7fcab6d7c467b92d248\",\"0x34235c8489b06482a99bb7fcab6d7c467b92d248\",\"0x34235c8489b06482a99bb7fcab6d7c467b92d248\",\"0x34235c8489b06482a99bb7fcab6d7c467b92d248\",\"0x34235c8489b06482a99bb7fcab6d7c467b92d248\",\"0x34235c8489b06482a99bb7fcab6d7c467b92d248\",\"0x34235c8489b06482a99bb7fcab6d7c467b92d248\"],\"xaxis\":\"x\",\"y\":[1654597961,1654615905,1654616350,1654616505,1654618883,1654618595,1654618883,1654618550,1654618610,1654618535,1654618535,1654618045],\"yaxis\":\"y\",\"type\":\"bar\"},{\"alignmentgroup\":\"True\",\"hovertemplate\":\"trader=0xd7590b07bbc2e6904bbf4d18aca6d5bf58a20813<br>baseToken=%{x}<br>timestamp=%{y}<extra></extra>\",\"legendgroup\":\"0xd7590b07bbc2e6904bbf4d18aca6d5bf58a20813\",\"marker\":{\"color\":\"#FECB52\",\"pattern\":{\"shape\":\"\"}},\"name\":\"0xd7590b07bbc2e6904bbf4d18aca6d5bf58a20813\",\"offsetgroup\":\"0xd7590b07bbc2e6904bbf4d18aca6d5bf58a20813\",\"orientation\":\"v\",\"showlegend\":true,\"textposition\":\"auto\",\"x\":[\"0x8c835dfaa34e2ae61775e80ee29e2c724c6ae2bb\",\"0x8c835dfaa34e2ae61775e80ee29e2c724c6ae2bb\"],\"xaxis\":\"x\",\"y\":[1654618580,1654618580],\"yaxis\":\"y\",\"type\":\"bar\"},{\"alignmentgroup\":\"True\",\"hovertemplate\":\"trader=0xa57e50983968bd691cd32480cdd4c957bd3f1a6e<br>baseToken=%{x}<br>timestamp=%{y}<extra></extra>\",\"legendgroup\":\"0xa57e50983968bd691cd32480cdd4c957bd3f1a6e\",\"marker\":{\"color\":\"#636efa\",\"pattern\":{\"shape\":\"\"}},\"name\":\"0xa57e50983968bd691cd32480cdd4c957bd3f1a6e\",\"offsetgroup\":\"0xa57e50983968bd691cd32480cdd4c957bd3f1a6e\",\"orientation\":\"v\",\"showlegend\":true,\"textposition\":\"auto\",\"x\":[\"0x34235c8489b06482a99bb7fcab6d7c467b92d248\"],\"xaxis\":\"x\",\"y\":[1654609547],\"yaxis\":\"y\",\"type\":\"bar\"},{\"alignmentgroup\":\"True\",\"hovertemplate\":\"trader=0x31789f360b9aab20837a35944904deb540533357<br>baseToken=%{x}<br>timestamp=%{y}<extra></extra>\",\"legendgroup\":\"0x31789f360b9aab20837a35944904deb540533357\",\"marker\":{\"color\":\"#EF553B\",\"pattern\":{\"shape\":\"\"}},\"name\":\"0x31789f360b9aab20837a35944904deb540533357\",\"offsetgroup\":\"0x31789f360b9aab20837a35944904deb540533357\",\"orientation\":\"v\",\"showlegend\":true,\"textposition\":\"auto\",\"x\":[\"0xb6599bd362120dc70d48409b8a08888807050700\",\"0xb6599bd362120dc70d48409b8a08888807050700\",\"0xb6599bd362120dc70d48409b8a08888807050700\",\"0xb6599bd362120dc70d48409b8a08888807050700\",\"0xb6599bd362120dc70d48409b8a08888807050700\",\"0xb6599bd362120dc70d48409b8a08888807050700\",\"0xb6599bd362120dc70d48409b8a08888807050700\",\"0xb6599bd362120dc70d48409b8a08888807050700\"],\"xaxis\":\"x\",\"y\":[1654597961,1654598329,1654598021,1654598761,1654618580,1654616301,1654615761,1654615746],\"yaxis\":\"y\",\"type\":\"bar\"},{\"alignmentgroup\":\"True\",\"hovertemplate\":\"trader=0x0cbdd4a3861ba3b2e0f68cea10209a606d38aeca<br>baseToken=%{x}<br>timestamp=%{y}<extra></extra>\",\"legendgroup\":\"0x0cbdd4a3861ba3b2e0f68cea10209a606d38aeca\",\"marker\":{\"color\":\"#00cc96\",\"pattern\":{\"shape\":\"\"}},\"name\":\"0x0cbdd4a3861ba3b2e0f68cea10209a606d38aeca\",\"offsetgroup\":\"0x0cbdd4a3861ba3b2e0f68cea10209a606d38aeca\",\"orientation\":\"v\",\"showlegend\":true,\"textposition\":\"auto\",\"x\":[\"0x9482aafdced6b899626f465e1fa0cf1b1418d797\",\"0x9482aafdced6b899626f465e1fa0cf1b1418d797\",\"0x9482aafdced6b899626f465e1fa0cf1b1418d797\"],\"xaxis\":\"x\",\"y\":[1654618580,1654618595,1654615795],\"yaxis\":\"y\",\"type\":\"bar\"},{\"alignmentgroup\":\"True\",\"hovertemplate\":\"trader=0x0d311f7d6641345a321065b7e6f1b8e4d4a48dd9<br>baseToken=%{x}<br>timestamp=%{y}<extra></extra>\",\"legendgroup\":\"0x0d311f7d6641345a321065b7e6f1b8e4d4a48dd9\",\"marker\":{\"color\":\"#ab63fa\",\"pattern\":{\"shape\":\"\"}},\"name\":\"0x0d311f7d6641345a321065b7e6f1b8e4d4a48dd9\",\"offsetgroup\":\"0x0d311f7d6641345a321065b7e6f1b8e4d4a48dd9\",\"orientation\":\"v\",\"showlegend\":true,\"textposition\":\"auto\",\"x\":[\"0x151bb01c79f4516c233948d69dae39869bccb737\",\"0x77d0cc9568605bfff32f918c8ffaa53f72901416\",\"0x5faa136fc58b6136ffdaeaac320076c4865c070f\"],\"xaxis\":\"x\",\"y\":[1654609564,1654609547,1654609424],\"yaxis\":\"y\",\"type\":\"bar\"},{\"alignmentgroup\":\"True\",\"hovertemplate\":\"trader=0x70332de459d5554a9a310a7c4f7c6069c73604f9<br>baseToken=%{x}<br>timestamp=%{y}<extra></extra>\",\"legendgroup\":\"0x70332de459d5554a9a310a7c4f7c6069c73604f9\",\"marker\":{\"color\":\"#FFA15A\",\"pattern\":{\"shape\":\"\"}},\"name\":\"0x70332de459d5554a9a310a7c4f7c6069c73604f9\",\"offsetgroup\":\"0x70332de459d5554a9a310a7c4f7c6069c73604f9\",\"orientation\":\"v\",\"showlegend\":true,\"textposition\":\"auto\",\"x\":[\"0x77d0cc9568605bfff32f918c8ffaa53f72901416\",\"0x77d0cc9568605bfff32f918c8ffaa53f72901416\",\"0x77d0cc9568605bfff32f918c8ffaa53f72901416\",\"0x2db8d2db86ca3a4c7040e778244451776570359b\",\"0x2db8d2db86ca3a4c7040e778244451776570359b\",\"0x3fb3282e3ba34a0bff94845f1800eb93cc6850d4\"],\"xaxis\":\"x\",\"y\":[1654609564,1654618580,1654618868,1654609835,1654609880,1654619040],\"yaxis\":\"y\",\"type\":\"bar\"},{\"alignmentgroup\":\"True\",\"hovertemplate\":\"trader=0x947705db2127dec51b8a9980650e3126137e52d1<br>baseToken=%{x}<br>timestamp=%{y}<extra></extra>\",\"legendgroup\":\"0x947705db2127dec51b8a9980650e3126137e52d1\",\"marker\":{\"color\":\"#19d3f3\",\"pattern\":{\"shape\":\"\"}},\"name\":\"0x947705db2127dec51b8a9980650e3126137e52d1\",\"offsetgroup\":\"0x947705db2127dec51b8a9980650e3126137e52d1\",\"orientation\":\"v\",\"showlegend\":true,\"textposition\":\"auto\",\"x\":[\"0xbe5de48197fc974600929196239e264ecb703ee8\"],\"xaxis\":\"x\",\"y\":[1654618550],\"yaxis\":\"y\",\"type\":\"bar\"},{\"alignmentgroup\":\"True\",\"hovertemplate\":\"trader=0x57944fba39b44189f7173e70cf9ed99f2395283a<br>baseToken=%{x}<br>timestamp=%{y}<extra></extra>\",\"legendgroup\":\"0x57944fba39b44189f7173e70cf9ed99f2395283a\",\"marker\":{\"color\":\"#FF6692\",\"pattern\":{\"shape\":\"\"}},\"name\":\"0x57944fba39b44189f7173e70cf9ed99f2395283a\",\"offsetgroup\":\"0x57944fba39b44189f7173e70cf9ed99f2395283a\",\"orientation\":\"v\",\"showlegend\":true,\"textposition\":\"auto\",\"x\":[\"0x7161c3416e08abaa5cd38e68d9a28e43a694e037\",\"0x7161c3416e08abaa5cd38e68d9a28e43a694e037\",\"0x7161c3416e08abaa5cd38e68d9a28e43a694e037\",\"0x7161c3416e08abaa5cd38e68d9a28e43a694e037\",\"0x7161c3416e08abaa5cd38e68d9a28e43a694e037\",\"0x7161c3416e08abaa5cd38e68d9a28e43a694e037\",\"0x7161c3416e08abaa5cd38e68d9a28e43a694e037\",\"0x7161c3416e08abaa5cd38e68d9a28e43a694e037\",\"0x7161c3416e08abaa5cd38e68d9a28e43a694e037\",\"0x7161c3416e08abaa5cd38e68d9a28e43a694e037\",\"0x7161c3416e08abaa5cd38e68d9a28e43a694e037\",\"0x7161c3416e08abaa5cd38e68d9a28e43a694e037\",\"0x7161c3416e08abaa5cd38e68d9a28e43a694e037\",\"0x7161c3416e08abaa5cd38e68d9a28e43a694e037\",\"0x7161c3416e08abaa5cd38e68d9a28e43a694e037\"],\"xaxis\":\"x\",\"y\":[1654618724,1654615746,1654618676,1654615746,1654618535,1654616475,1654618520,1654618520,1654618503,1654597886,1654597931,1654597931,1654598406,1654597976,1654597976],\"yaxis\":\"y\",\"type\":\"bar\"},{\"alignmentgroup\":\"True\",\"hovertemplate\":\"trader=0xc751fb28553c9d482af92f57aaaf72d79cec70dc<br>baseToken=%{x}<br>timestamp=%{y}<extra></extra>\",\"legendgroup\":\"0xc751fb28553c9d482af92f57aaaf72d79cec70dc\",\"marker\":{\"color\":\"#B6E880\",\"pattern\":{\"shape\":\"\"}},\"name\":\"0xc751fb28553c9d482af92f57aaaf72d79cec70dc\",\"offsetgroup\":\"0xc751fb28553c9d482af92f57aaaf72d79cec70dc\",\"orientation\":\"v\",\"showlegend\":true,\"textposition\":\"auto\",\"x\":[\"0x151bb01c79f4516c233948d69dae39869bccb737\"],\"xaxis\":\"x\",\"y\":[1654618441],\"yaxis\":\"y\",\"type\":\"bar\"},{\"alignmentgroup\":\"True\",\"hovertemplate\":\"trader=0x030058ac851ba6f282ec0e717a7ed577d09dff0b<br>baseToken=%{x}<br>timestamp=%{y}<extra></extra>\",\"legendgroup\":\"0x030058ac851ba6f282ec0e717a7ed577d09dff0b\",\"marker\":{\"color\":\"#FF97FF\",\"pattern\":{\"shape\":\"\"}},\"name\":\"0x030058ac851ba6f282ec0e717a7ed577d09dff0b\",\"offsetgroup\":\"0x030058ac851ba6f282ec0e717a7ed577d09dff0b\",\"orientation\":\"v\",\"showlegend\":true,\"textposition\":\"auto\",\"x\":[\"0x2f198182ec54469195a4a06262a9431a42462373\",\"0x5f714b5347f0b5de9f9598e39840e176ce889b9c\",\"0x5f714b5347f0b5de9f9598e39840e176ce889b9c\"],\"xaxis\":\"x\",\"y\":[1654609579,1654618915,1654618550],\"yaxis\":\"y\",\"type\":\"bar\"},{\"alignmentgroup\":\"True\",\"hovertemplate\":\"trader=0x428fa1c9894d21b12c64055a9f6be982b6794737<br>baseToken=%{x}<br>timestamp=%{y}<extra></extra>\",\"legendgroup\":\"0x428fa1c9894d21b12c64055a9f6be982b6794737\",\"marker\":{\"color\":\"#FECB52\",\"pattern\":{\"shape\":\"\"}},\"name\":\"0x428fa1c9894d21b12c64055a9f6be982b6794737\",\"offsetgroup\":\"0x428fa1c9894d21b12c64055a9f6be982b6794737\",\"orientation\":\"v\",\"showlegend\":true,\"textposition\":\"auto\",\"x\":[\"0x5f714b5347f0b5de9f9598e39840e176ce889b9c\",\"0x5f714b5347f0b5de9f9598e39840e176ce889b9c\",\"0x5f714b5347f0b5de9f9598e39840e176ce889b9c\",\"0x5f714b5347f0b5de9f9598e39840e176ce889b9c\",\"0x5f714b5347f0b5de9f9598e39840e176ce889b9c\",\"0x5f714b5347f0b5de9f9598e39840e176ce889b9c\",\"0x5f714b5347f0b5de9f9598e39840e176ce889b9c\",\"0x5f714b5347f0b5de9f9598e39840e176ce889b9c\",\"0x5f714b5347f0b5de9f9598e39840e176ce889b9c\",\"0x5f714b5347f0b5de9f9598e39840e176ce889b9c\",\"0x5f714b5347f0b5de9f9598e39840e176ce889b9c\"],\"xaxis\":\"x\",\"y\":[1654618899,1654618899,1654618915,1654618899,1654618550,1654618535,1654616505,1654597961,1654597961,1654598761,1654598776],\"yaxis\":\"y\",\"type\":\"bar\"},{\"alignmentgroup\":\"True\",\"hovertemplate\":\"trader=0xf77ca96962bc48d6ff7b10f35ef2f504a287b3a1<br>baseToken=%{x}<br>timestamp=%{y}<extra></extra>\",\"legendgroup\":\"0xf77ca96962bc48d6ff7b10f35ef2f504a287b3a1\",\"marker\":{\"color\":\"#636efa\",\"pattern\":{\"shape\":\"\"}},\"name\":\"0xf77ca96962bc48d6ff7b10f35ef2f504a287b3a1\",\"offsetgroup\":\"0xf77ca96962bc48d6ff7b10f35ef2f504a287b3a1\",\"orientation\":\"v\",\"showlegend\":true,\"textposition\":\"auto\",\"x\":[\"0x151bb01c79f4516c233948d69dae39869bccb737\",\"0x151bb01c79f4516c233948d69dae39869bccb737\",\"0x151bb01c79f4516c233948d69dae39869bccb737\",\"0x151bb01c79f4516c233948d69dae39869bccb737\",\"0x151bb01c79f4516c233948d69dae39869bccb737\",\"0x151bb01c79f4516c233948d69dae39869bccb737\",\"0x151bb01c79f4516c233948d69dae39869bccb737\",\"0x151bb01c79f4516c233948d69dae39869bccb737\",\"0x151bb01c79f4516c233948d69dae39869bccb737\",\"0x151bb01c79f4516c233948d69dae39869bccb737\",\"0x151bb01c79f4516c233948d69dae39869bccb737\",\"0x151bb01c79f4516c233948d69dae39869bccb737\",\"0x151bb01c79f4516c233948d69dae39869bccb737\",\"0x151bb01c79f4516c233948d69dae39869bccb737\",\"0x151bb01c79f4516c233948d69dae39869bccb737\"],\"xaxis\":\"x\",\"y\":[1654616301,1654618580,1654618580,1654618550,1654616221,1654616350,1654618658,1654615875,1654618535,1654616505,1654618503,1654598021,1654598345,1654598051,1654598516],\"yaxis\":\"y\",\"type\":\"bar\"},{\"alignmentgroup\":\"True\",\"hovertemplate\":\"trader=0x5500d324739c6f8539c4f1aaf5f11ad50a3ed907<br>baseToken=%{x}<br>timestamp=%{y}<extra></extra>\",\"legendgroup\":\"0x5500d324739c6f8539c4f1aaf5f11ad50a3ed907\",\"marker\":{\"color\":\"#EF553B\",\"pattern\":{\"shape\":\"\"}},\"name\":\"0x5500d324739c6f8539c4f1aaf5f11ad50a3ed907\",\"offsetgroup\":\"0x5500d324739c6f8539c4f1aaf5f11ad50a3ed907\",\"orientation\":\"v\",\"showlegend\":true,\"textposition\":\"auto\",\"x\":[\"0xbe5de48197fc974600929196239e264ecb703ee8\"],\"xaxis\":\"x\",\"y\":[1654609564],\"yaxis\":\"y\",\"type\":\"bar\"},{\"alignmentgroup\":\"True\",\"hovertemplate\":\"trader=0x39e4ef417df428c187779b311875541cff5b2fa9<br>baseToken=%{x}<br>timestamp=%{y}<extra></extra>\",\"legendgroup\":\"0x39e4ef417df428c187779b311875541cff5b2fa9\",\"marker\":{\"color\":\"#00cc96\",\"pattern\":{\"shape\":\"\"}},\"name\":\"0x39e4ef417df428c187779b311875541cff5b2fa9\",\"offsetgroup\":\"0x39e4ef417df428c187779b311875541cff5b2fa9\",\"orientation\":\"v\",\"showlegend\":true,\"textposition\":\"auto\",\"x\":[\"0x9482aafdced6b899626f465e1fa0cf1b1418d797\"],\"xaxis\":\"x\",\"y\":[1654618580],\"yaxis\":\"y\",\"type\":\"bar\"},{\"alignmentgroup\":\"True\",\"hovertemplate\":\"trader=0x3478d1ba5bc6c0e662dec109c70c0065dad5f5be<br>baseToken=%{x}<br>timestamp=%{y}<extra></extra>\",\"legendgroup\":\"0x3478d1ba5bc6c0e662dec109c70c0065dad5f5be\",\"marker\":{\"color\":\"#ab63fa\",\"pattern\":{\"shape\":\"\"}},\"name\":\"0x3478d1ba5bc6c0e662dec109c70c0065dad5f5be\",\"offsetgroup\":\"0x3478d1ba5bc6c0e662dec109c70c0065dad5f5be\",\"orientation\":\"v\",\"showlegend\":true,\"textposition\":\"auto\",\"x\":[\"0x9482aafdced6b899626f465e1fa0cf1b1418d797\",\"0x9482aafdced6b899626f465e1fa0cf1b1418d797\"],\"xaxis\":\"x\",\"y\":[1654609880,1654618595],\"yaxis\":\"y\",\"type\":\"bar\"},{\"alignmentgroup\":\"True\",\"hovertemplate\":\"trader=0xe77dd81813bd06d74a30d1b2c07418906456498e<br>baseToken=%{x}<br>timestamp=%{y}<extra></extra>\",\"legendgroup\":\"0xe77dd81813bd06d74a30d1b2c07418906456498e\",\"marker\":{\"color\":\"#FFA15A\",\"pattern\":{\"shape\":\"\"}},\"name\":\"0xe77dd81813bd06d74a30d1b2c07418906456498e\",\"offsetgroup\":\"0xe77dd81813bd06d74a30d1b2c07418906456498e\",\"orientation\":\"v\",\"showlegend\":true,\"textposition\":\"auto\",\"x\":[\"0x2f198182ec54469195a4a06262a9431a42462373\",\"0x2f198182ec54469195a4a06262a9431a42462373\",\"0x2f198182ec54469195a4a06262a9431a42462373\"],\"xaxis\":\"x\",\"y\":[1654609564,1654609835,1654609880],\"yaxis\":\"y\",\"type\":\"bar\"},{\"alignmentgroup\":\"True\",\"hovertemplate\":\"trader=0x81659efa98a5b6b0ca47890c2ea43afaa1d6e46e<br>baseToken=%{x}<br>timestamp=%{y}<extra></extra>\",\"legendgroup\":\"0x81659efa98a5b6b0ca47890c2ea43afaa1d6e46e\",\"marker\":{\"color\":\"#19d3f3\",\"pattern\":{\"shape\":\"\"}},\"name\":\"0x81659efa98a5b6b0ca47890c2ea43afaa1d6e46e\",\"offsetgroup\":\"0x81659efa98a5b6b0ca47890c2ea43afaa1d6e46e\",\"orientation\":\"v\",\"showlegend\":true,\"textposition\":\"auto\",\"x\":[\"0x8c835dfaa34e2ae61775e80ee29e2c724c6ae2bb\",\"0x8c835dfaa34e2ae61775e80ee29e2c724c6ae2bb\",\"0x8c835dfaa34e2ae61775e80ee29e2c724c6ae2bb\"],\"xaxis\":\"x\",\"y\":[1654609865,1654609880,1654618580],\"yaxis\":\"y\",\"type\":\"bar\"},{\"alignmentgroup\":\"True\",\"hovertemplate\":\"trader=0xc2c003b37a54255d8efcc77b1eb9f33c9fcfc10a<br>baseToken=%{x}<br>timestamp=%{y}<extra></extra>\",\"legendgroup\":\"0xc2c003b37a54255d8efcc77b1eb9f33c9fcfc10a\",\"marker\":{\"color\":\"#FF6692\",\"pattern\":{\"shape\":\"\"}},\"name\":\"0xc2c003b37a54255d8efcc77b1eb9f33c9fcfc10a\",\"offsetgroup\":\"0xc2c003b37a54255d8efcc77b1eb9f33c9fcfc10a\",\"orientation\":\"v\",\"showlegend\":true,\"textposition\":\"auto\",\"x\":[\"0x7eada83e15acd08d22ad85a1dce92e5a257acb92\"],\"xaxis\":\"x\",\"y\":[1654618580],\"yaxis\":\"y\",\"type\":\"bar\"},{\"alignmentgroup\":\"True\",\"hovertemplate\":\"trader=0x94934851b2c6a066f9e5acb353bce4bc7fcdcdbd<br>baseToken=%{x}<br>timestamp=%{y}<extra></extra>\",\"legendgroup\":\"0x94934851b2c6a066f9e5acb353bce4bc7fcdcdbd\",\"marker\":{\"color\":\"#B6E880\",\"pattern\":{\"shape\":\"\"}},\"name\":\"0x94934851b2c6a066f9e5acb353bce4bc7fcdcdbd\",\"offsetgroup\":\"0x94934851b2c6a066f9e5acb353bce4bc7fcdcdbd\",\"orientation\":\"v\",\"showlegend\":true,\"textposition\":\"auto\",\"x\":[\"0x5faa136fc58b6136ffdaeaac320076c4865c070f\",\"0x5faa136fc58b6136ffdaeaac320076c4865c070f\",\"0x5faa136fc58b6136ffdaeaac320076c4865c070f\",\"0x5faa136fc58b6136ffdaeaac320076c4865c070f\"],\"xaxis\":\"x\",\"y\":[1654609835,1654618550,1654616490,1654616505],\"yaxis\":\"y\",\"type\":\"bar\"},{\"alignmentgroup\":\"True\",\"hovertemplate\":\"trader=0x460f484cb605267b7eb283c3b7b45172ead44ca0<br>baseToken=%{x}<br>timestamp=%{y}<extra></extra>\",\"legendgroup\":\"0x460f484cb605267b7eb283c3b7b45172ead44ca0\",\"marker\":{\"color\":\"#FF97FF\",\"pattern\":{\"shape\":\"\"}},\"name\":\"0x460f484cb605267b7eb283c3b7b45172ead44ca0\",\"offsetgroup\":\"0x460f484cb605267b7eb283c3b7b45172ead44ca0\",\"orientation\":\"v\",\"showlegend\":true,\"textposition\":\"auto\",\"x\":[\"0x2f198182ec54469195a4a06262a9431a42462373\",\"0x2f198182ec54469195a4a06262a9431a42462373\",\"0x2f198182ec54469195a4a06262a9431a42462373\",\"0x2f198182ec54469195a4a06262a9431a42462373\",\"0x2f198182ec54469195a4a06262a9431a42462373\",\"0x2f198182ec54469195a4a06262a9431a42462373\",\"0x2f198182ec54469195a4a06262a9431a42462373\",\"0x2f198182ec54469195a4a06262a9431a42462373\",\"0x2f198182ec54469195a4a06262a9431a42462373\",\"0x2f198182ec54469195a4a06262a9431a42462373\",\"0x2f198182ec54469195a4a06262a9431a42462373\",\"0x2f198182ec54469195a4a06262a9431a42462373\",\"0x2f198182ec54469195a4a06262a9431a42462373\",\"0x2f198182ec54469195a4a06262a9431a42462373\",\"0x2f198182ec54469195a4a06262a9431a42462373\",\"0x2f198182ec54469195a4a06262a9431a42462373\",\"0x2f198182ec54469195a4a06262a9431a42462373\",\"0x2f198182ec54469195a4a06262a9431a42462373\",\"0x2f198182ec54469195a4a06262a9431a42462373\",\"0x2f198182ec54469195a4a06262a9431a42462373\"],\"xaxis\":\"x\",\"y\":[1654615825,1654615746,1654615795,1654615857,1654616030,1654616271,1654616030,1654615776,1654616271,1654616204,1654616030,1654616350,1654616460,1654616475,1654618580,1654618580,1654618219,1654618426,1654618837,1654618234],\"yaxis\":\"y\",\"type\":\"bar\"},{\"alignmentgroup\":\"True\",\"hovertemplate\":\"trader=0x6879f97a6a9e2c050e38fcb90ca97aaccd189eac<br>baseToken=%{x}<br>timestamp=%{y}<extra></extra>\",\"legendgroup\":\"0x6879f97a6a9e2c050e38fcb90ca97aaccd189eac\",\"marker\":{\"color\":\"#FECB52\",\"pattern\":{\"shape\":\"\"}},\"name\":\"0x6879f97a6a9e2c050e38fcb90ca97aaccd189eac\",\"offsetgroup\":\"0x6879f97a6a9e2c050e38fcb90ca97aaccd189eac\",\"orientation\":\"v\",\"showlegend\":true,\"textposition\":\"auto\",\"x\":[\"0x77d0cc9568605bfff32f918c8ffaa53f72901416\",\"0x77d0cc9568605bfff32f918c8ffaa53f72901416\",\"0x77d0cc9568605bfff32f918c8ffaa53f72901416\",\"0x77d0cc9568605bfff32f918c8ffaa53f72901416\",\"0x77d0cc9568605bfff32f918c8ffaa53f72901416\",\"0x77d0cc9568605bfff32f918c8ffaa53f72901416\"],\"xaxis\":\"x\",\"y\":[1654618883,1654616316,1654618580,1654615825,1654618520,1654615746],\"yaxis\":\"y\",\"type\":\"bar\"},{\"alignmentgroup\":\"True\",\"hovertemplate\":\"trader=0x05184fa865fb99e46bee24e71c09cd68a11ac68e<br>baseToken=%{x}<br>timestamp=%{y}<extra></extra>\",\"legendgroup\":\"0x05184fa865fb99e46bee24e71c09cd68a11ac68e\",\"marker\":{\"color\":\"#636efa\",\"pattern\":{\"shape\":\"\"}},\"name\":\"0x05184fa865fb99e46bee24e71c09cd68a11ac68e\",\"offsetgroup\":\"0x05184fa865fb99e46bee24e71c09cd68a11ac68e\",\"orientation\":\"v\",\"showlegend\":true,\"textposition\":\"auto\",\"x\":[\"0x2f198182ec54469195a4a06262a9431a42462373\"],\"xaxis\":\"x\",\"y\":[1654609705],\"yaxis\":\"y\",\"type\":\"bar\"},{\"alignmentgroup\":\"True\",\"hovertemplate\":\"trader=0xc9ea06315038afcb52685481909be0a02dd3f206<br>baseToken=%{x}<br>timestamp=%{y}<extra></extra>\",\"legendgroup\":\"0xc9ea06315038afcb52685481909be0a02dd3f206\",\"marker\":{\"color\":\"#EF553B\",\"pattern\":{\"shape\":\"\"}},\"name\":\"0xc9ea06315038afcb52685481909be0a02dd3f206\",\"offsetgroup\":\"0xc9ea06315038afcb52685481909be0a02dd3f206\",\"orientation\":\"v\",\"showlegend\":true,\"textposition\":\"auto\",\"x\":[\"0x2db8d2db86ca3a4c7040e778244451776570359b\",\"0x2db8d2db86ca3a4c7040e778244451776570359b\"],\"xaxis\":\"x\",\"y\":[1654609835,1654598345],\"yaxis\":\"y\",\"type\":\"bar\"},{\"alignmentgroup\":\"True\",\"hovertemplate\":\"trader=0x6f2ddd6d04aa4ebaa6e9529e8a1b4062a2716281<br>baseToken=%{x}<br>timestamp=%{y}<extra></extra>\",\"legendgroup\":\"0x6f2ddd6d04aa4ebaa6e9529e8a1b4062a2716281\",\"marker\":{\"color\":\"#00cc96\",\"pattern\":{\"shape\":\"\"}},\"name\":\"0x6f2ddd6d04aa4ebaa6e9529e8a1b4062a2716281\",\"offsetgroup\":\"0x6f2ddd6d04aa4ebaa6e9529e8a1b4062a2716281\",\"orientation\":\"v\",\"showlegend\":true,\"textposition\":\"auto\",\"x\":[\"0x9d34f1d15c22e4c0924804e2a38cbe93dfb84bc2\",\"0x9d34f1d15c22e4c0924804e2a38cbe93dfb84bc2\",\"0x9d34f1d15c22e4c0924804e2a38cbe93dfb84bc2\",\"0x9d34f1d15c22e4c0924804e2a38cbe93dfb84bc2\",\"0x9d34f1d15c22e4c0924804e2a38cbe93dfb84bc2\",\"0x9d34f1d15c22e4c0924804e2a38cbe93dfb84bc2\",\"0x9d34f1d15c22e4c0924804e2a38cbe93dfb84bc2\"],\"xaxis\":\"x\",\"y\":[1654615795,1654618535,1654615761,1654616505,1654598360,1654598670,1654598546],\"yaxis\":\"y\",\"type\":\"bar\"},{\"alignmentgroup\":\"True\",\"hovertemplate\":\"trader=0x931292c42a5f600e80d75b7c7743f0164240882c<br>baseToken=%{x}<br>timestamp=%{y}<extra></extra>\",\"legendgroup\":\"0x931292c42a5f600e80d75b7c7743f0164240882c\",\"marker\":{\"color\":\"#ab63fa\",\"pattern\":{\"shape\":\"\"}},\"name\":\"0x931292c42a5f600e80d75b7c7743f0164240882c\",\"offsetgroup\":\"0x931292c42a5f600e80d75b7c7743f0164240882c\",\"orientation\":\"v\",\"showlegend\":true,\"textposition\":\"auto\",\"x\":[\"0x2f198182ec54469195a4a06262a9431a42462373\"],\"xaxis\":\"x\",\"y\":[1654598731],\"yaxis\":\"y\",\"type\":\"bar\"},{\"alignmentgroup\":\"True\",\"hovertemplate\":\"trader=0x66465ad392942e78f8147ae565a43f174071822b<br>baseToken=%{x}<br>timestamp=%{y}<extra></extra>\",\"legendgroup\":\"0x66465ad392942e78f8147ae565a43f174071822b\",\"marker\":{\"color\":\"#FFA15A\",\"pattern\":{\"shape\":\"\"}},\"name\":\"0x66465ad392942e78f8147ae565a43f174071822b\",\"offsetgroup\":\"0x66465ad392942e78f8147ae565a43f174071822b\",\"orientation\":\"v\",\"showlegend\":true,\"textposition\":\"auto\",\"x\":[\"0x5faa136fc58b6136ffdaeaac320076c4865c070f\",\"0x5faa136fc58b6136ffdaeaac320076c4865c070f\",\"0x5faa136fc58b6136ffdaeaac320076c4865c070f\",\"0x5faa136fc58b6136ffdaeaac320076c4865c070f\",\"0x5faa136fc58b6136ffdaeaac320076c4865c070f\",\"0x5faa136fc58b6136ffdaeaac320076c4865c070f\",\"0x5faa136fc58b6136ffdaeaac320076c4865c070f\",\"0x5faa136fc58b6136ffdaeaac320076c4865c070f\",\"0x5faa136fc58b6136ffdaeaac320076c4865c070f\",\"0x5faa136fc58b6136ffdaeaac320076c4865c070f\"],\"xaxis\":\"x\",\"y\":[1654618595,1654618550,1654615795,1654618535,1654616301,1654616475,1654615923,1654597946,1654597961,1654598516],\"yaxis\":\"y\",\"type\":\"bar\"},{\"alignmentgroup\":\"True\",\"hovertemplate\":\"trader=0x91d46a68324991f2e96f121317b642a8d4179190<br>baseToken=%{x}<br>timestamp=%{y}<extra></extra>\",\"legendgroup\":\"0x91d46a68324991f2e96f121317b642a8d4179190\",\"marker\":{\"color\":\"#19d3f3\",\"pattern\":{\"shape\":\"\"}},\"name\":\"0x91d46a68324991f2e96f121317b642a8d4179190\",\"offsetgroup\":\"0x91d46a68324991f2e96f121317b642a8d4179190\",\"orientation\":\"v\",\"showlegend\":true,\"textposition\":\"auto\",\"x\":[\"0x8c835dfaa34e2ae61775e80ee29e2c724c6ae2bb\",\"0x8c835dfaa34e2ae61775e80ee29e2c724c6ae2bb\",\"0x8c835dfaa34e2ae61775e80ee29e2c724c6ae2bb\",\"0x8c835dfaa34e2ae61775e80ee29e2c724c6ae2bb\",\"0x8c835dfaa34e2ae61775e80ee29e2c724c6ae2bb\",\"0x8c835dfaa34e2ae61775e80ee29e2c724c6ae2bb\",\"0x8c835dfaa34e2ae61775e80ee29e2c724c6ae2bb\",\"0x8c835dfaa34e2ae61775e80ee29e2c724c6ae2bb\",\"0x8c835dfaa34e2ae61775e80ee29e2c724c6ae2bb\",\"0x8c835dfaa34e2ae61775e80ee29e2c724c6ae2bb\",\"0x8c835dfaa34e2ae61775e80ee29e2c724c6ae2bb\",\"0x8c835dfaa34e2ae61775e80ee29e2c724c6ae2bb\",\"0x8c835dfaa34e2ae61775e80ee29e2c724c6ae2bb\",\"0x8c835dfaa34e2ae61775e80ee29e2c724c6ae2bb\"],\"xaxis\":\"x\",\"y\":[1654618580,1654618580,1654618550,1654618550,1654615810,1654615795,1654616505,1654615746,1654615746,1654597871,1654597961,1654597961,1654598021,1654598021],\"yaxis\":\"y\",\"type\":\"bar\"},{\"alignmentgroup\":\"True\",\"hovertemplate\":\"trader=0x16b1aa595b8ee725aee23a9d4ceac2163d80db64<br>baseToken=%{x}<br>timestamp=%{y}<extra></extra>\",\"legendgroup\":\"0x16b1aa595b8ee725aee23a9d4ceac2163d80db64\",\"marker\":{\"color\":\"#FF6692\",\"pattern\":{\"shape\":\"\"}},\"name\":\"0x16b1aa595b8ee725aee23a9d4ceac2163d80db64\",\"offsetgroup\":\"0x16b1aa595b8ee725aee23a9d4ceac2163d80db64\",\"orientation\":\"v\",\"showlegend\":true,\"textposition\":\"auto\",\"x\":[\"0x2db8d2db86ca3a4c7040e778244451776570359b\",\"0x2db8d2db86ca3a4c7040e778244451776570359b\",\"0x2db8d2db86ca3a4c7040e778244451776570359b\",\"0x2db8d2db86ca3a4c7040e778244451776570359b\",\"0x2db8d2db86ca3a4c7040e778244451776570359b\",\"0x2db8d2db86ca3a4c7040e778244451776570359b\",\"0x2db8d2db86ca3a4c7040e778244451776570359b\",\"0x2db8d2db86ca3a4c7040e778244451776570359b\",\"0x2db8d2db86ca3a4c7040e778244451776570359b\"],\"xaxis\":\"x\",\"y\":[1654618580,1654618643,1654618643,1654618693,1654618837,1654618550,1654617952,1654619055,1654598345],\"yaxis\":\"y\",\"type\":\"bar\"},{\"alignmentgroup\":\"True\",\"hovertemplate\":\"trader=0xb26d26135a1454dbb3bb5d2056d6a55b7196e5be<br>baseToken=%{x}<br>timestamp=%{y}<extra></extra>\",\"legendgroup\":\"0xb26d26135a1454dbb3bb5d2056d6a55b7196e5be\",\"marker\":{\"color\":\"#B6E880\",\"pattern\":{\"shape\":\"\"}},\"name\":\"0xb26d26135a1454dbb3bb5d2056d6a55b7196e5be\",\"offsetgroup\":\"0xb26d26135a1454dbb3bb5d2056d6a55b7196e5be\",\"orientation\":\"v\",\"showlegend\":true,\"textposition\":\"auto\",\"x\":[\"0xbe5de48197fc974600929196239e264ecb703ee8\",\"0xbe5de48197fc974600929196239e264ecb703ee8\",\"0xbe5de48197fc974600929196239e264ecb703ee8\"],\"xaxis\":\"x\",\"y\":[1654609865,1654609564,1654609374],\"yaxis\":\"y\",\"type\":\"bar\"},{\"alignmentgroup\":\"True\",\"hovertemplate\":\"trader=0x7462da033c5cceb21691d2447af34f3e333e0b85<br>baseToken=%{x}<br>timestamp=%{y}<extra></extra>\",\"legendgroup\":\"0x7462da033c5cceb21691d2447af34f3e333e0b85\",\"marker\":{\"color\":\"#FF97FF\",\"pattern\":{\"shape\":\"\"}},\"name\":\"0x7462da033c5cceb21691d2447af34f3e333e0b85\",\"offsetgroup\":\"0x7462da033c5cceb21691d2447af34f3e333e0b85\",\"orientation\":\"v\",\"showlegend\":true,\"textposition\":\"auto\",\"x\":[\"0x3fb3282e3ba34a0bff94845f1800eb93cc6850d4\",\"0x3fb3282e3ba34a0bff94845f1800eb93cc6850d4\",\"0x3fb3282e3ba34a0bff94845f1800eb93cc6850d4\",\"0x3fb3282e3ba34a0bff94845f1800eb93cc6850d4\"],\"xaxis\":\"x\",\"y\":[1654618595,1654618535,1654615746,1654598516],\"yaxis\":\"y\",\"type\":\"bar\"},{\"alignmentgroup\":\"True\",\"hovertemplate\":\"trader=0x8d86c5fe066a9ddcfde62884797dbe213151a22b<br>baseToken=%{x}<br>timestamp=%{y}<extra></extra>\",\"legendgroup\":\"0x8d86c5fe066a9ddcfde62884797dbe213151a22b\",\"marker\":{\"color\":\"#FECB52\",\"pattern\":{\"shape\":\"\"}},\"name\":\"0x8d86c5fe066a9ddcfde62884797dbe213151a22b\",\"offsetgroup\":\"0x8d86c5fe066a9ddcfde62884797dbe213151a22b\",\"orientation\":\"v\",\"showlegend\":true,\"textposition\":\"auto\",\"x\":[\"0x86f1e0420c26a858fc203a3645dd1a36868f18e5\",\"0x86f1e0420c26a858fc203a3645dd1a36868f18e5\"],\"xaxis\":\"x\",\"y\":[1654615810,1654615795],\"yaxis\":\"y\",\"type\":\"bar\"},{\"alignmentgroup\":\"True\",\"hovertemplate\":\"trader=0x1313817a82545e29764281f51f6255619753235d<br>baseToken=%{x}<br>timestamp=%{y}<extra></extra>\",\"legendgroup\":\"0x1313817a82545e29764281f51f6255619753235d\",\"marker\":{\"color\":\"#636efa\",\"pattern\":{\"shape\":\"\"}},\"name\":\"0x1313817a82545e29764281f51f6255619753235d\",\"offsetgroup\":\"0x1313817a82545e29764281f51f6255619753235d\",\"orientation\":\"v\",\"showlegend\":true,\"textposition\":\"auto\",\"x\":[\"0x8c835dfaa34e2ae61775e80ee29e2c724c6ae2bb\"],\"xaxis\":\"x\",\"y\":[1638006087],\"yaxis\":\"y\",\"type\":\"bar\"},{\"alignmentgroup\":\"True\",\"hovertemplate\":\"trader=0xb3344d84ad8dd6b96301991bf12dc739e226c9cf<br>baseToken=%{x}<br>timestamp=%{y}<extra></extra>\",\"legendgroup\":\"0xb3344d84ad8dd6b96301991bf12dc739e226c9cf\",\"marker\":{\"color\":\"#EF553B\",\"pattern\":{\"shape\":\"\"}},\"name\":\"0xb3344d84ad8dd6b96301991bf12dc739e226c9cf\",\"offsetgroup\":\"0xb3344d84ad8dd6b96301991bf12dc739e226c9cf\",\"orientation\":\"v\",\"showlegend\":true,\"textposition\":\"auto\",\"x\":[\"0x8c835dfaa34e2ae61775e80ee29e2c724c6ae2bb\",\"0x86f1e0420c26a858fc203a3645dd1a36868f18e5\"],\"xaxis\":\"x\",\"y\":[1638004708,1638090264],\"yaxis\":\"y\",\"type\":\"bar\"},{\"alignmentgroup\":\"True\",\"hovertemplate\":\"trader=0xb23e76d88d1b41d401ec664f563fe9a2b1069795<br>baseToken=%{x}<br>timestamp=%{y}<extra></extra>\",\"legendgroup\":\"0xb23e76d88d1b41d401ec664f563fe9a2b1069795\",\"marker\":{\"color\":\"#00cc96\",\"pattern\":{\"shape\":\"\"}},\"name\":\"0xb23e76d88d1b41d401ec664f563fe9a2b1069795\",\"offsetgroup\":\"0xb23e76d88d1b41d401ec664f563fe9a2b1069795\",\"orientation\":\"v\",\"showlegend\":true,\"textposition\":\"auto\",\"x\":[\"0x8c835dfaa34e2ae61775e80ee29e2c724c6ae2bb\"],\"xaxis\":\"x\",\"y\":[1638006989],\"yaxis\":\"y\",\"type\":\"bar\"},{\"alignmentgroup\":\"True\",\"hovertemplate\":\"trader=0xaaf2cf2a9c8a8f3b02f2c0a9d19b37722e8b7305<br>baseToken=%{x}<br>timestamp=%{y}<extra></extra>\",\"legendgroup\":\"0xaaf2cf2a9c8a8f3b02f2c0a9d19b37722e8b7305\",\"marker\":{\"color\":\"#ab63fa\",\"pattern\":{\"shape\":\"\"}},\"name\":\"0xaaf2cf2a9c8a8f3b02f2c0a9d19b37722e8b7305\",\"offsetgroup\":\"0xaaf2cf2a9c8a8f3b02f2c0a9d19b37722e8b7305\",\"orientation\":\"v\",\"showlegend\":true,\"textposition\":\"auto\",\"x\":[\"0x86f1e0420c26a858fc203a3645dd1a36868f18e5\"],\"xaxis\":\"x\",\"y\":[1654615746],\"yaxis\":\"y\",\"type\":\"bar\"},{\"alignmentgroup\":\"True\",\"hovertemplate\":\"trader=0x499166d1a71fed3b490ddb0591f4ae14c1031993<br>baseToken=%{x}<br>timestamp=%{y}<extra></extra>\",\"legendgroup\":\"0x499166d1a71fed3b490ddb0591f4ae14c1031993\",\"marker\":{\"color\":\"#FFA15A\",\"pattern\":{\"shape\":\"\"}},\"name\":\"0x499166d1a71fed3b490ddb0591f4ae14c1031993\",\"offsetgroup\":\"0x499166d1a71fed3b490ddb0591f4ae14c1031993\",\"orientation\":\"v\",\"showlegend\":true,\"textposition\":\"auto\",\"x\":[\"0x86f1e0420c26a858fc203a3645dd1a36868f18e5\"],\"xaxis\":\"x\",\"y\":[1638089588],\"yaxis\":\"y\",\"type\":\"bar\"},{\"alignmentgroup\":\"True\",\"hovertemplate\":\"trader=0x98029c23e4a554989c280de7fcb1c2ededf2b17f<br>baseToken=%{x}<br>timestamp=%{y}<extra></extra>\",\"legendgroup\":\"0x98029c23e4a554989c280de7fcb1c2ededf2b17f\",\"marker\":{\"color\":\"#19d3f3\",\"pattern\":{\"shape\":\"\"}},\"name\":\"0x98029c23e4a554989c280de7fcb1c2ededf2b17f\",\"offsetgroup\":\"0x98029c23e4a554989c280de7fcb1c2ededf2b17f\",\"orientation\":\"v\",\"showlegend\":true,\"textposition\":\"auto\",\"x\":[\"0x86f1e0420c26a858fc203a3645dd1a36868f18e5\",\"0x86f1e0420c26a858fc203a3645dd1a36868f18e5\",\"0x86f1e0420c26a858fc203a3645dd1a36868f18e5\",\"0x86f1e0420c26a858fc203a3645dd1a36868f18e5\",\"0x86f1e0420c26a858fc203a3645dd1a36868f18e5\",\"0x86f1e0420c26a858fc203a3645dd1a36868f18e5\"],\"xaxis\":\"x\",\"y\":[1638093111,1638093044,1638093044,1638093044,1638084887,1638084887],\"yaxis\":\"y\",\"type\":\"bar\"}],                        {\"template\":{\"data\":{\"histogram2dcontour\":[{\"type\":\"histogram2dcontour\",\"colorbar\":{\"outlinewidth\":0,\"ticks\":\"\"},\"colorscale\":[[0.0,\"#0d0887\"],[0.1111111111111111,\"#46039f\"],[0.2222222222222222,\"#7201a8\"],[0.3333333333333333,\"#9c179e\"],[0.4444444444444444,\"#bd3786\"],[0.5555555555555556,\"#d8576b\"],[0.6666666666666666,\"#ed7953\"],[0.7777777777777778,\"#fb9f3a\"],[0.8888888888888888,\"#fdca26\"],[1.0,\"#f0f921\"]]}],\"choropleth\":[{\"type\":\"choropleth\",\"colorbar\":{\"outlinewidth\":0,\"ticks\":\"\"}}],\"histogram2d\":[{\"type\":\"histogram2d\",\"colorbar\":{\"outlinewidth\":0,\"ticks\":\"\"},\"colorscale\":[[0.0,\"#0d0887\"],[0.1111111111111111,\"#46039f\"],[0.2222222222222222,\"#7201a8\"],[0.3333333333333333,\"#9c179e\"],[0.4444444444444444,\"#bd3786\"],[0.5555555555555556,\"#d8576b\"],[0.6666666666666666,\"#ed7953\"],[0.7777777777777778,\"#fb9f3a\"],[0.8888888888888888,\"#fdca26\"],[1.0,\"#f0f921\"]]}],\"heatmap\":[{\"type\":\"heatmap\",\"colorbar\":{\"outlinewidth\":0,\"ticks\":\"\"},\"colorscale\":[[0.0,\"#0d0887\"],[0.1111111111111111,\"#46039f\"],[0.2222222222222222,\"#7201a8\"],[0.3333333333333333,\"#9c179e\"],[0.4444444444444444,\"#bd3786\"],[0.5555555555555556,\"#d8576b\"],[0.6666666666666666,\"#ed7953\"],[0.7777777777777778,\"#fb9f3a\"],[0.8888888888888888,\"#fdca26\"],[1.0,\"#f0f921\"]]}],\"heatmapgl\":[{\"type\":\"heatmapgl\",\"colorbar\":{\"outlinewidth\":0,\"ticks\":\"\"},\"colorscale\":[[0.0,\"#0d0887\"],[0.1111111111111111,\"#46039f\"],[0.2222222222222222,\"#7201a8\"],[0.3333333333333333,\"#9c179e\"],[0.4444444444444444,\"#bd3786\"],[0.5555555555555556,\"#d8576b\"],[0.6666666666666666,\"#ed7953\"],[0.7777777777777778,\"#fb9f3a\"],[0.8888888888888888,\"#fdca26\"],[1.0,\"#f0f921\"]]}],\"contourcarpet\":[{\"type\":\"contourcarpet\",\"colorbar\":{\"outlinewidth\":0,\"ticks\":\"\"}}],\"contour\":[{\"type\":\"contour\",\"colorbar\":{\"outlinewidth\":0,\"ticks\":\"\"},\"colorscale\":[[0.0,\"#0d0887\"],[0.1111111111111111,\"#46039f\"],[0.2222222222222222,\"#7201a8\"],[0.3333333333333333,\"#9c179e\"],[0.4444444444444444,\"#bd3786\"],[0.5555555555555556,\"#d8576b\"],[0.6666666666666666,\"#ed7953\"],[0.7777777777777778,\"#fb9f3a\"],[0.8888888888888888,\"#fdca26\"],[1.0,\"#f0f921\"]]}],\"surface\":[{\"type\":\"surface\",\"colorbar\":{\"outlinewidth\":0,\"ticks\":\"\"},\"colorscale\":[[0.0,\"#0d0887\"],[0.1111111111111111,\"#46039f\"],[0.2222222222222222,\"#7201a8\"],[0.3333333333333333,\"#9c179e\"],[0.4444444444444444,\"#bd3786\"],[0.5555555555555556,\"#d8576b\"],[0.6666666666666666,\"#ed7953\"],[0.7777777777777778,\"#fb9f3a\"],[0.8888888888888888,\"#fdca26\"],[1.0,\"#f0f921\"]]}],\"mesh3d\":[{\"type\":\"mesh3d\",\"colorbar\":{\"outlinewidth\":0,\"ticks\":\"\"}}],\"scatter\":[{\"fillpattern\":{\"fillmode\":\"overlay\",\"size\":10,\"solidity\":0.2},\"type\":\"scatter\"}],\"parcoords\":[{\"type\":\"parcoords\",\"line\":{\"colorbar\":{\"outlinewidth\":0,\"ticks\":\"\"}}}],\"scatterpolargl\":[{\"type\":\"scatterpolargl\",\"marker\":{\"colorbar\":{\"outlinewidth\":0,\"ticks\":\"\"}}}],\"bar\":[{\"error_x\":{\"color\":\"#2a3f5f\"},\"error_y\":{\"color\":\"#2a3f5f\"},\"marker\":{\"line\":{\"color\":\"#E5ECF6\",\"width\":0.5},\"pattern\":{\"fillmode\":\"overlay\",\"size\":10,\"solidity\":0.2}},\"type\":\"bar\"}],\"scattergeo\":[{\"type\":\"scattergeo\",\"marker\":{\"colorbar\":{\"outlinewidth\":0,\"ticks\":\"\"}}}],\"scatterpolar\":[{\"type\":\"scatterpolar\",\"marker\":{\"colorbar\":{\"outlinewidth\":0,\"ticks\":\"\"}}}],\"histogram\":[{\"marker\":{\"pattern\":{\"fillmode\":\"overlay\",\"size\":10,\"solidity\":0.2}},\"type\":\"histogram\"}],\"scattergl\":[{\"type\":\"scattergl\",\"marker\":{\"colorbar\":{\"outlinewidth\":0,\"ticks\":\"\"}}}],\"scatter3d\":[{\"type\":\"scatter3d\",\"line\":{\"colorbar\":{\"outlinewidth\":0,\"ticks\":\"\"}},\"marker\":{\"colorbar\":{\"outlinewidth\":0,\"ticks\":\"\"}}}],\"scattermapbox\":[{\"type\":\"scattermapbox\",\"marker\":{\"colorbar\":{\"outlinewidth\":0,\"ticks\":\"\"}}}],\"scatterternary\":[{\"type\":\"scatterternary\",\"marker\":{\"colorbar\":{\"outlinewidth\":0,\"ticks\":\"\"}}}],\"scattercarpet\":[{\"type\":\"scattercarpet\",\"marker\":{\"colorbar\":{\"outlinewidth\":0,\"ticks\":\"\"}}}],\"carpet\":[{\"aaxis\":{\"endlinecolor\":\"#2a3f5f\",\"gridcolor\":\"white\",\"linecolor\":\"white\",\"minorgridcolor\":\"white\",\"startlinecolor\":\"#2a3f5f\"},\"baxis\":{\"endlinecolor\":\"#2a3f5f\",\"gridcolor\":\"white\",\"linecolor\":\"white\",\"minorgridcolor\":\"white\",\"startlinecolor\":\"#2a3f5f\"},\"type\":\"carpet\"}],\"table\":[{\"cells\":{\"fill\":{\"color\":\"#EBF0F8\"},\"line\":{\"color\":\"white\"}},\"header\":{\"fill\":{\"color\":\"#C8D4E3\"},\"line\":{\"color\":\"white\"}},\"type\":\"table\"}],\"barpolar\":[{\"marker\":{\"line\":{\"color\":\"#E5ECF6\",\"width\":0.5},\"pattern\":{\"fillmode\":\"overlay\",\"size\":10,\"solidity\":0.2}},\"type\":\"barpolar\"}],\"pie\":[{\"automargin\":true,\"type\":\"pie\"}]},\"layout\":{\"autotypenumbers\":\"strict\",\"colorway\":[\"#636efa\",\"#EF553B\",\"#00cc96\",\"#ab63fa\",\"#FFA15A\",\"#19d3f3\",\"#FF6692\",\"#B6E880\",\"#FF97FF\",\"#FECB52\"],\"font\":{\"color\":\"#2a3f5f\"},\"hovermode\":\"closest\",\"hoverlabel\":{\"align\":\"left\"},\"paper_bgcolor\":\"white\",\"plot_bgcolor\":\"#E5ECF6\",\"polar\":{\"bgcolor\":\"#E5ECF6\",\"angularaxis\":{\"gridcolor\":\"white\",\"linecolor\":\"white\",\"ticks\":\"\"},\"radialaxis\":{\"gridcolor\":\"white\",\"linecolor\":\"white\",\"ticks\":\"\"}},\"ternary\":{\"bgcolor\":\"#E5ECF6\",\"aaxis\":{\"gridcolor\":\"white\",\"linecolor\":\"white\",\"ticks\":\"\"},\"baxis\":{\"gridcolor\":\"white\",\"linecolor\":\"white\",\"ticks\":\"\"},\"caxis\":{\"gridcolor\":\"white\",\"linecolor\":\"white\",\"ticks\":\"\"}},\"coloraxis\":{\"colorbar\":{\"outlinewidth\":0,\"ticks\":\"\"}},\"colorscale\":{\"sequential\":[[0.0,\"#0d0887\"],[0.1111111111111111,\"#46039f\"],[0.2222222222222222,\"#7201a8\"],[0.3333333333333333,\"#9c179e\"],[0.4444444444444444,\"#bd3786\"],[0.5555555555555556,\"#d8576b\"],[0.6666666666666666,\"#ed7953\"],[0.7777777777777778,\"#fb9f3a\"],[0.8888888888888888,\"#fdca26\"],[1.0,\"#f0f921\"]],\"sequentialminus\":[[0.0,\"#0d0887\"],[0.1111111111111111,\"#46039f\"],[0.2222222222222222,\"#7201a8\"],[0.3333333333333333,\"#9c179e\"],[0.4444444444444444,\"#bd3786\"],[0.5555555555555556,\"#d8576b\"],[0.6666666666666666,\"#ed7953\"],[0.7777777777777778,\"#fb9f3a\"],[0.8888888888888888,\"#fdca26\"],[1.0,\"#f0f921\"]],\"diverging\":[[0,\"#8e0152\"],[0.1,\"#c51b7d\"],[0.2,\"#de77ae\"],[0.3,\"#f1b6da\"],[0.4,\"#fde0ef\"],[0.5,\"#f7f7f7\"],[0.6,\"#e6f5d0\"],[0.7,\"#b8e186\"],[0.8,\"#7fbc41\"],[0.9,\"#4d9221\"],[1,\"#276419\"]]},\"xaxis\":{\"gridcolor\":\"white\",\"linecolor\":\"white\",\"ticks\":\"\",\"title\":{\"standoff\":15},\"zerolinecolor\":\"white\",\"automargin\":true,\"zerolinewidth\":2},\"yaxis\":{\"gridcolor\":\"white\",\"linecolor\":\"white\",\"ticks\":\"\",\"title\":{\"standoff\":15},\"zerolinecolor\":\"white\",\"automargin\":true,\"zerolinewidth\":2},\"scene\":{\"xaxis\":{\"backgroundcolor\":\"#E5ECF6\",\"gridcolor\":\"white\",\"linecolor\":\"white\",\"showbackground\":true,\"ticks\":\"\",\"zerolinecolor\":\"white\",\"gridwidth\":2},\"yaxis\":{\"backgroundcolor\":\"#E5ECF6\",\"gridcolor\":\"white\",\"linecolor\":\"white\",\"showbackground\":true,\"ticks\":\"\",\"zerolinecolor\":\"white\",\"gridwidth\":2},\"zaxis\":{\"backgroundcolor\":\"#E5ECF6\",\"gridcolor\":\"white\",\"linecolor\":\"white\",\"showbackground\":true,\"ticks\":\"\",\"zerolinecolor\":\"white\",\"gridwidth\":2}},\"shapedefaults\":{\"line\":{\"color\":\"#2a3f5f\"}},\"annotationdefaults\":{\"arrowcolor\":\"#2a3f5f\",\"arrowhead\":0,\"arrowwidth\":1},\"geo\":{\"bgcolor\":\"white\",\"landcolor\":\"#E5ECF6\",\"subunitcolor\":\"white\",\"showland\":true,\"showlakes\":true,\"lakecolor\":\"white\"},\"title\":{\"x\":0.05},\"mapbox\":{\"style\":\"light\"}}},\"xaxis\":{\"anchor\":\"y\",\"domain\":[0.0,1.0],\"title\":{\"text\":\"baseToken\"}},\"yaxis\":{\"anchor\":\"x\",\"domain\":[0.0,1.0],\"title\":{\"text\":\"timestamp\"}},\"legend\":{\"title\":{\"text\":\"trader\"},\"tracegroupgap\":0},\"margin\":{\"t\":60},\"barmode\":\"relative\"},                        {\"responsive\": true}                    ).then(function(){\n",
       "                            \n",
       "var gd = document.getElementById('9b190317-9d9a-44f5-92ba-abcd8ecdda06');\n",
       "var x = new MutationObserver(function (mutations, observer) {{\n",
       "        var display = window.getComputedStyle(gd).display;\n",
       "        if (!display || display === 'none') {{\n",
       "            console.log([gd, 'removed!']);\n",
       "            Plotly.purge(gd);\n",
       "            observer.disconnect();\n",
       "        }}\n",
       "}});\n",
       "\n",
       "// Listen for the removal of the full notebook cells\n",
       "var notebookContainer = gd.closest('#notebook-container');\n",
       "if (notebookContainer) {{\n",
       "    x.observe(notebookContainer, {childList: true});\n",
       "}}\n",
       "\n",
       "// Listen for the clearing of the current output cell\n",
       "var outputEl = gd.closest('.output');\n",
       "if (outputEl) {{\n",
       "    x.observe(outputEl, {childList: true});\n",
       "}}\n",
       "\n",
       "                        })                };                });            </script>        </div>"
      ]
     },
     "metadata": {},
     "output_type": "display_data"
    }
   ],
   "source": [
    "# Exploring the frequency for traders according to the baseToken options within the protocol/exchange.\n",
    "fig = px.bar(df4viz, x=\"baseToken\", y=\"timestamp\", color=\"trader\", barmode='relative')\n",
    "fig.show()"
   ]
  },
  {
   "cell_type": "code",
   "execution_count": null,
   "id": "be238cd9",
   "metadata": {},
   "outputs": [],
   "source": []
  },
  {
   "cell_type": "code",
   "execution_count": null,
   "id": "26e046ed",
   "metadata": {},
   "outputs": [],
   "source": []
  }
 ],
 "metadata": {
  "kernelspec": {
   "display_name": "Python 3 (ipykernel)",
   "language": "python",
   "name": "python3"
  },
  "language_info": {
   "codemirror_mode": {
    "name": "ipython",
    "version": 3
   },
   "file_extension": ".py",
   "mimetype": "text/x-python",
   "name": "python",
   "nbconvert_exporter": "python",
   "pygments_lexer": "ipython3",
   "version": "3.9.12"
  }
 },
 "nbformat": 4,
 "nbformat_minor": 5
}
